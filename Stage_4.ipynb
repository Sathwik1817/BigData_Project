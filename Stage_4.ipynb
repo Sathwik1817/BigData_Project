{
  "nbformat": 4,
  "nbformat_minor": 0,
  "metadata": {
    "colab": {
      "provenance": []
    },
    "kernelspec": {
      "name": "python3",
      "display_name": "Python 3"
    },
    "language_info": {
      "name": "python"
    },
    "accelerator": "GPU",
    "gpuClass": "standard"
  },
  "cells": [
    {
      "cell_type": "code",
      "execution_count": null,
      "metadata": {
        "id": "xcFgM2TCa6Cc",
        "colab": {
          "base_uri": "https://localhost:8080/"
        },
        "outputId": "5f5e10cf-f07b-477c-ac8e-f3b7249e1714"
      },
      "outputs": [
        {
          "output_type": "stream",
          "name": "stdout",
          "text": [
            "Mounted at /content/drive\n"
          ]
        }
      ],
      "source": [
        "from google.colab import drive\n",
        "drive.mount('/content/drive')"
      ]
    },
    {
      "cell_type": "code",
      "source": [
        "import pandas as pd\n",
        "from sklearn.model_selection import train_test_split\n",
        "from sklearn.metrics import confusion_matrix,classification_report,plot_confusion_matrix\n",
        "from sklearn.metrics import accuracy_score, confusion_matrix, classification_report\n",
        "from sklearn.ensemble import RandomForestClassifier\n",
        "from tabulate import tabulate\n",
        "import matplotlib.pyplot as plt\n",
        "import numpy as np\n",
        "from sklearn.model_selection import train_test_split\n",
        "from sklearn.model_selection import GridSearchCV\n",
        "from sklearn.metrics import classification_report, confusion_matrix\n",
        "from sklearn.svm import SVC\n",
        "from sklearn.neighbors import KNeighborsClassifier\n",
        "from sklearn.metrics import accuracy_score, plot_confusion_matrix\n",
        "from numpy import mean\n",
        "from numpy import std\n",
        "from numpy import dstack\n",
        "from pandas import read_csv\n",
        "from keras.models import Sequential\n",
        "from keras.layers import Dense\n",
        "from keras.layers import Flatten\n",
        "from keras.layers import Dropout\n",
        "from keras.layers import LSTM\n",
        "from keras.utils import to_categorical\n",
        "from matplotlib import pyplot\n",
        "import seaborn as sns\n",
        "from sklearn.naive_bayes import MultinomialNB\n",
        "import xgboost as xgb"
      ],
      "metadata": {
        "id": "J719umNabWX3"
      },
      "execution_count": null,
      "outputs": []
    },
    {
      "cell_type": "markdown",
      "source": [
        "# Csh124 Dataset\n"
      ],
      "metadata": {
        "id": "t2aUmvraiMQG"
      }
    },
    {
      "cell_type": "code",
      "source": [
        "df_1 = pd.DataFrame(pd.read_csv(\"/content/drive/MyDrive/Colab Notebooks/MiniProject-2-Dataset/csh124/csh124.ann.features.csv\"))"
      ],
      "metadata": {
        "id": "bZf47bFHbWbH"
      },
      "execution_count": null,
      "outputs": []
    },
    {
      "cell_type": "code",
      "source": [
        "df1 = df_1[['lastSensorEventHours', 'windowDuration', 'prevDominantSensor1', 'prevDominantSensor2','lastSensorID', 'lastSensorLocation', 'lastMotionLocation', 'sensorCount-Bathroom', 'sensorCount-Bedroom', 'sensorCount-Ignore', 'sensorCount-OutsideDoor', 'sensorElTime-Bathroom', 'sensorElTime-DiningRoom', 'sensorElTime-Hall', 'sensorElTime-Ignore', 'sensorElTime-OutsideDoor', 'activity']].copy()"
      ],
      "metadata": {
        "id": "BJb5PXa8fFDV"
      },
      "execution_count": null,
      "outputs": []
    },
    {
      "cell_type": "code",
      "source": [
        "df1 = df1.drop(df1.index[df1['activity'].isin(['Step_Out', 'Other_Activity', 'Phone', 'Personal_Hygiene', 'Relax', 'Sleep_Out_Of_Bed', 'Drink', 'Dress', 'Evening_Meds', 'Wake_Up', 'Read', 'Morning_Meds', 'Work', 'Work_At_Table', 'Cook_Breakfast', 'Eat_Breakfast', 'Bathe', 'Cook_Lunch', 'Eat_Lunch', 'Wash_Lunch_Dishes', 'Go_To_Sleep', 'Bed_Toilet_Transition', 'Wash_Breakfast_Dishes', 'Groom', 'Cook', 'Eat', 'Wash_Dinner_Dishes', 'Wash_Dishes', 'Take_Medicine', 'Entertain_Guests'])])\n",
        "df1"
      ],
      "metadata": {
        "colab": {
          "base_uri": "https://localhost:8080/",
          "height": 505
        },
        "id": "5vajWUdQhxZE",
        "outputId": "8e818dd1-ce8d-4277-81a9-0c8815205c18"
      },
      "execution_count": null,
      "outputs": [
        {
          "output_type": "execute_result",
          "data": {
            "text/plain": [
              "       lastSensorEventHours  windowDuration  prevDominantSensor1  \\\n",
              "0                       0.0            63.0                  0.0   \n",
              "1                       0.0            63.0                  0.0   \n",
              "2                       0.0            53.0                  0.0   \n",
              "3                       0.0            67.0                  0.0   \n",
              "4                       0.0            65.0                  0.0   \n",
              "...                     ...             ...                  ...   \n",
              "71062                  15.0            48.0                  5.0   \n",
              "71063                  15.0            48.0                  5.0   \n",
              "71064                  15.0            46.0                  5.0   \n",
              "71065                  15.0            49.0                  5.0   \n",
              "71066                  15.0            54.0                  5.0   \n",
              "\n",
              "       prevDominantSensor2  lastSensorID  lastSensorLocation  \\\n",
              "0                      0.0           1.0                 1.0   \n",
              "1                      0.0           5.0                 5.0   \n",
              "2                      0.0           1.0                 1.0   \n",
              "3                      0.0           5.0                 5.0   \n",
              "4                      0.0           1.0                 1.0   \n",
              "...                    ...           ...                 ...   \n",
              "71062                  5.0           9.0                 9.0   \n",
              "71063                  5.0           5.0                 5.0   \n",
              "71064                  5.0           1.0                 1.0   \n",
              "71065                  5.0           9.0                 9.0   \n",
              "71066                  5.0           9.0                 9.0   \n",
              "\n",
              "       lastMotionLocation  sensorCount-Bathroom  sensorCount-Bedroom  \\\n",
              "0                     1.0                   0.0                33.34   \n",
              "1                     1.0                   0.0                32.33   \n",
              "2                     1.0                   0.0                32.31   \n",
              "3                     1.0                   0.0                31.29   \n",
              "4                     1.0                   0.0                31.26   \n",
              "...                   ...                   ...                  ...   \n",
              "71062                 9.0                   0.0                12.37   \n",
              "71063                 9.0                   0.0                12.48   \n",
              "71064                 1.0                   0.0                12.29   \n",
              "71065                 9.0                   0.0                12.40   \n",
              "71066                 9.0                   0.0                11.21   \n",
              "\n",
              "       sensorCount-Ignore  sensorCount-OutsideDoor  sensorElTime-Bathroom  \\\n",
              "0                    1.01                     0.00                86400.0   \n",
              "1                    2.02                     0.00                86400.0   \n",
              "2                    2.04                     0.00                86400.0   \n",
              "3                    3.06                     0.00                86400.0   \n",
              "4                    3.09                     0.00                86400.0   \n",
              "...                   ...                      ...                    ...   \n",
              "71062               10.58                    11.40                86400.0   \n",
              "71063               10.37                    11.50                86400.0   \n",
              "71064               10.46                    11.60                86400.0   \n",
              "71065                9.25                    12.70                86400.0   \n",
              "71066                9.33                    13.81                86400.0   \n",
              "\n",
              "       sensorElTime-DiningRoom  sensorElTime-Hall  sensorElTime-Ignore  \\\n",
              "0                 86400.000000       86400.000000             0.756853   \n",
              "1                 86400.000000       86400.000000             0.000000   \n",
              "2                 86400.000000       86400.000000             0.023990   \n",
              "3                 86400.000000       86400.000000             0.000000   \n",
              "4                 86400.000000       86400.000000             0.026903   \n",
              "...                        ...                ...                  ...   \n",
              "71062               227.824331         213.428812             3.561320   \n",
              "71063               228.035583         213.640064             0.000000   \n",
              "71064               228.066083         213.670564             0.030500   \n",
              "71065               230.820038         216.424519             2.784455   \n",
              "71066               237.604317         223.208798             9.568734   \n",
              "\n",
              "       sensorElTime-OutsideDoor    activity  \n",
              "0                  86400.000000       Sleep  \n",
              "1                  86400.000000       Sleep  \n",
              "2                  86400.000000       Sleep  \n",
              "3                  86400.000000       Sleep  \n",
              "4                  86400.000000       Sleep  \n",
              "...                         ...         ...  \n",
              "71062                  0.000000  Leave_Home  \n",
              "71063                  0.211252  Leave_Home  \n",
              "71064                  0.241752  Leave_Home  \n",
              "71065                  0.000000  Leave_Home  \n",
              "71066                  0.000000  Leave_Home  \n",
              "\n",
              "[4746 rows x 17 columns]"
            ],
            "text/html": [
              "\n",
              "  <div id=\"df-503a277a-1aae-4627-aa4c-ecee5bb1fb9d\">\n",
              "    <div class=\"colab-df-container\">\n",
              "      <div>\n",
              "<style scoped>\n",
              "    .dataframe tbody tr th:only-of-type {\n",
              "        vertical-align: middle;\n",
              "    }\n",
              "\n",
              "    .dataframe tbody tr th {\n",
              "        vertical-align: top;\n",
              "    }\n",
              "\n",
              "    .dataframe thead th {\n",
              "        text-align: right;\n",
              "    }\n",
              "</style>\n",
              "<table border=\"1\" class=\"dataframe\">\n",
              "  <thead>\n",
              "    <tr style=\"text-align: right;\">\n",
              "      <th></th>\n",
              "      <th>lastSensorEventHours</th>\n",
              "      <th>windowDuration</th>\n",
              "      <th>prevDominantSensor1</th>\n",
              "      <th>prevDominantSensor2</th>\n",
              "      <th>lastSensorID</th>\n",
              "      <th>lastSensorLocation</th>\n",
              "      <th>lastMotionLocation</th>\n",
              "      <th>sensorCount-Bathroom</th>\n",
              "      <th>sensorCount-Bedroom</th>\n",
              "      <th>sensorCount-Ignore</th>\n",
              "      <th>sensorCount-OutsideDoor</th>\n",
              "      <th>sensorElTime-Bathroom</th>\n",
              "      <th>sensorElTime-DiningRoom</th>\n",
              "      <th>sensorElTime-Hall</th>\n",
              "      <th>sensorElTime-Ignore</th>\n",
              "      <th>sensorElTime-OutsideDoor</th>\n",
              "      <th>activity</th>\n",
              "    </tr>\n",
              "  </thead>\n",
              "  <tbody>\n",
              "    <tr>\n",
              "      <th>0</th>\n",
              "      <td>0.0</td>\n",
              "      <td>63.0</td>\n",
              "      <td>0.0</td>\n",
              "      <td>0.0</td>\n",
              "      <td>1.0</td>\n",
              "      <td>1.0</td>\n",
              "      <td>1.0</td>\n",
              "      <td>0.0</td>\n",
              "      <td>33.34</td>\n",
              "      <td>1.01</td>\n",
              "      <td>0.00</td>\n",
              "      <td>86400.0</td>\n",
              "      <td>86400.000000</td>\n",
              "      <td>86400.000000</td>\n",
              "      <td>0.756853</td>\n",
              "      <td>86400.000000</td>\n",
              "      <td>Sleep</td>\n",
              "    </tr>\n",
              "    <tr>\n",
              "      <th>1</th>\n",
              "      <td>0.0</td>\n",
              "      <td>63.0</td>\n",
              "      <td>0.0</td>\n",
              "      <td>0.0</td>\n",
              "      <td>5.0</td>\n",
              "      <td>5.0</td>\n",
              "      <td>1.0</td>\n",
              "      <td>0.0</td>\n",
              "      <td>32.33</td>\n",
              "      <td>2.02</td>\n",
              "      <td>0.00</td>\n",
              "      <td>86400.0</td>\n",
              "      <td>86400.000000</td>\n",
              "      <td>86400.000000</td>\n",
              "      <td>0.000000</td>\n",
              "      <td>86400.000000</td>\n",
              "      <td>Sleep</td>\n",
              "    </tr>\n",
              "    <tr>\n",
              "      <th>2</th>\n",
              "      <td>0.0</td>\n",
              "      <td>53.0</td>\n",
              "      <td>0.0</td>\n",
              "      <td>0.0</td>\n",
              "      <td>1.0</td>\n",
              "      <td>1.0</td>\n",
              "      <td>1.0</td>\n",
              "      <td>0.0</td>\n",
              "      <td>32.31</td>\n",
              "      <td>2.04</td>\n",
              "      <td>0.00</td>\n",
              "      <td>86400.0</td>\n",
              "      <td>86400.000000</td>\n",
              "      <td>86400.000000</td>\n",
              "      <td>0.023990</td>\n",
              "      <td>86400.000000</td>\n",
              "      <td>Sleep</td>\n",
              "    </tr>\n",
              "    <tr>\n",
              "      <th>3</th>\n",
              "      <td>0.0</td>\n",
              "      <td>67.0</td>\n",
              "      <td>0.0</td>\n",
              "      <td>0.0</td>\n",
              "      <td>5.0</td>\n",
              "      <td>5.0</td>\n",
              "      <td>1.0</td>\n",
              "      <td>0.0</td>\n",
              "      <td>31.29</td>\n",
              "      <td>3.06</td>\n",
              "      <td>0.00</td>\n",
              "      <td>86400.0</td>\n",
              "      <td>86400.000000</td>\n",
              "      <td>86400.000000</td>\n",
              "      <td>0.000000</td>\n",
              "      <td>86400.000000</td>\n",
              "      <td>Sleep</td>\n",
              "    </tr>\n",
              "    <tr>\n",
              "      <th>4</th>\n",
              "      <td>0.0</td>\n",
              "      <td>65.0</td>\n",
              "      <td>0.0</td>\n",
              "      <td>0.0</td>\n",
              "      <td>1.0</td>\n",
              "      <td>1.0</td>\n",
              "      <td>1.0</td>\n",
              "      <td>0.0</td>\n",
              "      <td>31.26</td>\n",
              "      <td>3.09</td>\n",
              "      <td>0.00</td>\n",
              "      <td>86400.0</td>\n",
              "      <td>86400.000000</td>\n",
              "      <td>86400.000000</td>\n",
              "      <td>0.026903</td>\n",
              "      <td>86400.000000</td>\n",
              "      <td>Sleep</td>\n",
              "    </tr>\n",
              "    <tr>\n",
              "      <th>...</th>\n",
              "      <td>...</td>\n",
              "      <td>...</td>\n",
              "      <td>...</td>\n",
              "      <td>...</td>\n",
              "      <td>...</td>\n",
              "      <td>...</td>\n",
              "      <td>...</td>\n",
              "      <td>...</td>\n",
              "      <td>...</td>\n",
              "      <td>...</td>\n",
              "      <td>...</td>\n",
              "      <td>...</td>\n",
              "      <td>...</td>\n",
              "      <td>...</td>\n",
              "      <td>...</td>\n",
              "      <td>...</td>\n",
              "      <td>...</td>\n",
              "    </tr>\n",
              "    <tr>\n",
              "      <th>71062</th>\n",
              "      <td>15.0</td>\n",
              "      <td>48.0</td>\n",
              "      <td>5.0</td>\n",
              "      <td>5.0</td>\n",
              "      <td>9.0</td>\n",
              "      <td>9.0</td>\n",
              "      <td>9.0</td>\n",
              "      <td>0.0</td>\n",
              "      <td>12.37</td>\n",
              "      <td>10.58</td>\n",
              "      <td>11.40</td>\n",
              "      <td>86400.0</td>\n",
              "      <td>227.824331</td>\n",
              "      <td>213.428812</td>\n",
              "      <td>3.561320</td>\n",
              "      <td>0.000000</td>\n",
              "      <td>Leave_Home</td>\n",
              "    </tr>\n",
              "    <tr>\n",
              "      <th>71063</th>\n",
              "      <td>15.0</td>\n",
              "      <td>48.0</td>\n",
              "      <td>5.0</td>\n",
              "      <td>5.0</td>\n",
              "      <td>5.0</td>\n",
              "      <td>5.0</td>\n",
              "      <td>9.0</td>\n",
              "      <td>0.0</td>\n",
              "      <td>12.48</td>\n",
              "      <td>10.37</td>\n",
              "      <td>11.50</td>\n",
              "      <td>86400.0</td>\n",
              "      <td>228.035583</td>\n",
              "      <td>213.640064</td>\n",
              "      <td>0.000000</td>\n",
              "      <td>0.211252</td>\n",
              "      <td>Leave_Home</td>\n",
              "    </tr>\n",
              "    <tr>\n",
              "      <th>71064</th>\n",
              "      <td>15.0</td>\n",
              "      <td>46.0</td>\n",
              "      <td>5.0</td>\n",
              "      <td>5.0</td>\n",
              "      <td>1.0</td>\n",
              "      <td>1.0</td>\n",
              "      <td>1.0</td>\n",
              "      <td>0.0</td>\n",
              "      <td>12.29</td>\n",
              "      <td>10.46</td>\n",
              "      <td>11.60</td>\n",
              "      <td>86400.0</td>\n",
              "      <td>228.066083</td>\n",
              "      <td>213.670564</td>\n",
              "      <td>0.030500</td>\n",
              "      <td>0.241752</td>\n",
              "      <td>Leave_Home</td>\n",
              "    </tr>\n",
              "    <tr>\n",
              "      <th>71065</th>\n",
              "      <td>15.0</td>\n",
              "      <td>49.0</td>\n",
              "      <td>5.0</td>\n",
              "      <td>5.0</td>\n",
              "      <td>9.0</td>\n",
              "      <td>9.0</td>\n",
              "      <td>9.0</td>\n",
              "      <td>0.0</td>\n",
              "      <td>12.40</td>\n",
              "      <td>9.25</td>\n",
              "      <td>12.70</td>\n",
              "      <td>86400.0</td>\n",
              "      <td>230.820038</td>\n",
              "      <td>216.424519</td>\n",
              "      <td>2.784455</td>\n",
              "      <td>0.000000</td>\n",
              "      <td>Leave_Home</td>\n",
              "    </tr>\n",
              "    <tr>\n",
              "      <th>71066</th>\n",
              "      <td>15.0</td>\n",
              "      <td>54.0</td>\n",
              "      <td>5.0</td>\n",
              "      <td>5.0</td>\n",
              "      <td>9.0</td>\n",
              "      <td>9.0</td>\n",
              "      <td>9.0</td>\n",
              "      <td>0.0</td>\n",
              "      <td>11.21</td>\n",
              "      <td>9.33</td>\n",
              "      <td>13.81</td>\n",
              "      <td>86400.0</td>\n",
              "      <td>237.604317</td>\n",
              "      <td>223.208798</td>\n",
              "      <td>9.568734</td>\n",
              "      <td>0.000000</td>\n",
              "      <td>Leave_Home</td>\n",
              "    </tr>\n",
              "  </tbody>\n",
              "</table>\n",
              "<p>4746 rows × 17 columns</p>\n",
              "</div>\n",
              "      <button class=\"colab-df-convert\" onclick=\"convertToInteractive('df-503a277a-1aae-4627-aa4c-ecee5bb1fb9d')\"\n",
              "              title=\"Convert this dataframe to an interactive table.\"\n",
              "              style=\"display:none;\">\n",
              "        \n",
              "  <svg xmlns=\"http://www.w3.org/2000/svg\" height=\"24px\"viewBox=\"0 0 24 24\"\n",
              "       width=\"24px\">\n",
              "    <path d=\"M0 0h24v24H0V0z\" fill=\"none\"/>\n",
              "    <path d=\"M18.56 5.44l.94 2.06.94-2.06 2.06-.94-2.06-.94-.94-2.06-.94 2.06-2.06.94zm-11 1L8.5 8.5l.94-2.06 2.06-.94-2.06-.94L8.5 2.5l-.94 2.06-2.06.94zm10 10l.94 2.06.94-2.06 2.06-.94-2.06-.94-.94-2.06-.94 2.06-2.06.94z\"/><path d=\"M17.41 7.96l-1.37-1.37c-.4-.4-.92-.59-1.43-.59-.52 0-1.04.2-1.43.59L10.3 9.45l-7.72 7.72c-.78.78-.78 2.05 0 2.83L4 21.41c.39.39.9.59 1.41.59.51 0 1.02-.2 1.41-.59l7.78-7.78 2.81-2.81c.8-.78.8-2.07 0-2.86zM5.41 20L4 18.59l7.72-7.72 1.47 1.35L5.41 20z\"/>\n",
              "  </svg>\n",
              "      </button>\n",
              "      \n",
              "  <style>\n",
              "    .colab-df-container {\n",
              "      display:flex;\n",
              "      flex-wrap:wrap;\n",
              "      gap: 12px;\n",
              "    }\n",
              "\n",
              "    .colab-df-convert {\n",
              "      background-color: #E8F0FE;\n",
              "      border: none;\n",
              "      border-radius: 50%;\n",
              "      cursor: pointer;\n",
              "      display: none;\n",
              "      fill: #1967D2;\n",
              "      height: 32px;\n",
              "      padding: 0 0 0 0;\n",
              "      width: 32px;\n",
              "    }\n",
              "\n",
              "    .colab-df-convert:hover {\n",
              "      background-color: #E2EBFA;\n",
              "      box-shadow: 0px 1px 2px rgba(60, 64, 67, 0.3), 0px 1px 3px 1px rgba(60, 64, 67, 0.15);\n",
              "      fill: #174EA6;\n",
              "    }\n",
              "\n",
              "    [theme=dark] .colab-df-convert {\n",
              "      background-color: #3B4455;\n",
              "      fill: #D2E3FC;\n",
              "    }\n",
              "\n",
              "    [theme=dark] .colab-df-convert:hover {\n",
              "      background-color: #434B5C;\n",
              "      box-shadow: 0px 1px 3px 1px rgba(0, 0, 0, 0.15);\n",
              "      filter: drop-shadow(0px 1px 2px rgba(0, 0, 0, 0.3));\n",
              "      fill: #FFFFFF;\n",
              "    }\n",
              "  </style>\n",
              "\n",
              "      <script>\n",
              "        const buttonEl =\n",
              "          document.querySelector('#df-503a277a-1aae-4627-aa4c-ecee5bb1fb9d button.colab-df-convert');\n",
              "        buttonEl.style.display =\n",
              "          google.colab.kernel.accessAllowed ? 'block' : 'none';\n",
              "\n",
              "        async function convertToInteractive(key) {\n",
              "          const element = document.querySelector('#df-503a277a-1aae-4627-aa4c-ecee5bb1fb9d');\n",
              "          const dataTable =\n",
              "            await google.colab.kernel.invokeFunction('convertToInteractive',\n",
              "                                                     [key], {});\n",
              "          if (!dataTable) return;\n",
              "\n",
              "          const docLinkHtml = 'Like what you see? Visit the ' +\n",
              "            '<a target=\"_blank\" href=https://colab.research.google.com/notebooks/data_table.ipynb>data table notebook</a>'\n",
              "            + ' to learn more about interactive tables.';\n",
              "          element.innerHTML = '';\n",
              "          dataTable['output_type'] = 'display_data';\n",
              "          await google.colab.output.renderOutput(dataTable, element);\n",
              "          const docLink = document.createElement('div');\n",
              "          docLink.innerHTML = docLinkHtml;\n",
              "          element.appendChild(docLink);\n",
              "        }\n",
              "      </script>\n",
              "    </div>\n",
              "  </div>\n",
              "  "
            ]
          },
          "metadata": {},
          "execution_count": 5
        }
      ]
    },
    {
      "cell_type": "code",
      "source": [
        "columns1 = df1.columns.tolist()\n",
        "columns1"
      ],
      "metadata": {
        "colab": {
          "base_uri": "https://localhost:8080/"
        },
        "id": "Ul1RmRhJhxb-",
        "outputId": "e566fa0b-8b53-4db3-d77e-b5ba77d02773"
      },
      "execution_count": null,
      "outputs": [
        {
          "output_type": "execute_result",
          "data": {
            "text/plain": [
              "['lastSensorEventHours',\n",
              " 'windowDuration',\n",
              " 'prevDominantSensor1',\n",
              " 'prevDominantSensor2',\n",
              " 'lastSensorID',\n",
              " 'lastSensorLocation',\n",
              " 'lastMotionLocation',\n",
              " 'sensorCount-Bathroom',\n",
              " 'sensorCount-Bedroom',\n",
              " 'sensorCount-Ignore',\n",
              " 'sensorCount-OutsideDoor',\n",
              " 'sensorElTime-Bathroom',\n",
              " 'sensorElTime-DiningRoom',\n",
              " 'sensorElTime-Hall',\n",
              " 'sensorElTime-Ignore',\n",
              " 'sensorElTime-OutsideDoor',\n",
              " 'activity']"
            ]
          },
          "metadata": {},
          "execution_count": 6
        }
      ]
    },
    {
      "cell_type": "code",
      "source": [
        "activity1 = df1['activity'].unique().tolist()\n",
        "activity1"
      ],
      "metadata": {
        "colab": {
          "base_uri": "https://localhost:8080/"
        },
        "id": "iuMP4XHqhxfm",
        "outputId": "b113743c-e8d0-4cd8-a8b7-a34320f40550"
      },
      "execution_count": null,
      "outputs": [
        {
          "output_type": "execute_result",
          "data": {
            "text/plain": [
              "['Sleep',\n",
              " 'Toilet',\n",
              " 'Leave_Home',\n",
              " 'Enter_Home',\n",
              " 'Cook_Dinner',\n",
              " 'Eat_Dinner',\n",
              " 'Watch_TV',\n",
              " 'Work_On_Computer']"
            ]
          },
          "metadata": {},
          "execution_count": 7
        }
      ]
    },
    {
      "cell_type": "code",
      "source": [
        "Count1 = df1['activity'].value_counts()\n",
        "Count1"
      ],
      "metadata": {
        "colab": {
          "base_uri": "https://localhost:8080/"
        },
        "id": "75oPRyrnhxiW",
        "outputId": "d6544c40-2c63-4a2f-ea8a-99ca372da1fe"
      },
      "execution_count": null,
      "outputs": [
        {
          "output_type": "execute_result",
          "data": {
            "text/plain": [
              "Sleep               1855\n",
              "Toilet               856\n",
              "Leave_Home           652\n",
              "Enter_Home           483\n",
              "Work_On_Computer     307\n",
              "Watch_TV             283\n",
              "Cook_Dinner          185\n",
              "Eat_Dinner           125\n",
              "Name: activity, dtype: int64"
            ]
          },
          "metadata": {},
          "execution_count": 8
        }
      ]
    },
    {
      "cell_type": "code",
      "source": [
        "percentage1 = df1['activity'].value_counts(normalize=True)*100\n",
        "percentage1"
      ],
      "metadata": {
        "colab": {
          "base_uri": "https://localhost:8080/"
        },
        "id": "_7sdbzUphxk-",
        "outputId": "7ec74980-7c26-41aa-dabc-89a78755df3b"
      },
      "execution_count": null,
      "outputs": [
        {
          "output_type": "execute_result",
          "data": {
            "text/plain": [
              "Sleep               39.085546\n",
              "Toilet              18.036241\n",
              "Leave_Home          13.737885\n",
              "Enter_Home          10.176991\n",
              "Work_On_Computer     6.468605\n",
              "Watch_TV             5.962916\n",
              "Cook_Dinner          3.898019\n",
              "Eat_Dinner           2.633797\n",
              "Name: activity, dtype: float64"
            ]
          },
          "metadata": {},
          "execution_count": 9
        }
      ]
    },
    {
      "cell_type": "markdown",
      "source": [
        "# CSH124 Test Dataset"
      ],
      "metadata": {
        "id": "YqYofz9olxJK"
      }
    },
    {
      "cell_type": "code",
      "source": [
        "x_test=df1.drop('activity',axis=1)\n",
        "y_test=df1['activity']"
      ],
      "metadata": {
        "id": "eBusP40mh7OT"
      },
      "execution_count": null,
      "outputs": []
    },
    {
      "cell_type": "markdown",
      "source": [
        "# Csh125 Dataset"
      ],
      "metadata": {
        "id": "1nMVMe8wiTP7"
      }
    },
    {
      "cell_type": "code",
      "source": [
        "df_2=pd.DataFrame(pd.read_csv(\"/content/drive/MyDrive/Colab Notebooks/MiniProject-2-Dataset/csh125/csh125.ann.features.csv\"))"
      ],
      "metadata": {
        "id": "iPeKxJ02bWdX"
      },
      "execution_count": null,
      "outputs": []
    },
    {
      "cell_type": "code",
      "source": [
        "#df_128=pd.DataFrame(pd.read_csv(\"/content/drive/MyDrive/Colab Notebooks/MiniProject-2-Dataset/csh128/csh128.ann.features.csv\"))"
      ],
      "metadata": {
        "id": "hjaxL_hQQedh"
      },
      "execution_count": null,
      "outputs": []
    },
    {
      "cell_type": "code",
      "source": [
        "#df_2=df_125.append(df_128)"
      ],
      "metadata": {
        "id": "7Z3j1Rp2Qoyi"
      },
      "execution_count": null,
      "outputs": []
    },
    {
      "cell_type": "code",
      "source": [
        "#df_2"
      ],
      "metadata": {
        "id": "wy70YOISUFUs"
      },
      "execution_count": null,
      "outputs": []
    },
    {
      "cell_type": "code",
      "source": [
        "df2 = df_2[['lastSensorEventHours', 'windowDuration', 'prevDominantSensor1', 'prevDominantSensor2','lastSensorID', 'lastSensorLocation', 'lastMotionLocation', 'sensorCount-Bathroom', 'sensorCount-Bedroom', 'sensorCount-Ignore', 'sensorCount-OutsideDoor', 'sensorElTime-Bathroom', 'sensorElTime-DiningRoom', 'sensorElTime-Hall', 'sensorElTime-Ignore', 'sensorElTime-OutsideDoor', 'activity']].copy()"
      ],
      "metadata": {
        "id": "QZ1-nU5ifOQL"
      },
      "execution_count": null,
      "outputs": []
    },
    {
      "cell_type": "code",
      "source": [
        "df2"
      ],
      "metadata": {
        "colab": {
          "base_uri": "https://localhost:8080/",
          "height": 505
        },
        "id": "WEm7rI9JWDzh",
        "outputId": "13c79cf4-f6b5-47a1-9fd5-8d3161c692dc"
      },
      "execution_count": null,
      "outputs": [
        {
          "output_type": "execute_result",
          "data": {
            "text/plain": [
              "        lastSensorEventHours  windowDuration  prevDominantSensor1  \\\n",
              "0                        1.0          2785.0                  0.0   \n",
              "1                        1.0          2784.0                  0.0   \n",
              "2                        1.0           891.0                  0.0   \n",
              "3                        1.0           896.0                  0.0   \n",
              "4                        1.0            70.0                  0.0   \n",
              "...                      ...             ...                  ...   \n",
              "216194                  19.0           348.0                  6.0   \n",
              "216195                  20.0          1881.0                  6.0   \n",
              "216196                  20.0          1879.0                  6.0   \n",
              "216197                  22.0          9485.0                  6.0   \n",
              "216198                  22.0          9484.0                  6.0   \n",
              "\n",
              "        prevDominantSensor2  lastSensorID  lastSensorLocation  \\\n",
              "0                       0.0           6.0                 6.0   \n",
              "1                       0.0           6.0                 6.0   \n",
              "2                       0.0           6.0                 6.0   \n",
              "3                       0.0           6.0                 6.0   \n",
              "4                       0.0           6.0                 6.0   \n",
              "...                     ...           ...                 ...   \n",
              "216194                  6.0           7.0                 7.0   \n",
              "216195                  6.0           6.0                 6.0   \n",
              "216196                  6.0           6.0                 6.0   \n",
              "216197                  6.0           7.0                 7.0   \n",
              "216198                  6.0           7.0                 7.0   \n",
              "\n",
              "        lastMotionLocation  sensorCount-Bathroom  sensorCount-Bedroom  \\\n",
              "0                      6.0                   0.0                  0.0   \n",
              "1                      6.0                   0.0                  0.0   \n",
              "2                      6.0                   0.0                  0.0   \n",
              "3                      6.0                   0.0                  0.0   \n",
              "4                      6.0                   0.0                  0.0   \n",
              "...                    ...                   ...                  ...   \n",
              "216194                 7.0                   0.0                  0.0   \n",
              "216195                 6.0                   0.0                  0.0   \n",
              "216196                 6.0                   0.0                  0.0   \n",
              "216197                 7.0                   0.0                  0.0   \n",
              "216198                 7.0                   0.0                  0.0   \n",
              "\n",
              "        sensorCount-Ignore  sensorCount-OutsideDoor  sensorElTime-Bathroom  \\\n",
              "0                      0.0                      0.0           86400.000000   \n",
              "1                      0.0                      0.0           86400.000000   \n",
              "2                      0.0                      0.0           86400.000000   \n",
              "3                      0.0                      0.0           86400.000000   \n",
              "4                      0.0                      0.0           86400.000000   \n",
              "...                    ...                      ...                    ...   \n",
              "216194                 0.0                      0.0           14467.477264   \n",
              "216195                 0.0                      0.0           16001.159760   \n",
              "216196                 0.0                      0.0           16002.261677   \n",
              "216197                 0.0                      0.0           23611.091242   \n",
              "216198                 0.0                      0.0           23612.181281   \n",
              "\n",
              "        sensorElTime-DiningRoom  sensorElTime-Hall  sensorElTime-Ignore  \\\n",
              "0                       86400.0            86400.0              86400.0   \n",
              "1                       86400.0            86400.0              86400.0   \n",
              "2                       86400.0            86400.0              86400.0   \n",
              "3                       86400.0            86400.0              86400.0   \n",
              "4                       86400.0            86400.0              86400.0   \n",
              "...                         ...                ...                  ...   \n",
              "216194                  86400.0            86400.0              86400.0   \n",
              "216195                  86400.0            86400.0              86400.0   \n",
              "216196                  86400.0            86400.0              86400.0   \n",
              "216197                  86400.0            86400.0              86400.0   \n",
              "216198                  86400.0            86400.0              86400.0   \n",
              "\n",
              "        sensorElTime-OutsideDoor          activity  \n",
              "0                   86400.000000              Cook  \n",
              "1                   86400.000000              Cook  \n",
              "2                   86400.000000              Cook  \n",
              "3                   86400.000000              Cook  \n",
              "4                   86400.000000              Cook  \n",
              "...                          ...               ...  \n",
              "216194               5668.880113  Sleep_Out_Of_Bed  \n",
              "216195               7202.562609  Sleep_Out_Of_Bed  \n",
              "216196               7203.664526  Sleep_Out_Of_Bed  \n",
              "216197              14812.494091  Sleep_Out_Of_Bed  \n",
              "216198              14813.584130  Sleep_Out_Of_Bed  \n",
              "\n",
              "[216199 rows x 17 columns]"
            ],
            "text/html": [
              "\n",
              "  <div id=\"df-e3494d78-4e1f-4fe1-8c79-40ad2b5a1ff2\">\n",
              "    <div class=\"colab-df-container\">\n",
              "      <div>\n",
              "<style scoped>\n",
              "    .dataframe tbody tr th:only-of-type {\n",
              "        vertical-align: middle;\n",
              "    }\n",
              "\n",
              "    .dataframe tbody tr th {\n",
              "        vertical-align: top;\n",
              "    }\n",
              "\n",
              "    .dataframe thead th {\n",
              "        text-align: right;\n",
              "    }\n",
              "</style>\n",
              "<table border=\"1\" class=\"dataframe\">\n",
              "  <thead>\n",
              "    <tr style=\"text-align: right;\">\n",
              "      <th></th>\n",
              "      <th>lastSensorEventHours</th>\n",
              "      <th>windowDuration</th>\n",
              "      <th>prevDominantSensor1</th>\n",
              "      <th>prevDominantSensor2</th>\n",
              "      <th>lastSensorID</th>\n",
              "      <th>lastSensorLocation</th>\n",
              "      <th>lastMotionLocation</th>\n",
              "      <th>sensorCount-Bathroom</th>\n",
              "      <th>sensorCount-Bedroom</th>\n",
              "      <th>sensorCount-Ignore</th>\n",
              "      <th>sensorCount-OutsideDoor</th>\n",
              "      <th>sensorElTime-Bathroom</th>\n",
              "      <th>sensorElTime-DiningRoom</th>\n",
              "      <th>sensorElTime-Hall</th>\n",
              "      <th>sensorElTime-Ignore</th>\n",
              "      <th>sensorElTime-OutsideDoor</th>\n",
              "      <th>activity</th>\n",
              "    </tr>\n",
              "  </thead>\n",
              "  <tbody>\n",
              "    <tr>\n",
              "      <th>0</th>\n",
              "      <td>1.0</td>\n",
              "      <td>2785.0</td>\n",
              "      <td>0.0</td>\n",
              "      <td>0.0</td>\n",
              "      <td>6.0</td>\n",
              "      <td>6.0</td>\n",
              "      <td>6.0</td>\n",
              "      <td>0.0</td>\n",
              "      <td>0.0</td>\n",
              "      <td>0.0</td>\n",
              "      <td>0.0</td>\n",
              "      <td>86400.000000</td>\n",
              "      <td>86400.0</td>\n",
              "      <td>86400.0</td>\n",
              "      <td>86400.0</td>\n",
              "      <td>86400.000000</td>\n",
              "      <td>Cook</td>\n",
              "    </tr>\n",
              "    <tr>\n",
              "      <th>1</th>\n",
              "      <td>1.0</td>\n",
              "      <td>2784.0</td>\n",
              "      <td>0.0</td>\n",
              "      <td>0.0</td>\n",
              "      <td>6.0</td>\n",
              "      <td>6.0</td>\n",
              "      <td>6.0</td>\n",
              "      <td>0.0</td>\n",
              "      <td>0.0</td>\n",
              "      <td>0.0</td>\n",
              "      <td>0.0</td>\n",
              "      <td>86400.000000</td>\n",
              "      <td>86400.0</td>\n",
              "      <td>86400.0</td>\n",
              "      <td>86400.0</td>\n",
              "      <td>86400.000000</td>\n",
              "      <td>Cook</td>\n",
              "    </tr>\n",
              "    <tr>\n",
              "      <th>2</th>\n",
              "      <td>1.0</td>\n",
              "      <td>891.0</td>\n",
              "      <td>0.0</td>\n",
              "      <td>0.0</td>\n",
              "      <td>6.0</td>\n",
              "      <td>6.0</td>\n",
              "      <td>6.0</td>\n",
              "      <td>0.0</td>\n",
              "      <td>0.0</td>\n",
              "      <td>0.0</td>\n",
              "      <td>0.0</td>\n",
              "      <td>86400.000000</td>\n",
              "      <td>86400.0</td>\n",
              "      <td>86400.0</td>\n",
              "      <td>86400.0</td>\n",
              "      <td>86400.000000</td>\n",
              "      <td>Cook</td>\n",
              "    </tr>\n",
              "    <tr>\n",
              "      <th>3</th>\n",
              "      <td>1.0</td>\n",
              "      <td>896.0</td>\n",
              "      <td>0.0</td>\n",
              "      <td>0.0</td>\n",
              "      <td>6.0</td>\n",
              "      <td>6.0</td>\n",
              "      <td>6.0</td>\n",
              "      <td>0.0</td>\n",
              "      <td>0.0</td>\n",
              "      <td>0.0</td>\n",
              "      <td>0.0</td>\n",
              "      <td>86400.000000</td>\n",
              "      <td>86400.0</td>\n",
              "      <td>86400.0</td>\n",
              "      <td>86400.0</td>\n",
              "      <td>86400.000000</td>\n",
              "      <td>Cook</td>\n",
              "    </tr>\n",
              "    <tr>\n",
              "      <th>4</th>\n",
              "      <td>1.0</td>\n",
              "      <td>70.0</td>\n",
              "      <td>0.0</td>\n",
              "      <td>0.0</td>\n",
              "      <td>6.0</td>\n",
              "      <td>6.0</td>\n",
              "      <td>6.0</td>\n",
              "      <td>0.0</td>\n",
              "      <td>0.0</td>\n",
              "      <td>0.0</td>\n",
              "      <td>0.0</td>\n",
              "      <td>86400.000000</td>\n",
              "      <td>86400.0</td>\n",
              "      <td>86400.0</td>\n",
              "      <td>86400.0</td>\n",
              "      <td>86400.000000</td>\n",
              "      <td>Cook</td>\n",
              "    </tr>\n",
              "    <tr>\n",
              "      <th>...</th>\n",
              "      <td>...</td>\n",
              "      <td>...</td>\n",
              "      <td>...</td>\n",
              "      <td>...</td>\n",
              "      <td>...</td>\n",
              "      <td>...</td>\n",
              "      <td>...</td>\n",
              "      <td>...</td>\n",
              "      <td>...</td>\n",
              "      <td>...</td>\n",
              "      <td>...</td>\n",
              "      <td>...</td>\n",
              "      <td>...</td>\n",
              "      <td>...</td>\n",
              "      <td>...</td>\n",
              "      <td>...</td>\n",
              "      <td>...</td>\n",
              "    </tr>\n",
              "    <tr>\n",
              "      <th>216194</th>\n",
              "      <td>19.0</td>\n",
              "      <td>348.0</td>\n",
              "      <td>6.0</td>\n",
              "      <td>6.0</td>\n",
              "      <td>7.0</td>\n",
              "      <td>7.0</td>\n",
              "      <td>7.0</td>\n",
              "      <td>0.0</td>\n",
              "      <td>0.0</td>\n",
              "      <td>0.0</td>\n",
              "      <td>0.0</td>\n",
              "      <td>14467.477264</td>\n",
              "      <td>86400.0</td>\n",
              "      <td>86400.0</td>\n",
              "      <td>86400.0</td>\n",
              "      <td>5668.880113</td>\n",
              "      <td>Sleep_Out_Of_Bed</td>\n",
              "    </tr>\n",
              "    <tr>\n",
              "      <th>216195</th>\n",
              "      <td>20.0</td>\n",
              "      <td>1881.0</td>\n",
              "      <td>6.0</td>\n",
              "      <td>6.0</td>\n",
              "      <td>6.0</td>\n",
              "      <td>6.0</td>\n",
              "      <td>6.0</td>\n",
              "      <td>0.0</td>\n",
              "      <td>0.0</td>\n",
              "      <td>0.0</td>\n",
              "      <td>0.0</td>\n",
              "      <td>16001.159760</td>\n",
              "      <td>86400.0</td>\n",
              "      <td>86400.0</td>\n",
              "      <td>86400.0</td>\n",
              "      <td>7202.562609</td>\n",
              "      <td>Sleep_Out_Of_Bed</td>\n",
              "    </tr>\n",
              "    <tr>\n",
              "      <th>216196</th>\n",
              "      <td>20.0</td>\n",
              "      <td>1879.0</td>\n",
              "      <td>6.0</td>\n",
              "      <td>6.0</td>\n",
              "      <td>6.0</td>\n",
              "      <td>6.0</td>\n",
              "      <td>6.0</td>\n",
              "      <td>0.0</td>\n",
              "      <td>0.0</td>\n",
              "      <td>0.0</td>\n",
              "      <td>0.0</td>\n",
              "      <td>16002.261677</td>\n",
              "      <td>86400.0</td>\n",
              "      <td>86400.0</td>\n",
              "      <td>86400.0</td>\n",
              "      <td>7203.664526</td>\n",
              "      <td>Sleep_Out_Of_Bed</td>\n",
              "    </tr>\n",
              "    <tr>\n",
              "      <th>216197</th>\n",
              "      <td>22.0</td>\n",
              "      <td>9485.0</td>\n",
              "      <td>6.0</td>\n",
              "      <td>6.0</td>\n",
              "      <td>7.0</td>\n",
              "      <td>7.0</td>\n",
              "      <td>7.0</td>\n",
              "      <td>0.0</td>\n",
              "      <td>0.0</td>\n",
              "      <td>0.0</td>\n",
              "      <td>0.0</td>\n",
              "      <td>23611.091242</td>\n",
              "      <td>86400.0</td>\n",
              "      <td>86400.0</td>\n",
              "      <td>86400.0</td>\n",
              "      <td>14812.494091</td>\n",
              "      <td>Sleep_Out_Of_Bed</td>\n",
              "    </tr>\n",
              "    <tr>\n",
              "      <th>216198</th>\n",
              "      <td>22.0</td>\n",
              "      <td>9484.0</td>\n",
              "      <td>6.0</td>\n",
              "      <td>6.0</td>\n",
              "      <td>7.0</td>\n",
              "      <td>7.0</td>\n",
              "      <td>7.0</td>\n",
              "      <td>0.0</td>\n",
              "      <td>0.0</td>\n",
              "      <td>0.0</td>\n",
              "      <td>0.0</td>\n",
              "      <td>23612.181281</td>\n",
              "      <td>86400.0</td>\n",
              "      <td>86400.0</td>\n",
              "      <td>86400.0</td>\n",
              "      <td>14813.584130</td>\n",
              "      <td>Sleep_Out_Of_Bed</td>\n",
              "    </tr>\n",
              "  </tbody>\n",
              "</table>\n",
              "<p>216199 rows × 17 columns</p>\n",
              "</div>\n",
              "      <button class=\"colab-df-convert\" onclick=\"convertToInteractive('df-e3494d78-4e1f-4fe1-8c79-40ad2b5a1ff2')\"\n",
              "              title=\"Convert this dataframe to an interactive table.\"\n",
              "              style=\"display:none;\">\n",
              "        \n",
              "  <svg xmlns=\"http://www.w3.org/2000/svg\" height=\"24px\"viewBox=\"0 0 24 24\"\n",
              "       width=\"24px\">\n",
              "    <path d=\"M0 0h24v24H0V0z\" fill=\"none\"/>\n",
              "    <path d=\"M18.56 5.44l.94 2.06.94-2.06 2.06-.94-2.06-.94-.94-2.06-.94 2.06-2.06.94zm-11 1L8.5 8.5l.94-2.06 2.06-.94-2.06-.94L8.5 2.5l-.94 2.06-2.06.94zm10 10l.94 2.06.94-2.06 2.06-.94-2.06-.94-.94-2.06-.94 2.06-2.06.94z\"/><path d=\"M17.41 7.96l-1.37-1.37c-.4-.4-.92-.59-1.43-.59-.52 0-1.04.2-1.43.59L10.3 9.45l-7.72 7.72c-.78.78-.78 2.05 0 2.83L4 21.41c.39.39.9.59 1.41.59.51 0 1.02-.2 1.41-.59l7.78-7.78 2.81-2.81c.8-.78.8-2.07 0-2.86zM5.41 20L4 18.59l7.72-7.72 1.47 1.35L5.41 20z\"/>\n",
              "  </svg>\n",
              "      </button>\n",
              "      \n",
              "  <style>\n",
              "    .colab-df-container {\n",
              "      display:flex;\n",
              "      flex-wrap:wrap;\n",
              "      gap: 12px;\n",
              "    }\n",
              "\n",
              "    .colab-df-convert {\n",
              "      background-color: #E8F0FE;\n",
              "      border: none;\n",
              "      border-radius: 50%;\n",
              "      cursor: pointer;\n",
              "      display: none;\n",
              "      fill: #1967D2;\n",
              "      height: 32px;\n",
              "      padding: 0 0 0 0;\n",
              "      width: 32px;\n",
              "    }\n",
              "\n",
              "    .colab-df-convert:hover {\n",
              "      background-color: #E2EBFA;\n",
              "      box-shadow: 0px 1px 2px rgba(60, 64, 67, 0.3), 0px 1px 3px 1px rgba(60, 64, 67, 0.15);\n",
              "      fill: #174EA6;\n",
              "    }\n",
              "\n",
              "    [theme=dark] .colab-df-convert {\n",
              "      background-color: #3B4455;\n",
              "      fill: #D2E3FC;\n",
              "    }\n",
              "\n",
              "    [theme=dark] .colab-df-convert:hover {\n",
              "      background-color: #434B5C;\n",
              "      box-shadow: 0px 1px 3px 1px rgba(0, 0, 0, 0.15);\n",
              "      filter: drop-shadow(0px 1px 2px rgba(0, 0, 0, 0.3));\n",
              "      fill: #FFFFFF;\n",
              "    }\n",
              "  </style>\n",
              "\n",
              "      <script>\n",
              "        const buttonEl =\n",
              "          document.querySelector('#df-e3494d78-4e1f-4fe1-8c79-40ad2b5a1ff2 button.colab-df-convert');\n",
              "        buttonEl.style.display =\n",
              "          google.colab.kernel.accessAllowed ? 'block' : 'none';\n",
              "\n",
              "        async function convertToInteractive(key) {\n",
              "          const element = document.querySelector('#df-e3494d78-4e1f-4fe1-8c79-40ad2b5a1ff2');\n",
              "          const dataTable =\n",
              "            await google.colab.kernel.invokeFunction('convertToInteractive',\n",
              "                                                     [key], {});\n",
              "          if (!dataTable) return;\n",
              "\n",
              "          const docLinkHtml = 'Like what you see? Visit the ' +\n",
              "            '<a target=\"_blank\" href=https://colab.research.google.com/notebooks/data_table.ipynb>data table notebook</a>'\n",
              "            + ' to learn more about interactive tables.';\n",
              "          element.innerHTML = '';\n",
              "          dataTable['output_type'] = 'display_data';\n",
              "          await google.colab.output.renderOutput(dataTable, element);\n",
              "          const docLink = document.createElement('div');\n",
              "          docLink.innerHTML = docLinkHtml;\n",
              "          element.appendChild(docLink);\n",
              "        }\n",
              "      </script>\n",
              "    </div>\n",
              "  </div>\n",
              "  "
            ]
          },
          "metadata": {},
          "execution_count": 62
        }
      ]
    },
    {
      "cell_type": "code",
      "source": [
        "df2 = df_2.drop(df2.index[df2['activity'].isin(['Step_Out', 'Other_Activity', 'Phone', 'Personal_Hygiene', 'Relax', 'Sleep_Out_Of_Bed', 'Drink', 'Dress', 'Evening_Meds', 'Wake_Up', 'Read', 'Morning_Meds', 'Work', 'Work_At_Table', 'Cook_Breakfast', 'Eat_Breakfast', 'Bathe', 'Cook_Lunch', 'Eat_Lunch', 'Wash_Lunch_Dishes', 'Go_To_Sleep', 'Bed_Toilet_Transition', 'Wash_Breakfast_Dishes', 'Groom', 'Cook', 'Eat', 'Wash_Dinner_Dishes', 'Wash_Dishes', 'Take_Medicine', 'Entertain_Guests'])])\n",
        "df2"
      ],
      "metadata": {
        "colab": {
          "base_uri": "https://localhost:8080/",
          "height": 505
        },
        "id": "9B6IyH2ofUpO",
        "outputId": "519d092d-3eaa-46c4-c5ab-9b9cc2f98465"
      },
      "execution_count": null,
      "outputs": [
        {
          "output_type": "execute_result",
          "data": {
            "text/plain": [
              "        lastSensorEventHours  lastSensorEventSeconds  lastSensorDayOfWeek  \\\n",
              "87                       1.0                  7062.0                  4.0   \n",
              "88                       1.0                  7066.0                  4.0   \n",
              "89                       1.0                  7066.0                  4.0   \n",
              "90                       1.0                  7068.0                  4.0   \n",
              "91                       1.0                  7069.0                  4.0   \n",
              "...                      ...                     ...                  ...   \n",
              "216188                  19.0                 70674.0                  1.0   \n",
              "216189                  19.0                 70680.0                  1.0   \n",
              "216190                  19.0                 70681.0                  1.0   \n",
              "216191                  19.0                 70682.0                  1.0   \n",
              "216192                  19.0                 70683.0                  1.0   \n",
              "\n",
              "        windowDuration  timeSinceLastSensorEvent  prevDominantSensor1  \\\n",
              "87                35.0                       0.0                  6.0   \n",
              "88                38.0                       4.0                  6.0   \n",
              "89                36.0                       0.0                  6.0   \n",
              "90                34.0                       2.0                  6.0   \n",
              "91                35.0                       1.0                  6.0   \n",
              "...                ...                       ...                  ...   \n",
              "216188           212.0                       2.0                  6.0   \n",
              "216189           217.0                       6.0                  6.0   \n",
              "216190           217.0                       1.0                  6.0   \n",
              "216191           216.0                       1.0                  6.0   \n",
              "216192           217.0                       1.0                  6.0   \n",
              "\n",
              "        prevDominantSensor2  lastSensorID  lastSensorLocation  \\\n",
              "87                      6.0           0.0                 0.0   \n",
              "88                      6.0           0.0                 0.0   \n",
              "89                      6.0           0.0                 0.0   \n",
              "90                      6.0           0.0                 0.0   \n",
              "91                      6.0           0.0                 0.0   \n",
              "...                     ...           ...                 ...   \n",
              "216188                  6.0           7.0                 7.0   \n",
              "216189                  6.0           7.0                 7.0   \n",
              "216190                  6.0           7.0                 7.0   \n",
              "216191                  6.0           7.0                 7.0   \n",
              "216192                  6.0           7.0                 7.0   \n",
              "\n",
              "        lastMotionLocation  ...  sensorElTime-Chair  sensorElTime-DiningRoom  \\\n",
              "87                     0.0  ...             86400.0                  86400.0   \n",
              "88                     0.0  ...             86400.0                  86400.0   \n",
              "89                     0.0  ...             86400.0                  86400.0   \n",
              "90                     0.0  ...             86400.0                  86400.0   \n",
              "91                     0.0  ...             86400.0                  86400.0   \n",
              "...                    ...  ...                 ...                      ...   \n",
              "216188                 7.0  ...             86400.0                  86400.0   \n",
              "216189                 7.0  ...             86400.0                  86400.0   \n",
              "216190                 7.0  ...             86400.0                  86400.0   \n",
              "216191                 7.0  ...             86400.0                  86400.0   \n",
              "216192                 7.0  ...             86400.0                  86400.0   \n",
              "\n",
              "        sensorElTime-Hall  sensorElTime-Ignore  sensorElTime-Kitchen  \\\n",
              "87                86400.0              86400.0             15.940144   \n",
              "88                86400.0              86400.0             19.480524   \n",
              "89                86400.0              86400.0             19.981052   \n",
              "90                86400.0              86400.0             21.914404   \n",
              "91                86400.0              86400.0             22.646194   \n",
              "...                   ...                  ...                   ...   \n",
              "216188            86400.0              86400.0            553.672604   \n",
              "216189            86400.0              86400.0            559.522809   \n",
              "216190            86400.0              86400.0            560.616081   \n",
              "216191            86400.0              86400.0            561.213803   \n",
              "216192            86400.0              86400.0            562.307435   \n",
              "\n",
              "        sensorElTime-LivingRoom  sensorElTime-Office  \\\n",
              "87                     7.694975         86400.000000   \n",
              "88                    11.235355         86400.000000   \n",
              "89                    11.735883         86400.000000   \n",
              "90                    13.669235         86400.000000   \n",
              "91                    14.401025         86400.000000   \n",
              "...                         ...                  ...   \n",
              "216188                 0.000000            61.490760   \n",
              "216189                 0.000000            67.340965   \n",
              "216190                 0.000000            68.434237   \n",
              "216191                 0.000000            69.031959   \n",
              "216192                 0.000000            70.125591   \n",
              "\n",
              "        sensorElTime-OutsideDoor  sensorElTime-WorkArea  activity  \n",
              "87                  86400.000000                86400.0    Toilet  \n",
              "88                  86400.000000                86400.0    Toilet  \n",
              "89                  86400.000000                86400.0    Toilet  \n",
              "90                  86400.000000                86400.0    Toilet  \n",
              "91                  86400.000000                86400.0    Toilet  \n",
              "...                          ...                    ...       ...  \n",
              "216188               5526.906841                86400.0  Watch_TV  \n",
              "216189               5532.757046                86400.0  Watch_TV  \n",
              "216190               5533.850318                86400.0  Watch_TV  \n",
              "216191               5534.448040                86400.0  Watch_TV  \n",
              "216192               5535.541672                86400.0  Watch_TV  \n",
              "\n",
              "[51544 rows x 37 columns]"
            ],
            "text/html": [
              "\n",
              "  <div id=\"df-7cd96b18-52c2-4f53-b291-d9d0f1891f81\">\n",
              "    <div class=\"colab-df-container\">\n",
              "      <div>\n",
              "<style scoped>\n",
              "    .dataframe tbody tr th:only-of-type {\n",
              "        vertical-align: middle;\n",
              "    }\n",
              "\n",
              "    .dataframe tbody tr th {\n",
              "        vertical-align: top;\n",
              "    }\n",
              "\n",
              "    .dataframe thead th {\n",
              "        text-align: right;\n",
              "    }\n",
              "</style>\n",
              "<table border=\"1\" class=\"dataframe\">\n",
              "  <thead>\n",
              "    <tr style=\"text-align: right;\">\n",
              "      <th></th>\n",
              "      <th>lastSensorEventHours</th>\n",
              "      <th>lastSensorEventSeconds</th>\n",
              "      <th>lastSensorDayOfWeek</th>\n",
              "      <th>windowDuration</th>\n",
              "      <th>timeSinceLastSensorEvent</th>\n",
              "      <th>prevDominantSensor1</th>\n",
              "      <th>prevDominantSensor2</th>\n",
              "      <th>lastSensorID</th>\n",
              "      <th>lastSensorLocation</th>\n",
              "      <th>lastMotionLocation</th>\n",
              "      <th>...</th>\n",
              "      <th>sensorElTime-Chair</th>\n",
              "      <th>sensorElTime-DiningRoom</th>\n",
              "      <th>sensorElTime-Hall</th>\n",
              "      <th>sensorElTime-Ignore</th>\n",
              "      <th>sensorElTime-Kitchen</th>\n",
              "      <th>sensorElTime-LivingRoom</th>\n",
              "      <th>sensorElTime-Office</th>\n",
              "      <th>sensorElTime-OutsideDoor</th>\n",
              "      <th>sensorElTime-WorkArea</th>\n",
              "      <th>activity</th>\n",
              "    </tr>\n",
              "  </thead>\n",
              "  <tbody>\n",
              "    <tr>\n",
              "      <th>87</th>\n",
              "      <td>1.0</td>\n",
              "      <td>7062.0</td>\n",
              "      <td>4.0</td>\n",
              "      <td>35.0</td>\n",
              "      <td>0.0</td>\n",
              "      <td>6.0</td>\n",
              "      <td>6.0</td>\n",
              "      <td>0.0</td>\n",
              "      <td>0.0</td>\n",
              "      <td>0.0</td>\n",
              "      <td>...</td>\n",
              "      <td>86400.0</td>\n",
              "      <td>86400.0</td>\n",
              "      <td>86400.0</td>\n",
              "      <td>86400.0</td>\n",
              "      <td>15.940144</td>\n",
              "      <td>7.694975</td>\n",
              "      <td>86400.000000</td>\n",
              "      <td>86400.000000</td>\n",
              "      <td>86400.0</td>\n",
              "      <td>Toilet</td>\n",
              "    </tr>\n",
              "    <tr>\n",
              "      <th>88</th>\n",
              "      <td>1.0</td>\n",
              "      <td>7066.0</td>\n",
              "      <td>4.0</td>\n",
              "      <td>38.0</td>\n",
              "      <td>4.0</td>\n",
              "      <td>6.0</td>\n",
              "      <td>6.0</td>\n",
              "      <td>0.0</td>\n",
              "      <td>0.0</td>\n",
              "      <td>0.0</td>\n",
              "      <td>...</td>\n",
              "      <td>86400.0</td>\n",
              "      <td>86400.0</td>\n",
              "      <td>86400.0</td>\n",
              "      <td>86400.0</td>\n",
              "      <td>19.480524</td>\n",
              "      <td>11.235355</td>\n",
              "      <td>86400.000000</td>\n",
              "      <td>86400.000000</td>\n",
              "      <td>86400.0</td>\n",
              "      <td>Toilet</td>\n",
              "    </tr>\n",
              "    <tr>\n",
              "      <th>89</th>\n",
              "      <td>1.0</td>\n",
              "      <td>7066.0</td>\n",
              "      <td>4.0</td>\n",
              "      <td>36.0</td>\n",
              "      <td>0.0</td>\n",
              "      <td>6.0</td>\n",
              "      <td>6.0</td>\n",
              "      <td>0.0</td>\n",
              "      <td>0.0</td>\n",
              "      <td>0.0</td>\n",
              "      <td>...</td>\n",
              "      <td>86400.0</td>\n",
              "      <td>86400.0</td>\n",
              "      <td>86400.0</td>\n",
              "      <td>86400.0</td>\n",
              "      <td>19.981052</td>\n",
              "      <td>11.735883</td>\n",
              "      <td>86400.000000</td>\n",
              "      <td>86400.000000</td>\n",
              "      <td>86400.0</td>\n",
              "      <td>Toilet</td>\n",
              "    </tr>\n",
              "    <tr>\n",
              "      <th>90</th>\n",
              "      <td>1.0</td>\n",
              "      <td>7068.0</td>\n",
              "      <td>4.0</td>\n",
              "      <td>34.0</td>\n",
              "      <td>2.0</td>\n",
              "      <td>6.0</td>\n",
              "      <td>6.0</td>\n",
              "      <td>0.0</td>\n",
              "      <td>0.0</td>\n",
              "      <td>0.0</td>\n",
              "      <td>...</td>\n",
              "      <td>86400.0</td>\n",
              "      <td>86400.0</td>\n",
              "      <td>86400.0</td>\n",
              "      <td>86400.0</td>\n",
              "      <td>21.914404</td>\n",
              "      <td>13.669235</td>\n",
              "      <td>86400.000000</td>\n",
              "      <td>86400.000000</td>\n",
              "      <td>86400.0</td>\n",
              "      <td>Toilet</td>\n",
              "    </tr>\n",
              "    <tr>\n",
              "      <th>91</th>\n",
              "      <td>1.0</td>\n",
              "      <td>7069.0</td>\n",
              "      <td>4.0</td>\n",
              "      <td>35.0</td>\n",
              "      <td>1.0</td>\n",
              "      <td>6.0</td>\n",
              "      <td>6.0</td>\n",
              "      <td>0.0</td>\n",
              "      <td>0.0</td>\n",
              "      <td>0.0</td>\n",
              "      <td>...</td>\n",
              "      <td>86400.0</td>\n",
              "      <td>86400.0</td>\n",
              "      <td>86400.0</td>\n",
              "      <td>86400.0</td>\n",
              "      <td>22.646194</td>\n",
              "      <td>14.401025</td>\n",
              "      <td>86400.000000</td>\n",
              "      <td>86400.000000</td>\n",
              "      <td>86400.0</td>\n",
              "      <td>Toilet</td>\n",
              "    </tr>\n",
              "    <tr>\n",
              "      <th>...</th>\n",
              "      <td>...</td>\n",
              "      <td>...</td>\n",
              "      <td>...</td>\n",
              "      <td>...</td>\n",
              "      <td>...</td>\n",
              "      <td>...</td>\n",
              "      <td>...</td>\n",
              "      <td>...</td>\n",
              "      <td>...</td>\n",
              "      <td>...</td>\n",
              "      <td>...</td>\n",
              "      <td>...</td>\n",
              "      <td>...</td>\n",
              "      <td>...</td>\n",
              "      <td>...</td>\n",
              "      <td>...</td>\n",
              "      <td>...</td>\n",
              "      <td>...</td>\n",
              "      <td>...</td>\n",
              "      <td>...</td>\n",
              "      <td>...</td>\n",
              "    </tr>\n",
              "    <tr>\n",
              "      <th>216188</th>\n",
              "      <td>19.0</td>\n",
              "      <td>70674.0</td>\n",
              "      <td>1.0</td>\n",
              "      <td>212.0</td>\n",
              "      <td>2.0</td>\n",
              "      <td>6.0</td>\n",
              "      <td>6.0</td>\n",
              "      <td>7.0</td>\n",
              "      <td>7.0</td>\n",
              "      <td>7.0</td>\n",
              "      <td>...</td>\n",
              "      <td>86400.0</td>\n",
              "      <td>86400.0</td>\n",
              "      <td>86400.0</td>\n",
              "      <td>86400.0</td>\n",
              "      <td>553.672604</td>\n",
              "      <td>0.000000</td>\n",
              "      <td>61.490760</td>\n",
              "      <td>5526.906841</td>\n",
              "      <td>86400.0</td>\n",
              "      <td>Watch_TV</td>\n",
              "    </tr>\n",
              "    <tr>\n",
              "      <th>216189</th>\n",
              "      <td>19.0</td>\n",
              "      <td>70680.0</td>\n",
              "      <td>1.0</td>\n",
              "      <td>217.0</td>\n",
              "      <td>6.0</td>\n",
              "      <td>6.0</td>\n",
              "      <td>6.0</td>\n",
              "      <td>7.0</td>\n",
              "      <td>7.0</td>\n",
              "      <td>7.0</td>\n",
              "      <td>...</td>\n",
              "      <td>86400.0</td>\n",
              "      <td>86400.0</td>\n",
              "      <td>86400.0</td>\n",
              "      <td>86400.0</td>\n",
              "      <td>559.522809</td>\n",
              "      <td>0.000000</td>\n",
              "      <td>67.340965</td>\n",
              "      <td>5532.757046</td>\n",
              "      <td>86400.0</td>\n",
              "      <td>Watch_TV</td>\n",
              "    </tr>\n",
              "    <tr>\n",
              "      <th>216190</th>\n",
              "      <td>19.0</td>\n",
              "      <td>70681.0</td>\n",
              "      <td>1.0</td>\n",
              "      <td>217.0</td>\n",
              "      <td>1.0</td>\n",
              "      <td>6.0</td>\n",
              "      <td>6.0</td>\n",
              "      <td>7.0</td>\n",
              "      <td>7.0</td>\n",
              "      <td>7.0</td>\n",
              "      <td>...</td>\n",
              "      <td>86400.0</td>\n",
              "      <td>86400.0</td>\n",
              "      <td>86400.0</td>\n",
              "      <td>86400.0</td>\n",
              "      <td>560.616081</td>\n",
              "      <td>0.000000</td>\n",
              "      <td>68.434237</td>\n",
              "      <td>5533.850318</td>\n",
              "      <td>86400.0</td>\n",
              "      <td>Watch_TV</td>\n",
              "    </tr>\n",
              "    <tr>\n",
              "      <th>216191</th>\n",
              "      <td>19.0</td>\n",
              "      <td>70682.0</td>\n",
              "      <td>1.0</td>\n",
              "      <td>216.0</td>\n",
              "      <td>1.0</td>\n",
              "      <td>6.0</td>\n",
              "      <td>6.0</td>\n",
              "      <td>7.0</td>\n",
              "      <td>7.0</td>\n",
              "      <td>7.0</td>\n",
              "      <td>...</td>\n",
              "      <td>86400.0</td>\n",
              "      <td>86400.0</td>\n",
              "      <td>86400.0</td>\n",
              "      <td>86400.0</td>\n",
              "      <td>561.213803</td>\n",
              "      <td>0.000000</td>\n",
              "      <td>69.031959</td>\n",
              "      <td>5534.448040</td>\n",
              "      <td>86400.0</td>\n",
              "      <td>Watch_TV</td>\n",
              "    </tr>\n",
              "    <tr>\n",
              "      <th>216192</th>\n",
              "      <td>19.0</td>\n",
              "      <td>70683.0</td>\n",
              "      <td>1.0</td>\n",
              "      <td>217.0</td>\n",
              "      <td>1.0</td>\n",
              "      <td>6.0</td>\n",
              "      <td>6.0</td>\n",
              "      <td>7.0</td>\n",
              "      <td>7.0</td>\n",
              "      <td>7.0</td>\n",
              "      <td>...</td>\n",
              "      <td>86400.0</td>\n",
              "      <td>86400.0</td>\n",
              "      <td>86400.0</td>\n",
              "      <td>86400.0</td>\n",
              "      <td>562.307435</td>\n",
              "      <td>0.000000</td>\n",
              "      <td>70.125591</td>\n",
              "      <td>5535.541672</td>\n",
              "      <td>86400.0</td>\n",
              "      <td>Watch_TV</td>\n",
              "    </tr>\n",
              "  </tbody>\n",
              "</table>\n",
              "<p>51544 rows × 37 columns</p>\n",
              "</div>\n",
              "      <button class=\"colab-df-convert\" onclick=\"convertToInteractive('df-7cd96b18-52c2-4f53-b291-d9d0f1891f81')\"\n",
              "              title=\"Convert this dataframe to an interactive table.\"\n",
              "              style=\"display:none;\">\n",
              "        \n",
              "  <svg xmlns=\"http://www.w3.org/2000/svg\" height=\"24px\"viewBox=\"0 0 24 24\"\n",
              "       width=\"24px\">\n",
              "    <path d=\"M0 0h24v24H0V0z\" fill=\"none\"/>\n",
              "    <path d=\"M18.56 5.44l.94 2.06.94-2.06 2.06-.94-2.06-.94-.94-2.06-.94 2.06-2.06.94zm-11 1L8.5 8.5l.94-2.06 2.06-.94-2.06-.94L8.5 2.5l-.94 2.06-2.06.94zm10 10l.94 2.06.94-2.06 2.06-.94-2.06-.94-.94-2.06-.94 2.06-2.06.94z\"/><path d=\"M17.41 7.96l-1.37-1.37c-.4-.4-.92-.59-1.43-.59-.52 0-1.04.2-1.43.59L10.3 9.45l-7.72 7.72c-.78.78-.78 2.05 0 2.83L4 21.41c.39.39.9.59 1.41.59.51 0 1.02-.2 1.41-.59l7.78-7.78 2.81-2.81c.8-.78.8-2.07 0-2.86zM5.41 20L4 18.59l7.72-7.72 1.47 1.35L5.41 20z\"/>\n",
              "  </svg>\n",
              "      </button>\n",
              "      \n",
              "  <style>\n",
              "    .colab-df-container {\n",
              "      display:flex;\n",
              "      flex-wrap:wrap;\n",
              "      gap: 12px;\n",
              "    }\n",
              "\n",
              "    .colab-df-convert {\n",
              "      background-color: #E8F0FE;\n",
              "      border: none;\n",
              "      border-radius: 50%;\n",
              "      cursor: pointer;\n",
              "      display: none;\n",
              "      fill: #1967D2;\n",
              "      height: 32px;\n",
              "      padding: 0 0 0 0;\n",
              "      width: 32px;\n",
              "    }\n",
              "\n",
              "    .colab-df-convert:hover {\n",
              "      background-color: #E2EBFA;\n",
              "      box-shadow: 0px 1px 2px rgba(60, 64, 67, 0.3), 0px 1px 3px 1px rgba(60, 64, 67, 0.15);\n",
              "      fill: #174EA6;\n",
              "    }\n",
              "\n",
              "    [theme=dark] .colab-df-convert {\n",
              "      background-color: #3B4455;\n",
              "      fill: #D2E3FC;\n",
              "    }\n",
              "\n",
              "    [theme=dark] .colab-df-convert:hover {\n",
              "      background-color: #434B5C;\n",
              "      box-shadow: 0px 1px 3px 1px rgba(0, 0, 0, 0.15);\n",
              "      filter: drop-shadow(0px 1px 2px rgba(0, 0, 0, 0.3));\n",
              "      fill: #FFFFFF;\n",
              "    }\n",
              "  </style>\n",
              "\n",
              "      <script>\n",
              "        const buttonEl =\n",
              "          document.querySelector('#df-7cd96b18-52c2-4f53-b291-d9d0f1891f81 button.colab-df-convert');\n",
              "        buttonEl.style.display =\n",
              "          google.colab.kernel.accessAllowed ? 'block' : 'none';\n",
              "\n",
              "        async function convertToInteractive(key) {\n",
              "          const element = document.querySelector('#df-7cd96b18-52c2-4f53-b291-d9d0f1891f81');\n",
              "          const dataTable =\n",
              "            await google.colab.kernel.invokeFunction('convertToInteractive',\n",
              "                                                     [key], {});\n",
              "          if (!dataTable) return;\n",
              "\n",
              "          const docLinkHtml = 'Like what you see? Visit the ' +\n",
              "            '<a target=\"_blank\" href=https://colab.research.google.com/notebooks/data_table.ipynb>data table notebook</a>'\n",
              "            + ' to learn more about interactive tables.';\n",
              "          element.innerHTML = '';\n",
              "          dataTable['output_type'] = 'display_data';\n",
              "          await google.colab.output.renderOutput(dataTable, element);\n",
              "          const docLink = document.createElement('div');\n",
              "          docLink.innerHTML = docLinkHtml;\n",
              "          element.appendChild(docLink);\n",
              "        }\n",
              "      </script>\n",
              "    </div>\n",
              "  </div>\n",
              "  "
            ]
          },
          "metadata": {},
          "execution_count": 63
        }
      ]
    },
    {
      "cell_type": "code",
      "source": [
        "columns2 = df2.columns.tolist()\n",
        "columns2"
      ],
      "metadata": {
        "colab": {
          "base_uri": "https://localhost:8080/"
        },
        "id": "aHoBXoCBbWqr",
        "outputId": "45971c4b-a842-496a-bd40-73606e0a4eb0"
      },
      "execution_count": null,
      "outputs": [
        {
          "output_type": "execute_result",
          "data": {
            "text/plain": [
              "['lastSensorEventHours',\n",
              " 'lastSensorEventSeconds',\n",
              " 'lastSensorDayOfWeek',\n",
              " 'windowDuration',\n",
              " 'timeSinceLastSensorEvent',\n",
              " 'prevDominantSensor1',\n",
              " 'prevDominantSensor2',\n",
              " 'lastSensorID',\n",
              " 'lastSensorLocation',\n",
              " 'lastMotionLocation',\n",
              " 'complexity',\n",
              " 'activityChange',\n",
              " 'areaTransitions',\n",
              " 'numDistinctSensors',\n",
              " 'sensorCount-Bathroom',\n",
              " 'sensorCount-Bedroom',\n",
              " 'sensorCount-Chair',\n",
              " 'sensorCount-DiningRoom',\n",
              " 'sensorCount-Hall',\n",
              " 'sensorCount-Ignore',\n",
              " 'sensorCount-Kitchen',\n",
              " 'sensorCount-LivingRoom',\n",
              " 'sensorCount-Office',\n",
              " 'sensorCount-OutsideDoor',\n",
              " 'sensorCount-WorkArea',\n",
              " 'sensorElTime-Bathroom',\n",
              " 'sensorElTime-Bedroom',\n",
              " 'sensorElTime-Chair',\n",
              " 'sensorElTime-DiningRoom',\n",
              " 'sensorElTime-Hall',\n",
              " 'sensorElTime-Ignore',\n",
              " 'sensorElTime-Kitchen',\n",
              " 'sensorElTime-LivingRoom',\n",
              " 'sensorElTime-Office',\n",
              " 'sensorElTime-OutsideDoor',\n",
              " 'sensorElTime-WorkArea',\n",
              " 'activity']"
            ]
          },
          "metadata": {},
          "execution_count": 64
        }
      ]
    },
    {
      "cell_type": "code",
      "source": [
        "activity2 = df2['activity'].unique().tolist()\n",
        "activity2"
      ],
      "metadata": {
        "colab": {
          "base_uri": "https://localhost:8080/"
        },
        "id": "i3oWuDvHbWtg",
        "outputId": "66c55d8f-9a7d-405e-8e64-d850ef5d1683"
      },
      "execution_count": null,
      "outputs": [
        {
          "output_type": "execute_result",
          "data": {
            "text/plain": [
              "['Toilet',\n",
              " 'Watch_TV',\n",
              " 'Sleep',\n",
              " 'Leave_Home',\n",
              " 'Enter_Home',\n",
              " 'Work_On_Computer',\n",
              " 'Cook_Dinner',\n",
              " 'Eat_Dinner']"
            ]
          },
          "metadata": {},
          "execution_count": 15
        }
      ]
    },
    {
      "cell_type": "code",
      "source": [
        "Count2 = df2['activity'].value_counts()\n",
        "Count2"
      ],
      "metadata": {
        "colab": {
          "base_uri": "https://localhost:8080/"
        },
        "id": "2hU_vhsnbWwa",
        "outputId": "28e7ff40-4955-416f-8882-4e589df8ded7"
      },
      "execution_count": null,
      "outputs": [
        {
          "output_type": "execute_result",
          "data": {
            "text/plain": [
              "Cook_Dinner         27717\n",
              "Toilet               7048\n",
              "Watch_TV             4760\n",
              "Work_On_Computer     4079\n",
              "Leave_Home           2860\n",
              "Enter_Home           2660\n",
              "Sleep                2088\n",
              "Eat_Dinner            332\n",
              "Name: activity, dtype: int64"
            ]
          },
          "metadata": {},
          "execution_count": 16
        }
      ]
    },
    {
      "cell_type": "code",
      "source": [
        "percentage2 = df2['activity'].value_counts(normalize=True)*100\n",
        "percentage2"
      ],
      "metadata": {
        "colab": {
          "base_uri": "https://localhost:8080/"
        },
        "id": "p0Nh5fU1bWzj",
        "outputId": "bb26cf06-3101-4feb-b033-2add8fa693b5"
      },
      "execution_count": null,
      "outputs": [
        {
          "output_type": "execute_result",
          "data": {
            "text/plain": [
              "Cook_Dinner         53.773475\n",
              "Toilet              13.673754\n",
              "Watch_TV             9.234828\n",
              "Work_On_Computer     7.913627\n",
              "Leave_Home           5.548657\n",
              "Enter_Home           5.160639\n",
              "Sleep                4.050908\n",
              "Eat_Dinner           0.644110\n",
              "Name: activity, dtype: float64"
            ]
          },
          "metadata": {},
          "execution_count": 17
        }
      ]
    },
    {
      "cell_type": "markdown",
      "source": [
        "# CSH125 Train Dataset"
      ],
      "metadata": {
        "id": "s7VSsXLZlehz"
      }
    },
    {
      "cell_type": "code",
      "source": [
        "x_train=df2.drop('activity',axis=1)\n",
        "y_train=df2['activity']"
      ],
      "metadata": {
        "id": "egDvXtxCbW2L"
      },
      "execution_count": null,
      "outputs": []
    },
    {
      "cell_type": "markdown",
      "source": [
        "## Shapes of Split Data"
      ],
      "metadata": {
        "id": "aspOt10yLLcC"
      }
    },
    {
      "cell_type": "code",
      "source": [
        "x_train.shape,x_test.shape"
      ],
      "metadata": {
        "colab": {
          "base_uri": "https://localhost:8080/"
        },
        "id": "U-v5ewUoLQ44",
        "outputId": "734ae27f-40b6-4339-ed43-2903666250d4"
      },
      "execution_count": null,
      "outputs": [
        {
          "output_type": "execute_result",
          "data": {
            "text/plain": [
              "((51544, 16), (4746, 16))"
            ]
          },
          "metadata": {},
          "execution_count": 19
        }
      ]
    },
    {
      "cell_type": "code",
      "source": [
        "y_train.shape,y_test.shape"
      ],
      "metadata": {
        "colab": {
          "base_uri": "https://localhost:8080/"
        },
        "id": "UcsW0-L0LykA",
        "outputId": "e407c337-8e3e-4b0b-8939-e477723a6bbc"
      },
      "execution_count": null,
      "outputs": [
        {
          "output_type": "execute_result",
          "data": {
            "text/plain": [
              "((51544,), (4746,))"
            ]
          },
          "metadata": {},
          "execution_count": 20
        }
      ]
    },
    {
      "cell_type": "markdown",
      "source": [
        "## Random Forest Classifier\n"
      ],
      "metadata": {
        "id": "5_NGE-7cZNei"
      }
    },
    {
      "cell_type": "code",
      "source": [
        "rfc=RandomForestClassifier(n_estimators=7,max_features='auto',random_state=100)"
      ],
      "metadata": {
        "id": "CUZZ8UD4bW5I"
      },
      "execution_count": null,
      "outputs": []
    },
    {
      "cell_type": "code",
      "source": [
        "rfc.fit(x_train,y_train)"
      ],
      "metadata": {
        "colab": {
          "base_uri": "https://localhost:8080/"
        },
        "id": "cHzwCUh4bW8D",
        "outputId": "1141a828-c228-4fec-c945-807a1685d77c"
      },
      "execution_count": null,
      "outputs": [
        {
          "output_type": "execute_result",
          "data": {
            "text/plain": [
              "RandomForestClassifier(n_estimators=7, random_state=100)"
            ]
          },
          "metadata": {},
          "execution_count": 22
        }
      ]
    },
    {
      "cell_type": "code",
      "source": [
        "preds=rfc.predict(x_test)"
      ],
      "metadata": {
        "id": "EAIpDVcbbW-5"
      },
      "execution_count": null,
      "outputs": []
    },
    {
      "cell_type": "code",
      "source": [
        "fig, ax = plt.subplots(figsize=(20, 12))\n",
        "plt.xticks(rotation=180)\n",
        "plot_confusion_matrix(rfc,x_test,y_test,ax=ax)"
      ],
      "metadata": {
        "colab": {
          "base_uri": "https://localhost:8080/",
          "height": 787
        },
        "id": "NtqsImGxbXBX",
        "outputId": "b563c7a1-5d10-4bf7-c795-1dcfc6367f0d"
      },
      "execution_count": null,
      "outputs": [
        {
          "output_type": "stream",
          "name": "stderr",
          "text": [
            "/usr/local/lib/python3.8/dist-packages/sklearn/utils/deprecation.py:87: FutureWarning: Function plot_confusion_matrix is deprecated; Function `plot_confusion_matrix` is deprecated in 1.0 and will be removed in 1.2. Use one of the class methods: ConfusionMatrixDisplay.from_predictions or ConfusionMatrixDisplay.from_estimator.\n",
            "  warnings.warn(msg, category=FutureWarning)\n"
          ]
        },
        {
          "output_type": "execute_result",
          "data": {
            "text/plain": [
              "<sklearn.metrics._plot.confusion_matrix.ConfusionMatrixDisplay at 0x7fd140b838e0>"
            ]
          },
          "metadata": {},
          "execution_count": 24
        },
        {
          "output_type": "display_data",
          "data": {
            "text/plain": [
              "<Figure size 1440x864 with 2 Axes>"
            ],
            "image/png": "[encoded data removed]"
          },
          "metadata": {
            "needs_background": "light"
          }
        }
      ]
    },
    {
      "cell_type": "code",
      "source": [
        "print(classification_report(y_test,preds))"
      ],
      "metadata": {
        "colab": {
          "base_uri": "https://localhost:8080/"
        },
        "id": "tNeS3LAHbXEW",
        "outputId": "1a3621f9-9249-4834-b317-23de6b31a13e"
      },
      "execution_count": null,
      "outputs": [
        {
          "output_type": "stream",
          "name": "stdout",
          "text": [
            "                  precision    recall  f1-score   support\n",
            "\n",
            "     Cook_Dinner       0.47      1.00      0.64       185\n",
            "      Eat_Dinner       0.54      0.16      0.25       125\n",
            "      Enter_Home       0.37      0.20      0.26       483\n",
            "      Leave_Home       0.46      0.56      0.51       652\n",
            "           Sleep       0.94      0.93      0.93      1855\n",
            "          Toilet       0.95      0.96      0.96       856\n",
            "        Watch_TV       0.58      0.94      0.72       283\n",
            "Work_On_Computer       0.66      0.22      0.33       307\n",
            "\n",
            "        accuracy                           0.75      4746\n",
            "       macro avg       0.62      0.62      0.57      4746\n",
            "    weighted avg       0.75      0.75      0.73      4746\n",
            "\n"
          ]
        }
      ]
    },
    {
      "cell_type": "code",
      "source": [
        "rfc_accuracy=accuracy_score(y_test, preds)\n",
        "rfc_accuracy=rfc_accuracy*100\n",
        "print(\"The accuracy for Random forest classifier model is\",round(rfc_accuracy,2),\"%\")"
      ],
      "metadata": {
        "colab": {
          "base_uri": "https://localhost:8080/"
        },
        "id": "XDYRnlw6bXG6",
        "outputId": "5439c54e-c7b0-46b4-b762-becea9635b7b"
      },
      "execution_count": null,
      "outputs": [
        {
          "output_type": "stream",
          "name": "stdout",
          "text": [
            "The accuracy for Random forest classifier model is 74.72 %\n"
          ]
        }
      ]
    },
    {
      "cell_type": "markdown",
      "source": [
        "![image.png](data:image/png;base64,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)"
      ],
      "metadata": {
        "id": "2Hhqh6DTqyn4"
      }
    },
    {
      "cell_type": "markdown",
      "source": [
        "## K-Nearest Neighbour Classifier"
      ],
      "metadata": {
        "id": "jGstAgZAa1p0"
      }
    },
    {
      "cell_type": "code",
      "source": [
        "knn = KNeighborsClassifier(n_neighbors=9)\n",
        "\n",
        "knn.fit(x_train, y_train)\n",
        "\n",
        "knn_preds=knn.predict(x_test) "
      ],
      "metadata": {
        "id": "PAaBKe6jgI7l"
      },
      "execution_count": null,
      "outputs": []
    },
    {
      "cell_type": "code",
      "source": [
        "fig, ax = plt.subplots(figsize=(20, 12))\n",
        "plt.xticks(rotation=180)\n",
        "plot_confusion_matrix(knn,x_test,y_test,ax=ax)"
      ],
      "metadata": {
        "id": "mxExFTMKgI-c",
        "colab": {
          "base_uri": "https://localhost:8080/",
          "height": 787
        },
        "outputId": "3bd0f700-ea17-4000-e897-4481df95145a"
      },
      "execution_count": null,
      "outputs": [
        {
          "output_type": "stream",
          "name": "stderr",
          "text": [
            "/usr/local/lib/python3.8/dist-packages/sklearn/utils/deprecation.py:87: FutureWarning: Function plot_confusion_matrix is deprecated; Function `plot_confusion_matrix` is deprecated in 1.0 and will be removed in 1.2. Use one of the class methods: ConfusionMatrixDisplay.from_predictions or ConfusionMatrixDisplay.from_estimator.\n",
            "  warnings.warn(msg, category=FutureWarning)\n"
          ]
        },
        {
          "output_type": "execute_result",
          "data": {
            "text/plain": [
              "<sklearn.metrics._plot.confusion_matrix.ConfusionMatrixDisplay at 0x7fd140a6b280>"
            ]
          },
          "metadata": {},
          "execution_count": 28
        },
        {
          "output_type": "display_data",
          "data": {
            "text/plain": [
              "<Figure size 1440x864 with 2 Axes>"
            ],
            "image/png": "[encoded data removed]"
          },
          "metadata": {
            "needs_background": "light"
          }
        }
      ]
    },
    {
      "cell_type": "code",
      "source": [
        "print(classification_report(y_test,knn_preds))"
      ],
      "metadata": {
        "id": "Ccs_8NjhgJAG",
        "colab": {
          "base_uri": "https://localhost:8080/"
        },
        "outputId": "389d1609-41a5-45d4-8c02-a20dcd480ccb"
      },
      "execution_count": null,
      "outputs": [
        {
          "output_type": "stream",
          "name": "stdout",
          "text": [
            "                  precision    recall  f1-score   support\n",
            "\n",
            "     Cook_Dinner       0.24      0.51      0.32       185\n",
            "      Eat_Dinner       0.28      0.10      0.14       125\n",
            "      Enter_Home       0.53      0.76      0.63       483\n",
            "      Leave_Home       0.58      0.32      0.41       652\n",
            "           Sleep       0.96      0.39      0.56      1855\n",
            "          Toilet       0.74      0.93      0.83       856\n",
            "        Watch_TV       0.07      0.26      0.11       283\n",
            "Work_On_Computer       0.35      0.43      0.39       307\n",
            "\n",
            "        accuracy                           0.51      4746\n",
            "       macro avg       0.47      0.46      0.42      4746\n",
            "    weighted avg       0.68      0.51      0.54      4746\n",
            "\n"
          ]
        }
      ]
    },
    {
      "cell_type": "code",
      "source": [
        "knn_accuracy=accuracy_score(y_test, knn_preds)\n",
        "knn_accuracy=knn_accuracy*100\n",
        "print(\"The accuracy for K-Nearest Neighbour model is\",round(knn_accuracy,2),\"%\")"
      ],
      "metadata": {
        "id": "EGqNkGxlgJCc",
        "colab": {
          "base_uri": "https://localhost:8080/"
        },
        "outputId": "b1e00877-34e9-4969-9306-cfdefb6e7434"
      },
      "execution_count": null,
      "outputs": [
        {
          "output_type": "stream",
          "name": "stdout",
          "text": [
            "The accuracy for K-Nearest Neighbour model is 50.82 %\n"
          ]
        }
      ]
    },
    {
      "cell_type": "code",
      "source": [
        "df1"
      ],
      "metadata": {
        "id": "KN_AsYUzgJIT",
        "colab": {
          "base_uri": "https://localhost:8080/",
          "height": 505
        },
        "outputId": "4c093c56-cf8e-4293-aee5-231e16864710"
      },
      "execution_count": null,
      "outputs": [
        {
          "output_type": "execute_result",
          "data": {
            "text/plain": [
              "       lastSensorEventHours  windowDuration  prevDominantSensor1  \\\n",
              "0                       0.0            63.0                  0.0   \n",
              "1                       0.0            63.0                  0.0   \n",
              "2                       0.0            53.0                  0.0   \n",
              "3                       0.0            67.0                  0.0   \n",
              "4                       0.0            65.0                  0.0   \n",
              "...                     ...             ...                  ...   \n",
              "71062                  15.0            48.0                  5.0   \n",
              "71063                  15.0            48.0                  5.0   \n",
              "71064                  15.0            46.0                  5.0   \n",
              "71065                  15.0            49.0                  5.0   \n",
              "71066                  15.0            54.0                  5.0   \n",
              "\n",
              "       prevDominantSensor2  lastSensorID  lastSensorLocation  \\\n",
              "0                      0.0           1.0                 1.0   \n",
              "1                      0.0           5.0                 5.0   \n",
              "2                      0.0           1.0                 1.0   \n",
              "3                      0.0           5.0                 5.0   \n",
              "4                      0.0           1.0                 1.0   \n",
              "...                    ...           ...                 ...   \n",
              "71062                  5.0           9.0                 9.0   \n",
              "71063                  5.0           5.0                 5.0   \n",
              "71064                  5.0           1.0                 1.0   \n",
              "71065                  5.0           9.0                 9.0   \n",
              "71066                  5.0           9.0                 9.0   \n",
              "\n",
              "       lastMotionLocation  sensorCount-Bathroom  sensorCount-Bedroom  \\\n",
              "0                     1.0                   0.0                33.34   \n",
              "1                     1.0                   0.0                32.33   \n",
              "2                     1.0                   0.0                32.31   \n",
              "3                     1.0                   0.0                31.29   \n",
              "4                     1.0                   0.0                31.26   \n",
              "...                   ...                   ...                  ...   \n",
              "71062                 9.0                   0.0                12.37   \n",
              "71063                 9.0                   0.0                12.48   \n",
              "71064                 1.0                   0.0                12.29   \n",
              "71065                 9.0                   0.0                12.40   \n",
              "71066                 9.0                   0.0                11.21   \n",
              "\n",
              "       sensorCount-Ignore  sensorCount-OutsideDoor  sensorElTime-Bathroom  \\\n",
              "0                    1.01                     0.00                86400.0   \n",
              "1                    2.02                     0.00                86400.0   \n",
              "2                    2.04                     0.00                86400.0   \n",
              "3                    3.06                     0.00                86400.0   \n",
              "4                    3.09                     0.00                86400.0   \n",
              "...                   ...                      ...                    ...   \n",
              "71062               10.58                    11.40                86400.0   \n",
              "71063               10.37                    11.50                86400.0   \n",
              "71064               10.46                    11.60                86400.0   \n",
              "71065                9.25                    12.70                86400.0   \n",
              "71066                9.33                    13.81                86400.0   \n",
              "\n",
              "       sensorElTime-DiningRoom  sensorElTime-Hall  sensorElTime-Ignore  \\\n",
              "0                 86400.000000       86400.000000             0.756853   \n",
              "1                 86400.000000       86400.000000             0.000000   \n",
              "2                 86400.000000       86400.000000             0.023990   \n",
              "3                 86400.000000       86400.000000             0.000000   \n",
              "4                 86400.000000       86400.000000             0.026903   \n",
              "...                        ...                ...                  ...   \n",
              "71062               227.824331         213.428812             3.561320   \n",
              "71063               228.035583         213.640064             0.000000   \n",
              "71064               228.066083         213.670564             0.030500   \n",
              "71065               230.820038         216.424519             2.784455   \n",
              "71066               237.604317         223.208798             9.568734   \n",
              "\n",
              "       sensorElTime-OutsideDoor    activity  \n",
              "0                  86400.000000       Sleep  \n",
              "1                  86400.000000       Sleep  \n",
              "2                  86400.000000       Sleep  \n",
              "3                  86400.000000       Sleep  \n",
              "4                  86400.000000       Sleep  \n",
              "...                         ...         ...  \n",
              "71062                  0.000000  Leave_Home  \n",
              "71063                  0.211252  Leave_Home  \n",
              "71064                  0.241752  Leave_Home  \n",
              "71065                  0.000000  Leave_Home  \n",
              "71066                  0.000000  Leave_Home  \n",
              "\n",
              "[4746 rows x 17 columns]"
            ],
            "text/html": [
              "\n",
              "  <div id=\"df-9722d62d-2386-4714-8aab-866cc794183d\">\n",
              "    <div class=\"colab-df-container\">\n",
              "      <div>\n",
              "<style scoped>\n",
              "    .dataframe tbody tr th:only-of-type {\n",
              "        vertical-align: middle;\n",
              "    }\n",
              "\n",
              "    .dataframe tbody tr th {\n",
              "        vertical-align: top;\n",
              "    }\n",
              "\n",
              "    .dataframe thead th {\n",
              "        text-align: right;\n",
              "    }\n",
              "</style>\n",
              "<table border=\"1\" class=\"dataframe\">\n",
              "  <thead>\n",
              "    <tr style=\"text-align: right;\">\n",
              "      <th></th>\n",
              "      <th>lastSensorEventHours</th>\n",
              "      <th>windowDuration</th>\n",
              "      <th>prevDominantSensor1</th>\n",
              "      <th>prevDominantSensor2</th>\n",
              "      <th>lastSensorID</th>\n",
              "      <th>lastSensorLocation</th>\n",
              "      <th>lastMotionLocation</th>\n",
              "      <th>sensorCount-Bathroom</th>\n",
              "      <th>sensorCount-Bedroom</th>\n",
              "      <th>sensorCount-Ignore</th>\n",
              "      <th>sensorCount-OutsideDoor</th>\n",
              "      <th>sensorElTime-Bathroom</th>\n",
              "      <th>sensorElTime-DiningRoom</th>\n",
              "      <th>sensorElTime-Hall</th>\n",
              "      <th>sensorElTime-Ignore</th>\n",
              "      <th>sensorElTime-OutsideDoor</th>\n",
              "      <th>activity</th>\n",
              "    </tr>\n",
              "  </thead>\n",
              "  <tbody>\n",
              "    <tr>\n",
              "      <th>0</th>\n",
              "      <td>0.0</td>\n",
              "      <td>63.0</td>\n",
              "      <td>0.0</td>\n",
              "      <td>0.0</td>\n",
              "      <td>1.0</td>\n",
              "      <td>1.0</td>\n",
              "      <td>1.0</td>\n",
              "      <td>0.0</td>\n",
              "      <td>33.34</td>\n",
              "      <td>1.01</td>\n",
              "      <td>0.00</td>\n",
              "      <td>86400.0</td>\n",
              "      <td>86400.000000</td>\n",
              "      <td>86400.000000</td>\n",
              "      <td>0.756853</td>\n",
              "      <td>86400.000000</td>\n",
              "      <td>Sleep</td>\n",
              "    </tr>\n",
              "    <tr>\n",
              "      <th>1</th>\n",
              "      <td>0.0</td>\n",
              "      <td>63.0</td>\n",
              "      <td>0.0</td>\n",
              "      <td>0.0</td>\n",
              "      <td>5.0</td>\n",
              "      <td>5.0</td>\n",
              "      <td>1.0</td>\n",
              "      <td>0.0</td>\n",
              "      <td>32.33</td>\n",
              "      <td>2.02</td>\n",
              "      <td>0.00</td>\n",
              "      <td>86400.0</td>\n",
              "      <td>86400.000000</td>\n",
              "      <td>86400.000000</td>\n",
              "      <td>0.000000</td>\n",
              "      <td>86400.000000</td>\n",
              "      <td>Sleep</td>\n",
              "    </tr>\n",
              "    <tr>\n",
              "      <th>2</th>\n",
              "      <td>0.0</td>\n",
              "      <td>53.0</td>\n",
              "      <td>0.0</td>\n",
              "      <td>0.0</td>\n",
              "      <td>1.0</td>\n",
              "      <td>1.0</td>\n",
              "      <td>1.0</td>\n",
              "      <td>0.0</td>\n",
              "      <td>32.31</td>\n",
              "      <td>2.04</td>\n",
              "      <td>0.00</td>\n",
              "      <td>86400.0</td>\n",
              "      <td>86400.000000</td>\n",
              "      <td>86400.000000</td>\n",
              "      <td>0.023990</td>\n",
              "      <td>86400.000000</td>\n",
              "      <td>Sleep</td>\n",
              "    </tr>\n",
              "    <tr>\n",
              "      <th>3</th>\n",
              "      <td>0.0</td>\n",
              "      <td>67.0</td>\n",
              "      <td>0.0</td>\n",
              "      <td>0.0</td>\n",
              "      <td>5.0</td>\n",
              "      <td>5.0</td>\n",
              "      <td>1.0</td>\n",
              "      <td>0.0</td>\n",
              "      <td>31.29</td>\n",
              "      <td>3.06</td>\n",
              "      <td>0.00</td>\n",
              "      <td>86400.0</td>\n",
              "      <td>86400.000000</td>\n",
              "      <td>86400.000000</td>\n",
              "      <td>0.000000</td>\n",
              "      <td>86400.000000</td>\n",
              "      <td>Sleep</td>\n",
              "    </tr>\n",
              "    <tr>\n",
              "      <th>4</th>\n",
              "      <td>0.0</td>\n",
              "      <td>65.0</td>\n",
              "      <td>0.0</td>\n",
              "      <td>0.0</td>\n",
              "      <td>1.0</td>\n",
              "      <td>1.0</td>\n",
              "      <td>1.0</td>\n",
              "      <td>0.0</td>\n",
              "      <td>31.26</td>\n",
              "      <td>3.09</td>\n",
              "      <td>0.00</td>\n",
              "      <td>86400.0</td>\n",
              "      <td>86400.000000</td>\n",
              "      <td>86400.000000</td>\n",
              "      <td>0.026903</td>\n",
              "      <td>86400.000000</td>\n",
              "      <td>Sleep</td>\n",
              "    </tr>\n",
              "    <tr>\n",
              "      <th>...</th>\n",
              "      <td>...</td>\n",
              "      <td>...</td>\n",
              "      <td>...</td>\n",
              "      <td>...</td>\n",
              "      <td>...</td>\n",
              "      <td>...</td>\n",
              "      <td>...</td>\n",
              "      <td>...</td>\n",
              "      <td>...</td>\n",
              "      <td>...</td>\n",
              "      <td>...</td>\n",
              "      <td>...</td>\n",
              "      <td>...</td>\n",
              "      <td>...</td>\n",
              "      <td>...</td>\n",
              "      <td>...</td>\n",
              "      <td>...</td>\n",
              "    </tr>\n",
              "    <tr>\n",
              "      <th>71062</th>\n",
              "      <td>15.0</td>\n",
              "      <td>48.0</td>\n",
              "      <td>5.0</td>\n",
              "      <td>5.0</td>\n",
              "      <td>9.0</td>\n",
              "      <td>9.0</td>\n",
              "      <td>9.0</td>\n",
              "      <td>0.0</td>\n",
              "      <td>12.37</td>\n",
              "      <td>10.58</td>\n",
              "      <td>11.40</td>\n",
              "      <td>86400.0</td>\n",
              "      <td>227.824331</td>\n",
              "      <td>213.428812</td>\n",
              "      <td>3.561320</td>\n",
              "      <td>0.000000</td>\n",
              "      <td>Leave_Home</td>\n",
              "    </tr>\n",
              "    <tr>\n",
              "      <th>71063</th>\n",
              "      <td>15.0</td>\n",
              "      <td>48.0</td>\n",
              "      <td>5.0</td>\n",
              "      <td>5.0</td>\n",
              "      <td>5.0</td>\n",
              "      <td>5.0</td>\n",
              "      <td>9.0</td>\n",
              "      <td>0.0</td>\n",
              "      <td>12.48</td>\n",
              "      <td>10.37</td>\n",
              "      <td>11.50</td>\n",
              "      <td>86400.0</td>\n",
              "      <td>228.035583</td>\n",
              "      <td>213.640064</td>\n",
              "      <td>0.000000</td>\n",
              "      <td>0.211252</td>\n",
              "      <td>Leave_Home</td>\n",
              "    </tr>\n",
              "    <tr>\n",
              "      <th>71064</th>\n",
              "      <td>15.0</td>\n",
              "      <td>46.0</td>\n",
              "      <td>5.0</td>\n",
              "      <td>5.0</td>\n",
              "      <td>1.0</td>\n",
              "      <td>1.0</td>\n",
              "      <td>1.0</td>\n",
              "      <td>0.0</td>\n",
              "      <td>12.29</td>\n",
              "      <td>10.46</td>\n",
              "      <td>11.60</td>\n",
              "      <td>86400.0</td>\n",
              "      <td>228.066083</td>\n",
              "      <td>213.670564</td>\n",
              "      <td>0.030500</td>\n",
              "      <td>0.241752</td>\n",
              "      <td>Leave_Home</td>\n",
              "    </tr>\n",
              "    <tr>\n",
              "      <th>71065</th>\n",
              "      <td>15.0</td>\n",
              "      <td>49.0</td>\n",
              "      <td>5.0</td>\n",
              "      <td>5.0</td>\n",
              "      <td>9.0</td>\n",
              "      <td>9.0</td>\n",
              "      <td>9.0</td>\n",
              "      <td>0.0</td>\n",
              "      <td>12.40</td>\n",
              "      <td>9.25</td>\n",
              "      <td>12.70</td>\n",
              "      <td>86400.0</td>\n",
              "      <td>230.820038</td>\n",
              "      <td>216.424519</td>\n",
              "      <td>2.784455</td>\n",
              "      <td>0.000000</td>\n",
              "      <td>Leave_Home</td>\n",
              "    </tr>\n",
              "    <tr>\n",
              "      <th>71066</th>\n",
              "      <td>15.0</td>\n",
              "      <td>54.0</td>\n",
              "      <td>5.0</td>\n",
              "      <td>5.0</td>\n",
              "      <td>9.0</td>\n",
              "      <td>9.0</td>\n",
              "      <td>9.0</td>\n",
              "      <td>0.0</td>\n",
              "      <td>11.21</td>\n",
              "      <td>9.33</td>\n",
              "      <td>13.81</td>\n",
              "      <td>86400.0</td>\n",
              "      <td>237.604317</td>\n",
              "      <td>223.208798</td>\n",
              "      <td>9.568734</td>\n",
              "      <td>0.000000</td>\n",
              "      <td>Leave_Home</td>\n",
              "    </tr>\n",
              "  </tbody>\n",
              "</table>\n",
              "<p>4746 rows × 17 columns</p>\n",
              "</div>\n",
              "      <button class=\"colab-df-convert\" onclick=\"convertToInteractive('df-9722d62d-2386-4714-8aab-866cc794183d')\"\n",
              "              title=\"Convert this dataframe to an interactive table.\"\n",
              "              style=\"display:none;\">\n",
              "        \n",
              "  <svg xmlns=\"http://www.w3.org/2000/svg\" height=\"24px\"viewBox=\"0 0 24 24\"\n",
              "       width=\"24px\">\n",
              "    <path d=\"M0 0h24v24H0V0z\" fill=\"none\"/>\n",
              "    <path d=\"M18.56 5.44l.94 2.06.94-2.06 2.06-.94-2.06-.94-.94-2.06-.94 2.06-2.06.94zm-11 1L8.5 8.5l.94-2.06 2.06-.94-2.06-.94L8.5 2.5l-.94 2.06-2.06.94zm10 10l.94 2.06.94-2.06 2.06-.94-2.06-.94-.94-2.06-.94 2.06-2.06.94z\"/><path d=\"M17.41 7.96l-1.37-1.37c-.4-.4-.92-.59-1.43-.59-.52 0-1.04.2-1.43.59L10.3 9.45l-7.72 7.72c-.78.78-.78 2.05 0 2.83L4 21.41c.39.39.9.59 1.41.59.51 0 1.02-.2 1.41-.59l7.78-7.78 2.81-2.81c.8-.78.8-2.07 0-2.86zM5.41 20L4 18.59l7.72-7.72 1.47 1.35L5.41 20z\"/>\n",
              "  </svg>\n",
              "      </button>\n",
              "      \n",
              "  <style>\n",
              "    .colab-df-container {\n",
              "      display:flex;\n",
              "      flex-wrap:wrap;\n",
              "      gap: 12px;\n",
              "    }\n",
              "\n",
              "    .colab-df-convert {\n",
              "      background-color: #E8F0FE;\n",
              "      border: none;\n",
              "      border-radius: 50%;\n",
              "      cursor: pointer;\n",
              "      display: none;\n",
              "      fill: #1967D2;\n",
              "      height: 32px;\n",
              "      padding: 0 0 0 0;\n",
              "      width: 32px;\n",
              "    }\n",
              "\n",
              "    .colab-df-convert:hover {\n",
              "      background-color: #E2EBFA;\n",
              "      box-shadow: 0px 1px 2px rgba(60, 64, 67, 0.3), 0px 1px 3px 1px rgba(60, 64, 67, 0.15);\n",
              "      fill: #174EA6;\n",
              "    }\n",
              "\n",
              "    [theme=dark] .colab-df-convert {\n",
              "      background-color: #3B4455;\n",
              "      fill: #D2E3FC;\n",
              "    }\n",
              "\n",
              "    [theme=dark] .colab-df-convert:hover {\n",
              "      background-color: #434B5C;\n",
              "      box-shadow: 0px 1px 3px 1px rgba(0, 0, 0, 0.15);\n",
              "      filter: drop-shadow(0px 1px 2px rgba(0, 0, 0, 0.3));\n",
              "      fill: #FFFFFF;\n",
              "    }\n",
              "  </style>\n",
              "\n",
              "      <script>\n",
              "        const buttonEl =\n",
              "          document.querySelector('#df-9722d62d-2386-4714-8aab-866cc794183d button.colab-df-convert');\n",
              "        buttonEl.style.display =\n",
              "          google.colab.kernel.accessAllowed ? 'block' : 'none';\n",
              "\n",
              "        async function convertToInteractive(key) {\n",
              "          const element = document.querySelector('#df-9722d62d-2386-4714-8aab-866cc794183d');\n",
              "          const dataTable =\n",
              "            await google.colab.kernel.invokeFunction('convertToInteractive',\n",
              "                                                     [key], {});\n",
              "          if (!dataTable) return;\n",
              "\n",
              "          const docLinkHtml = 'Like what you see? Visit the ' +\n",
              "            '<a target=\"_blank\" href=https://colab.research.google.com/notebooks/data_table.ipynb>data table notebook</a>'\n",
              "            + ' to learn more about interactive tables.';\n",
              "          element.innerHTML = '';\n",
              "          dataTable['output_type'] = 'display_data';\n",
              "          await google.colab.output.renderOutput(dataTable, element);\n",
              "          const docLink = document.createElement('div');\n",
              "          docLink.innerHTML = docLinkHtml;\n",
              "          element.appendChild(docLink);\n",
              "        }\n",
              "      </script>\n",
              "    </div>\n",
              "  </div>\n",
              "  "
            ]
          },
          "metadata": {},
          "execution_count": 31
        }
      ]
    },
    {
      "cell_type": "code",
      "source": [
        "df2"
      ],
      "metadata": {
        "colab": {
          "base_uri": "https://localhost:8080/",
          "height": 505
        },
        "id": "nXnxtzobLmQN",
        "outputId": "a684acba-8bcd-4cc9-b844-29d757ee6f5e"
      },
      "execution_count": null,
      "outputs": [
        {
          "output_type": "execute_result",
          "data": {
            "text/plain": [
              "        lastSensorEventHours  windowDuration  prevDominantSensor1  \\\n",
              "87                       1.0            35.0                  6.0   \n",
              "88                       1.0            38.0                  6.0   \n",
              "89                       1.0            36.0                  6.0   \n",
              "90                       1.0            34.0                  6.0   \n",
              "91                       1.0            35.0                  6.0   \n",
              "...                      ...             ...                  ...   \n",
              "216188                  19.0           212.0                  6.0   \n",
              "216189                  19.0           217.0                  6.0   \n",
              "216190                  19.0           217.0                  6.0   \n",
              "216191                  19.0           216.0                  6.0   \n",
              "216192                  19.0           217.0                  6.0   \n",
              "\n",
              "        prevDominantSensor2  lastSensorID  lastSensorLocation  \\\n",
              "87                      6.0           0.0                 0.0   \n",
              "88                      6.0           0.0                 0.0   \n",
              "89                      6.0           0.0                 0.0   \n",
              "90                      6.0           0.0                 0.0   \n",
              "91                      6.0           0.0                 0.0   \n",
              "...                     ...           ...                 ...   \n",
              "216188                  6.0           7.0                 7.0   \n",
              "216189                  6.0           7.0                 7.0   \n",
              "216190                  6.0           7.0                 7.0   \n",
              "216191                  6.0           7.0                 7.0   \n",
              "216192                  6.0           7.0                 7.0   \n",
              "\n",
              "        lastMotionLocation  sensorCount-Bathroom  sensorCount-Bedroom  \\\n",
              "87                     0.0                  1.00                 6.21   \n",
              "88                     0.0                  2.01                 6.27   \n",
              "89                     0.0                  3.03                 6.33   \n",
              "90                     0.0                  4.06                 6.39   \n",
              "91                     0.0                  5.10                 6.45   \n",
              "...                    ...                   ...                  ...   \n",
              "216188                 7.0                  0.00                 0.00   \n",
              "216189                 7.0                  0.00                 0.00   \n",
              "216190                 7.0                  0.00                 0.00   \n",
              "216191                 7.0                  0.00                 0.00   \n",
              "216192                 7.0                  0.00                 0.00   \n",
              "\n",
              "        sensorCount-Ignore  sensorCount-OutsideDoor  sensorElTime-Bathroom  \\\n",
              "87                     0.0                      0.0               0.000000   \n",
              "88                     0.0                      0.0               0.000000   \n",
              "89                     0.0                      0.0               0.000000   \n",
              "90                     0.0                      0.0               0.000000   \n",
              "91                     0.0                      0.0               0.000000   \n",
              "...                    ...                      ...                    ...   \n",
              "216188                 0.0                      0.0           14325.503992   \n",
              "216189                 0.0                      0.0           14331.354197   \n",
              "216190                 0.0                      0.0           14332.447469   \n",
              "216191                 0.0                      0.0           14333.045191   \n",
              "216192                 0.0                      0.0           14334.138823   \n",
              "\n",
              "        sensorElTime-DiningRoom  sensorElTime-Hall  sensorElTime-Ignore  \\\n",
              "87                      86400.0            86400.0              86400.0   \n",
              "88                      86400.0            86400.0              86400.0   \n",
              "89                      86400.0            86400.0              86400.0   \n",
              "90                      86400.0            86400.0              86400.0   \n",
              "91                      86400.0            86400.0              86400.0   \n",
              "...                         ...                ...                  ...   \n",
              "216188                  86400.0            86400.0              86400.0   \n",
              "216189                  86400.0            86400.0              86400.0   \n",
              "216190                  86400.0            86400.0              86400.0   \n",
              "216191                  86400.0            86400.0              86400.0   \n",
              "216192                  86400.0            86400.0              86400.0   \n",
              "\n",
              "        sensorElTime-OutsideDoor  activity  \n",
              "87                  86400.000000    Toilet  \n",
              "88                  86400.000000    Toilet  \n",
              "89                  86400.000000    Toilet  \n",
              "90                  86400.000000    Toilet  \n",
              "91                  86400.000000    Toilet  \n",
              "...                          ...       ...  \n",
              "216188               5526.906841  Watch_TV  \n",
              "216189               5532.757046  Watch_TV  \n",
              "216190               5533.850318  Watch_TV  \n",
              "216191               5534.448040  Watch_TV  \n",
              "216192               5535.541672  Watch_TV  \n",
              "\n",
              "[51544 rows x 17 columns]"
            ],
            "text/html": [
              "\n",
              "  <div id=\"df-37cb2846-4eba-460b-97b8-346c73ca63e3\">\n",
              "    <div class=\"colab-df-container\">\n",
              "      <div>\n",
              "<style scoped>\n",
              "    .dataframe tbody tr th:only-of-type {\n",
              "        vertical-align: middle;\n",
              "    }\n",
              "\n",
              "    .dataframe tbody tr th {\n",
              "        vertical-align: top;\n",
              "    }\n",
              "\n",
              "    .dataframe thead th {\n",
              "        text-align: right;\n",
              "    }\n",
              "</style>\n",
              "<table border=\"1\" class=\"dataframe\">\n",
              "  <thead>\n",
              "    <tr style=\"text-align: right;\">\n",
              "      <th></th>\n",
              "      <th>lastSensorEventHours</th>\n",
              "      <th>windowDuration</th>\n",
              "      <th>prevDominantSensor1</th>\n",
              "      <th>prevDominantSensor2</th>\n",
              "      <th>lastSensorID</th>\n",
              "      <th>lastSensorLocation</th>\n",
              "      <th>lastMotionLocation</th>\n",
              "      <th>sensorCount-Bathroom</th>\n",
              "      <th>sensorCount-Bedroom</th>\n",
              "      <th>sensorCount-Ignore</th>\n",
              "      <th>sensorCount-OutsideDoor</th>\n",
              "      <th>sensorElTime-Bathroom</th>\n",
              "      <th>sensorElTime-DiningRoom</th>\n",
              "      <th>sensorElTime-Hall</th>\n",
              "      <th>sensorElTime-Ignore</th>\n",
              "      <th>sensorElTime-OutsideDoor</th>\n",
              "      <th>activity</th>\n",
              "    </tr>\n",
              "  </thead>\n",
              "  <tbody>\n",
              "    <tr>\n",
              "      <th>87</th>\n",
              "      <td>1.0</td>\n",
              "      <td>35.0</td>\n",
              "      <td>6.0</td>\n",
              "      <td>6.0</td>\n",
              "      <td>0.0</td>\n",
              "      <td>0.0</td>\n",
              "      <td>0.0</td>\n",
              "      <td>1.00</td>\n",
              "      <td>6.21</td>\n",
              "      <td>0.0</td>\n",
              "      <td>0.0</td>\n",
              "      <td>0.000000</td>\n",
              "      <td>86400.0</td>\n",
              "      <td>86400.0</td>\n",
              "      <td>86400.0</td>\n",
              "      <td>86400.000000</td>\n",
              "      <td>Toilet</td>\n",
              "    </tr>\n",
              "    <tr>\n",
              "      <th>88</th>\n",
              "      <td>1.0</td>\n",
              "      <td>38.0</td>\n",
              "      <td>6.0</td>\n",
              "      <td>6.0</td>\n",
              "      <td>0.0</td>\n",
              "      <td>0.0</td>\n",
              "      <td>0.0</td>\n",
              "      <td>2.01</td>\n",
              "      <td>6.27</td>\n",
              "      <td>0.0</td>\n",
              "      <td>0.0</td>\n",
              "      <td>0.000000</td>\n",
              "      <td>86400.0</td>\n",
              "      <td>86400.0</td>\n",
              "      <td>86400.0</td>\n",
              "      <td>86400.000000</td>\n",
              "      <td>Toilet</td>\n",
              "    </tr>\n",
              "    <tr>\n",
              "      <th>89</th>\n",
              "      <td>1.0</td>\n",
              "      <td>36.0</td>\n",
              "      <td>6.0</td>\n",
              "      <td>6.0</td>\n",
              "      <td>0.0</td>\n",
              "      <td>0.0</td>\n",
              "      <td>0.0</td>\n",
              "      <td>3.03</td>\n",
              "      <td>6.33</td>\n",
              "      <td>0.0</td>\n",
              "      <td>0.0</td>\n",
              "      <td>0.000000</td>\n",
              "      <td>86400.0</td>\n",
              "      <td>86400.0</td>\n",
              "      <td>86400.0</td>\n",
              "      <td>86400.000000</td>\n",
              "      <td>Toilet</td>\n",
              "    </tr>\n",
              "    <tr>\n",
              "      <th>90</th>\n",
              "      <td>1.0</td>\n",
              "      <td>34.0</td>\n",
              "      <td>6.0</td>\n",
              "      <td>6.0</td>\n",
              "      <td>0.0</td>\n",
              "      <td>0.0</td>\n",
              "      <td>0.0</td>\n",
              "      <td>4.06</td>\n",
              "      <td>6.39</td>\n",
              "      <td>0.0</td>\n",
              "      <td>0.0</td>\n",
              "      <td>0.000000</td>\n",
              "      <td>86400.0</td>\n",
              "      <td>86400.0</td>\n",
              "      <td>86400.0</td>\n",
              "      <td>86400.000000</td>\n",
              "      <td>Toilet</td>\n",
              "    </tr>\n",
              "    <tr>\n",
              "      <th>91</th>\n",
              "      <td>1.0</td>\n",
              "      <td>35.0</td>\n",
              "      <td>6.0</td>\n",
              "      <td>6.0</td>\n",
              "      <td>0.0</td>\n",
              "      <td>0.0</td>\n",
              "      <td>0.0</td>\n",
              "      <td>5.10</td>\n",
              "      <td>6.45</td>\n",
              "      <td>0.0</td>\n",
              "      <td>0.0</td>\n",
              "      <td>0.000000</td>\n",
              "      <td>86400.0</td>\n",
              "      <td>86400.0</td>\n",
              "      <td>86400.0</td>\n",
              "      <td>86400.000000</td>\n",
              "      <td>Toilet</td>\n",
              "    </tr>\n",
              "    <tr>\n",
              "      <th>...</th>\n",
              "      <td>...</td>\n",
              "      <td>...</td>\n",
              "      <td>...</td>\n",
              "      <td>...</td>\n",
              "      <td>...</td>\n",
              "      <td>...</td>\n",
              "      <td>...</td>\n",
              "      <td>...</td>\n",
              "      <td>...</td>\n",
              "      <td>...</td>\n",
              "      <td>...</td>\n",
              "      <td>...</td>\n",
              "      <td>...</td>\n",
              "      <td>...</td>\n",
              "      <td>...</td>\n",
              "      <td>...</td>\n",
              "      <td>...</td>\n",
              "    </tr>\n",
              "    <tr>\n",
              "      <th>216188</th>\n",
              "      <td>19.0</td>\n",
              "      <td>212.0</td>\n",
              "      <td>6.0</td>\n",
              "      <td>6.0</td>\n",
              "      <td>7.0</td>\n",
              "      <td>7.0</td>\n",
              "      <td>7.0</td>\n",
              "      <td>0.00</td>\n",
              "      <td>0.00</td>\n",
              "      <td>0.0</td>\n",
              "      <td>0.0</td>\n",
              "      <td>14325.503992</td>\n",
              "      <td>86400.0</td>\n",
              "      <td>86400.0</td>\n",
              "      <td>86400.0</td>\n",
              "      <td>5526.906841</td>\n",
              "      <td>Watch_TV</td>\n",
              "    </tr>\n",
              "    <tr>\n",
              "      <th>216189</th>\n",
              "      <td>19.0</td>\n",
              "      <td>217.0</td>\n",
              "      <td>6.0</td>\n",
              "      <td>6.0</td>\n",
              "      <td>7.0</td>\n",
              "      <td>7.0</td>\n",
              "      <td>7.0</td>\n",
              "      <td>0.00</td>\n",
              "      <td>0.00</td>\n",
              "      <td>0.0</td>\n",
              "      <td>0.0</td>\n",
              "      <td>14331.354197</td>\n",
              "      <td>86400.0</td>\n",
              "      <td>86400.0</td>\n",
              "      <td>86400.0</td>\n",
              "      <td>5532.757046</td>\n",
              "      <td>Watch_TV</td>\n",
              "    </tr>\n",
              "    <tr>\n",
              "      <th>216190</th>\n",
              "      <td>19.0</td>\n",
              "      <td>217.0</td>\n",
              "      <td>6.0</td>\n",
              "      <td>6.0</td>\n",
              "      <td>7.0</td>\n",
              "      <td>7.0</td>\n",
              "      <td>7.0</td>\n",
              "      <td>0.00</td>\n",
              "      <td>0.00</td>\n",
              "      <td>0.0</td>\n",
              "      <td>0.0</td>\n",
              "      <td>14332.447469</td>\n",
              "      <td>86400.0</td>\n",
              "      <td>86400.0</td>\n",
              "      <td>86400.0</td>\n",
              "      <td>5533.850318</td>\n",
              "      <td>Watch_TV</td>\n",
              "    </tr>\n",
              "    <tr>\n",
              "      <th>216191</th>\n",
              "      <td>19.0</td>\n",
              "      <td>216.0</td>\n",
              "      <td>6.0</td>\n",
              "      <td>6.0</td>\n",
              "      <td>7.0</td>\n",
              "      <td>7.0</td>\n",
              "      <td>7.0</td>\n",
              "      <td>0.00</td>\n",
              "      <td>0.00</td>\n",
              "      <td>0.0</td>\n",
              "      <td>0.0</td>\n",
              "      <td>14333.045191</td>\n",
              "      <td>86400.0</td>\n",
              "      <td>86400.0</td>\n",
              "      <td>86400.0</td>\n",
              "      <td>5534.448040</td>\n",
              "      <td>Watch_TV</td>\n",
              "    </tr>\n",
              "    <tr>\n",
              "      <th>216192</th>\n",
              "      <td>19.0</td>\n",
              "      <td>217.0</td>\n",
              "      <td>6.0</td>\n",
              "      <td>6.0</td>\n",
              "      <td>7.0</td>\n",
              "      <td>7.0</td>\n",
              "      <td>7.0</td>\n",
              "      <td>0.00</td>\n",
              "      <td>0.00</td>\n",
              "      <td>0.0</td>\n",
              "      <td>0.0</td>\n",
              "      <td>14334.138823</td>\n",
              "      <td>86400.0</td>\n",
              "      <td>86400.0</td>\n",
              "      <td>86400.0</td>\n",
              "      <td>5535.541672</td>\n",
              "      <td>Watch_TV</td>\n",
              "    </tr>\n",
              "  </tbody>\n",
              "</table>\n",
              "<p>51544 rows × 17 columns</p>\n",
              "</div>\n",
              "      <button class=\"colab-df-convert\" onclick=\"convertToInteractive('df-37cb2846-4eba-460b-97b8-346c73ca63e3')\"\n",
              "              title=\"Convert this dataframe to an interactive table.\"\n",
              "              style=\"display:none;\">\n",
              "        \n",
              "  <svg xmlns=\"http://www.w3.org/2000/svg\" height=\"24px\"viewBox=\"0 0 24 24\"\n",
              "       width=\"24px\">\n",
              "    <path d=\"M0 0h24v24H0V0z\" fill=\"none\"/>\n",
              "    <path d=\"M18.56 5.44l.94 2.06.94-2.06 2.06-.94-2.06-.94-.94-2.06-.94 2.06-2.06.94zm-11 1L8.5 8.5l.94-2.06 2.06-.94-2.06-.94L8.5 2.5l-.94 2.06-2.06.94zm10 10l.94 2.06.94-2.06 2.06-.94-2.06-.94-.94-2.06-.94 2.06-2.06.94z\"/><path d=\"M17.41 7.96l-1.37-1.37c-.4-.4-.92-.59-1.43-.59-.52 0-1.04.2-1.43.59L10.3 9.45l-7.72 7.72c-.78.78-.78 2.05 0 2.83L4 21.41c.39.39.9.59 1.41.59.51 0 1.02-.2 1.41-.59l7.78-7.78 2.81-2.81c.8-.78.8-2.07 0-2.86zM5.41 20L4 18.59l7.72-7.72 1.47 1.35L5.41 20z\"/>\n",
              "  </svg>\n",
              "      </button>\n",
              "      \n",
              "  <style>\n",
              "    .colab-df-container {\n",
              "      display:flex;\n",
              "      flex-wrap:wrap;\n",
              "      gap: 12px;\n",
              "    }\n",
              "\n",
              "    .colab-df-convert {\n",
              "      background-color: #E8F0FE;\n",
              "      border: none;\n",
              "      border-radius: 50%;\n",
              "      cursor: pointer;\n",
              "      display: none;\n",
              "      fill: #1967D2;\n",
              "      height: 32px;\n",
              "      padding: 0 0 0 0;\n",
              "      width: 32px;\n",
              "    }\n",
              "\n",
              "    .colab-df-convert:hover {\n",
              "      background-color: #E2EBFA;\n",
              "      box-shadow: 0px 1px 2px rgba(60, 64, 67, 0.3), 0px 1px 3px 1px rgba(60, 64, 67, 0.15);\n",
              "      fill: #174EA6;\n",
              "    }\n",
              "\n",
              "    [theme=dark] .colab-df-convert {\n",
              "      background-color: #3B4455;\n",
              "      fill: #D2E3FC;\n",
              "    }\n",
              "\n",
              "    [theme=dark] .colab-df-convert:hover {\n",
              "      background-color: #434B5C;\n",
              "      box-shadow: 0px 1px 3px 1px rgba(0, 0, 0, 0.15);\n",
              "      filter: drop-shadow(0px 1px 2px rgba(0, 0, 0, 0.3));\n",
              "      fill: #FFFFFF;\n",
              "    }\n",
              "  </style>\n",
              "\n",
              "      <script>\n",
              "        const buttonEl =\n",
              "          document.querySelector('#df-37cb2846-4eba-460b-97b8-346c73ca63e3 button.colab-df-convert');\n",
              "        buttonEl.style.display =\n",
              "          google.colab.kernel.accessAllowed ? 'block' : 'none';\n",
              "\n",
              "        async function convertToInteractive(key) {\n",
              "          const element = document.querySelector('#df-37cb2846-4eba-460b-97b8-346c73ca63e3');\n",
              "          const dataTable =\n",
              "            await google.colab.kernel.invokeFunction('convertToInteractive',\n",
              "                                                     [key], {});\n",
              "          if (!dataTable) return;\n",
              "\n",
              "          const docLinkHtml = 'Like what you see? Visit the ' +\n",
              "            '<a target=\"_blank\" href=https://colab.research.google.com/notebooks/data_table.ipynb>data table notebook</a>'\n",
              "            + ' to learn more about interactive tables.';\n",
              "          element.innerHTML = '';\n",
              "          dataTable['output_type'] = 'display_data';\n",
              "          await google.colab.output.renderOutput(dataTable, element);\n",
              "          const docLink = document.createElement('div');\n",
              "          docLink.innerHTML = docLinkHtml;\n",
              "          element.appendChild(docLink);\n",
              "        }\n",
              "      </script>\n",
              "    </div>\n",
              "  </div>\n",
              "  "
            ]
          },
          "metadata": {},
          "execution_count": 32
        }
      ]
    },
    {
      "cell_type": "code",
      "source": [
        "df1[\"activity\"].unique()"
      ],
      "metadata": {
        "colab": {
          "base_uri": "https://localhost:8080/"
        },
        "id": "JG3BjFrdbwR8",
        "outputId": "9f63e813-9402-467f-d3da-b3d71277751e"
      },
      "execution_count": null,
      "outputs": [
        {
          "output_type": "execute_result",
          "data": {
            "text/plain": [
              "array(['Sleep', 'Toilet', 'Leave_Home', 'Enter_Home', 'Cook_Dinner',\n",
              "       'Eat_Dinner', 'Watch_TV', 'Work_On_Computer'], dtype=object)"
            ]
          },
          "metadata": {},
          "execution_count": 33
        }
      ]
    },
    {
      "cell_type": "code",
      "source": [
        "df2[\"activity\"].unique()"
      ],
      "metadata": {
        "colab": {
          "base_uri": "https://localhost:8080/"
        },
        "id": "bi7UenCNbp2n",
        "outputId": "fd1c4e90-58a0-4f10-89d9-2c7a4ceade9d"
      },
      "execution_count": null,
      "outputs": [
        {
          "output_type": "execute_result",
          "data": {
            "text/plain": [
              "array(['Toilet', 'Watch_TV', 'Sleep', 'Leave_Home', 'Enter_Home',\n",
              "       'Work_On_Computer', 'Cook_Dinner', 'Eat_Dinner'], dtype=object)"
            ]
          },
          "metadata": {},
          "execution_count": 34
        }
      ]
    },
    {
      "cell_type": "code",
      "source": [
        "df3=pd.concat([df1,df2])\n",
        "df3"
      ],
      "metadata": {
        "colab": {
          "base_uri": "https://localhost:8080/",
          "height": 505
        },
        "id": "mg-JVLMjF3JC",
        "outputId": "f84c1b97-3762-4e0b-cc94-74a9ba947aaa"
      },
      "execution_count": null,
      "outputs": [
        {
          "output_type": "execute_result",
          "data": {
            "text/plain": [
              "        lastSensorEventHours  windowDuration  prevDominantSensor1  \\\n",
              "0                        0.0            63.0                  0.0   \n",
              "1                        0.0            63.0                  0.0   \n",
              "2                        0.0            53.0                  0.0   \n",
              "3                        0.0            67.0                  0.0   \n",
              "4                        0.0            65.0                  0.0   \n",
              "...                      ...             ...                  ...   \n",
              "216188                  19.0           212.0                  6.0   \n",
              "216189                  19.0           217.0                  6.0   \n",
              "216190                  19.0           217.0                  6.0   \n",
              "216191                  19.0           216.0                  6.0   \n",
              "216192                  19.0           217.0                  6.0   \n",
              "\n",
              "        prevDominantSensor2  lastSensorID  lastSensorLocation  \\\n",
              "0                       0.0           1.0                 1.0   \n",
              "1                       0.0           5.0                 5.0   \n",
              "2                       0.0           1.0                 1.0   \n",
              "3                       0.0           5.0                 5.0   \n",
              "4                       0.0           1.0                 1.0   \n",
              "...                     ...           ...                 ...   \n",
              "216188                  6.0           7.0                 7.0   \n",
              "216189                  6.0           7.0                 7.0   \n",
              "216190                  6.0           7.0                 7.0   \n",
              "216191                  6.0           7.0                 7.0   \n",
              "216192                  6.0           7.0                 7.0   \n",
              "\n",
              "        lastMotionLocation  sensorCount-Bathroom  sensorCount-Bedroom  \\\n",
              "0                      1.0                   0.0                33.34   \n",
              "1                      1.0                   0.0                32.33   \n",
              "2                      1.0                   0.0                32.31   \n",
              "3                      1.0                   0.0                31.29   \n",
              "4                      1.0                   0.0                31.26   \n",
              "...                    ...                   ...                  ...   \n",
              "216188                 7.0                   0.0                 0.00   \n",
              "216189                 7.0                   0.0                 0.00   \n",
              "216190                 7.0                   0.0                 0.00   \n",
              "216191                 7.0                   0.0                 0.00   \n",
              "216192                 7.0                   0.0                 0.00   \n",
              "\n",
              "        sensorCount-Ignore  sensorCount-OutsideDoor  sensorElTime-Bathroom  \\\n",
              "0                     1.01                      0.0           86400.000000   \n",
              "1                     2.02                      0.0           86400.000000   \n",
              "2                     2.04                      0.0           86400.000000   \n",
              "3                     3.06                      0.0           86400.000000   \n",
              "4                     3.09                      0.0           86400.000000   \n",
              "...                    ...                      ...                    ...   \n",
              "216188                0.00                      0.0           14325.503992   \n",
              "216189                0.00                      0.0           14331.354197   \n",
              "216190                0.00                      0.0           14332.447469   \n",
              "216191                0.00                      0.0           14333.045191   \n",
              "216192                0.00                      0.0           14334.138823   \n",
              "\n",
              "        sensorElTime-DiningRoom  sensorElTime-Hall  sensorElTime-Ignore  \\\n",
              "0                       86400.0            86400.0             0.756853   \n",
              "1                       86400.0            86400.0             0.000000   \n",
              "2                       86400.0            86400.0             0.023990   \n",
              "3                       86400.0            86400.0             0.000000   \n",
              "4                       86400.0            86400.0             0.026903   \n",
              "...                         ...                ...                  ...   \n",
              "216188                  86400.0            86400.0         86400.000000   \n",
              "216189                  86400.0            86400.0         86400.000000   \n",
              "216190                  86400.0            86400.0         86400.000000   \n",
              "216191                  86400.0            86400.0         86400.000000   \n",
              "216192                  86400.0            86400.0         86400.000000   \n",
              "\n",
              "        sensorElTime-OutsideDoor  activity  \n",
              "0                   86400.000000     Sleep  \n",
              "1                   86400.000000     Sleep  \n",
              "2                   86400.000000     Sleep  \n",
              "3                   86400.000000     Sleep  \n",
              "4                   86400.000000     Sleep  \n",
              "...                          ...       ...  \n",
              "216188               5526.906841  Watch_TV  \n",
              "216189               5532.757046  Watch_TV  \n",
              "216190               5533.850318  Watch_TV  \n",
              "216191               5534.448040  Watch_TV  \n",
              "216192               5535.541672  Watch_TV  \n",
              "\n",
              "[56290 rows x 17 columns]"
            ],
            "text/html": [
              "\n",
              "  <div id=\"df-61d77e98-f7cd-4e4c-86d4-84c2366a7d96\">\n",
              "    <div class=\"colab-df-container\">\n",
              "      <div>\n",
              "<style scoped>\n",
              "    .dataframe tbody tr th:only-of-type {\n",
              "        vertical-align: middle;\n",
              "    }\n",
              "\n",
              "    .dataframe tbody tr th {\n",
              "        vertical-align: top;\n",
              "    }\n",
              "\n",
              "    .dataframe thead th {\n",
              "        text-align: right;\n",
              "    }\n",
              "</style>\n",
              "<table border=\"1\" class=\"dataframe\">\n",
              "  <thead>\n",
              "    <tr style=\"text-align: right;\">\n",
              "      <th></th>\n",
              "      <th>lastSensorEventHours</th>\n",
              "      <th>windowDuration</th>\n",
              "      <th>prevDominantSensor1</th>\n",
              "      <th>prevDominantSensor2</th>\n",
              "      <th>lastSensorID</th>\n",
              "      <th>lastSensorLocation</th>\n",
              "      <th>lastMotionLocation</th>\n",
              "      <th>sensorCount-Bathroom</th>\n",
              "      <th>sensorCount-Bedroom</th>\n",
              "      <th>sensorCount-Ignore</th>\n",
              "      <th>sensorCount-OutsideDoor</th>\n",
              "      <th>sensorElTime-Bathroom</th>\n",
              "      <th>sensorElTime-DiningRoom</th>\n",
              "      <th>sensorElTime-Hall</th>\n",
              "      <th>sensorElTime-Ignore</th>\n",
              "      <th>sensorElTime-OutsideDoor</th>\n",
              "      <th>activity</th>\n",
              "    </tr>\n",
              "  </thead>\n",
              "  <tbody>\n",
              "    <tr>\n",
              "      <th>0</th>\n",
              "      <td>0.0</td>\n",
              "      <td>63.0</td>\n",
              "      <td>0.0</td>\n",
              "      <td>0.0</td>\n",
              "      <td>1.0</td>\n",
              "      <td>1.0</td>\n",
              "      <td>1.0</td>\n",
              "      <td>0.0</td>\n",
              "      <td>33.34</td>\n",
              "      <td>1.01</td>\n",
              "      <td>0.0</td>\n",
              "      <td>86400.000000</td>\n",
              "      <td>86400.0</td>\n",
              "      <td>86400.0</td>\n",
              "      <td>0.756853</td>\n",
              "      <td>86400.000000</td>\n",
              "      <td>Sleep</td>\n",
              "    </tr>\n",
              "    <tr>\n",
              "      <th>1</th>\n",
              "      <td>0.0</td>\n",
              "      <td>63.0</td>\n",
              "      <td>0.0</td>\n",
              "      <td>0.0</td>\n",
              "      <td>5.0</td>\n",
              "      <td>5.0</td>\n",
              "      <td>1.0</td>\n",
              "      <td>0.0</td>\n",
              "      <td>32.33</td>\n",
              "      <td>2.02</td>\n",
              "      <td>0.0</td>\n",
              "      <td>86400.000000</td>\n",
              "      <td>86400.0</td>\n",
              "      <td>86400.0</td>\n",
              "      <td>0.000000</td>\n",
              "      <td>86400.000000</td>\n",
              "      <td>Sleep</td>\n",
              "    </tr>\n",
              "    <tr>\n",
              "      <th>2</th>\n",
              "      <td>0.0</td>\n",
              "      <td>53.0</td>\n",
              "      <td>0.0</td>\n",
              "      <td>0.0</td>\n",
              "      <td>1.0</td>\n",
              "      <td>1.0</td>\n",
              "      <td>1.0</td>\n",
              "      <td>0.0</td>\n",
              "      <td>32.31</td>\n",
              "      <td>2.04</td>\n",
              "      <td>0.0</td>\n",
              "      <td>86400.000000</td>\n",
              "      <td>86400.0</td>\n",
              "      <td>86400.0</td>\n",
              "      <td>0.023990</td>\n",
              "      <td>86400.000000</td>\n",
              "      <td>Sleep</td>\n",
              "    </tr>\n",
              "    <tr>\n",
              "      <th>3</th>\n",
              "      <td>0.0</td>\n",
              "      <td>67.0</td>\n",
              "      <td>0.0</td>\n",
              "      <td>0.0</td>\n",
              "      <td>5.0</td>\n",
              "      <td>5.0</td>\n",
              "      <td>1.0</td>\n",
              "      <td>0.0</td>\n",
              "      <td>31.29</td>\n",
              "      <td>3.06</td>\n",
              "      <td>0.0</td>\n",
              "      <td>86400.000000</td>\n",
              "      <td>86400.0</td>\n",
              "      <td>86400.0</td>\n",
              "      <td>0.000000</td>\n",
              "      <td>86400.000000</td>\n",
              "      <td>Sleep</td>\n",
              "    </tr>\n",
              "    <tr>\n",
              "      <th>4</th>\n",
              "      <td>0.0</td>\n",
              "      <td>65.0</td>\n",
              "      <td>0.0</td>\n",
              "      <td>0.0</td>\n",
              "      <td>1.0</td>\n",
              "      <td>1.0</td>\n",
              "      <td>1.0</td>\n",
              "      <td>0.0</td>\n",
              "      <td>31.26</td>\n",
              "      <td>3.09</td>\n",
              "      <td>0.0</td>\n",
              "      <td>86400.000000</td>\n",
              "      <td>86400.0</td>\n",
              "      <td>86400.0</td>\n",
              "      <td>0.026903</td>\n",
              "      <td>86400.000000</td>\n",
              "      <td>Sleep</td>\n",
              "    </tr>\n",
              "    <tr>\n",
              "      <th>...</th>\n",
              "      <td>...</td>\n",
              "      <td>...</td>\n",
              "      <td>...</td>\n",
              "      <td>...</td>\n",
              "      <td>...</td>\n",
              "      <td>...</td>\n",
              "      <td>...</td>\n",
              "      <td>...</td>\n",
              "      <td>...</td>\n",
              "      <td>...</td>\n",
              "      <td>...</td>\n",
              "      <td>...</td>\n",
              "      <td>...</td>\n",
              "      <td>...</td>\n",
              "      <td>...</td>\n",
              "      <td>...</td>\n",
              "      <td>...</td>\n",
              "    </tr>\n",
              "    <tr>\n",
              "      <th>216188</th>\n",
              "      <td>19.0</td>\n",
              "      <td>212.0</td>\n",
              "      <td>6.0</td>\n",
              "      <td>6.0</td>\n",
              "      <td>7.0</td>\n",
              "      <td>7.0</td>\n",
              "      <td>7.0</td>\n",
              "      <td>0.0</td>\n",
              "      <td>0.00</td>\n",
              "      <td>0.00</td>\n",
              "      <td>0.0</td>\n",
              "      <td>14325.503992</td>\n",
              "      <td>86400.0</td>\n",
              "      <td>86400.0</td>\n",
              "      <td>86400.000000</td>\n",
              "      <td>5526.906841</td>\n",
              "      <td>Watch_TV</td>\n",
              "    </tr>\n",
              "    <tr>\n",
              "      <th>216189</th>\n",
              "      <td>19.0</td>\n",
              "      <td>217.0</td>\n",
              "      <td>6.0</td>\n",
              "      <td>6.0</td>\n",
              "      <td>7.0</td>\n",
              "      <td>7.0</td>\n",
              "      <td>7.0</td>\n",
              "      <td>0.0</td>\n",
              "      <td>0.00</td>\n",
              "      <td>0.00</td>\n",
              "      <td>0.0</td>\n",
              "      <td>14331.354197</td>\n",
              "      <td>86400.0</td>\n",
              "      <td>86400.0</td>\n",
              "      <td>86400.000000</td>\n",
              "      <td>5532.757046</td>\n",
              "      <td>Watch_TV</td>\n",
              "    </tr>\n",
              "    <tr>\n",
              "      <th>216190</th>\n",
              "      <td>19.0</td>\n",
              "      <td>217.0</td>\n",
              "      <td>6.0</td>\n",
              "      <td>6.0</td>\n",
              "      <td>7.0</td>\n",
              "      <td>7.0</td>\n",
              "      <td>7.0</td>\n",
              "      <td>0.0</td>\n",
              "      <td>0.00</td>\n",
              "      <td>0.00</td>\n",
              "      <td>0.0</td>\n",
              "      <td>14332.447469</td>\n",
              "      <td>86400.0</td>\n",
              "      <td>86400.0</td>\n",
              "      <td>86400.000000</td>\n",
              "      <td>5533.850318</td>\n",
              "      <td>Watch_TV</td>\n",
              "    </tr>\n",
              "    <tr>\n",
              "      <th>216191</th>\n",
              "      <td>19.0</td>\n",
              "      <td>216.0</td>\n",
              "      <td>6.0</td>\n",
              "      <td>6.0</td>\n",
              "      <td>7.0</td>\n",
              "      <td>7.0</td>\n",
              "      <td>7.0</td>\n",
              "      <td>0.0</td>\n",
              "      <td>0.00</td>\n",
              "      <td>0.00</td>\n",
              "      <td>0.0</td>\n",
              "      <td>14333.045191</td>\n",
              "      <td>86400.0</td>\n",
              "      <td>86400.0</td>\n",
              "      <td>86400.000000</td>\n",
              "      <td>5534.448040</td>\n",
              "      <td>Watch_TV</td>\n",
              "    </tr>\n",
              "    <tr>\n",
              "      <th>216192</th>\n",
              "      <td>19.0</td>\n",
              "      <td>217.0</td>\n",
              "      <td>6.0</td>\n",
              "      <td>6.0</td>\n",
              "      <td>7.0</td>\n",
              "      <td>7.0</td>\n",
              "      <td>7.0</td>\n",
              "      <td>0.0</td>\n",
              "      <td>0.00</td>\n",
              "      <td>0.00</td>\n",
              "      <td>0.0</td>\n",
              "      <td>14334.138823</td>\n",
              "      <td>86400.0</td>\n",
              "      <td>86400.0</td>\n",
              "      <td>86400.000000</td>\n",
              "      <td>5535.541672</td>\n",
              "      <td>Watch_TV</td>\n",
              "    </tr>\n",
              "  </tbody>\n",
              "</table>\n",
              "<p>56290 rows × 17 columns</p>\n",
              "</div>\n",
              "      <button class=\"colab-df-convert\" onclick=\"convertToInteractive('df-61d77e98-f7cd-4e4c-86d4-84c2366a7d96')\"\n",
              "              title=\"Convert this dataframe to an interactive table.\"\n",
              "              style=\"display:none;\">\n",
              "        \n",
              "  <svg xmlns=\"http://www.w3.org/2000/svg\" height=\"24px\"viewBox=\"0 0 24 24\"\n",
              "       width=\"24px\">\n",
              "    <path d=\"M0 0h24v24H0V0z\" fill=\"none\"/>\n",
              "    <path d=\"M18.56 5.44l.94 2.06.94-2.06 2.06-.94-2.06-.94-.94-2.06-.94 2.06-2.06.94zm-11 1L8.5 8.5l.94-2.06 2.06-.94-2.06-.94L8.5 2.5l-.94 2.06-2.06.94zm10 10l.94 2.06.94-2.06 2.06-.94-2.06-.94-.94-2.06-.94 2.06-2.06.94z\"/><path d=\"M17.41 7.96l-1.37-1.37c-.4-.4-.92-.59-1.43-.59-.52 0-1.04.2-1.43.59L10.3 9.45l-7.72 7.72c-.78.78-.78 2.05 0 2.83L4 21.41c.39.39.9.59 1.41.59.51 0 1.02-.2 1.41-.59l7.78-7.78 2.81-2.81c.8-.78.8-2.07 0-2.86zM5.41 20L4 18.59l7.72-7.72 1.47 1.35L5.41 20z\"/>\n",
              "  </svg>\n",
              "      </button>\n",
              "      \n",
              "  <style>\n",
              "    .colab-df-container {\n",
              "      display:flex;\n",
              "      flex-wrap:wrap;\n",
              "      gap: 12px;\n",
              "    }\n",
              "\n",
              "    .colab-df-convert {\n",
              "      background-color: #E8F0FE;\n",
              "      border: none;\n",
              "      border-radius: 50%;\n",
              "      cursor: pointer;\n",
              "      display: none;\n",
              "      fill: #1967D2;\n",
              "      height: 32px;\n",
              "      padding: 0 0 0 0;\n",
              "      width: 32px;\n",
              "    }\n",
              "\n",
              "    .colab-df-convert:hover {\n",
              "      background-color: #E2EBFA;\n",
              "      box-shadow: 0px 1px 2px rgba(60, 64, 67, 0.3), 0px 1px 3px 1px rgba(60, 64, 67, 0.15);\n",
              "      fill: #174EA6;\n",
              "    }\n",
              "\n",
              "    [theme=dark] .colab-df-convert {\n",
              "      background-color: #3B4455;\n",
              "      fill: #D2E3FC;\n",
              "    }\n",
              "\n",
              "    [theme=dark] .colab-df-convert:hover {\n",
              "      background-color: #434B5C;\n",
              "      box-shadow: 0px 1px 3px 1px rgba(0, 0, 0, 0.15);\n",
              "      filter: drop-shadow(0px 1px 2px rgba(0, 0, 0, 0.3));\n",
              "      fill: #FFFFFF;\n",
              "    }\n",
              "  </style>\n",
              "\n",
              "      <script>\n",
              "        const buttonEl =\n",
              "          document.querySelector('#df-61d77e98-f7cd-4e4c-86d4-84c2366a7d96 button.colab-df-convert');\n",
              "        buttonEl.style.display =\n",
              "          google.colab.kernel.accessAllowed ? 'block' : 'none';\n",
              "\n",
              "        async function convertToInteractive(key) {\n",
              "          const element = document.querySelector('#df-61d77e98-f7cd-4e4c-86d4-84c2366a7d96');\n",
              "          const dataTable =\n",
              "            await google.colab.kernel.invokeFunction('convertToInteractive',\n",
              "                                                     [key], {});\n",
              "          if (!dataTable) return;\n",
              "\n",
              "          const docLinkHtml = 'Like what you see? Visit the ' +\n",
              "            '<a target=\"_blank\" href=https://colab.research.google.com/notebooks/data_table.ipynb>data table notebook</a>'\n",
              "            + ' to learn more about interactive tables.';\n",
              "          element.innerHTML = '';\n",
              "          dataTable['output_type'] = 'display_data';\n",
              "          await google.colab.output.renderOutput(dataTable, element);\n",
              "          const docLink = document.createElement('div');\n",
              "          docLink.innerHTML = docLinkHtml;\n",
              "          element.appendChild(docLink);\n",
              "        }\n",
              "      </script>\n",
              "    </div>\n",
              "  </div>\n",
              "  "
            ]
          },
          "metadata": {},
          "execution_count": 35
        }
      ]
    },
    {
      "cell_type": "markdown",
      "source": [
        "## LSTM-RNN Model"
      ],
      "metadata": {
        "id": "eW9rEBGhPksx"
      }
    },
    {
      "cell_type": "code",
      "source": [
        "x_train.shape,x_test.shape"
      ],
      "metadata": {
        "colab": {
          "base_uri": "https://localhost:8080/"
        },
        "id": "82KqrPjDd2Y6",
        "outputId": "76f121cb-a683-44fe-c845-9e21fa3752ed"
      },
      "execution_count": null,
      "outputs": [
        {
          "output_type": "execute_result",
          "data": {
            "text/plain": [
              "((51544, 16), (4746, 16))"
            ]
          },
          "metadata": {},
          "execution_count": 36
        }
      ]
    },
    {
      "cell_type": "code",
      "source": [
        "y_train.shape,y_test.shape"
      ],
      "metadata": {
        "colab": {
          "base_uri": "https://localhost:8080/"
        },
        "id": "2zEcPszQd33m",
        "outputId": "0096a07d-2703-48f2-d45f-9e5cce576bb0"
      },
      "execution_count": null,
      "outputs": [
        {
          "output_type": "execute_result",
          "data": {
            "text/plain": [
              "((51544,), (4746,))"
            ]
          },
          "metadata": {},
          "execution_count": 37
        }
      ]
    },
    {
      "cell_type": "code",
      "source": [
        "#X=df3.drop(\"activity\",axis=1)"
      ],
      "metadata": {
        "id": "WgpyMrnCHIsC"
      },
      "execution_count": null,
      "outputs": []
    },
    {
      "cell_type": "code",
      "source": [
        "#Y=df3[\"activity\"]"
      ],
      "metadata": {
        "id": "vs4LCTCOHI1i"
      },
      "execution_count": null,
      "outputs": []
    },
    {
      "cell_type": "code",
      "source": [
        "#X_train,X_test,Y_train,Y_test=train_test_split(X,Y,test_size=0.3,random_state=100)"
      ],
      "metadata": {
        "id": "hGmrT5ZjGUPp"
      },
      "execution_count": null,
      "outputs": []
    },
    {
      "cell_type": "code",
      "source": [
        "#X_train.shape,X_test.shape"
      ],
      "metadata": {
        "colab": {
          "base_uri": "https://localhost:8080/"
        },
        "id": "Nn-gHPMfHn6a",
        "outputId": "acdb2c54-c5bc-47b5-aef0-c96c46cf2709"
      },
      "execution_count": null,
      "outputs": [
        {
          "output_type": "execute_result",
          "data": {
            "text/plain": [
              "((39403, 16), (16887, 16))"
            ]
          },
          "metadata": {},
          "execution_count": 292
        }
      ]
    },
    {
      "cell_type": "code",
      "source": [
        "#Y_train.shape,Y_test.shape"
      ],
      "metadata": {
        "colab": {
          "base_uri": "https://localhost:8080/"
        },
        "id": "FfWAxegPHoAN",
        "outputId": "ddc25e14-8137-426c-ee93-f7cd61cc6f7a"
      },
      "execution_count": null,
      "outputs": [
        {
          "output_type": "execute_result",
          "data": {
            "text/plain": [
              "((39403,), (16887,))"
            ]
          },
          "metadata": {},
          "execution_count": 293
        }
      ]
    },
    {
      "cell_type": "code",
      "source": [
        "from sklearn import preprocessing\n",
        "  \n",
        "# label_encoder object knows how to understand word labels.\n",
        "label_encoder = preprocessing.LabelEncoder()\n",
        "  \n",
        "# Encode labels in column 'species'\n",
        "Y_train= label_encoder.fit_transform(y_train)"
      ],
      "metadata": {
        "id": "jUvKwgCXIBGe"
      },
      "execution_count": null,
      "outputs": []
    },
    {
      "cell_type": "code",
      "source": [
        "from sklearn import preprocessing\n",
        "  \n",
        "# label_encoder object knows how to understand word labels.\n",
        "label_encoder = preprocessing.LabelEncoder()\n",
        "  \n",
        "# Encode labels in column 'species'\n",
        "Y_test= label_encoder.fit_transform(y_test)"
      ],
      "metadata": {
        "id": "dW_Rmkx7IBZv"
      },
      "execution_count": null,
      "outputs": []
    },
    {
      "cell_type": "code",
      "source": [
        "X_train=np.reshape(np.array(x_train),(51544,-1,16))\n",
        "X_test=np.reshape(np.array(x_test),(4746,-1,16))"
      ],
      "metadata": {
        "id": "Xa_XBqzGHoFa"
      },
      "execution_count": null,
      "outputs": []
    },
    {
      "cell_type": "code",
      "source": [
        "from keras.utils import to_categorical\n",
        "Y_train = to_categorical(Y_train)\n",
        "Y_test = to_categorical(Y_test)"
      ],
      "metadata": {
        "id": "NGaDCwQ5HoLf"
      },
      "execution_count": null,
      "outputs": []
    },
    {
      "cell_type": "code",
      "source": [
        "X_train.shape,X_test.shape"
      ],
      "metadata": {
        "colab": {
          "base_uri": "https://localhost:8080/"
        },
        "id": "tpWKZp1QHoRd",
        "outputId": "875f0fad-2734-4a50-f8ef-4d4100d6e5ab"
      },
      "execution_count": null,
      "outputs": [
        {
          "output_type": "execute_result",
          "data": {
            "text/plain": [
              "((51544, 1, 16), (4746, 1, 16))"
            ]
          },
          "metadata": {},
          "execution_count": 42
        }
      ]
    },
    {
      "cell_type": "code",
      "source": [
        "Y_train.shape,Y_test.shape"
      ],
      "metadata": {
        "colab": {
          "base_uri": "https://localhost:8080/"
        },
        "id": "u45qlnuRHoWg",
        "outputId": "ec18e208-1fba-469d-8d92-055ae8c6c7f5"
      },
      "execution_count": null,
      "outputs": [
        {
          "output_type": "execute_result",
          "data": {
            "text/plain": [
              "((51544, 8), (4746, 8))"
            ]
          },
          "metadata": {},
          "execution_count": 43
        }
      ]
    },
    {
      "cell_type": "markdown",
      "source": [
        "## Validation Data"
      ],
      "metadata": {
        "id": "LRgYVlxtuiUv"
      }
    },
    {
      "cell_type": "code",
      "source": [
        "X_train,X_val,Y_train,Y_val=train_test_split(X_train,Y_train,test_size=0.8,random_state=100)"
      ],
      "metadata": {
        "id": "Y1FhsqR_fPGk"
      },
      "execution_count": null,
      "outputs": []
    },
    {
      "cell_type": "code",
      "source": [
        "#X_test,X_val,Y_test,Y_val=train_test_split(X_test,Y_test,test_size=0.5,random_state=100)"
      ],
      "metadata": {
        "id": "cIOL2mksIj-P"
      },
      "execution_count": null,
      "outputs": []
    },
    {
      "cell_type": "code",
      "source": [
        "#X_test.shape,Y_test.shape"
      ],
      "metadata": {
        "id": "6wXY6fm5I1f6"
      },
      "execution_count": null,
      "outputs": []
    },
    {
      "cell_type": "code",
      "source": [
        "#X_val.shape,Y_val.shape"
      ],
      "metadata": {
        "id": "I4E-Om0mI1mF"
      },
      "execution_count": null,
      "outputs": []
    },
    {
      "cell_type": "markdown",
      "source": [
        "## LSTM Architecture"
      ],
      "metadata": {
        "id": "4kgm7Y1vupVE"
      }
    },
    {
      "cell_type": "code",
      "source": [
        "model = Sequential()\n",
        "model.add(LSTM(256,input_dim=16, recurrent_activation=\"sigmoid\",activation='relu'))\n",
        "model.add(Dropout(0.2))\n",
        "model.add(Dense(128,activation='relu'))\n",
        "model.add(Dropout(0.2))\n",
        "model.add(Dense(64, activation='relu'))\n",
        "model.add(Dropout(0.2))\n",
        "model.add(Dense(8, activation='softmax'))"
      ],
      "metadata": {
        "colab": {
          "base_uri": "https://localhost:8080/"
        },
        "id": "s587Tg17HocU",
        "outputId": "348ef7de-9b24-4f3a-b931-e1b1e692ed73"
      },
      "execution_count": null,
      "outputs": [
        {
          "output_type": "stream",
          "name": "stderr",
          "text": [
            "WARNING:tensorflow:Layer lstm will not use cuDNN kernels since it doesn't meet the criteria. It will use a generic GPU kernel as fallback when running on GPU.\n"
          ]
        }
      ]
    },
    {
      "cell_type": "code",
      "source": [
        "model.summary()"
      ],
      "metadata": {
        "colab": {
          "base_uri": "https://localhost:8080/"
        },
        "id": "lurf3bEjIU0a",
        "outputId": "719b037b-8b0f-4b99-9172-e7e113c8babb"
      },
      "execution_count": null,
      "outputs": [
        {
          "output_type": "stream",
          "name": "stdout",
          "text": [
            "Model: \"sequential\"\n",
            "_________________________________________________________________\n",
            " Layer (type)                Output Shape              Param #   \n",
            "=================================================================\n",
            " lstm (LSTM)                 (None, 256)               279552    \n",
            "                                                                 \n",
            " dropout (Dropout)           (None, 256)               0         \n",
            "                                                                 \n",
            " dense (Dense)               (None, 128)               32896     \n",
            "                                                                 \n",
            " dropout_1 (Dropout)         (None, 128)               0         \n",
            "                                                                 \n",
            " dense_1 (Dense)             (None, 64)                8256      \n",
            "                                                                 \n",
            " dropout_2 (Dropout)         (None, 64)                0         \n",
            "                                                                 \n",
            " dense_2 (Dense)             (None, 8)                 520       \n",
            "                                                                 \n",
            "=================================================================\n",
            "Total params: 321,224\n",
            "Trainable params: 321,224\n",
            "Non-trainable params: 0\n",
            "_________________________________________________________________\n"
          ]
        }
      ]
    },
    {
      "cell_type": "code",
      "source": [
        "model.compile(loss='categorical_crossentropy', optimizer='adam', metrics=['accuracy'])"
      ],
      "metadata": {
        "id": "89h4CS2ZIU4c"
      },
      "execution_count": null,
      "outputs": []
    },
    {
      "cell_type": "code",
      "source": [
        "model.fit(X_train,Y_train,epochs=20,validation_data=(X_test,Y_test))"
      ],
      "metadata": {
        "colab": {
          "base_uri": "https://localhost:8080/"
        },
        "id": "VTGkVGPuIU8F",
        "outputId": "bd71ba9f-4697-46f4-b815-dde986689fff"
      },
      "execution_count": null,
      "outputs": [
        {
          "output_type": "stream",
          "name": "stdout",
          "text": [
            "Epoch 1/20\n",
            "323/323 [==============================] - 9s 12ms/step - loss: 168.9851 - accuracy: 0.3946 - val_loss: 485.3291 - val_accuracy: 0.0560\n",
            "Epoch 2/20\n",
            "323/323 [==============================] - 2s 7ms/step - loss: 2.8536 - accuracy: 0.5245 - val_loss: 420.4791 - val_accuracy: 0.0662\n",
            "Epoch 3/20\n",
            "323/323 [==============================] - 2s 7ms/step - loss: 2.0362 - accuracy: 0.5336 - val_loss: 389.8324 - val_accuracy: 0.0611\n",
            "Epoch 4/20\n",
            "323/323 [==============================] - 2s 7ms/step - loss: 1.8358 - accuracy: 0.5374 - val_loss: 350.6392 - val_accuracy: 0.0539\n",
            "Epoch 5/20\n",
            "323/323 [==============================] - 3s 8ms/step - loss: 1.6379 - accuracy: 0.5396 - val_loss: 327.3179 - val_accuracy: 0.0381\n",
            "Epoch 6/20\n",
            "323/323 [==============================] - 2s 7ms/step - loss: 1.5715 - accuracy: 0.5406 - val_loss: 327.3675 - val_accuracy: 0.0394\n",
            "Epoch 7/20\n",
            "323/323 [==============================] - 2s 7ms/step - loss: 1.5718 - accuracy: 0.5403 - val_loss: 310.4133 - val_accuracy: 0.0379\n",
            "Epoch 8/20\n",
            "323/323 [==============================] - 2s 7ms/step - loss: 1.5335 - accuracy: 0.5408 - val_loss: 297.1185 - val_accuracy: 0.0411\n",
            "Epoch 9/20\n",
            "323/323 [==============================] - 3s 8ms/step - loss: 1.5581 - accuracy: 0.5409 - val_loss: 301.6428 - val_accuracy: 0.0354\n",
            "Epoch 10/20\n",
            "323/323 [==============================] - 3s 8ms/step - loss: 1.5392 - accuracy: 0.5407 - val_loss: 303.2173 - val_accuracy: 0.0358\n",
            "Epoch 11/20\n",
            "323/323 [==============================] - 4s 12ms/step - loss: 1.5176 - accuracy: 0.5408 - val_loss: 279.1963 - val_accuracy: 0.0350\n",
            "Epoch 12/20\n",
            "323/323 [==============================] - 3s 8ms/step - loss: 1.5156 - accuracy: 0.5412 - val_loss: 284.5720 - val_accuracy: 0.0352\n",
            "Epoch 13/20\n",
            "323/323 [==============================] - 2s 7ms/step - loss: 1.5025 - accuracy: 0.5414 - val_loss: 282.9955 - val_accuracy: 0.0377\n",
            "Epoch 14/20\n",
            "323/323 [==============================] - 2s 7ms/step - loss: 1.5163 - accuracy: 0.5413 - val_loss: 277.4336 - val_accuracy: 0.0375\n",
            "Epoch 15/20\n",
            "323/323 [==============================] - 2s 7ms/step - loss: 1.5154 - accuracy: 0.5412 - val_loss: 258.8858 - val_accuracy: 0.0371\n",
            "Epoch 16/20\n",
            "323/323 [==============================] - 3s 8ms/step - loss: 1.5101 - accuracy: 0.5409 - val_loss: 270.1225 - val_accuracy: 0.0297\n",
            "Epoch 17/20\n",
            "323/323 [==============================] - 2s 7ms/step - loss: 1.5009 - accuracy: 0.5414 - val_loss: 259.3759 - val_accuracy: 0.0301\n",
            "Epoch 18/20\n",
            "323/323 [==============================] - 2s 8ms/step - loss: 1.5160 - accuracy: 0.5415 - val_loss: 210.3381 - val_accuracy: 0.0299\n",
            "Epoch 19/20\n",
            "323/323 [==============================] - 2s 7ms/step - loss: 1.5113 - accuracy: 0.5415 - val_loss: 199.5766 - val_accuracy: 0.0358\n",
            "Epoch 20/20\n",
            "323/323 [==============================] - 2s 8ms/step - loss: 1.5074 - accuracy: 0.5415 - val_loss: 126.1794 - val_accuracy: 0.0356\n"
          ]
        },
        {
          "output_type": "execute_result",
          "data": {
            "text/plain": [
              "<keras.callbacks.History at 0x7fd130f6af10>"
            ]
          },
          "metadata": {},
          "execution_count": 48
        }
      ]
    },
    {
      "cell_type": "code",
      "source": [
        "validation_loss,lstm_accuracy = model.evaluate(X_test, Y_test, batch_size=32, verbose=0)"
      ],
      "metadata": {
        "id": "JjXpSAzsIVAO"
      },
      "execution_count": null,
      "outputs": []
    },
    {
      "cell_type": "code",
      "source": [
        "lstm_accuracy=lstm_accuracy*100"
      ],
      "metadata": {
        "id": "_lmM74oEkj3a"
      },
      "execution_count": null,
      "outputs": []
    },
    {
      "cell_type": "code",
      "source": [
        "print(\"The accuracy for LSTM model is\",round(lstm_accuracy,2),\"%\")"
      ],
      "metadata": {
        "colab": {
          "base_uri": "https://localhost:8080/"
        },
        "id": "xtOCb-QkIVEi",
        "outputId": "9ec5ccd0-6c2b-44ea-832a-a58b10be6c66"
      },
      "execution_count": null,
      "outputs": [
        {
          "output_type": "stream",
          "name": "stdout",
          "text": [
            "The accuracy for LSTM model is 3.56 %\n"
          ]
        }
      ]
    },
    {
      "cell_type": "markdown",
      "source": [
        "## Gaussian Naive Bayes"
      ],
      "metadata": {
        "id": "H0HapDR5u8UA"
      }
    },
    {
      "cell_type": "code",
      "source": [
        "from sklearn.naive_bayes import GaussianNB\n",
        "gnb = GaussianNB()\n",
        "gnb.fit(x_train, y_train)\n",
        "gnb_pred = gnb.predict(x_test)"
      ],
      "metadata": {
        "id": "Q-94KI58IVOz"
      },
      "execution_count": null,
      "outputs": []
    },
    {
      "cell_type": "code",
      "source": [
        "fig, ax = plt.subplots(figsize=(20, 12))\n",
        "plt.xticks(rotation=180)\n",
        "plot_confusion_matrix(gnb,x_test,y_test,ax=ax)"
      ],
      "metadata": {
        "colab": {
          "base_uri": "https://localhost:8080/",
          "height": 787
        },
        "id": "laeXCUdinmLU",
        "outputId": "eb50cf96-7c31-4f95-96f1-34ee0834b5b9"
      },
      "execution_count": null,
      "outputs": [
        {
          "output_type": "stream",
          "name": "stderr",
          "text": [
            "/usr/local/lib/python3.8/dist-packages/sklearn/utils/deprecation.py:87: FutureWarning: Function plot_confusion_matrix is deprecated; Function `plot_confusion_matrix` is deprecated in 1.0 and will be removed in 1.2. Use one of the class methods: ConfusionMatrixDisplay.from_predictions or ConfusionMatrixDisplay.from_estimator.\n",
            "  warnings.warn(msg, category=FutureWarning)\n"
          ]
        },
        {
          "output_type": "execute_result",
          "data": {
            "text/plain": [
              "<sklearn.metrics._plot.confusion_matrix.ConfusionMatrixDisplay at 0x7fd130e57880>"
            ]
          },
          "metadata": {},
          "execution_count": 53
        },
        {
          "output_type": "display_data",
          "data": {
            "text/plain": [
              "<Figure size 1440x864 with 2 Axes>"
            ],
            "image/png": "[encoded data removed]"
          },
          "metadata": {
            "needs_background": "light"
          }
        }
      ]
    },
    {
      "cell_type": "code",
      "source": [
        "print(classification_report(y_test,gnb_pred))"
      ],
      "metadata": {
        "colab": {
          "base_uri": "https://localhost:8080/"
        },
        "id": "jiIZ9OXEnmPp",
        "outputId": "a391f19f-4627-4e79-dcdc-8759c1bbfc49"
      },
      "execution_count": null,
      "outputs": [
        {
          "output_type": "stream",
          "name": "stdout",
          "text": [
            "                  precision    recall  f1-score   support\n",
            "\n",
            "     Cook_Dinner       0.73      0.73      0.73       185\n",
            "      Eat_Dinner       0.27      0.30      0.28       125\n",
            "      Enter_Home       0.44      0.94      0.59       483\n",
            "      Leave_Home       0.11      0.12      0.11       652\n",
            "           Sleep       0.97      0.99      0.98      1855\n",
            "          Toilet       0.99      0.74      0.85       856\n",
            "        Watch_TV       0.85      0.28      0.42       283\n",
            "Work_On_Computer       1.00      0.08      0.15       307\n",
            "\n",
            "        accuracy                           0.69      4746\n",
            "       macro avg       0.67      0.52      0.51      4746\n",
            "    weighted avg       0.77      0.69      0.68      4746\n",
            "\n"
          ]
        }
      ]
    },
    {
      "cell_type": "code",
      "source": [
        "gnb_accuracy=accuracy_score(y_test, gnb_pred)\n",
        "gnb_accuracy=gnb_accuracy*100\n",
        "print(\"The accuracy for Gaussian Naive Bayes model is\",round(gnb_accuracy,2),\"%\")"
      ],
      "metadata": {
        "colab": {
          "base_uri": "https://localhost:8080/"
        },
        "id": "I9ZizmUVnmT2",
        "outputId": "b81f9d01-b38f-45e5-b568-d361b858c7ad"
      },
      "execution_count": null,
      "outputs": [
        {
          "output_type": "stream",
          "name": "stdout",
          "text": [
            "The accuracy for Gaussian Naive Bayes model is 69.15 %\n"
          ]
        }
      ]
    },
    {
      "cell_type": "markdown",
      "source": [
        "## Multinomial Naive Bayes"
      ],
      "metadata": {
        "id": "LdGBYyTGvG6o"
      }
    },
    {
      "cell_type": "code",
      "source": [
        "MNB = MultinomialNB()\n",
        "MNB.fit(x_train, y_train)\n",
        "MNB_pred = MNB.predict(x_test)"
      ],
      "metadata": {
        "id": "NxLx3uAeIVS0"
      },
      "execution_count": null,
      "outputs": []
    },
    {
      "cell_type": "code",
      "source": [
        "fig, ax = plt.subplots(figsize=(20, 12))\n",
        "plt.xticks(rotation=180)\n",
        "plot_confusion_matrix(MNB,x_test,y_test,ax=ax)"
      ],
      "metadata": {
        "id": "PN7pk-WFHohs",
        "colab": {
          "base_uri": "https://localhost:8080/",
          "height": 787
        },
        "outputId": "722fb7b7-392a-4f9e-b8ef-d9528d05f45d"
      },
      "execution_count": null,
      "outputs": [
        {
          "output_type": "stream",
          "name": "stderr",
          "text": [
            "/usr/local/lib/python3.8/dist-packages/sklearn/utils/deprecation.py:87: FutureWarning: Function plot_confusion_matrix is deprecated; Function `plot_confusion_matrix` is deprecated in 1.0 and will be removed in 1.2. Use one of the class methods: ConfusionMatrixDisplay.from_predictions or ConfusionMatrixDisplay.from_estimator.\n",
            "  warnings.warn(msg, category=FutureWarning)\n"
          ]
        },
        {
          "output_type": "execute_result",
          "data": {
            "text/plain": [
              "<sklearn.metrics._plot.confusion_matrix.ConfusionMatrixDisplay at 0x7fd13dc599d0>"
            ]
          },
          "metadata": {},
          "execution_count": 57
        },
        {
          "output_type": "display_data",
          "data": {
            "text/plain": [
              "<Figure size 1440x864 with 2 Axes>"
            ],
            "image/png": "[encoded data removed]"
          },
          "metadata": {
            "needs_background": "light"
          }
        }
      ]
    },
    {
      "cell_type": "code",
      "source": [
        "print(classification_report(y_test, MNB_pred))"
      ],
      "metadata": {
        "id": "aHiFc9kCIVXH",
        "colab": {
          "base_uri": "https://localhost:8080/"
        },
        "outputId": "f82aea0a-190e-4019-99bb-ac62f0fcf28f"
      },
      "execution_count": null,
      "outputs": [
        {
          "output_type": "stream",
          "name": "stdout",
          "text": [
            "                  precision    recall  f1-score   support\n",
            "\n",
            "     Cook_Dinner       0.00      0.00      0.00       185\n",
            "      Eat_Dinner       0.00      0.00      0.00       125\n",
            "      Enter_Home       0.13      0.06      0.09       483\n",
            "      Leave_Home       0.41      0.11      0.18       652\n",
            "           Sleep       0.56      1.00      0.72      1855\n",
            "          Toilet       1.00      0.18      0.30       856\n",
            "        Watch_TV       0.00      0.00      0.00       283\n",
            "Work_On_Computer       0.23      0.01      0.02       307\n",
            "\n",
            "        accuracy                           0.45      4746\n",
            "       macro avg       0.29      0.17      0.16      4746\n",
            "    weighted avg       0.48      0.45      0.37      4746\n",
            "\n"
          ]
        }
      ]
    },
    {
      "cell_type": "code",
      "source": [
        "MNB_accuracy=accuracy_score(y_test, MNB_pred)\n",
        "MNB_accuracy=MNB_accuracy*100\n",
        "print(\"The accuracy for Multinomial Naive Bayes model is\",round(MNB_accuracy,2),\"%\")"
      ],
      "metadata": {
        "colab": {
          "base_uri": "https://localhost:8080/"
        },
        "id": "Y-veBu1hnDuZ",
        "outputId": "be11ab24-f9b7-4fb2-bb9d-1669454bdb51"
      },
      "execution_count": null,
      "outputs": [
        {
          "output_type": "stream",
          "name": "stdout",
          "text": [
            "The accuracy for Multinomial Naive Bayes model is 44.52 %\n"
          ]
        }
      ]
    },
    {
      "cell_type": "markdown",
      "source": [
        "## X Gradient Boost"
      ],
      "metadata": {
        "id": "iRMZj0JCvRbm"
      }
    },
    {
      "cell_type": "code",
      "source": [
        "xgb = xgb.XGBClassifier(\n",
        " learning_rate =0.1,\n",
        " n_estimators=1000,\n",
        " max_depth=5,\n",
        " min_child_weight=1,\n",
        " gamma=0,\n",
        " subsample=0.8,\n",
        " colsample_bytree=0.8,\n",
        " objective= 'multi:softmax',\n",
        " nthread=4,\n",
        " scale_pos_weight=1,\n",
        " seed= 4353)"
      ],
      "metadata": {
        "id": "uWbKL2uSnDyG"
      },
      "execution_count": null,
      "outputs": []
    },
    {
      "cell_type": "code",
      "source": [
        "xgb.fit(x_train, y_train)\n",
        "XGB_pred= xgb.predict(x_test)"
      ],
      "metadata": {
        "id": "-6HXG09MpbGe"
      },
      "execution_count": null,
      "outputs": []
    },
    {
      "cell_type": "code",
      "source": [
        "fig, ax = plt.subplots(figsize=(20, 12))\n",
        "plt.xticks(rotation=180)\n",
        "plot_confusion_matrix(xgb,x_test,y_test,ax=ax)"
      ],
      "metadata": {
        "colab": {
          "base_uri": "https://localhost:8080/",
          "height": 787
        },
        "id": "2Cbo32DmpbKf",
        "outputId": "2044d15a-093e-4aa0-d2c8-ba1eafb4c9cf"
      },
      "execution_count": null,
      "outputs": [
        {
          "output_type": "stream",
          "name": "stderr",
          "text": [
            "/usr/local/lib/python3.8/dist-packages/sklearn/utils/deprecation.py:87: FutureWarning: Function plot_confusion_matrix is deprecated; Function `plot_confusion_matrix` is deprecated in 1.0 and will be removed in 1.2. Use one of the class methods: ConfusionMatrixDisplay.from_predictions or ConfusionMatrixDisplay.from_estimator.\n",
            "  warnings.warn(msg, category=FutureWarning)\n"
          ]
        },
        {
          "output_type": "execute_result",
          "data": {
            "text/plain": [
              "<sklearn.metrics._plot.confusion_matrix.ConfusionMatrixDisplay at 0x7fd140a1ed00>"
            ]
          },
          "metadata": {},
          "execution_count": 62
        },
        {
          "output_type": "display_data",
          "data": {
            "text/plain": [
              "<Figure size 1440x864 with 2 Axes>"
            ],
            "image/png": "[encoded data removed]"
          },
          "metadata": {
            "needs_background": "light"
          }
        }
      ]
    },
    {
      "cell_type": "code",
      "source": [
        "print(classification_report(y_test, XGB_pred))"
      ],
      "metadata": {
        "colab": {
          "base_uri": "https://localhost:8080/"
        },
        "id": "iI1LUnXQpbPE",
        "outputId": "3a98582f-089c-4a06-edb1-06cf6a3ef189"
      },
      "execution_count": null,
      "outputs": [
        {
          "output_type": "stream",
          "name": "stdout",
          "text": [
            "                  precision    recall  f1-score   support\n",
            "\n",
            "     Cook_Dinner       0.25      1.00      0.41       185\n",
            "      Eat_Dinner       1.00      0.06      0.12       125\n",
            "      Enter_Home       0.51      0.40      0.45       483\n",
            "      Leave_Home       0.61      0.45      0.52       652\n",
            "           Sleep       0.95      0.98      0.97      1855\n",
            "          Toilet       1.00      0.87      0.93       856\n",
            "        Watch_TV       0.42      0.62      0.50       283\n",
            "Work_On_Computer       0.59      0.13      0.21       307\n",
            "\n",
            "        accuracy                           0.73      4746\n",
            "       macro avg       0.67      0.56      0.51      4746\n",
            "    weighted avg       0.79      0.73      0.72      4746\n",
            "\n"
          ]
        }
      ]
    },
    {
      "cell_type": "code",
      "source": [
        "XGB_accuracy=accuracy_score(y_test, XGB_pred)\n",
        "XGB_accuracy=XGB_accuracy*100\n",
        "print(\"The accuracy for X-Gradient Boost model is\",round(XGB_accuracy,2),\"%\")"
      ],
      "metadata": {
        "colab": {
          "base_uri": "https://localhost:8080/"
        },
        "id": "WHg5U625pbTt",
        "outputId": "eebbba9d-258f-48f7-e139-177d8aa25e11"
      },
      "execution_count": null,
      "outputs": [
        {
          "output_type": "stream",
          "name": "stdout",
          "text": [
            "The accuracy for X-Gradient Boost model is 72.9 %\n"
          ]
        }
      ]
    },
    {
      "cell_type": "markdown",
      "source": [
        "## Plotting All Accuracies"
      ],
      "metadata": {
        "id": "TmWbUU8cvZDi"
      }
    },
    {
      "cell_type": "code",
      "source": [
        "model = ['Random Forest','KNN','LSTM','GaussianNaiveBayes','MultinomialNaiveBayes','X-GradientBoost']\n",
        "#acc = [rfc_accuracy, knn_accuracy,lstm_accuracy,gnb_accuracy,MNB_accuracy,XGB_accuracy]\n",
        "acc=[74.72,50.82,3.56,69.15,44.52,72.9]\n",
        "t=['Random Forest:74.72%','KNN:50.82%','LSTM:3.56%','GaussianNaiveBayes:69.15%','MultinomialNaiveBayes:44.52%','X-GradientBoost:72.9%']"
      ],
      "metadata": {
        "id": "I9IlqwB7pbcE"
      },
      "execution_count": null,
      "outputs": []
    },
    {
      "cell_type": "code",
      "source": [
        "import plotly.graph_objects as go\n",
        "\n",
        "fig = go.Figure()\n",
        "\n",
        "fig.add_trace(go.Scatter(\n",
        "    x=model,\n",
        "    y=acc,\n",
        "    mode=\"lines+markers+text\",\n",
        "    name=\"Lines, Markers and Text\",\n",
        "    text=t,\n",
        "    textposition=\"bottom center\",\n",
        "    textfont=dict(\n",
        "        family=\"sans serif\",\n",
        "        size=12,\n",
        "        color=\"crimson\"\n",
        "    )\n",
        "))\n",
        "fig.update_layout(showlegend=False)\n",
        "\n",
        "fig.show()"
      ],
      "metadata": {
        "id": "wlRGTHX3pbXf",
        "colab": {
          "base_uri": "https://localhost:8080/",
          "height": 542
        },
        "outputId": "5feb67fb-f8c8-45e3-a585-fcab17cfc5db"
      },
      "execution_count": null,
      "outputs": [
        {
          "output_type": "display_data",
          "data": {
            "text/html": [
              "<html>\n",
              "<head><meta charset=\"utf-8\" /></head>\n",
              "<body>\n",
              "    <div>            <script src=\"https://cdnjs.cloudflare.com/ajax/libs/mathjax/2.7.5/MathJax.js?config=TeX-AMS-MML_SVG\"></script><script type=\"text/javascript\">if (window.MathJax) {MathJax.Hub.Config({SVG: {font: \"STIX-Web\"}});}</script>                <script type=\"text/javascript\">window.PlotlyConfig = {MathJaxConfig: 'local'};</script>\n",
              "        <script src=\"https://cdn.plot.ly/plotly-2.8.3.min.js\"></script>                <div id=\"80b73623-1930-4a2d-858b-57993814958f\" class=\"plotly-graph-div\" style=\"height:525px; width:100%;\"></div>            <script type=\"text/javascript\">                                    window.PLOTLYENV=window.PLOTLYENV || {};                                    if (document.getElementById(\"80b73623-1930-4a2d-858b-57993814958f\")) {                    Plotly.newPlot(                        \"80b73623-1930-4a2d-858b-57993814958f\",                        [{\"mode\":\"lines+markers+text\",\"name\":\"Lines, Markers and Text\",\"text\":[\"Random Forest:74.72%\",\"KNN:50.82%\",\"LSTM:3.56%\",\"GaussianNaiveBayes:69.15%\",\"MultinomialNaiveBayes:44.52%\",\"X-GradientBoost:72.9%\"],\"textfont\":{\"color\":\"crimson\",\"family\":\"sans serif\",\"size\":12},\"textposition\":\"bottom center\",\"x\":[\"Random Forest\",\"KNN\",\"LSTM\",\"GaussianNaiveBayes\",\"MultinomialNaiveBayes\",\"X-GradientBoost\"],\"y\":[74.72,50.82,3.56,69.15,44.52,72.9],\"type\":\"scatter\"}],                        {\"template\":{\"data\":{\"bar\":[{\"error_x\":{\"color\":\"#2a3f5f\"},\"error_y\":{\"color\":\"#2a3f5f\"},\"marker\":{\"line\":{\"color\":\"#E5ECF6\",\"width\":0.5},\"pattern\":{\"fillmode\":\"overlay\",\"size\":10,\"solidity\":0.2}},\"type\":\"bar\"}],\"barpolar\":[{\"marker\":{\"line\":{\"color\":\"#E5ECF6\",\"width\":0.5},\"pattern\":{\"fillmode\":\"overlay\",\"size\":10,\"solidity\":0.2}},\"type\":\"barpolar\"}],\"carpet\":[{\"aaxis\":{\"endlinecolor\":\"#2a3f5f\",\"gridcolor\":\"white\",\"linecolor\":\"white\",\"minorgridcolor\":\"white\",\"startlinecolor\":\"#2a3f5f\"},\"baxis\":{\"endlinecolor\":\"#2a3f5f\",\"gridcolor\":\"white\",\"linecolor\":\"white\",\"minorgridcolor\":\"white\",\"startlinecolor\":\"#2a3f5f\"},\"type\":\"carpet\"}],\"choropleth\":[{\"colorbar\":{\"outlinewidth\":0,\"ticks\":\"\"},\"type\":\"choropleth\"}],\"contour\":[{\"colorbar\":{\"outlinewidth\":0,\"ticks\":\"\"},\"colorscale\":[[0.0,\"#0d0887\"],[0.1111111111111111,\"#46039f\"],[0.2222222222222222,\"#7201a8\"],[0.3333333333333333,\"#9c179e\"],[0.4444444444444444,\"#bd3786\"],[0.5555555555555556,\"#d8576b\"],[0.6666666666666666,\"#ed7953\"],[0.7777777777777778,\"#fb9f3a\"],[0.8888888888888888,\"#fdca26\"],[1.0,\"#f0f921\"]],\"type\":\"contour\"}],\"contourcarpet\":[{\"colorbar\":{\"outlinewidth\":0,\"ticks\":\"\"},\"type\":\"contourcarpet\"}],\"heatmap\":[{\"colorbar\":{\"outlinewidth\":0,\"ticks\":\"\"},\"colorscale\":[[0.0,\"#0d0887\"],[0.1111111111111111,\"#46039f\"],[0.2222222222222222,\"#7201a8\"],[0.3333333333333333,\"#9c179e\"],[0.4444444444444444,\"#bd3786\"],[0.5555555555555556,\"#d8576b\"],[0.6666666666666666,\"#ed7953\"],[0.7777777777777778,\"#fb9f3a\"],[0.8888888888888888,\"#fdca26\"],[1.0,\"#f0f921\"]],\"type\":\"heatmap\"}],\"heatmapgl\":[{\"colorbar\":{\"outlinewidth\":0,\"ticks\":\"\"},\"colorscale\":[[0.0,\"#0d0887\"],[0.1111111111111111,\"#46039f\"],[0.2222222222222222,\"#7201a8\"],[0.3333333333333333,\"#9c179e\"],[0.4444444444444444,\"#bd3786\"],[0.5555555555555556,\"#d8576b\"],[0.6666666666666666,\"#ed7953\"],[0.7777777777777778,\"#fb9f3a\"],[0.8888888888888888,\"#fdca26\"],[1.0,\"#f0f921\"]],\"type\":\"heatmapgl\"}],\"histogram\":[{\"marker\":{\"pattern\":{\"fillmode\":\"overlay\",\"size\":10,\"solidity\":0.2}},\"type\":\"histogram\"}],\"histogram2d\":[{\"colorbar\":{\"outlinewidth\":0,\"ticks\":\"\"},\"colorscale\":[[0.0,\"#0d0887\"],[0.1111111111111111,\"#46039f\"],[0.2222222222222222,\"#7201a8\"],[0.3333333333333333,\"#9c179e\"],[0.4444444444444444,\"#bd3786\"],[0.5555555555555556,\"#d8576b\"],[0.6666666666666666,\"#ed7953\"],[0.7777777777777778,\"#fb9f3a\"],[0.8888888888888888,\"#fdca26\"],[1.0,\"#f0f921\"]],\"type\":\"histogram2d\"}],\"histogram2dcontour\":[{\"colorbar\":{\"outlinewidth\":0,\"ticks\":\"\"},\"colorscale\":[[0.0,\"#0d0887\"],[0.1111111111111111,\"#46039f\"],[0.2222222222222222,\"#7201a8\"],[0.3333333333333333,\"#9c179e\"],[0.4444444444444444,\"#bd3786\"],[0.5555555555555556,\"#d8576b\"],[0.6666666666666666,\"#ed7953\"],[0.7777777777777778,\"#fb9f3a\"],[0.8888888888888888,\"#fdca26\"],[1.0,\"#f0f921\"]],\"type\":\"histogram2dcontour\"}],\"mesh3d\":[{\"colorbar\":{\"outlinewidth\":0,\"ticks\":\"\"},\"type\":\"mesh3d\"}],\"parcoords\":[{\"line\":{\"colorbar\":{\"outlinewidth\":0,\"ticks\":\"\"}},\"type\":\"parcoords\"}],\"pie\":[{\"automargin\":true,\"type\":\"pie\"}],\"scatter\":[{\"marker\":{\"colorbar\":{\"outlinewidth\":0,\"ticks\":\"\"}},\"type\":\"scatter\"}],\"scatter3d\":[{\"line\":{\"colorbar\":{\"outlinewidth\":0,\"ticks\":\"\"}},\"marker\":{\"colorbar\":{\"outlinewidth\":0,\"ticks\":\"\"}},\"type\":\"scatter3d\"}],\"scattercarpet\":[{\"marker\":{\"colorbar\":{\"outlinewidth\":0,\"ticks\":\"\"}},\"type\":\"scattercarpet\"}],\"scattergeo\":[{\"marker\":{\"colorbar\":{\"outlinewidth\":0,\"ticks\":\"\"}},\"type\":\"scattergeo\"}],\"scattergl\":[{\"marker\":{\"colorbar\":{\"outlinewidth\":0,\"ticks\":\"\"}},\"type\":\"scattergl\"}],\"scattermapbox\":[{\"marker\":{\"colorbar\":{\"outlinewidth\":0,\"ticks\":\"\"}},\"type\":\"scattermapbox\"}],\"scatterpolar\":[{\"marker\":{\"colorbar\":{\"outlinewidth\":0,\"ticks\":\"\"}},\"type\":\"scatterpolar\"}],\"scatterpolargl\":[{\"marker\":{\"colorbar\":{\"outlinewidth\":0,\"ticks\":\"\"}},\"type\":\"scatterpolargl\"}],\"scatterternary\":[{\"marker\":{\"colorbar\":{\"outlinewidth\":0,\"ticks\":\"\"}},\"type\":\"scatterternary\"}],\"surface\":[{\"colorbar\":{\"outlinewidth\":0,\"ticks\":\"\"},\"colorscale\":[[0.0,\"#0d0887\"],[0.1111111111111111,\"#46039f\"],[0.2222222222222222,\"#7201a8\"],[0.3333333333333333,\"#9c179e\"],[0.4444444444444444,\"#bd3786\"],[0.5555555555555556,\"#d8576b\"],[0.6666666666666666,\"#ed7953\"],[0.7777777777777778,\"#fb9f3a\"],[0.8888888888888888,\"#fdca26\"],[1.0,\"#f0f921\"]],\"type\":\"surface\"}],\"table\":[{\"cells\":{\"fill\":{\"color\":\"#EBF0F8\"},\"line\":{\"color\":\"white\"}},\"header\":{\"fill\":{\"color\":\"#C8D4E3\"},\"line\":{\"color\":\"white\"}},\"type\":\"table\"}]},\"layout\":{\"annotationdefaults\":{\"arrowcolor\":\"#2a3f5f\",\"arrowhead\":0,\"arrowwidth\":1},\"autotypenumbers\":\"strict\",\"coloraxis\":{\"colorbar\":{\"outlinewidth\":0,\"ticks\":\"\"}},\"colorscale\":{\"diverging\":[[0,\"#8e0152\"],[0.1,\"#c51b7d\"],[0.2,\"#de77ae\"],[0.3,\"#f1b6da\"],[0.4,\"#fde0ef\"],[0.5,\"#f7f7f7\"],[0.6,\"#e6f5d0\"],[0.7,\"#b8e186\"],[0.8,\"#7fbc41\"],[0.9,\"#4d9221\"],[1,\"#276419\"]],\"sequential\":[[0.0,\"#0d0887\"],[0.1111111111111111,\"#46039f\"],[0.2222222222222222,\"#7201a8\"],[0.3333333333333333,\"#9c179e\"],[0.4444444444444444,\"#bd3786\"],[0.5555555555555556,\"#d8576b\"],[0.6666666666666666,\"#ed7953\"],[0.7777777777777778,\"#fb9f3a\"],[0.8888888888888888,\"#fdca26\"],[1.0,\"#f0f921\"]],\"sequentialminus\":[[0.0,\"#0d0887\"],[0.1111111111111111,\"#46039f\"],[0.2222222222222222,\"#7201a8\"],[0.3333333333333333,\"#9c179e\"],[0.4444444444444444,\"#bd3786\"],[0.5555555555555556,\"#d8576b\"],[0.6666666666666666,\"#ed7953\"],[0.7777777777777778,\"#fb9f3a\"],[0.8888888888888888,\"#fdca26\"],[1.0,\"#f0f921\"]]},\"colorway\":[\"#636efa\",\"#EF553B\",\"#00cc96\",\"#ab63fa\",\"#FFA15A\",\"#19d3f3\",\"#FF6692\",\"#B6E880\",\"#FF97FF\",\"#FECB52\"],\"font\":{\"color\":\"#2a3f5f\"},\"geo\":{\"bgcolor\":\"white\",\"lakecolor\":\"white\",\"landcolor\":\"#E5ECF6\",\"showlakes\":true,\"showland\":true,\"subunitcolor\":\"white\"},\"hoverlabel\":{\"align\":\"left\"},\"hovermode\":\"closest\",\"mapbox\":{\"style\":\"light\"},\"paper_bgcolor\":\"white\",\"plot_bgcolor\":\"#E5ECF6\",\"polar\":{\"angularaxis\":{\"gridcolor\":\"white\",\"linecolor\":\"white\",\"ticks\":\"\"},\"bgcolor\":\"#E5ECF6\",\"radialaxis\":{\"gridcolor\":\"white\",\"linecolor\":\"white\",\"ticks\":\"\"}},\"scene\":{\"xaxis\":{\"backgroundcolor\":\"#E5ECF6\",\"gridcolor\":\"white\",\"gridwidth\":2,\"linecolor\":\"white\",\"showbackground\":true,\"ticks\":\"\",\"zerolinecolor\":\"white\"},\"yaxis\":{\"backgroundcolor\":\"#E5ECF6\",\"gridcolor\":\"white\",\"gridwidth\":2,\"linecolor\":\"white\",\"showbackground\":true,\"ticks\":\"\",\"zerolinecolor\":\"white\"},\"zaxis\":{\"backgroundcolor\":\"#E5ECF6\",\"gridcolor\":\"white\",\"gridwidth\":2,\"linecolor\":\"white\",\"showbackground\":true,\"ticks\":\"\",\"zerolinecolor\":\"white\"}},\"shapedefaults\":{\"line\":{\"color\":\"#2a3f5f\"}},\"ternary\":{\"aaxis\":{\"gridcolor\":\"white\",\"linecolor\":\"white\",\"ticks\":\"\"},\"baxis\":{\"gridcolor\":\"white\",\"linecolor\":\"white\",\"ticks\":\"\"},\"bgcolor\":\"#E5ECF6\",\"caxis\":{\"gridcolor\":\"white\",\"linecolor\":\"white\",\"ticks\":\"\"}},\"title\":{\"x\":0.05},\"xaxis\":{\"automargin\":true,\"gridcolor\":\"white\",\"linecolor\":\"white\",\"ticks\":\"\",\"title\":{\"standoff\":15},\"zerolinecolor\":\"white\",\"zerolinewidth\":2},\"yaxis\":{\"automargin\":true,\"gridcolor\":\"white\",\"linecolor\":\"white\",\"ticks\":\"\",\"title\":{\"standoff\":15},\"zerolinecolor\":\"white\",\"zerolinewidth\":2}}},\"showlegend\":false},                        {\"responsive\": true}                    ).then(function(){\n",
              "                            \n",
              "var gd = document.getElementById('80b73623-1930-4a2d-858b-57993814958f');\n",
              "var x = new MutationObserver(function (mutations, observer) {{\n",
              "        var display = window.getComputedStyle(gd).display;\n",
              "        if (!display || display === 'none') {{\n",
              "            console.log([gd, 'removed!']);\n",
              "            Plotly.purge(gd);\n",
              "            observer.disconnect();\n",
              "        }}\n",
              "}});\n",
              "\n",
              "// Listen for the removal of the full notebook cells\n",
              "var notebookContainer = gd.closest('#notebook-container');\n",
              "if (notebookContainer) {{\n",
              "    x.observe(notebookContainer, {childList: true});\n",
              "}}\n",
              "\n",
              "// Listen for the clearing of the current output cell\n",
              "var outputEl = gd.closest('.output');\n",
              "if (outputEl) {{\n",
              "    x.observe(outputEl, {childList: true});\n",
              "}}\n",
              "\n",
              "                        })                };                            </script>        </div>\n",
              "</body>\n",
              "</html>"
            ]
          },
          "metadata": {}
        }
      ]
    },
    {
      "cell_type": "code",
      "source": [],
      "metadata": {
        "id": "OaE8T8eCpbhd"
      },
      "execution_count": null,
      "outputs": []
    },
    {
      "cell_type": "code",
      "source": [],
      "metadata": {
        "id": "gWM3KTYJpbml"
      },
      "execution_count": null,
      "outputs": []
    },
    {
      "cell_type": "code",
      "source": [],
      "metadata": {
        "id": "5Ha4hHOKpbqs"
      },
      "execution_count": null,
      "outputs": []
    },
    {
      "cell_type": "code",
      "source": [],
      "metadata": {
        "id": "H6IMkrL8pbu5"
      },
      "execution_count": null,
      "outputs": []
    },
    {
      "cell_type": "code",
      "source": [],
      "metadata": {
        "id": "M0MsZtUjpbzG"
      },
      "execution_count": null,
      "outputs": []
    },
    {
      "cell_type": "code",
      "source": [],
      "metadata": {
        "id": "JEQfjxBwpb4c"
      },
      "execution_count": null,
      "outputs": []
    },
    {
      "cell_type": "code",
      "source": [],
      "metadata": {
        "id": "-0NbFm2Gpb8z"
      },
      "execution_count": null,
      "outputs": []
    },
    {
      "cell_type": "code",
      "source": [],
      "metadata": {
        "id": "WsUerrTHpcBU"
      },
      "execution_count": null,
      "outputs": []
    },
    {
      "cell_type": "code",
      "source": [],
      "metadata": {
        "id": "YE_iDfC4pcGO"
      },
      "execution_count": null,
      "outputs": []
    },
    {
      "cell_type": "code",
      "source": [],
      "metadata": {
        "id": "p-u95FmMpcLq"
      },
      "execution_count": null,
      "outputs": []
    },
    {
      "cell_type": "code",
      "source": [],
      "metadata": {
        "id": "bPvSYV_ApcQa"
      },
      "execution_count": null,
      "outputs": []
    },
    {
      "cell_type": "code",
      "source": [],
      "metadata": {
        "id": "glzbG_GapcVQ"
      },
      "execution_count": null,
      "outputs": []
    },
    {
      "cell_type": "code",
      "source": [],
      "metadata": {
        "id": "xR_xi61rpcZ3"
      },
      "execution_count": null,
      "outputs": []
    },
    {
      "cell_type": "code",
      "source": [],
      "metadata": {
        "id": "97FxYQ9kpcl6"
      },
      "execution_count": null,
      "outputs": []
    },
    {
      "cell_type": "code",
      "source": [],
      "metadata": {
        "id": "QXZWO7_DpcwY"
      },
      "execution_count": null,
      "outputs": []
    },
    {
      "cell_type": "code",
      "source": [],
      "metadata": {
        "id": "WqDgM2NLnD2z"
      },
      "execution_count": null,
      "outputs": []
    },
    {
      "cell_type": "code",
      "source": [],
      "metadata": {
        "id": "Rnu1VCV2nD6t"
      },
      "execution_count": null,
      "outputs": []
    },
    {
      "cell_type": "code",
      "source": [
        "#x_train=df2.drop(\"activity\",axis=1)"
      ],
      "metadata": {
        "id": "ut4IHfPeTLJ-"
      },
      "execution_count": null,
      "outputs": []
    },
    {
      "cell_type": "code",
      "source": [
        "#x_test=df1.drop(\"activity\",axis=1)"
      ],
      "metadata": {
        "id": "bTzhZRrLYB0S"
      },
      "execution_count": null,
      "outputs": []
    },
    {
      "cell_type": "code",
      "source": [
        "#y_train=df2[\"activity\"]"
      ],
      "metadata": {
        "id": "4MwshGBeTLT2"
      },
      "execution_count": null,
      "outputs": []
    },
    {
      "cell_type": "code",
      "source": [
        "#y_test=df1[\"activity\"]"
      ],
      "metadata": {
        "id": "9enxeeNKYF_3"
      },
      "execution_count": null,
      "outputs": []
    },
    {
      "cell_type": "code",
      "source": [
        "from sklearn import preprocessing\n",
        "  \n",
        "# label_encoder object knows how to understand word labels.\n",
        "label_encoder = preprocessing.LabelEncoder()\n",
        "  \n",
        "# Encode labels in column 'species'\n",
        "y_train= label_encoder.fit_transform(y_train)"
      ],
      "metadata": {
        "id": "TrVAxqK6staE"
      },
      "execution_count": null,
      "outputs": []
    },
    {
      "cell_type": "code",
      "source": [
        "from sklearn import preprocessing\n",
        "  \n",
        "# label_encoder object knows how to understand word labels.\n",
        "label_encoder = preprocessing.LabelEncoder()\n",
        "  \n",
        "# Encode labels in column 'species'\n",
        "y_test= label_encoder.fit_transform(y_test)"
      ],
      "metadata": {
        "id": "PCaYGd0cstet"
      },
      "execution_count": null,
      "outputs": []
    },
    {
      "cell_type": "code",
      "source": [
        "#x_train.shape,x_test.shape"
      ],
      "metadata": {
        "colab": {
          "base_uri": "https://localhost:8080/"
        },
        "id": "HiKIuCkYTLYs",
        "outputId": "8b5a9057-5f03-416b-ccf3-17be5261c9aa"
      },
      "execution_count": null,
      "outputs": [
        {
          "output_type": "execute_result",
          "data": {
            "text/plain": [
              "((51544, 16), (4746, 16))"
            ]
          },
          "metadata": {},
          "execution_count": 185
        }
      ]
    },
    {
      "cell_type": "code",
      "source": [
        "\n",
        "#y_train.shape,y_test.shape"
      ],
      "metadata": {
        "colab": {
          "base_uri": "https://localhost:8080/"
        },
        "id": "RQp0Ot7_TLdo",
        "outputId": "52ab0b24-b80e-42df-d07e-72a301825361"
      },
      "execution_count": null,
      "outputs": [
        {
          "output_type": "execute_result",
          "data": {
            "text/plain": [
              "((51544,), (4746,))"
            ]
          },
          "metadata": {},
          "execution_count": 186
        }
      ]
    },
    {
      "cell_type": "code",
      "source": [],
      "metadata": {
        "id": "IQLW2W6Tb4Ld"
      },
      "execution_count": null,
      "outputs": []
    },
    {
      "cell_type": "code",
      "source": [
        "\n",
        "timesteps=1"
      ],
      "metadata": {
        "id": "nhybby1ATLjG"
      },
      "execution_count": null,
      "outputs": []
    },
    {
      "cell_type": "code",
      "source": [
        "#x_train, y_train = [], []\n",
        "x_train=np.reshape(np.array(x_train),(51544,-1,16))\n",
        "x_test=np.reshape(np.array(x_test),(4746,-1,16))"
      ],
      "metadata": {
        "id": "fsUnVJP6ZTsj"
      },
      "execution_count": null,
      "outputs": []
    },
    {
      "cell_type": "code",
      "source": [
        "x_train.shape,x_test.shape"
      ],
      "metadata": {
        "colab": {
          "base_uri": "https://localhost:8080/"
        },
        "id": "DamB14C6r8Nr",
        "outputId": "a30c1b01-1169-49ac-b6b2-f65eedf9279f"
      },
      "execution_count": null,
      "outputs": [
        {
          "output_type": "execute_result",
          "data": {
            "text/plain": [
              "((51544, 1, 16), (4746, 1, 16))"
            ]
          },
          "metadata": {},
          "execution_count": 189
        }
      ]
    },
    {
      "cell_type": "code",
      "source": [
        "y_train.shape,y_test.shape"
      ],
      "metadata": {
        "colab": {
          "base_uri": "https://localhost:8080/"
        },
        "id": "BSimAbuYaVjC",
        "outputId": "f048eca6-c6ef-402e-f732-579b8b37b3db"
      },
      "execution_count": null,
      "outputs": [
        {
          "output_type": "execute_result",
          "data": {
            "text/plain": [
              "((51544,), (4746,))"
            ]
          },
          "metadata": {},
          "execution_count": 190
        }
      ]
    },
    {
      "cell_type": "code",
      "source": [
        "from keras.utils import to_categorical\n",
        "y_train = to_categorical(y_train)\n",
        "y_test = to_categorical(y_test)"
      ],
      "metadata": {
        "id": "BteMGon93BCC"
      },
      "execution_count": null,
      "outputs": []
    },
    {
      "cell_type": "code",
      "source": [
        "y_train.shape,y_test.shape"
      ],
      "metadata": {
        "colab": {
          "base_uri": "https://localhost:8080/"
        },
        "id": "DcznFkgZ3BE6",
        "outputId": "cbdb5658-7493-471c-d5af-be6375199db6"
      },
      "execution_count": null,
      "outputs": [
        {
          "output_type": "execute_result",
          "data": {
            "text/plain": [
              "((51544, 8), (4746, 8))"
            ]
          },
          "metadata": {},
          "execution_count": 192
        }
      ]
    },
    {
      "cell_type": "code",
      "source": [
        "type(x_train)"
      ],
      "metadata": {
        "colab": {
          "base_uri": "https://localhost:8080/"
        },
        "id": "_07bu2DK3BH1",
        "outputId": "0f61d425-0231-4664-89d5-8a1a591b8a57"
      },
      "execution_count": null,
      "outputs": [
        {
          "output_type": "execute_result",
          "data": {
            "text/plain": [
              "numpy.ndarray"
            ]
          },
          "metadata": {},
          "execution_count": 196
        }
      ]
    },
    {
      "cell_type": "code",
      "source": [
        "type(x_test)"
      ],
      "metadata": {
        "colab": {
          "base_uri": "https://localhost:8080/"
        },
        "id": "QtTqLlpN3BKq",
        "outputId": "141ce6a6-f9d7-48e2-9ecc-4ccd54b798da"
      },
      "execution_count": null,
      "outputs": [
        {
          "output_type": "execute_result",
          "data": {
            "text/plain": [
              "numpy.ndarray"
            ]
          },
          "metadata": {},
          "execution_count": 198
        }
      ]
    },
    {
      "cell_type": "code",
      "source": [
        "type(y_train)"
      ],
      "metadata": {
        "colab": {
          "base_uri": "https://localhost:8080/"
        },
        "id": "UKZ9WQ-D3BNb",
        "outputId": "d9a35270-2efb-4946-faed-f2e0d3d57ca3"
      },
      "execution_count": null,
      "outputs": [
        {
          "output_type": "execute_result",
          "data": {
            "text/plain": [
              "numpy.ndarray"
            ]
          },
          "metadata": {},
          "execution_count": 199
        }
      ]
    },
    {
      "cell_type": "code",
      "source": [
        "type(y_test)"
      ],
      "metadata": {
        "colab": {
          "base_uri": "https://localhost:8080/"
        },
        "id": "dyCz9EAC3BQA",
        "outputId": "c3896e9d-f85c-4f5b-e6d1-4cc62419610b"
      },
      "execution_count": null,
      "outputs": [
        {
          "output_type": "execute_result",
          "data": {
            "text/plain": [
              "numpy.ndarray"
            ]
          },
          "metadata": {},
          "execution_count": 200
        }
      ]
    },
    {
      "cell_type": "code",
      "source": [
        "# model = Sequential()\n",
        "# model.add(LSTM(256,input_dim=16,activation='relu'))\n",
        "# model.add(Dense(128,activation='relu'))\n",
        "# model.add(Dense(64, activation='relu'))\n",
        "# model.add(Dense(8, activation='softmax'))"
      ],
      "metadata": {
        "colab": {
          "base_uri": "https://localhost:8080/"
        },
        "id": "oOD97lWc91Ne",
        "outputId": "96600966-5882-48a5-8e0c-34ce4c9a6519"
      },
      "execution_count": null,
      "outputs": [
        {
          "output_type": "stream",
          "name": "stderr",
          "text": [
            "WARNING:tensorflow:Layer lstm_80 will not use cuDNN kernels since it doesn't meet the criteria. It will use a generic GPU kernel as fallback when running on GPU.\n"
          ]
        }
      ]
    },
    {
      "cell_type": "code",
      "source": [
        "# model.summary()"
      ],
      "metadata": {
        "colab": {
          "base_uri": "https://localhost:8080/"
        },
        "id": "EyUv2iI2-AuK",
        "outputId": "350bc339-2816-47a8-c92c-c8c874f8862d"
      },
      "execution_count": null,
      "outputs": [
        {
          "output_type": "stream",
          "name": "stdout",
          "text": [
            "Model: \"sequential_25\"\n",
            "_________________________________________________________________\n",
            " Layer (type)                Output Shape              Param #   \n",
            "=================================================================\n",
            " lstm_80 (LSTM)              (None, 256)               279552    \n",
            "                                                                 \n",
            " dense_57 (Dense)            (None, 128)               32896     \n",
            "                                                                 \n",
            " dense_58 (Dense)            (None, 64)                8256      \n",
            "                                                                 \n",
            " dense_59 (Dense)            (None, 8)                 520       \n",
            "                                                                 \n",
            "=================================================================\n",
            "Total params: 321,224\n",
            "Trainable params: 321,224\n",
            "Non-trainable params: 0\n",
            "_________________________________________________________________\n"
          ]
        }
      ]
    },
    {
      "cell_type": "code",
      "source": [
        "# model.compile(loss='categorical_crossentropy', optimizer='adam', metrics=['accuracy'])\n"
      ],
      "metadata": {
        "id": "qqjA9hvU-Dny"
      },
      "execution_count": null,
      "outputs": []
    },
    {
      "cell_type": "code",
      "source": [
        "# model.fit(x_train,y_train,epochs=20,validation_data=(x_test,y_test))"
      ],
      "metadata": {
        "colab": {
          "base_uri": "https://localhost:8080/"
        },
        "id": "gIunDKP0AJ5Q",
        "outputId": "a04228a6-afdf-49e0-9ded-a4770427d1df"
      },
      "execution_count": null,
      "outputs": [
        {
          "output_type": "stream",
          "name": "stdout",
          "text": [
            "Epoch 1/20\n",
            "1611/1611 [==============================] - 20s 11ms/step - loss: 34.9278 - accuracy: 0.5380 - val_loss: 381.4827 - val_accuracy: 0.1075\n",
            "Epoch 2/20\n",
            "1611/1611 [==============================] - 9s 5ms/step - loss: 4.6363 - accuracy: 0.6358 - val_loss: 357.6090 - val_accuracy: 0.1182\n",
            "Epoch 3/20\n",
            "1611/1611 [==============================] - 9s 5ms/step - loss: 2.0236 - accuracy: 0.6714 - val_loss: 341.5053 - val_accuracy: 0.1271\n",
            "Epoch 4/20\n",
            "1611/1611 [==============================] - 8s 5ms/step - loss: 1.1119 - accuracy: 0.7177 - val_loss: 296.7584 - val_accuracy: 0.1279\n",
            "Epoch 5/20\n",
            "1611/1611 [==============================] - 8s 5ms/step - loss: 1.0364 - accuracy: 0.7105 - val_loss: 256.4564 - val_accuracy: 0.1502\n",
            "Epoch 6/20\n",
            "1611/1611 [==============================] - 9s 5ms/step - loss: 0.8498 - accuracy: 0.7322 - val_loss: 212.4476 - val_accuracy: 0.1498\n",
            "Epoch 7/20\n",
            "1611/1611 [==============================] - 10s 6ms/step - loss: 0.7981 - accuracy: 0.7490 - val_loss: 200.5464 - val_accuracy: 0.1416\n",
            "Epoch 8/20\n",
            "1611/1611 [==============================] - 10s 6ms/step - loss: 0.8722 - accuracy: 0.7004 - val_loss: 309.6564 - val_accuracy: 0.1403\n",
            "Epoch 9/20\n",
            "1611/1611 [==============================] - 9s 5ms/step - loss: 0.8672 - accuracy: 0.6993 - val_loss: 279.1545 - val_accuracy: 0.1485\n",
            "Epoch 10/20\n",
            "1611/1611 [==============================] - 9s 5ms/step - loss: 0.8501 - accuracy: 0.7049 - val_loss: 262.9991 - val_accuracy: 0.1367\n",
            "Epoch 11/20\n",
            "1611/1611 [==============================] - 8s 5ms/step - loss: 0.8438 - accuracy: 0.7033 - val_loss: 282.4766 - val_accuracy: 0.1268\n",
            "Epoch 12/20\n",
            "1611/1611 [==============================] - 10s 6ms/step - loss: 0.8522 - accuracy: 0.7035 - val_loss: 218.1278 - val_accuracy: 0.1201\n",
            "Epoch 13/20\n",
            "1611/1611 [==============================] - 9s 5ms/step - loss: 0.8594 - accuracy: 0.7037 - val_loss: 301.1406 - val_accuracy: 0.1296\n",
            "Epoch 14/20\n",
            "1611/1611 [==============================] - 9s 5ms/step - loss: 0.8365 - accuracy: 0.7063 - val_loss: 288.3025 - val_accuracy: 0.1342\n",
            "Epoch 15/20\n",
            "1611/1611 [==============================] - 8s 5ms/step - loss: 0.8266 - accuracy: 0.7090 - val_loss: 301.1958 - val_accuracy: 0.1081\n",
            "Epoch 16/20\n",
            "1611/1611 [==============================] - 10s 7ms/step - loss: 0.8279 - accuracy: 0.7075 - val_loss: 241.9677 - val_accuracy: 0.2817\n",
            "Epoch 17/20\n",
            "1611/1611 [==============================] - 19s 12ms/step - loss: 0.8168 - accuracy: 0.7117 - val_loss: 241.4384 - val_accuracy: 0.2908\n",
            "Epoch 18/20\n",
            "1611/1611 [==============================] - 15s 9ms/step - loss: 0.8144 - accuracy: 0.7128 - val_loss: 226.2126 - val_accuracy: 0.2967\n",
            "Epoch 19/20\n",
            "1611/1611 [==============================] - 8s 5ms/step - loss: 0.8151 - accuracy: 0.7111 - val_loss: 235.6193 - val_accuracy: 0.3017\n",
            "Epoch 20/20\n",
            "1611/1611 [==============================] - 8s 5ms/step - loss: 0.8142 - accuracy: 0.7123 - val_loss: 225.5305 - val_accuracy: 0.3175\n"
          ]
        },
        {
          "output_type": "execute_result",
          "data": {
            "text/plain": [
              "<keras.callbacks.History at 0x7f0b79683460>"
            ]
          },
          "metadata": {},
          "execution_count": 217
        }
      ]
    },
    {
      "cell_type": "code",
      "source": [
        "#  _, accuracy = model.evaluate(x_test, y_test, batch_size=32, verbose=0)"
      ],
      "metadata": {
        "id": "Xgmktd_OBPog"
      },
      "execution_count": null,
      "outputs": []
    },
    {
      "cell_type": "code",
      "source": [
        "# accuracy"
      ],
      "metadata": {
        "colab": {
          "base_uri": "https://localhost:8080/"
        },
        "id": "8DnkrkrDBRVb",
        "outputId": "4b173968-fd51-4538-da6f-aa7de63409b9"
      },
      "execution_count": null,
      "outputs": [
        {
          "output_type": "execute_result",
          "data": {
            "text/plain": [
              "0.3175305426120758"
            ]
          },
          "metadata": {},
          "execution_count": 219
        }
      ]
    },
    {
      "cell_type": "code",
      "source": [
        "verbose, epochs, batch_size = 2, 2, 100\n",
        "\n",
        "model = Sequential()\n",
        "model.add(LSTM(1000,return_sequences=True,input_dim=16,activation='relu'))\n",
        "model.add(Dropout(0.8))\n",
        "model.add(LSTM(1000,return_sequences=True, input_shape=(timesteps, x_train.shape[2]),activation='relu'))\n",
        "model.add(Dropout(0.8))\n",
        "#model.add(LSTM(1000,return_sequences=True, input_shape=(timesteps, x_train.shape[2])))\n",
        "#model.add(Dropout(0.8))\n",
        "#model.add(LSTM(1000,return_sequences=True, input_shape=(timesteps, x_train.shape[2])))\n",
        "#model.add(Dropout(0.8))\n",
        "#model.add(LSTM(1000,return_sequences=True, input_shape=(timesteps, x_train.shape[2])))\n",
        "#model.add(Dropout(0.8))\n",
        "#model.add(Dense(1024,activation='relu'))\n",
        "#model.add(Dense(512,activation='relu'))\n",
        "# model.add(Dense(1,activation='relu'))\n",
        "\n",
        "#model.add(LSTM(100,return_sequences=True, input_shape=(timesteps, x_train.shape[2])))\n",
        "model.add(Dense(64, activation='relu'))\n",
        "model.add(Dense(8, activation='softmax'))\n",
        "\n",
        "\n",
        "model.compile(loss='categorical_crossentropy', optimizer='adam', metrics=['accuracy'])\n",
        "model.summary()"
      ],
      "metadata": {
        "colab": {
          "base_uri": "https://localhost:8080/"
        },
        "id": "l4uiiWaqaVl8",
        "outputId": "85898161-1acf-4f1e-b7f8-6aff130d6afa"
      },
      "execution_count": null,
      "outputs": [
        {
          "output_type": "stream",
          "name": "stderr",
          "text": [
            "WARNING:tensorflow:Layer lstm_81 will not use cuDNN kernels since it doesn't meet the criteria. It will use a generic GPU kernel as fallback when running on GPU.\n",
            "WARNING:tensorflow:Layer lstm_82 will not use cuDNN kernels since it doesn't meet the criteria. It will use a generic GPU kernel as fallback when running on GPU.\n"
          ]
        },
        {
          "output_type": "stream",
          "name": "stdout",
          "text": [
            "Model: \"sequential_26\"\n",
            "_________________________________________________________________\n",
            " Layer (type)                Output Shape              Param #   \n",
            "=================================================================\n",
            " lstm_81 (LSTM)              (None, None, 1000)        4068000   \n",
            "                                                                 \n",
            " dropout_60 (Dropout)        (None, None, 1000)        0         \n",
            "                                                                 \n",
            " lstm_82 (LSTM)              (None, None, 1000)        8004000   \n",
            "                                                                 \n",
            " dropout_61 (Dropout)        (None, None, 1000)        0         \n",
            "                                                                 \n",
            " dense_60 (Dense)            (None, None, 64)          64064     \n",
            "                                                                 \n",
            " dense_61 (Dense)            (None, None, 8)           520       \n",
            "                                                                 \n",
            "=================================================================\n",
            "Total params: 12,136,584\n",
            "Trainable params: 12,136,584\n",
            "Non-trainable params: 0\n",
            "_________________________________________________________________\n"
          ]
        }
      ]
    },
    {
      "cell_type": "code",
      "source": [
        "model.fit(x_train,y_train,epochs=10, batch_size=64, verbose=1,validation_data=(x_test,y_test))"
      ],
      "metadata": {
        "colab": {
          "base_uri": "https://localhost:8080/",
          "height": 727
        },
        "id": "LTyHUiUdcQyR",
        "outputId": "737e7430-fed7-45b1-d4c9-84e5ee66a6be"
      },
      "execution_count": null,
      "outputs": [
        {
          "output_type": "stream",
          "name": "stdout",
          "text": [
            "Epoch 1/10\n"
          ]
        },
        {
          "output_type": "error",
          "ename": "ValueError",
          "evalue": "ignored",
          "traceback": [
            "\u001b[0;31m---------------------------------------------------------------------------\u001b[0m",
            "\u001b[0;31mValueError\u001b[0m                                Traceback (most recent call last)",
            "\u001b[0;32m<ipython-input-221-e1c3b8df0e60>\u001b[0m in \u001b[0;36m<module>\u001b[0;34m\u001b[0m\n\u001b[0;32m----> 1\u001b[0;31m \u001b[0mmodel\u001b[0m\u001b[0;34m.\u001b[0m\u001b[0mfit\u001b[0m\u001b[0;34m(\u001b[0m\u001b[0mx_train\u001b[0m\u001b[0;34m,\u001b[0m\u001b[0my_train\u001b[0m\u001b[0;34m,\u001b[0m\u001b[0mepochs\u001b[0m\u001b[0;34m=\u001b[0m\u001b[0;36m10\u001b[0m\u001b[0;34m,\u001b[0m \u001b[0mbatch_size\u001b[0m\u001b[0;34m=\u001b[0m\u001b[0;36m64\u001b[0m\u001b[0;34m,\u001b[0m \u001b[0mverbose\u001b[0m\u001b[0;34m=\u001b[0m\u001b[0;36m1\u001b[0m\u001b[0;34m,\u001b[0m\u001b[0mvalidation_data\u001b[0m\u001b[0;34m=\u001b[0m\u001b[0;34m(\u001b[0m\u001b[0mx_test\u001b[0m\u001b[0;34m,\u001b[0m\u001b[0my_test\u001b[0m\u001b[0;34m)\u001b[0m\u001b[0;34m)\u001b[0m\u001b[0;34m\u001b[0m\u001b[0;34m\u001b[0m\u001b[0m\n\u001b[0m",
            "\u001b[0;32m/usr/local/lib/python3.8/dist-packages/keras/utils/traceback_utils.py\u001b[0m in \u001b[0;36merror_handler\u001b[0;34m(*args, **kwargs)\u001b[0m\n\u001b[1;32m     65\u001b[0m     \u001b[0;32mexcept\u001b[0m \u001b[0mException\u001b[0m \u001b[0;32mas\u001b[0m \u001b[0me\u001b[0m\u001b[0;34m:\u001b[0m  \u001b[0;31m# pylint: disable=broad-except\u001b[0m\u001b[0;34m\u001b[0m\u001b[0;34m\u001b[0m\u001b[0m\n\u001b[1;32m     66\u001b[0m       \u001b[0mfiltered_tb\u001b[0m \u001b[0;34m=\u001b[0m \u001b[0m_process_traceback_frames\u001b[0m\u001b[0;34m(\u001b[0m\u001b[0me\u001b[0m\u001b[0;34m.\u001b[0m\u001b[0m__traceback__\u001b[0m\u001b[0;34m)\u001b[0m\u001b[0;34m\u001b[0m\u001b[0;34m\u001b[0m\u001b[0m\n\u001b[0;32m---> 67\u001b[0;31m       \u001b[0;32mraise\u001b[0m \u001b[0me\u001b[0m\u001b[0;34m.\u001b[0m\u001b[0mwith_traceback\u001b[0m\u001b[0;34m(\u001b[0m\u001b[0mfiltered_tb\u001b[0m\u001b[0;34m)\u001b[0m \u001b[0;32mfrom\u001b[0m \u001b[0;32mNone\u001b[0m\u001b[0;34m\u001b[0m\u001b[0;34m\u001b[0m\u001b[0m\n\u001b[0m\u001b[1;32m     68\u001b[0m     \u001b[0;32mfinally\u001b[0m\u001b[0;34m:\u001b[0m\u001b[0;34m\u001b[0m\u001b[0;34m\u001b[0m\u001b[0m\n\u001b[1;32m     69\u001b[0m       \u001b[0;32mdel\u001b[0m \u001b[0mfiltered_tb\u001b[0m\u001b[0;34m\u001b[0m\u001b[0;34m\u001b[0m\u001b[0m\n",
            "\u001b[0;32m/usr/local/lib/python3.8/dist-packages/keras/engine/training.py\u001b[0m in \u001b[0;36mtf__train_function\u001b[0;34m(iterator)\u001b[0m\n\u001b[1;32m     13\u001b[0m                 \u001b[0;32mtry\u001b[0m\u001b[0;34m:\u001b[0m\u001b[0;34m\u001b[0m\u001b[0;34m\u001b[0m\u001b[0m\n\u001b[1;32m     14\u001b[0m                     \u001b[0mdo_return\u001b[0m \u001b[0;34m=\u001b[0m \u001b[0;32mTrue\u001b[0m\u001b[0;34m\u001b[0m\u001b[0;34m\u001b[0m\u001b[0m\n\u001b[0;32m---> 15\u001b[0;31m                     \u001b[0mretval_\u001b[0m \u001b[0;34m=\u001b[0m \u001b[0mag__\u001b[0m\u001b[0;34m.\u001b[0m\u001b[0mconverted_call\u001b[0m\u001b[0;34m(\u001b[0m\u001b[0mag__\u001b[0m\u001b[0;34m.\u001b[0m\u001b[0mld\u001b[0m\u001b[0;34m(\u001b[0m\u001b[0mstep_function\u001b[0m\u001b[0;34m)\u001b[0m\u001b[0;34m,\u001b[0m \u001b[0;34m(\u001b[0m\u001b[0mag__\u001b[0m\u001b[0;34m.\u001b[0m\u001b[0mld\u001b[0m\u001b[0;34m(\u001b[0m\u001b[0mself\u001b[0m\u001b[0;34m)\u001b[0m\u001b[0;34m,\u001b[0m \u001b[0mag__\u001b[0m\u001b[0;34m.\u001b[0m\u001b[0mld\u001b[0m\u001b[0;34m(\u001b[0m\u001b[0miterator\u001b[0m\u001b[0;34m)\u001b[0m\u001b[0;34m)\u001b[0m\u001b[0;34m,\u001b[0m \u001b[0;32mNone\u001b[0m\u001b[0;34m,\u001b[0m \u001b[0mfscope\u001b[0m\u001b[0;34m)\u001b[0m\u001b[0;34m\u001b[0m\u001b[0;34m\u001b[0m\u001b[0m\n\u001b[0m\u001b[1;32m     16\u001b[0m                 \u001b[0;32mexcept\u001b[0m\u001b[0;34m:\u001b[0m\u001b[0;34m\u001b[0m\u001b[0;34m\u001b[0m\u001b[0m\n\u001b[1;32m     17\u001b[0m                     \u001b[0mdo_return\u001b[0m \u001b[0;34m=\u001b[0m \u001b[0;32mFalse\u001b[0m\u001b[0;34m\u001b[0m\u001b[0;34m\u001b[0m\u001b[0m\n",
            "\u001b[0;31mValueError\u001b[0m: in user code:\n\n    File \"/usr/local/lib/python3.8/dist-packages/keras/engine/training.py\", line 1051, in train_function  *\n        return step_function(self, iterator)\n    File \"/usr/local/lib/python3.8/dist-packages/keras/engine/training.py\", line 1040, in step_function  **\n        outputs = model.distribute_strategy.run(run_step, args=(data,))\n    File \"/usr/local/lib/python3.8/dist-packages/keras/engine/training.py\", line 1030, in run_step  **\n        outputs = model.train_step(data)\n    File \"/usr/local/lib/python3.8/dist-packages/keras/engine/training.py\", line 890, in train_step\n        loss = self.compute_loss(x, y, y_pred, sample_weight)\n    File \"/usr/local/lib/python3.8/dist-packages/keras/engine/training.py\", line 948, in compute_loss\n        return self.compiled_loss(\n    File \"/usr/local/lib/python3.8/dist-packages/keras/engine/compile_utils.py\", line 201, in __call__\n        loss_value = loss_obj(y_t, y_p, sample_weight=sw)\n    File \"/usr/local/lib/python3.8/dist-packages/keras/losses.py\", line 139, in __call__\n        losses = call_fn(y_true, y_pred)\n    File \"/usr/local/lib/python3.8/dist-packages/keras/losses.py\", line 243, in call  **\n        return ag_fn(y_true, y_pred, **self._fn_kwargs)\n    File \"/usr/local/lib/python3.8/dist-packages/keras/losses.py\", line 1787, in categorical_crossentropy\n        return backend.categorical_crossentropy(\n    File \"/usr/local/lib/python3.8/dist-packages/keras/backend.py\", line 5119, in categorical_crossentropy\n        target.shape.assert_is_compatible_with(output.shape)\n\n    ValueError: Shapes (None, 8) and (None, 1, 8) are incompatible\n"
          ]
        }
      ]
    },
    {
      "cell_type": "code",
      "source": [
        " _, accuracy = model.evaluate(x_test, y_test, batch_size=32, verbose=0)"
      ],
      "metadata": {
        "id": "GwV2D6N0gJJ6",
        "colab": {
          "base_uri": "https://localhost:8080/",
          "height": 710
        },
        "outputId": "b9a4cd76-c341-43fe-8524-ebcb2c7a9f15"
      },
      "execution_count": null,
      "outputs": [
        {
          "output_type": "error",
          "ename": "ValueError",
          "evalue": "ignored",
          "traceback": [
            "\u001b[0;31m---------------------------------------------------------------------------\u001b[0m",
            "\u001b[0;31mValueError\u001b[0m                                Traceback (most recent call last)",
            "\u001b[0;32m<ipython-input-195-c048fe4b09ba>\u001b[0m in \u001b[0;36m<module>\u001b[0;34m\u001b[0m\n\u001b[0;32m----> 1\u001b[0;31m \u001b[0m_\u001b[0m\u001b[0;34m,\u001b[0m \u001b[0maccuracy\u001b[0m \u001b[0;34m=\u001b[0m \u001b[0mmodel\u001b[0m\u001b[0;34m.\u001b[0m\u001b[0mevaluate\u001b[0m\u001b[0;34m(\u001b[0m\u001b[0mx_test\u001b[0m\u001b[0;34m,\u001b[0m \u001b[0my_test\u001b[0m\u001b[0;34m,\u001b[0m \u001b[0mbatch_size\u001b[0m\u001b[0;34m=\u001b[0m\u001b[0;36m32\u001b[0m\u001b[0;34m,\u001b[0m \u001b[0mverbose\u001b[0m\u001b[0;34m=\u001b[0m\u001b[0;36m0\u001b[0m\u001b[0;34m)\u001b[0m\u001b[0;34m\u001b[0m\u001b[0;34m\u001b[0m\u001b[0m\n\u001b[0m",
            "\u001b[0;32m/usr/local/lib/python3.8/dist-packages/keras/utils/traceback_utils.py\u001b[0m in \u001b[0;36merror_handler\u001b[0;34m(*args, **kwargs)\u001b[0m\n\u001b[1;32m     65\u001b[0m     \u001b[0;32mexcept\u001b[0m \u001b[0mException\u001b[0m \u001b[0;32mas\u001b[0m \u001b[0me\u001b[0m\u001b[0;34m:\u001b[0m  \u001b[0;31m# pylint: disable=broad-except\u001b[0m\u001b[0;34m\u001b[0m\u001b[0;34m\u001b[0m\u001b[0m\n\u001b[1;32m     66\u001b[0m       \u001b[0mfiltered_tb\u001b[0m \u001b[0;34m=\u001b[0m \u001b[0m_process_traceback_frames\u001b[0m\u001b[0;34m(\u001b[0m\u001b[0me\u001b[0m\u001b[0;34m.\u001b[0m\u001b[0m__traceback__\u001b[0m\u001b[0;34m)\u001b[0m\u001b[0;34m\u001b[0m\u001b[0;34m\u001b[0m\u001b[0m\n\u001b[0;32m---> 67\u001b[0;31m       \u001b[0;32mraise\u001b[0m \u001b[0me\u001b[0m\u001b[0;34m.\u001b[0m\u001b[0mwith_traceback\u001b[0m\u001b[0;34m(\u001b[0m\u001b[0mfiltered_tb\u001b[0m\u001b[0;34m)\u001b[0m \u001b[0;32mfrom\u001b[0m \u001b[0;32mNone\u001b[0m\u001b[0;34m\u001b[0m\u001b[0;34m\u001b[0m\u001b[0m\n\u001b[0m\u001b[1;32m     68\u001b[0m     \u001b[0;32mfinally\u001b[0m\u001b[0;34m:\u001b[0m\u001b[0;34m\u001b[0m\u001b[0;34m\u001b[0m\u001b[0m\n\u001b[1;32m     69\u001b[0m       \u001b[0;32mdel\u001b[0m \u001b[0mfiltered_tb\u001b[0m\u001b[0;34m\u001b[0m\u001b[0;34m\u001b[0m\u001b[0m\n",
            "\u001b[0;32m/usr/local/lib/python3.8/dist-packages/keras/engine/training.py\u001b[0m in \u001b[0;36mtf__test_function\u001b[0;34m(iterator)\u001b[0m\n\u001b[1;32m     13\u001b[0m                 \u001b[0;32mtry\u001b[0m\u001b[0;34m:\u001b[0m\u001b[0;34m\u001b[0m\u001b[0;34m\u001b[0m\u001b[0m\n\u001b[1;32m     14\u001b[0m                     \u001b[0mdo_return\u001b[0m \u001b[0;34m=\u001b[0m \u001b[0;32mTrue\u001b[0m\u001b[0;34m\u001b[0m\u001b[0;34m\u001b[0m\u001b[0m\n\u001b[0;32m---> 15\u001b[0;31m                     \u001b[0mretval_\u001b[0m \u001b[0;34m=\u001b[0m \u001b[0mag__\u001b[0m\u001b[0;34m.\u001b[0m\u001b[0mconverted_call\u001b[0m\u001b[0;34m(\u001b[0m\u001b[0mag__\u001b[0m\u001b[0;34m.\u001b[0m\u001b[0mld\u001b[0m\u001b[0;34m(\u001b[0m\u001b[0mstep_function\u001b[0m\u001b[0;34m)\u001b[0m\u001b[0;34m,\u001b[0m \u001b[0;34m(\u001b[0m\u001b[0mag__\u001b[0m\u001b[0;34m.\u001b[0m\u001b[0mld\u001b[0m\u001b[0;34m(\u001b[0m\u001b[0mself\u001b[0m\u001b[0;34m)\u001b[0m\u001b[0;34m,\u001b[0m \u001b[0mag__\u001b[0m\u001b[0;34m.\u001b[0m\u001b[0mld\u001b[0m\u001b[0;34m(\u001b[0m\u001b[0miterator\u001b[0m\u001b[0;34m)\u001b[0m\u001b[0;34m)\u001b[0m\u001b[0;34m,\u001b[0m \u001b[0;32mNone\u001b[0m\u001b[0;34m,\u001b[0m \u001b[0mfscope\u001b[0m\u001b[0;34m)\u001b[0m\u001b[0;34m\u001b[0m\u001b[0;34m\u001b[0m\u001b[0m\n\u001b[0m\u001b[1;32m     16\u001b[0m                 \u001b[0;32mexcept\u001b[0m\u001b[0;34m:\u001b[0m\u001b[0;34m\u001b[0m\u001b[0;34m\u001b[0m\u001b[0m\n\u001b[1;32m     17\u001b[0m                     \u001b[0mdo_return\u001b[0m \u001b[0;34m=\u001b[0m \u001b[0;32mFalse\u001b[0m\u001b[0;34m\u001b[0m\u001b[0;34m\u001b[0m\u001b[0m\n",
            "\u001b[0;31mValueError\u001b[0m: in user code:\n\n    File \"/usr/local/lib/python3.8/dist-packages/keras/engine/training.py\", line 1557, in test_function  *\n        return step_function(self, iterator)\n    File \"/usr/local/lib/python3.8/dist-packages/keras/engine/training.py\", line 1546, in step_function  **\n        outputs = model.distribute_strategy.run(run_step, args=(data,))\n    File \"/usr/local/lib/python3.8/dist-packages/keras/engine/training.py\", line 1535, in run_step  **\n        outputs = model.test_step(data)\n    File \"/usr/local/lib/python3.8/dist-packages/keras/engine/training.py\", line 1501, in test_step\n        self.compute_loss(x, y, y_pred, sample_weight)\n    File \"/usr/local/lib/python3.8/dist-packages/keras/engine/training.py\", line 948, in compute_loss\n        return self.compiled_loss(\n    File \"/usr/local/lib/python3.8/dist-packages/keras/engine/compile_utils.py\", line 201, in __call__\n        loss_value = loss_obj(y_t, y_p, sample_weight=sw)\n    File \"/usr/local/lib/python3.8/dist-packages/keras/losses.py\", line 139, in __call__\n        losses = call_fn(y_true, y_pred)\n    File \"/usr/local/lib/python3.8/dist-packages/keras/losses.py\", line 243, in call  **\n        return ag_fn(y_true, y_pred, **self._fn_kwargs)\n    File \"/usr/local/lib/python3.8/dist-packages/keras/losses.py\", line 1787, in categorical_crossentropy\n        return backend.categorical_crossentropy(\n    File \"/usr/local/lib/python3.8/dist-packages/keras/backend.py\", line 5119, in categorical_crossentropy\n        target.shape.assert_is_compatible_with(output.shape)\n\n    ValueError: Shapes (None, 8) and (None, 1, 8) are incompatible\n"
          ]
        }
      ]
    },
    {
      "cell_type": "code",
      "source": [
        "accuracy"
      ],
      "metadata": {
        "colab": {
          "base_uri": "https://localhost:8080/"
        },
        "id": "KBTKeb1xLls0",
        "outputId": "e0155944-468d-4152-d733-d614efdd3448"
      },
      "execution_count": null,
      "outputs": [
        {
          "output_type": "execute_result",
          "data": {
            "text/plain": [
              "0.026337968185544014"
            ]
          },
          "metadata": {},
          "execution_count": 70
        }
      ]
    },
    {
      "cell_type": "code",
      "source": [],
      "metadata": {
        "id": "TC4wMtMogJL2"
      },
      "execution_count": null,
      "outputs": []
    },
    {
      "cell_type": "code",
      "source": [],
      "metadata": {
        "id": "-jLCXB8ogJNs"
      },
      "execution_count": null,
      "outputs": []
    },
    {
      "cell_type": "code",
      "source": [],
      "metadata": {
        "id": "l_Xcw9kigJQS"
      },
      "execution_count": null,
      "outputs": []
    },
    {
      "cell_type": "code",
      "source": [],
      "metadata": {
        "id": "K65rHTTagJTL"
      },
      "execution_count": null,
      "outputs": []
    },
    {
      "cell_type": "code",
      "source": [],
      "metadata": {
        "id": "6ESgeaDCgJWQ"
      },
      "execution_count": null,
      "outputs": []
    },
    {
      "cell_type": "code",
      "source": [],
      "metadata": {
        "id": "o-efYSvcgJZG"
      },
      "execution_count": null,
      "outputs": []
    },
    {
      "cell_type": "code",
      "source": [],
      "metadata": {
        "id": "Y6Z6MynegJcC"
      },
      "execution_count": null,
      "outputs": []
    },
    {
      "cell_type": "code",
      "source": [],
      "metadata": {
        "id": "U7Y1YelzgJe-"
      },
      "execution_count": null,
      "outputs": []
    },
    {
      "cell_type": "code",
      "source": [],
      "metadata": {
        "id": "_1WDUNFegJh1"
      },
      "execution_count": null,
      "outputs": []
    },
    {
      "cell_type": "code",
      "source": [],
      "metadata": {
        "id": "6o3tquFugJkz"
      },
      "execution_count": null,
      "outputs": []
    },
    {
      "cell_type": "code",
      "source": [],
      "metadata": {
        "id": "CesOXREZgJn2"
      },
      "execution_count": null,
      "outputs": []
    },
    {
      "cell_type": "code",
      "source": [],
      "metadata": {
        "id": "-3NikvqKgJqN"
      },
      "execution_count": null,
      "outputs": []
    },
    {
      "cell_type": "code",
      "source": [],
      "metadata": {
        "id": "y-uZUALObXPZ"
      },
      "execution_count": null,
      "outputs": []
    },
    {
      "cell_type": "code",
      "source": [
        "param_grid = {'C': [0.1,1, 10, 100], 'gamma': [1,0.1,0.01,0.001],'kernel': ['rbf', 'poly', 'sigmoid']}"
      ],
      "metadata": {
        "id": "5Spwly4kgIly"
      },
      "execution_count": null,
      "outputs": []
    },
    {
      "cell_type": "code",
      "source": [
        "grid = GridSearchCV(SVC(),param_grid,refit=True,verbose=2)\n",
        "grid.fit(x_train,y_train)"
      ],
      "metadata": {
        "colab": {
          "base_uri": "https://localhost:8080/"
        },
        "id": "UdV-4j33gIsB",
        "outputId": "8bbe1660-738f-42b4-947d-23fb46e079c5"
      },
      "execution_count": null,
      "outputs": [
        {
          "metadata": {
            "tags": null
          },
          "name": "stdout",
          "output_type": "stream",
          "text": [
            "Fitting 5 folds for each of 48 candidates, totalling 240 fits\n",
            "[CV] END .........................C=0.1, gamma=1, kernel=rbf; total time= 7.6min\n",
            "[CV] END .........................C=0.1, gamma=1, kernel=rbf; total time= 7.7min\n",
            "[CV] END .........................C=0.1, gamma=1, kernel=rbf; total time= 7.6min\n",
            "[CV] END .........................C=0.1, gamma=1, kernel=rbf; total time= 7.7min\n",
            "[CV] END .........................C=0.1, gamma=1, kernel=rbf; total time= 7.7min\n"
          ]
        }
      ]
    },
    {
      "cell_type": "code",
      "source": [
        "print(grid.best_params_)\n"
      ],
      "metadata": {
        "id": "wIasTkHqgIxL"
      },
      "execution_count": null,
      "outputs": []
    },
    {
      "cell_type": "code",
      "source": [],
      "metadata": {
        "id": "N5T9Fz4ZbXSS"
      },
      "execution_count": null,
      "outputs": []
    },
    {
      "cell_type": "code",
      "source": [],
      "metadata": {
        "id": "YRNtAi9QbXVC"
      },
      "execution_count": null,
      "outputs": []
    },
    {
      "cell_type": "code",
      "source": [
        "knn = KNeighborsClassifier()\n",
        "from sklearn.model_selection import GridSearchCV\n",
        "k_range = list(range(1, 51))\n",
        "param_grid = dict(n_neighbors=k_range)\n",
        "  \n",
        "# defining parameter range\n",
        "grid = GridSearchCV(knn, param_grid, cv=10, scoring='accuracy', return_train_score=False,verbose=2)\n",
        "  \n",
        "# fitting the model for grid search\n",
        "grid_search=grid.fit(x_train, y_train)"
      ],
      "metadata": {
        "id": "YpS3RU17gIz4",
        "colab": {
          "base_uri": "https://localhost:8080/"
        },
        "outputId": "ffe84cf5-61af-46db-cd0f-4f976fe92ff0"
      },
      "execution_count": null,
      "outputs": [
        {
          "output_type": "stream",
          "name": "stdout",
          "text": [
            "Fitting 10 folds for each of 50 candidates, totalling 500 fits\n",
            "[CV] END ......................................n_neighbors=1; total time=   2.1s\n",
            "[CV] END ......................................n_neighbors=1; total time=   1.9s\n",
            "[CV] END ......................................n_neighbors=1; total time=   1.9s\n",
            "[CV] END ......................................n_neighbors=1; total time=   2.0s\n",
            "[CV] END ......................................n_neighbors=1; total time=   2.2s\n",
            "[CV] END ......................................n_neighbors=1; total time=   1.9s\n",
            "[CV] END ......................................n_neighbors=1; total time=   1.9s\n",
            "[CV] END ......................................n_neighbors=1; total time=   1.9s\n",
            "[CV] END ......................................n_neighbors=1; total time=   1.9s\n",
            "[CV] END ......................................n_neighbors=1; total time=   1.9s\n",
            "[CV] END ......................................n_neighbors=2; total time=   2.6s\n",
            "[CV] END ......................................n_neighbors=2; total time=   2.3s\n",
            "[CV] END ......................................n_neighbors=2; total time=   2.3s\n",
            "[CV] END ......................................n_neighbors=2; total time=   2.4s\n",
            "[CV] END ......................................n_neighbors=2; total time=   2.3s\n",
            "[CV] END ......................................n_neighbors=2; total time=   2.5s\n",
            "[CV] END ......................................n_neighbors=2; total time=   2.3s\n",
            "[CV] END ......................................n_neighbors=2; total time=   2.3s\n",
            "[CV] END ......................................n_neighbors=2; total time=   2.3s\n",
            "[CV] END ......................................n_neighbors=2; total time=   2.3s\n",
            "[CV] END ......................................n_neighbors=3; total time=   3.0s\n",
            "[CV] END ......................................n_neighbors=3; total time=   3.1s\n",
            "[CV] END ......................................n_neighbors=3; total time=   4.1s\n",
            "[CV] END ......................................n_neighbors=3; total time=   3.2s\n",
            "[CV] END ......................................n_neighbors=3; total time=   2.9s\n",
            "[CV] END ......................................n_neighbors=3; total time=   2.6s\n",
            "[CV] END ......................................n_neighbors=3; total time=   2.6s\n",
            "[CV] END ......................................n_neighbors=3; total time=   2.6s\n",
            "[CV] END ......................................n_neighbors=3; total time=   2.7s\n",
            "[CV] END ......................................n_neighbors=3; total time=   2.7s\n",
            "[CV] END ......................................n_neighbors=4; total time=   2.0s\n",
            "[CV] END ......................................n_neighbors=4; total time=   2.1s\n",
            "[CV] END ......................................n_neighbors=4; total time=   2.1s\n",
            "[CV] END ......................................n_neighbors=4; total time=   2.1s\n",
            "[CV] END ......................................n_neighbors=4; total time=   2.1s\n",
            "[CV] END ......................................n_neighbors=4; total time=   2.1s\n",
            "[CV] END ......................................n_neighbors=4; total time=   2.1s\n",
            "[CV] END ......................................n_neighbors=4; total time=   2.1s\n",
            "[CV] END ......................................n_neighbors=4; total time=   2.1s\n",
            "[CV] END ......................................n_neighbors=4; total time=   2.2s\n",
            "[CV] END ......................................n_neighbors=5; total time=   2.0s\n",
            "[CV] END ......................................n_neighbors=5; total time=   2.1s\n",
            "[CV] END ......................................n_neighbors=5; total time=   2.1s\n",
            "[CV] END ......................................n_neighbors=5; total time=   2.1s\n",
            "[CV] END ......................................n_neighbors=5; total time=   2.2s\n",
            "[CV] END ......................................n_neighbors=5; total time=   2.1s\n",
            "[CV] END ......................................n_neighbors=5; total time=   2.1s\n",
            "[CV] END ......................................n_neighbors=5; total time=   2.1s\n",
            "[CV] END ......................................n_neighbors=5; total time=   2.1s\n",
            "[CV] END ......................................n_neighbors=5; total time=   2.2s\n",
            "[CV] END ......................................n_neighbors=6; total time=   2.1s\n",
            "[CV] END ......................................n_neighbors=6; total time=   2.1s\n",
            "[CV] END ......................................n_neighbors=6; total time=   2.1s\n",
            "[CV] END ......................................n_neighbors=6; total time=   2.2s\n",
            "[CV] END ......................................n_neighbors=6; total time=   2.1s\n",
            "[CV] END ......................................n_neighbors=6; total time=   2.1s\n",
            "[CV] END ......................................n_neighbors=6; total time=   2.2s\n",
            "[CV] END ......................................n_neighbors=6; total time=   2.2s\n",
            "[CV] END ......................................n_neighbors=6; total time=   2.2s\n",
            "[CV] END ......................................n_neighbors=6; total time=   2.2s\n",
            "[CV] END ......................................n_neighbors=7; total time=   2.1s\n",
            "[CV] END ......................................n_neighbors=7; total time=   2.1s\n",
            "[CV] END ......................................n_neighbors=7; total time=   2.1s\n",
            "[CV] END ......................................n_neighbors=7; total time=   2.1s\n",
            "[CV] END ......................................n_neighbors=7; total time=   2.1s\n",
            "[CV] END ......................................n_neighbors=7; total time=   2.1s\n",
            "[CV] END ......................................n_neighbors=7; total time=   2.1s\n",
            "[CV] END ......................................n_neighbors=7; total time=   2.1s\n",
            "[CV] END ......................................n_neighbors=7; total time=   2.1s\n",
            "[CV] END ......................................n_neighbors=7; total time=   2.2s\n",
            "[CV] END ......................................n_neighbors=8; total time=   2.0s\n",
            "[CV] END ......................................n_neighbors=8; total time=   2.1s\n",
            "[CV] END ......................................n_neighbors=8; total time=   2.1s\n",
            "[CV] END ......................................n_neighbors=8; total time=   2.1s\n",
            "[CV] END ......................................n_neighbors=8; total time=   2.0s\n",
            "[CV] END ......................................n_neighbors=8; total time=   2.1s\n",
            "[CV] END ......................................n_neighbors=8; total time=   2.1s\n",
            "[CV] END ......................................n_neighbors=8; total time=   2.1s\n",
            "[CV] END ......................................n_neighbors=8; total time=   2.1s\n",
            "[CV] END ......................................n_neighbors=8; total time=   2.1s\n",
            "[CV] END ......................................n_neighbors=9; total time=   2.0s\n",
            "[CV] END ......................................n_neighbors=9; total time=   2.1s\n",
            "[CV] END ......................................n_neighbors=9; total time=   2.1s\n",
            "[CV] END ......................................n_neighbors=9; total time=   2.1s\n",
            "[CV] END ......................................n_neighbors=9; total time=   2.1s\n",
            "[CV] END ......................................n_neighbors=9; total time=   2.1s\n",
            "[CV] END ......................................n_neighbors=9; total time=   2.2s\n",
            "[CV] END ......................................n_neighbors=9; total time=   2.1s\n",
            "[CV] END ......................................n_neighbors=9; total time=   2.1s\n",
            "[CV] END ......................................n_neighbors=9; total time=   2.2s\n",
            "[CV] END .....................................n_neighbors=10; total time=   2.0s\n",
            "[CV] END .....................................n_neighbors=10; total time=   2.1s\n",
            "[CV] END .....................................n_neighbors=10; total time=   2.0s\n",
            "[CV] END .....................................n_neighbors=10; total time=   2.1s\n",
            "[CV] END .....................................n_neighbors=10; total time=   2.0s\n",
            "[CV] END .....................................n_neighbors=10; total time=   2.1s\n",
            "[CV] END .....................................n_neighbors=10; total time=   2.1s\n",
            "[CV] END .....................................n_neighbors=10; total time=   2.1s\n",
            "[CV] END .....................................n_neighbors=10; total time=   2.1s\n",
            "[CV] END .....................................n_neighbors=10; total time=   2.2s\n",
            "[CV] END .....................................n_neighbors=11; total time=   2.1s\n",
            "[CV] END .....................................n_neighbors=11; total time=   2.1s\n",
            "[CV] END .....................................n_neighbors=11; total time=   2.1s\n",
            "[CV] END .....................................n_neighbors=11; total time=   2.1s\n",
            "[CV] END .....................................n_neighbors=11; total time=   2.1s\n",
            "[CV] END .....................................n_neighbors=11; total time=   2.2s\n",
            "[CV] END .....................................n_neighbors=11; total time=   2.1s\n",
            "[CV] END .....................................n_neighbors=11; total time=   2.1s\n",
            "[CV] END .....................................n_neighbors=11; total time=   2.1s\n",
            "[CV] END .....................................n_neighbors=11; total time=   2.2s\n",
            "[CV] END .....................................n_neighbors=12; total time=   2.0s\n",
            "[CV] END .....................................n_neighbors=12; total time=   2.2s\n",
            "[CV] END .....................................n_neighbors=12; total time=   2.1s\n",
            "[CV] END .....................................n_neighbors=12; total time=   2.1s\n",
            "[CV] END .....................................n_neighbors=12; total time=   2.1s\n",
            "[CV] END .....................................n_neighbors=12; total time=   2.1s\n",
            "[CV] END .....................................n_neighbors=12; total time=   2.1s\n",
            "[CV] END .....................................n_neighbors=12; total time=   2.1s\n",
            "[CV] END .....................................n_neighbors=12; total time=   2.1s\n",
            "[CV] END .....................................n_neighbors=12; total time=   2.2s\n",
            "[CV] END .....................................n_neighbors=13; total time=   2.0s\n",
            "[CV] END .....................................n_neighbors=13; total time=   2.1s\n",
            "[CV] END .....................................n_neighbors=13; total time=   2.1s\n",
            "[CV] END .....................................n_neighbors=13; total time=   2.1s\n",
            "[CV] END .....................................n_neighbors=13; total time=   2.1s\n",
            "[CV] END .....................................n_neighbors=13; total time=   2.1s\n",
            "[CV] END .....................................n_neighbors=13; total time=   2.2s\n",
            "[CV] END .....................................n_neighbors=13; total time=   2.1s\n",
            "[CV] END .....................................n_neighbors=13; total time=   2.1s\n",
            "[CV] END .....................................n_neighbors=13; total time=   2.2s\n",
            "[CV] END .....................................n_neighbors=14; total time=   2.1s\n",
            "[CV] END .....................................n_neighbors=14; total time=   2.1s\n",
            "[CV] END .....................................n_neighbors=14; total time=   2.1s\n",
            "[CV] END .....................................n_neighbors=14; total time=   2.1s\n",
            "[CV] END .....................................n_neighbors=14; total time=   2.1s\n",
            "[CV] END .....................................n_neighbors=14; total time=   2.1s\n",
            "[CV] END .....................................n_neighbors=14; total time=   2.2s\n",
            "[CV] END .....................................n_neighbors=14; total time=   2.2s\n",
            "[CV] END .....................................n_neighbors=14; total time=   2.2s\n",
            "[CV] END .....................................n_neighbors=14; total time=   2.2s\n",
            "[CV] END .....................................n_neighbors=15; total time=   2.1s\n",
            "[CV] END .....................................n_neighbors=15; total time=   2.1s\n",
            "[CV] END .....................................n_neighbors=15; total time=   2.1s\n",
            "[CV] END .....................................n_neighbors=15; total time=   2.1s\n",
            "[CV] END .....................................n_neighbors=15; total time=   2.1s\n",
            "[CV] END .....................................n_neighbors=15; total time=   2.1s\n",
            "[CV] END .....................................n_neighbors=15; total time=   2.2s\n",
            "[CV] END .....................................n_neighbors=15; total time=   2.1s\n",
            "[CV] END .....................................n_neighbors=15; total time=   2.1s\n",
            "[CV] END .....................................n_neighbors=15; total time=   2.2s\n",
            "[CV] END .....................................n_neighbors=16; total time=   2.0s\n",
            "[CV] END .....................................n_neighbors=16; total time=   2.1s\n",
            "[CV] END .....................................n_neighbors=16; total time=   2.1s\n",
            "[CV] END .....................................n_neighbors=16; total time=   2.1s\n",
            "[CV] END .....................................n_neighbors=16; total time=   2.1s\n",
            "[CV] END .....................................n_neighbors=16; total time=   2.1s\n",
            "[CV] END .....................................n_neighbors=16; total time=   2.5s\n",
            "[CV] END .....................................n_neighbors=16; total time=   2.1s\n",
            "[CV] END .....................................n_neighbors=16; total time=   2.1s\n",
            "[CV] END .....................................n_neighbors=16; total time=   2.2s\n",
            "[CV] END .....................................n_neighbors=17; total time=   2.1s\n",
            "[CV] END .....................................n_neighbors=17; total time=   2.1s\n",
            "[CV] END .....................................n_neighbors=17; total time=   2.1s\n",
            "[CV] END .....................................n_neighbors=17; total time=   2.1s\n",
            "[CV] END .....................................n_neighbors=17; total time=   2.1s\n",
            "[CV] END .....................................n_neighbors=17; total time=   2.1s\n",
            "[CV] END .....................................n_neighbors=17; total time=   2.2s\n",
            "[CV] END .....................................n_neighbors=17; total time=   2.2s\n",
            "[CV] END .....................................n_neighbors=17; total time=   2.1s\n",
            "[CV] END .....................................n_neighbors=17; total time=   2.2s\n",
            "[CV] END .....................................n_neighbors=18; total time=   2.0s\n",
            "[CV] END .....................................n_neighbors=18; total time=   2.1s\n",
            "[CV] END .....................................n_neighbors=18; total time=   2.1s\n",
            "[CV] END .....................................n_neighbors=18; total time=   2.1s\n",
            "[CV] END .....................................n_neighbors=18; total time=   2.1s\n",
            "[CV] END .....................................n_neighbors=18; total time=   2.1s\n",
            "[CV] END .....................................n_neighbors=18; total time=   2.1s\n",
            "[CV] END .....................................n_neighbors=18; total time=   2.2s\n",
            "[CV] END .....................................n_neighbors=18; total time=   2.1s\n",
            "[CV] END .....................................n_neighbors=18; total time=   2.2s\n",
            "[CV] END .....................................n_neighbors=19; total time=   2.0s\n",
            "[CV] END .....................................n_neighbors=19; total time=   2.1s\n",
            "[CV] END .....................................n_neighbors=19; total time=   2.1s\n",
            "[CV] END .....................................n_neighbors=19; total time=   2.1s\n",
            "[CV] END .....................................n_neighbors=19; total time=   2.1s\n",
            "[CV] END .....................................n_neighbors=19; total time=   3.1s\n",
            "[CV] END .....................................n_neighbors=19; total time=   3.2s\n",
            "[CV] END .....................................n_neighbors=19; total time=   2.3s\n",
            "[CV] END .....................................n_neighbors=19; total time=   2.1s\n",
            "[CV] END .....................................n_neighbors=19; total time=   2.2s\n",
            "[CV] END .....................................n_neighbors=20; total time=   2.1s\n",
            "[CV] END .....................................n_neighbors=20; total time=   2.1s\n",
            "[CV] END .....................................n_neighbors=20; total time=   2.1s\n",
            "[CV] END .....................................n_neighbors=20; total time=   2.1s\n",
            "[CV] END .....................................n_neighbors=20; total time=   2.1s\n",
            "[CV] END .....................................n_neighbors=20; total time=   2.1s\n",
            "[CV] END .....................................n_neighbors=20; total time=   2.1s\n",
            "[CV] END .....................................n_neighbors=20; total time=   2.1s\n",
            "[CV] END .....................................n_neighbors=20; total time=   2.1s\n",
            "[CV] END .....................................n_neighbors=20; total time=   2.2s\n",
            "[CV] END .....................................n_neighbors=21; total time=   2.1s\n",
            "[CV] END .....................................n_neighbors=21; total time=   2.1s\n",
            "[CV] END .....................................n_neighbors=21; total time=   2.1s\n",
            "[CV] END .....................................n_neighbors=21; total time=   2.1s\n",
            "[CV] END .....................................n_neighbors=21; total time=   2.1s\n",
            "[CV] END .....................................n_neighbors=21; total time=   2.1s\n",
            "[CV] END .....................................n_neighbors=21; total time=   2.1s\n",
            "[CV] END .....................................n_neighbors=21; total time=   2.1s\n",
            "[CV] END .....................................n_neighbors=21; total time=   2.1s\n",
            "[CV] END .....................................n_neighbors=21; total time=   2.2s\n",
            "[CV] END .....................................n_neighbors=22; total time=   2.1s\n",
            "[CV] END .....................................n_neighbors=22; total time=   2.1s\n",
            "[CV] END .....................................n_neighbors=22; total time=   2.1s\n",
            "[CV] END .....................................n_neighbors=22; total time=   2.1s\n",
            "[CV] END .....................................n_neighbors=22; total time=   2.1s\n",
            "[CV] END .....................................n_neighbors=22; total time=   2.1s\n",
            "[CV] END .....................................n_neighbors=22; total time=   2.1s\n",
            "[CV] END .....................................n_neighbors=22; total time=   2.1s\n",
            "[CV] END .....................................n_neighbors=22; total time=   2.1s\n",
            "[CV] END .....................................n_neighbors=22; total time=   2.2s\n",
            "[CV] END .....................................n_neighbors=23; total time=   2.1s\n",
            "[CV] END .....................................n_neighbors=23; total time=   2.1s\n",
            "[CV] END .....................................n_neighbors=23; total time=   2.1s\n",
            "[CV] END .....................................n_neighbors=23; total time=   2.1s\n",
            "[CV] END .....................................n_neighbors=23; total time=   2.1s\n",
            "[CV] END .....................................n_neighbors=23; total time=   2.1s\n",
            "[CV] END .....................................n_neighbors=23; total time=   2.1s\n",
            "[CV] END .....................................n_neighbors=23; total time=   2.1s\n",
            "[CV] END .....................................n_neighbors=23; total time=   2.1s\n",
            "[CV] END .....................................n_neighbors=23; total time=   2.2s\n",
            "[CV] END .....................................n_neighbors=24; total time=   2.0s\n",
            "[CV] END .....................................n_neighbors=24; total time=   2.1s\n",
            "[CV] END .....................................n_neighbors=24; total time=   2.1s\n",
            "[CV] END .....................................n_neighbors=24; total time=   2.1s\n",
            "[CV] END .....................................n_neighbors=24; total time=   2.1s\n",
            "[CV] END .....................................n_neighbors=24; total time=   2.1s\n",
            "[CV] END .....................................n_neighbors=24; total time=   2.1s\n",
            "[CV] END .....................................n_neighbors=24; total time=   2.1s\n",
            "[CV] END .....................................n_neighbors=24; total time=   2.1s\n",
            "[CV] END .....................................n_neighbors=24; total time=   2.2s\n",
            "[CV] END .....................................n_neighbors=25; total time=   2.0s\n",
            "[CV] END .....................................n_neighbors=25; total time=   2.1s\n",
            "[CV] END .....................................n_neighbors=25; total time=   2.1s\n",
            "[CV] END .....................................n_neighbors=25; total time=   2.1s\n",
            "[CV] END .....................................n_neighbors=25; total time=   2.1s\n",
            "[CV] END .....................................n_neighbors=25; total time=   2.1s\n",
            "[CV] END .....................................n_neighbors=25; total time=   2.2s\n",
            "[CV] END .....................................n_neighbors=25; total time=   2.2s\n",
            "[CV] END .....................................n_neighbors=25; total time=   2.1s\n",
            "[CV] END .....................................n_neighbors=25; total time=   2.3s\n",
            "[CV] END .....................................n_neighbors=26; total time=   2.1s\n",
            "[CV] END .....................................n_neighbors=26; total time=   2.1s\n",
            "[CV] END .....................................n_neighbors=26; total time=   2.1s\n",
            "[CV] END .....................................n_neighbors=26; total time=   2.1s\n",
            "[CV] END .....................................n_neighbors=26; total time=   2.1s\n",
            "[CV] END .....................................n_neighbors=26; total time=   2.1s\n",
            "[CV] END .....................................n_neighbors=26; total time=   2.1s\n",
            "[CV] END .....................................n_neighbors=26; total time=   2.1s\n",
            "[CV] END .....................................n_neighbors=26; total time=   2.2s\n",
            "[CV] END .....................................n_neighbors=26; total time=   2.2s\n",
            "[CV] END .....................................n_neighbors=27; total time=   2.0s\n",
            "[CV] END .....................................n_neighbors=27; total time=   2.1s\n",
            "[CV] END .....................................n_neighbors=27; total time=   2.1s\n",
            "[CV] END .....................................n_neighbors=27; total time=   2.2s\n",
            "[CV] END .....................................n_neighbors=27; total time=   2.1s\n",
            "[CV] END .....................................n_neighbors=27; total time=   2.1s\n",
            "[CV] END .....................................n_neighbors=27; total time=   2.2s\n",
            "[CV] END .....................................n_neighbors=27; total time=   2.1s\n",
            "[CV] END .....................................n_neighbors=27; total time=   2.2s\n",
            "[CV] END .....................................n_neighbors=27; total time=   2.2s\n",
            "[CV] END .....................................n_neighbors=28; total time=   2.1s\n",
            "[CV] END .....................................n_neighbors=28; total time=   2.1s\n",
            "[CV] END .....................................n_neighbors=28; total time=   2.1s\n",
            "[CV] END .....................................n_neighbors=28; total time=   2.2s\n",
            "[CV] END .....................................n_neighbors=28; total time=   2.1s\n",
            "[CV] END .....................................n_neighbors=28; total time=   2.2s\n",
            "[CV] END .....................................n_neighbors=28; total time=   2.1s\n",
            "[CV] END .....................................n_neighbors=28; total time=   2.2s\n",
            "[CV] END .....................................n_neighbors=28; total time=   2.1s\n",
            "[CV] END .....................................n_neighbors=28; total time=   2.2s\n",
            "[CV] END .....................................n_neighbors=29; total time=   2.1s\n",
            "[CV] END .....................................n_neighbors=29; total time=   2.1s\n",
            "[CV] END .....................................n_neighbors=29; total time=   2.1s\n",
            "[CV] END .....................................n_neighbors=29; total time=   2.1s\n",
            "[CV] END .....................................n_neighbors=29; total time=   2.1s\n",
            "[CV] END .....................................n_neighbors=29; total time=   2.1s\n",
            "[CV] END .....................................n_neighbors=29; total time=   2.2s\n",
            "[CV] END .....................................n_neighbors=29; total time=   2.2s\n",
            "[CV] END .....................................n_neighbors=29; total time=   2.2s\n",
            "[CV] END .....................................n_neighbors=29; total time=   2.2s\n",
            "[CV] END .....................................n_neighbors=30; total time=   2.1s\n",
            "[CV] END .....................................n_neighbors=30; total time=   2.1s\n",
            "[CV] END .....................................n_neighbors=30; total time=   2.1s\n",
            "[CV] END .....................................n_neighbors=30; total time=   2.1s\n",
            "[CV] END .....................................n_neighbors=30; total time=   2.0s\n",
            "[CV] END .....................................n_neighbors=30; total time=   2.1s\n",
            "[CV] END .....................................n_neighbors=30; total time=   2.1s\n",
            "[CV] END .....................................n_neighbors=30; total time=   2.2s\n",
            "[CV] END .....................................n_neighbors=30; total time=   2.1s\n",
            "[CV] END .....................................n_neighbors=30; total time=   2.2s\n",
            "[CV] END .....................................n_neighbors=31; total time=   2.1s\n",
            "[CV] END .....................................n_neighbors=31; total time=   2.1s\n",
            "[CV] END .....................................n_neighbors=31; total time=   2.1s\n",
            "[CV] END .....................................n_neighbors=31; total time=   2.2s\n",
            "[CV] END .....................................n_neighbors=31; total time=   2.1s\n",
            "[CV] END .....................................n_neighbors=31; total time=   2.1s\n",
            "[CV] END .....................................n_neighbors=31; total time=   2.2s\n",
            "[CV] END .....................................n_neighbors=31; total time=   2.2s\n",
            "[CV] END .....................................n_neighbors=31; total time=   2.1s\n",
            "[CV] END .....................................n_neighbors=31; total time=   2.2s\n",
            "[CV] END .....................................n_neighbors=32; total time=   2.1s\n",
            "[CV] END .....................................n_neighbors=32; total time=   2.1s\n",
            "[CV] END .....................................n_neighbors=32; total time=   2.1s\n",
            "[CV] END .....................................n_neighbors=32; total time=   2.1s\n",
            "[CV] END .....................................n_neighbors=32; total time=   2.1s\n",
            "[CV] END .....................................n_neighbors=32; total time=   2.1s\n",
            "[CV] END .....................................n_neighbors=32; total time=   2.2s\n",
            "[CV] END .....................................n_neighbors=32; total time=   2.1s\n",
            "[CV] END .....................................n_neighbors=32; total time=   2.2s\n",
            "[CV] END .....................................n_neighbors=32; total time=   2.2s\n",
            "[CV] END .....................................n_neighbors=33; total time=   2.0s\n",
            "[CV] END .....................................n_neighbors=33; total time=   2.1s\n",
            "[CV] END .....................................n_neighbors=33; total time=   2.1s\n",
            "[CV] END .....................................n_neighbors=33; total time=   2.1s\n",
            "[CV] END .....................................n_neighbors=33; total time=   2.1s\n",
            "[CV] END .....................................n_neighbors=33; total time=   2.1s\n",
            "[CV] END .....................................n_neighbors=33; total time=   2.2s\n",
            "[CV] END .....................................n_neighbors=33; total time=   2.2s\n",
            "[CV] END .....................................n_neighbors=33; total time=   2.1s\n",
            "[CV] END .....................................n_neighbors=33; total time=   2.2s\n",
            "[CV] END .....................................n_neighbors=34; total time=   2.1s\n",
            "[CV] END .....................................n_neighbors=34; total time=   2.1s\n",
            "[CV] END .....................................n_neighbors=34; total time=   2.1s\n",
            "[CV] END .....................................n_neighbors=34; total time=   2.1s\n",
            "[CV] END .....................................n_neighbors=34; total time=   2.1s\n",
            "[CV] END .....................................n_neighbors=34; total time=   2.2s\n",
            "[CV] END .....................................n_neighbors=34; total time=   2.2s\n",
            "[CV] END .....................................n_neighbors=34; total time=   2.2s\n",
            "[CV] END .....................................n_neighbors=34; total time=   2.1s\n",
            "[CV] END .....................................n_neighbors=34; total time=   2.2s\n",
            "[CV] END .....................................n_neighbors=35; total time=   2.0s\n",
            "[CV] END .....................................n_neighbors=35; total time=   2.1s\n",
            "[CV] END .....................................n_neighbors=35; total time=   2.1s\n",
            "[CV] END .....................................n_neighbors=35; total time=   2.1s\n",
            "[CV] END .....................................n_neighbors=35; total time=   2.1s\n",
            "[CV] END .....................................n_neighbors=35; total time=   2.1s\n",
            "[CV] END .....................................n_neighbors=35; total time=   2.1s\n",
            "[CV] END .....................................n_neighbors=35; total time=   2.1s\n",
            "[CV] END .....................................n_neighbors=35; total time=   2.1s\n",
            "[CV] END .....................................n_neighbors=35; total time=   2.2s\n",
            "[CV] END .....................................n_neighbors=36; total time=   2.1s\n",
            "[CV] END .....................................n_neighbors=36; total time=   3.1s\n",
            "[CV] END .....................................n_neighbors=36; total time=   3.0s\n",
            "[CV] END .....................................n_neighbors=36; total time=   2.4s\n",
            "[CV] END .....................................n_neighbors=36; total time=   2.1s\n",
            "[CV] END .....................................n_neighbors=36; total time=   2.2s\n",
            "[CV] END .....................................n_neighbors=36; total time=   2.2s\n",
            "[CV] END .....................................n_neighbors=36; total time=   2.1s\n",
            "[CV] END .....................................n_neighbors=36; total time=   2.1s\n",
            "[CV] END .....................................n_neighbors=36; total time=   2.2s\n",
            "[CV] END .....................................n_neighbors=37; total time=   2.0s\n",
            "[CV] END .....................................n_neighbors=37; total time=   2.1s\n",
            "[CV] END .....................................n_neighbors=37; total time=   2.1s\n",
            "[CV] END .....................................n_neighbors=37; total time=   2.1s\n",
            "[CV] END .....................................n_neighbors=37; total time=   2.1s\n",
            "[CV] END .....................................n_neighbors=37; total time=   2.1s\n",
            "[CV] END .....................................n_neighbors=37; total time=   2.1s\n",
            "[CV] END .....................................n_neighbors=37; total time=   2.1s\n",
            "[CV] END .....................................n_neighbors=37; total time=   2.1s\n",
            "[CV] END .....................................n_neighbors=37; total time=   2.2s\n",
            "[CV] END .....................................n_neighbors=38; total time=   2.1s\n",
            "[CV] END .....................................n_neighbors=38; total time=   2.1s\n",
            "[CV] END .....................................n_neighbors=38; total time=   2.1s\n",
            "[CV] END .....................................n_neighbors=38; total time=   2.1s\n",
            "[CV] END .....................................n_neighbors=38; total time=   2.1s\n",
            "[CV] END .....................................n_neighbors=38; total time=   2.1s\n",
            "[CV] END .....................................n_neighbors=38; total time=   2.1s\n",
            "[CV] END .....................................n_neighbors=38; total time=   2.1s\n",
            "[CV] END .....................................n_neighbors=38; total time=   2.1s\n",
            "[CV] END .....................................n_neighbors=38; total time=   2.2s\n",
            "[CV] END .....................................n_neighbors=39; total time=   2.1s\n",
            "[CV] END .....................................n_neighbors=39; total time=   2.1s\n",
            "[CV] END .....................................n_neighbors=39; total time=   2.1s\n",
            "[CV] END .....................................n_neighbors=39; total time=   2.1s\n",
            "[CV] END .....................................n_neighbors=39; total time=   2.1s\n",
            "[CV] END .....................................n_neighbors=39; total time=   2.1s\n",
            "[CV] END .....................................n_neighbors=39; total time=   2.1s\n",
            "[CV] END .....................................n_neighbors=39; total time=   2.1s\n",
            "[CV] END .....................................n_neighbors=39; total time=   2.1s\n",
            "[CV] END .....................................n_neighbors=39; total time=   2.2s\n",
            "[CV] END .....................................n_neighbors=40; total time=   2.1s\n",
            "[CV] END .....................................n_neighbors=40; total time=   2.1s\n",
            "[CV] END .....................................n_neighbors=40; total time=   2.1s\n",
            "[CV] END .....................................n_neighbors=40; total time=   2.2s\n",
            "[CV] END .....................................n_neighbors=40; total time=   2.1s\n",
            "[CV] END .....................................n_neighbors=40; total time=   2.1s\n",
            "[CV] END .....................................n_neighbors=40; total time=   2.1s\n",
            "[CV] END .....................................n_neighbors=40; total time=   2.2s\n",
            "[CV] END .....................................n_neighbors=40; total time=   2.2s\n",
            "[CV] END .....................................n_neighbors=40; total time=   2.2s\n",
            "[CV] END .....................................n_neighbors=41; total time=   2.0s\n",
            "[CV] END .....................................n_neighbors=41; total time=   2.1s\n",
            "[CV] END .....................................n_neighbors=41; total time=   2.1s\n",
            "[CV] END .....................................n_neighbors=41; total time=   2.1s\n",
            "[CV] END .....................................n_neighbors=41; total time=   2.1s\n",
            "[CV] END .....................................n_neighbors=41; total time=   2.1s\n",
            "[CV] END .....................................n_neighbors=41; total time=   2.1s\n",
            "[CV] END .....................................n_neighbors=41; total time=   2.1s\n",
            "[CV] END .....................................n_neighbors=41; total time=   2.2s\n",
            "[CV] END .....................................n_neighbors=41; total time=   2.2s\n",
            "[CV] END .....................................n_neighbors=42; total time=   2.1s\n",
            "[CV] END .....................................n_neighbors=42; total time=   2.1s\n",
            "[CV] END .....................................n_neighbors=42; total time=   2.1s\n",
            "[CV] END .....................................n_neighbors=42; total time=   2.1s\n",
            "[CV] END .....................................n_neighbors=42; total time=   2.1s\n",
            "[CV] END .....................................n_neighbors=42; total time=   2.1s\n",
            "[CV] END .....................................n_neighbors=42; total time=   2.2s\n",
            "[CV] END .....................................n_neighbors=42; total time=   2.1s\n",
            "[CV] END .....................................n_neighbors=42; total time=   2.1s\n",
            "[CV] END .....................................n_neighbors=42; total time=   2.3s\n",
            "[CV] END .....................................n_neighbors=43; total time=   2.2s\n",
            "[CV] END .....................................n_neighbors=43; total time=   2.1s\n",
            "[CV] END .....................................n_neighbors=43; total time=   2.1s\n",
            "[CV] END .....................................n_neighbors=43; total time=   2.1s\n",
            "[CV] END .....................................n_neighbors=43; total time=   2.1s\n",
            "[CV] END .....................................n_neighbors=43; total time=   2.1s\n",
            "[CV] END .....................................n_neighbors=43; total time=   2.2s\n",
            "[CV] END .....................................n_neighbors=43; total time=   2.2s\n",
            "[CV] END .....................................n_neighbors=43; total time=   2.1s\n",
            "[CV] END .....................................n_neighbors=43; total time=   2.2s\n",
            "[CV] END .....................................n_neighbors=44; total time=   2.1s\n",
            "[CV] END .....................................n_neighbors=44; total time=   2.2s\n",
            "[CV] END .....................................n_neighbors=44; total time=   2.1s\n",
            "[CV] END .....................................n_neighbors=44; total time=   2.1s\n",
            "[CV] END .....................................n_neighbors=44; total time=   2.1s\n",
            "[CV] END .....................................n_neighbors=44; total time=   2.1s\n",
            "[CV] END .....................................n_neighbors=44; total time=   2.2s\n",
            "[CV] END .....................................n_neighbors=44; total time=   2.2s\n",
            "[CV] END .....................................n_neighbors=44; total time=   2.2s\n",
            "[CV] END .....................................n_neighbors=44; total time=   2.2s\n",
            "[CV] END .....................................n_neighbors=45; total time=   2.1s\n",
            "[CV] END .....................................n_neighbors=45; total time=   2.1s\n",
            "[CV] END .....................................n_neighbors=45; total time=   2.1s\n",
            "[CV] END .....................................n_neighbors=45; total time=   2.1s\n",
            "[CV] END .....................................n_neighbors=45; total time=   2.1s\n",
            "[CV] END .....................................n_neighbors=45; total time=   2.1s\n",
            "[CV] END .....................................n_neighbors=45; total time=   2.2s\n",
            "[CV] END .....................................n_neighbors=45; total time=   2.2s\n",
            "[CV] END .....................................n_neighbors=45; total time=   2.2s\n",
            "[CV] END .....................................n_neighbors=45; total time=   2.2s\n",
            "[CV] END .....................................n_neighbors=46; total time=   2.1s\n",
            "[CV] END .....................................n_neighbors=46; total time=   2.1s\n",
            "[CV] END .....................................n_neighbors=46; total time=   2.1s\n",
            "[CV] END .....................................n_neighbors=46; total time=   2.1s\n",
            "[CV] END .....................................n_neighbors=46; total time=   2.1s\n",
            "[CV] END .....................................n_neighbors=46; total time=   2.1s\n",
            "[CV] END .....................................n_neighbors=46; total time=   2.1s\n",
            "[CV] END .....................................n_neighbors=46; total time=   2.1s\n",
            "[CV] END .....................................n_neighbors=46; total time=   2.1s\n",
            "[CV] END .....................................n_neighbors=46; total time=   2.2s\n",
            "[CV] END .....................................n_neighbors=47; total time=   2.1s\n",
            "[CV] END .....................................n_neighbors=47; total time=   2.1s\n",
            "[CV] END .....................................n_neighbors=47; total time=   2.1s\n",
            "[CV] END .....................................n_neighbors=47; total time=   2.1s\n",
            "[CV] END .....................................n_neighbors=47; total time=   2.1s\n",
            "[CV] END .....................................n_neighbors=47; total time=   2.1s\n",
            "[CV] END .....................................n_neighbors=47; total time=   2.1s\n",
            "[CV] END .....................................n_neighbors=47; total time=   2.2s\n",
            "[CV] END .....................................n_neighbors=47; total time=   2.1s\n",
            "[CV] END .....................................n_neighbors=47; total time=   2.2s\n",
            "[CV] END .....................................n_neighbors=48; total time=   2.0s\n",
            "[CV] END .....................................n_neighbors=48; total time=   2.1s\n",
            "[CV] END .....................................n_neighbors=48; total time=   2.1s\n",
            "[CV] END .....................................n_neighbors=48; total time=   2.1s\n",
            "[CV] END .....................................n_neighbors=48; total time=   2.1s\n",
            "[CV] END .....................................n_neighbors=48; total time=   2.1s\n",
            "[CV] END .....................................n_neighbors=48; total time=   2.2s\n",
            "[CV] END .....................................n_neighbors=48; total time=   2.2s\n",
            "[CV] END .....................................n_neighbors=48; total time=   2.1s\n",
            "[CV] END .....................................n_neighbors=48; total time=   2.2s\n",
            "[CV] END .....................................n_neighbors=49; total time=   2.1s\n",
            "[CV] END .....................................n_neighbors=49; total time=   2.1s\n",
            "[CV] END .....................................n_neighbors=49; total time=   2.1s\n",
            "[CV] END .....................................n_neighbors=49; total time=   2.1s\n",
            "[CV] END .....................................n_neighbors=49; total time=   2.1s\n",
            "[CV] END .....................................n_neighbors=49; total time=   2.1s\n",
            "[CV] END .....................................n_neighbors=49; total time=   2.1s\n",
            "[CV] END .....................................n_neighbors=49; total time=   2.1s\n",
            "[CV] END .....................................n_neighbors=49; total time=   2.2s\n",
            "[CV] END .....................................n_neighbors=49; total time=   2.2s\n",
            "[CV] END .....................................n_neighbors=50; total time=   2.1s\n",
            "[CV] END .....................................n_neighbors=50; total time=   2.1s\n",
            "[CV] END .....................................n_neighbors=50; total time=   2.1s\n",
            "[CV] END .....................................n_neighbors=50; total time=   2.1s\n",
            "[CV] END .....................................n_neighbors=50; total time=   2.1s\n",
            "[CV] END .....................................n_neighbors=50; total time=   2.1s\n",
            "[CV] END .....................................n_neighbors=50; total time=   2.1s\n",
            "[CV] END .....................................n_neighbors=50; total time=   2.1s\n",
            "[CV] END .....................................n_neighbors=50; total time=   2.2s\n",
            "[CV] END .....................................n_neighbors=50; total time=   2.2s\n"
          ]
        }
      ]
    },
    {
      "cell_type": "code",
      "source": [
        "print(grid_search.best_params_)\n"
      ],
      "metadata": {
        "id": "_NFSmqOmgI3h",
        "colab": {
          "base_uri": "https://localhost:8080/"
        },
        "outputId": "bd4e45f1-d52a-4f59-806b-0ed96a44c570"
      },
      "execution_count": null,
      "outputs": [
        {
          "output_type": "stream",
          "name": "stdout",
          "text": [
            "{'n_neighbors': 48}\n"
          ]
        }
      ]
    }
  ]
}