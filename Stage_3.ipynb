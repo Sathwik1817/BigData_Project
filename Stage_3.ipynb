{
  "nbformat": 4,
  "nbformat_minor": 0,
  "metadata": {
    "colab": {
      "provenance": []
    },
    "kernelspec": {
      "name": "python3",
      "display_name": "Python 3"
    },
    "language_info": {
      "name": "python"
    }
  },
  "cells": [
    {
      "cell_type": "code",
      "execution_count": null,
      "metadata": {
        "colab": {
          "base_uri": "https://localhost:8080/"
        },
        "id": "PmiZDcEomLD0",
        "outputId": "8860456c-d6c6-42ca-e0e2-850c4c22be93"
      },
      "outputs": [
        {
          "output_type": "stream",
          "name": "stdout",
          "text": [
            "Mounted at /content/drive\n"
          ]
        }
      ],
      "source": [
        "from google.colab import drive\n",
        "drive.mount('/content/drive')"
      ]
    },
    {
      "cell_type": "code",
      "source": [
        "import pandas as pd\n",
        "from sklearn.model_selection import train_test_split\n",
        "from sklearn.metrics import confusion_matrix,classification_report,plot_confusion_matrix\n",
        "from sklearn.metrics import accuracy_score, confusion_matrix, classification_report\n",
        "from sklearn.ensemble import RandomForestClassifier\n",
        "from tabulate import tabulate\n",
        "import matplotlib.pyplot as plt\n",
        "import numpy as np\n",
        "from sklearn.model_selection import train_test_split\n",
        "from sklearn.model_selection import GridSearchCV\n",
        "from sklearn.metrics import classification_report, confusion_matrix\n",
        "from sklearn.svm import SVC\n",
        "from sklearn.neighbors import KNeighborsClassifier\n",
        "from sklearn.metrics import accuracy_score, plot_confusion_matrix\n",
        "from numpy import mean\n",
        "from numpy import std\n",
        "from numpy import dstack\n",
        "from pandas import read_csv\n",
        "from keras.models import Sequential\n",
        "from keras.layers import Dense\n",
        "from keras.layers import Flatten\n",
        "from keras.layers import Dropout\n",
        "from keras.layers import LSTM\n",
        "from keras.utils import to_categorical\n",
        "from matplotlib import pyplot\n",
        "import seaborn as sns\n",
        "from sklearn.naive_bayes import MultinomialNB\n",
        "import xgboost as xgb"
      ],
      "metadata": {
        "id": "7cGJxDJyAftx"
      },
      "execution_count": null,
      "outputs": []
    },
    {
      "cell_type": "code",
      "source": [
        "df = pd.DataFrame(pd.read_csv(\"/content/drive/MyDrive/Colab Notebooks/MiniProject-2-Dataset/csh109/csh109.ann.features.csv\"))"
      ],
      "metadata": {
        "id": "6TUuNU2PAfxi"
      },
      "execution_count": null,
      "outputs": []
    },
    {
      "cell_type": "code",
      "source": [
        "df = df[['lastSensorEventHours', 'windowDuration', 'prevDominantSensor1', 'prevDominantSensor2','lastSensorID', 'lastSensorLocation', 'lastMotionLocation', 'sensorCount-Bathroom', 'sensorCount-Bedroom', 'sensorCount-Ignore', 'sensorCount-OutsideDoor', 'sensorElTime-Bathroom', 'sensorElTime-DiningRoom', 'sensorElTime-Hall', 'sensorElTime-Ignore', 'sensorElTime-OutsideDoor', 'activity']].copy()"
      ],
      "metadata": {
        "id": "Mb_mNGEeAf0G"
      },
      "execution_count": null,
      "outputs": []
    },
    {
      "cell_type": "code",
      "source": [
        "df = df.drop(df.index[df['activity'].isin(['Step_Out', 'Other_Activity', 'Phone', 'Personal_Hygiene', 'Relax', 'Sleep_Out_Of_Bed', 'Drink', 'Dress', 'Evening_Meds', 'Wake_Up', 'Read', 'Morning_Meds', 'Work', 'Work_At_Table', 'Cook_Breakfast', 'Eat_Breakfast', 'Bathe', 'Cook_Lunch', 'Eat_Lunch', 'Wash_Lunch_Dishes', 'Go_To_Sleep', 'Bed_Toilet_Transition', 'Wash_Breakfast_Dishes', 'Groom', 'Cook', 'Eat', 'Wash_Dinner_Dishes', 'Wash_Dishes', 'Take_Medicine', 'Entertain_Guests'])])\n",
        "df"
      ],
      "metadata": {
        "colab": {
          "base_uri": "https://localhost:8080/",
          "height": 505
        },
        "id": "Y2QYCLSSAf3G",
        "outputId": "2b932ed3-fec2-444b-f42e-e91e58b9703d"
      },
      "execution_count": null,
      "outputs": [
        {
          "output_type": "execute_result",
          "data": {
            "text/plain": [
              "        lastSensorEventHours  windowDuration  prevDominantSensor1  \\\n",
              "28                       0.0            94.0                  0.0   \n",
              "30                       0.0            55.0                  1.0   \n",
              "31                       0.0            56.0                  1.0   \n",
              "32                       0.0            51.0                  1.0   \n",
              "33                       0.0            46.0                  1.0   \n",
              "...                      ...             ...                  ...   \n",
              "564445                  23.0          7663.0                  0.0   \n",
              "564447                  23.0          8805.0                  0.0   \n",
              "564448                  23.0          8483.0                  0.0   \n",
              "564449                  23.0          8141.0                  0.0   \n",
              "564450                  23.0          7962.0                  1.0   \n",
              "\n",
              "        prevDominantSensor2  lastSensorID  lastSensorLocation  \\\n",
              "28                      0.0           1.0                 1.0   \n",
              "30                      0.0           1.0                 1.0   \n",
              "31                      0.0           1.0                 1.0   \n",
              "32                      0.0           1.0                 1.0   \n",
              "33                      0.0           1.0                 1.0   \n",
              "...                     ...           ...                 ...   \n",
              "564445                  0.0           1.0                 1.0   \n",
              "564447                  0.0           1.0                 1.0   \n",
              "564448                  0.0           1.0                 1.0   \n",
              "564449                  0.0           1.0                 1.0   \n",
              "564450                  0.0           1.0                 1.0   \n",
              "\n",
              "        lastMotionLocation  sensorCount-Bathroom  sensorCount-Bedroom  \\\n",
              "28                     1.0                 21.65                12.70   \n",
              "30                     1.0                 19.40                14.95   \n",
              "31                     1.0                 18.26                16.09   \n",
              "32                     1.0                 17.11                17.24   \n",
              "33                     1.0                 15.95                18.40   \n",
              "...                    ...                   ...                  ...   \n",
              "564445                 1.0                  0.00                29.37   \n",
              "564447                 1.0                  0.00                28.28   \n",
              "564448                 1.0                  0.00                29.53   \n",
              "564449                 1.0                  0.00                30.79   \n",
              "564450                 1.0                  0.00                32.06   \n",
              "\n",
              "        sensorCount-Ignore  sensorCount-OutsideDoor  sensorElTime-Bathroom  \\\n",
              "28                    0.00                      0.0               8.389743   \n",
              "30                    0.00                      0.0              10.217011   \n",
              "31                    0.00                      0.0              13.454694   \n",
              "32                    0.00                      0.0              14.560577   \n",
              "33                    0.00                      0.0              16.748844   \n",
              "...                    ...                      ...                    ...   \n",
              "564445                4.98                      0.0            7729.023467   \n",
              "564447                6.07                      0.0            9078.839591   \n",
              "564448                4.82                      0.0            9078.925833   \n",
              "564449                3.56                      0.0            9079.951691   \n",
              "564450                2.29                      0.0            9080.055677   \n",
              "\n",
              "        sensorElTime-DiningRoom  sensorElTime-Hall  sensorElTime-Ignore  \\\n",
              "28                 86400.000000            86400.0         86400.000000   \n",
              "30                 86400.000000            86400.0         86400.000000   \n",
              "31                 86400.000000            86400.0         86400.000000   \n",
              "32                 86400.000000            86400.0         86400.000000   \n",
              "33                 86400.000000            86400.0         86400.000000   \n",
              "...                         ...                ...                  ...   \n",
              "564445              8155.453745            86400.0          6195.479569   \n",
              "564447              9505.269869            86400.0           405.271094   \n",
              "564448              9505.356111            86400.0           405.357336   \n",
              "564449              9506.381969            86400.0           406.383194   \n",
              "564450              9506.485955            86400.0           406.487180   \n",
              "\n",
              "        sensorElTime-OutsideDoor activity  \n",
              "28                  86400.000000    Sleep  \n",
              "30                  86400.000000    Sleep  \n",
              "31                  86400.000000    Sleep  \n",
              "32                  86400.000000    Sleep  \n",
              "33                  86400.000000    Sleep  \n",
              "...                          ...      ...  \n",
              "564445               8140.865226    Sleep  \n",
              "564447               9490.681350    Sleep  \n",
              "564448               9490.767592    Sleep  \n",
              "564449               9491.793450    Sleep  \n",
              "564450               9491.897436    Sleep  \n",
              "\n",
              "[98304 rows x 17 columns]"
            ],
            "text/html": [
              "\n",
              "  <div id=\"df-94aa65e0-3197-4271-8465-17e46656832a\">\n",
              "    <div class=\"colab-df-container\">\n",
              "      <div>\n",
              "<style scoped>\n",
              "    .dataframe tbody tr th:only-of-type {\n",
              "        vertical-align: middle;\n",
              "    }\n",
              "\n",
              "    .dataframe tbody tr th {\n",
              "        vertical-align: top;\n",
              "    }\n",
              "\n",
              "    .dataframe thead th {\n",
              "        text-align: right;\n",
              "    }\n",
              "</style>\n",
              "<table border=\"1\" class=\"dataframe\">\n",
              "  <thead>\n",
              "    <tr style=\"text-align: right;\">\n",
              "      <th></th>\n",
              "      <th>lastSensorEventHours</th>\n",
              "      <th>windowDuration</th>\n",
              "      <th>prevDominantSensor1</th>\n",
              "      <th>prevDominantSensor2</th>\n",
              "      <th>lastSensorID</th>\n",
              "      <th>lastSensorLocation</th>\n",
              "      <th>lastMotionLocation</th>\n",
              "      <th>sensorCount-Bathroom</th>\n",
              "      <th>sensorCount-Bedroom</th>\n",
              "      <th>sensorCount-Ignore</th>\n",
              "      <th>sensorCount-OutsideDoor</th>\n",
              "      <th>sensorElTime-Bathroom</th>\n",
              "      <th>sensorElTime-DiningRoom</th>\n",
              "      <th>sensorElTime-Hall</th>\n",
              "      <th>sensorElTime-Ignore</th>\n",
              "      <th>sensorElTime-OutsideDoor</th>\n",
              "      <th>activity</th>\n",
              "    </tr>\n",
              "  </thead>\n",
              "  <tbody>\n",
              "    <tr>\n",
              "      <th>28</th>\n",
              "      <td>0.0</td>\n",
              "      <td>94.0</td>\n",
              "      <td>0.0</td>\n",
              "      <td>0.0</td>\n",
              "      <td>1.0</td>\n",
              "      <td>1.0</td>\n",
              "      <td>1.0</td>\n",
              "      <td>21.65</td>\n",
              "      <td>12.70</td>\n",
              "      <td>0.00</td>\n",
              "      <td>0.0</td>\n",
              "      <td>8.389743</td>\n",
              "      <td>86400.000000</td>\n",
              "      <td>86400.0</td>\n",
              "      <td>86400.000000</td>\n",
              "      <td>86400.000000</td>\n",
              "      <td>Sleep</td>\n",
              "    </tr>\n",
              "    <tr>\n",
              "      <th>30</th>\n",
              "      <td>0.0</td>\n",
              "      <td>55.0</td>\n",
              "      <td>1.0</td>\n",
              "      <td>0.0</td>\n",
              "      <td>1.0</td>\n",
              "      <td>1.0</td>\n",
              "      <td>1.0</td>\n",
              "      <td>19.40</td>\n",
              "      <td>14.95</td>\n",
              "      <td>0.00</td>\n",
              "      <td>0.0</td>\n",
              "      <td>10.217011</td>\n",
              "      <td>86400.000000</td>\n",
              "      <td>86400.0</td>\n",
              "      <td>86400.000000</td>\n",
              "      <td>86400.000000</td>\n",
              "      <td>Sleep</td>\n",
              "    </tr>\n",
              "    <tr>\n",
              "      <th>31</th>\n",
              "      <td>0.0</td>\n",
              "      <td>56.0</td>\n",
              "      <td>1.0</td>\n",
              "      <td>0.0</td>\n",
              "      <td>1.0</td>\n",
              "      <td>1.0</td>\n",
              "      <td>1.0</td>\n",
              "      <td>18.26</td>\n",
              "      <td>16.09</td>\n",
              "      <td>0.00</td>\n",
              "      <td>0.0</td>\n",
              "      <td>13.454694</td>\n",
              "      <td>86400.000000</td>\n",
              "      <td>86400.0</td>\n",
              "      <td>86400.000000</td>\n",
              "      <td>86400.000000</td>\n",
              "      <td>Sleep</td>\n",
              "    </tr>\n",
              "    <tr>\n",
              "      <th>32</th>\n",
              "      <td>0.0</td>\n",
              "      <td>51.0</td>\n",
              "      <td>1.0</td>\n",
              "      <td>0.0</td>\n",
              "      <td>1.0</td>\n",
              "      <td>1.0</td>\n",
              "      <td>1.0</td>\n",
              "      <td>17.11</td>\n",
              "      <td>17.24</td>\n",
              "      <td>0.00</td>\n",
              "      <td>0.0</td>\n",
              "      <td>14.560577</td>\n",
              "      <td>86400.000000</td>\n",
              "      <td>86400.0</td>\n",
              "      <td>86400.000000</td>\n",
              "      <td>86400.000000</td>\n",
              "      <td>Sleep</td>\n",
              "    </tr>\n",
              "    <tr>\n",
              "      <th>33</th>\n",
              "      <td>0.0</td>\n",
              "      <td>46.0</td>\n",
              "      <td>1.0</td>\n",
              "      <td>0.0</td>\n",
              "      <td>1.0</td>\n",
              "      <td>1.0</td>\n",
              "      <td>1.0</td>\n",
              "      <td>15.95</td>\n",
              "      <td>18.40</td>\n",
              "      <td>0.00</td>\n",
              "      <td>0.0</td>\n",
              "      <td>16.748844</td>\n",
              "      <td>86400.000000</td>\n",
              "      <td>86400.0</td>\n",
              "      <td>86400.000000</td>\n",
              "      <td>86400.000000</td>\n",
              "      <td>Sleep</td>\n",
              "    </tr>\n",
              "    <tr>\n",
              "      <th>...</th>\n",
              "      <td>...</td>\n",
              "      <td>...</td>\n",
              "      <td>...</td>\n",
              "      <td>...</td>\n",
              "      <td>...</td>\n",
              "      <td>...</td>\n",
              "      <td>...</td>\n",
              "      <td>...</td>\n",
              "      <td>...</td>\n",
              "      <td>...</td>\n",
              "      <td>...</td>\n",
              "      <td>...</td>\n",
              "      <td>...</td>\n",
              "      <td>...</td>\n",
              "      <td>...</td>\n",
              "      <td>...</td>\n",
              "      <td>...</td>\n",
              "    </tr>\n",
              "    <tr>\n",
              "      <th>564445</th>\n",
              "      <td>23.0</td>\n",
              "      <td>7663.0</td>\n",
              "      <td>0.0</td>\n",
              "      <td>0.0</td>\n",
              "      <td>1.0</td>\n",
              "      <td>1.0</td>\n",
              "      <td>1.0</td>\n",
              "      <td>0.00</td>\n",
              "      <td>29.37</td>\n",
              "      <td>4.98</td>\n",
              "      <td>0.0</td>\n",
              "      <td>7729.023467</td>\n",
              "      <td>8155.453745</td>\n",
              "      <td>86400.0</td>\n",
              "      <td>6195.479569</td>\n",
              "      <td>8140.865226</td>\n",
              "      <td>Sleep</td>\n",
              "    </tr>\n",
              "    <tr>\n",
              "      <th>564447</th>\n",
              "      <td>23.0</td>\n",
              "      <td>8805.0</td>\n",
              "      <td>0.0</td>\n",
              "      <td>0.0</td>\n",
              "      <td>1.0</td>\n",
              "      <td>1.0</td>\n",
              "      <td>1.0</td>\n",
              "      <td>0.00</td>\n",
              "      <td>28.28</td>\n",
              "      <td>6.07</td>\n",
              "      <td>0.0</td>\n",
              "      <td>9078.839591</td>\n",
              "      <td>9505.269869</td>\n",
              "      <td>86400.0</td>\n",
              "      <td>405.271094</td>\n",
              "      <td>9490.681350</td>\n",
              "      <td>Sleep</td>\n",
              "    </tr>\n",
              "    <tr>\n",
              "      <th>564448</th>\n",
              "      <td>23.0</td>\n",
              "      <td>8483.0</td>\n",
              "      <td>0.0</td>\n",
              "      <td>0.0</td>\n",
              "      <td>1.0</td>\n",
              "      <td>1.0</td>\n",
              "      <td>1.0</td>\n",
              "      <td>0.00</td>\n",
              "      <td>29.53</td>\n",
              "      <td>4.82</td>\n",
              "      <td>0.0</td>\n",
              "      <td>9078.925833</td>\n",
              "      <td>9505.356111</td>\n",
              "      <td>86400.0</td>\n",
              "      <td>405.357336</td>\n",
              "      <td>9490.767592</td>\n",
              "      <td>Sleep</td>\n",
              "    </tr>\n",
              "    <tr>\n",
              "      <th>564449</th>\n",
              "      <td>23.0</td>\n",
              "      <td>8141.0</td>\n",
              "      <td>0.0</td>\n",
              "      <td>0.0</td>\n",
              "      <td>1.0</td>\n",
              "      <td>1.0</td>\n",
              "      <td>1.0</td>\n",
              "      <td>0.00</td>\n",
              "      <td>30.79</td>\n",
              "      <td>3.56</td>\n",
              "      <td>0.0</td>\n",
              "      <td>9079.951691</td>\n",
              "      <td>9506.381969</td>\n",
              "      <td>86400.0</td>\n",
              "      <td>406.383194</td>\n",
              "      <td>9491.793450</td>\n",
              "      <td>Sleep</td>\n",
              "    </tr>\n",
              "    <tr>\n",
              "      <th>564450</th>\n",
              "      <td>23.0</td>\n",
              "      <td>7962.0</td>\n",
              "      <td>1.0</td>\n",
              "      <td>0.0</td>\n",
              "      <td>1.0</td>\n",
              "      <td>1.0</td>\n",
              "      <td>1.0</td>\n",
              "      <td>0.00</td>\n",
              "      <td>32.06</td>\n",
              "      <td>2.29</td>\n",
              "      <td>0.0</td>\n",
              "      <td>9080.055677</td>\n",
              "      <td>9506.485955</td>\n",
              "      <td>86400.0</td>\n",
              "      <td>406.487180</td>\n",
              "      <td>9491.897436</td>\n",
              "      <td>Sleep</td>\n",
              "    </tr>\n",
              "  </tbody>\n",
              "</table>\n",
              "<p>98304 rows × 17 columns</p>\n",
              "</div>\n",
              "      <button class=\"colab-df-convert\" onclick=\"convertToInteractive('df-94aa65e0-3197-4271-8465-17e46656832a')\"\n",
              "              title=\"Convert this dataframe to an interactive table.\"\n",
              "              style=\"display:none;\">\n",
              "        \n",
              "  <svg xmlns=\"http://www.w3.org/2000/svg\" height=\"24px\"viewBox=\"0 0 24 24\"\n",
              "       width=\"24px\">\n",
              "    <path d=\"M0 0h24v24H0V0z\" fill=\"none\"/>\n",
              "    <path d=\"M18.56 5.44l.94 2.06.94-2.06 2.06-.94-2.06-.94-.94-2.06-.94 2.06-2.06.94zm-11 1L8.5 8.5l.94-2.06 2.06-.94-2.06-.94L8.5 2.5l-.94 2.06-2.06.94zm10 10l.94 2.06.94-2.06 2.06-.94-2.06-.94-.94-2.06-.94 2.06-2.06.94z\"/><path d=\"M17.41 7.96l-1.37-1.37c-.4-.4-.92-.59-1.43-.59-.52 0-1.04.2-1.43.59L10.3 9.45l-7.72 7.72c-.78.78-.78 2.05 0 2.83L4 21.41c.39.39.9.59 1.41.59.51 0 1.02-.2 1.41-.59l7.78-7.78 2.81-2.81c.8-.78.8-2.07 0-2.86zM5.41 20L4 18.59l7.72-7.72 1.47 1.35L5.41 20z\"/>\n",
              "  </svg>\n",
              "      </button>\n",
              "      \n",
              "  <style>\n",
              "    .colab-df-container {\n",
              "      display:flex;\n",
              "      flex-wrap:wrap;\n",
              "      gap: 12px;\n",
              "    }\n",
              "\n",
              "    .colab-df-convert {\n",
              "      background-color: #E8F0FE;\n",
              "      border: none;\n",
              "      border-radius: 50%;\n",
              "      cursor: pointer;\n",
              "      display: none;\n",
              "      fill: #1967D2;\n",
              "      height: 32px;\n",
              "      padding: 0 0 0 0;\n",
              "      width: 32px;\n",
              "    }\n",
              "\n",
              "    .colab-df-convert:hover {\n",
              "      background-color: #E2EBFA;\n",
              "      box-shadow: 0px 1px 2px rgba(60, 64, 67, 0.3), 0px 1px 3px 1px rgba(60, 64, 67, 0.15);\n",
              "      fill: #174EA6;\n",
              "    }\n",
              "\n",
              "    [theme=dark] .colab-df-convert {\n",
              "      background-color: #3B4455;\n",
              "      fill: #D2E3FC;\n",
              "    }\n",
              "\n",
              "    [theme=dark] .colab-df-convert:hover {\n",
              "      background-color: #434B5C;\n",
              "      box-shadow: 0px 1px 3px 1px rgba(0, 0, 0, 0.15);\n",
              "      filter: drop-shadow(0px 1px 2px rgba(0, 0, 0, 0.3));\n",
              "      fill: #FFFFFF;\n",
              "    }\n",
              "  </style>\n",
              "\n",
              "      <script>\n",
              "        const buttonEl =\n",
              "          document.querySelector('#df-94aa65e0-3197-4271-8465-17e46656832a button.colab-df-convert');\n",
              "        buttonEl.style.display =\n",
              "          google.colab.kernel.accessAllowed ? 'block' : 'none';\n",
              "\n",
              "        async function convertToInteractive(key) {\n",
              "          const element = document.querySelector('#df-94aa65e0-3197-4271-8465-17e46656832a');\n",
              "          const dataTable =\n",
              "            await google.colab.kernel.invokeFunction('convertToInteractive',\n",
              "                                                     [key], {});\n",
              "          if (!dataTable) return;\n",
              "\n",
              "          const docLinkHtml = 'Like what you see? Visit the ' +\n",
              "            '<a target=\"_blank\" href=https://colab.research.google.com/notebooks/data_table.ipynb>data table notebook</a>'\n",
              "            + ' to learn more about interactive tables.';\n",
              "          element.innerHTML = '';\n",
              "          dataTable['output_type'] = 'display_data';\n",
              "          await google.colab.output.renderOutput(dataTable, element);\n",
              "          const docLink = document.createElement('div');\n",
              "          docLink.innerHTML = docLinkHtml;\n",
              "          element.appendChild(docLink);\n",
              "        }\n",
              "      </script>\n",
              "    </div>\n",
              "  </div>\n",
              "  "
            ]
          },
          "metadata": {},
          "execution_count": 5
        }
      ]
    },
    {
      "cell_type": "code",
      "source": [
        "columns1 = df.columns.tolist()\n",
        "columns1"
      ],
      "metadata": {
        "colab": {
          "base_uri": "https://localhost:8080/"
        },
        "id": "pl12gTi5Af5V",
        "outputId": "5d13eb75-58ed-4d7e-ff38-2489c537d0dc"
      },
      "execution_count": null,
      "outputs": [
        {
          "output_type": "execute_result",
          "data": {
            "text/plain": [
              "['lastSensorEventHours',\n",
              " 'windowDuration',\n",
              " 'prevDominantSensor1',\n",
              " 'prevDominantSensor2',\n",
              " 'lastSensorID',\n",
              " 'lastSensorLocation',\n",
              " 'lastMotionLocation',\n",
              " 'sensorCount-Bathroom',\n",
              " 'sensorCount-Bedroom',\n",
              " 'sensorCount-Ignore',\n",
              " 'sensorCount-OutsideDoor',\n",
              " 'sensorElTime-Bathroom',\n",
              " 'sensorElTime-DiningRoom',\n",
              " 'sensorElTime-Hall',\n",
              " 'sensorElTime-Ignore',\n",
              " 'sensorElTime-OutsideDoor',\n",
              " 'activity']"
            ]
          },
          "metadata": {},
          "execution_count": 6
        }
      ]
    },
    {
      "cell_type": "code",
      "source": [
        "activity1 = df['activity'].unique().tolist()\n",
        "activity1"
      ],
      "metadata": {
        "colab": {
          "base_uri": "https://localhost:8080/"
        },
        "id": "3yo6VhA8Af8k",
        "outputId": "108e0f53-783b-4586-b099-2a09ecfa1d54"
      },
      "execution_count": null,
      "outputs": [
        {
          "output_type": "execute_result",
          "data": {
            "text/plain": [
              "['Sleep',\n",
              " 'Toilet',\n",
              " 'Leave_Home',\n",
              " 'Enter_Home',\n",
              " 'Work_At_Desk',\n",
              " 'Cook_Dinner',\n",
              " 'Eat_Dinner',\n",
              " 'Watch_TV']"
            ]
          },
          "metadata": {},
          "execution_count": 7
        }
      ]
    },
    {
      "cell_type": "code",
      "source": [
        "Count1 = df['activity'].value_counts()\n",
        "Count1"
      ],
      "metadata": {
        "colab": {
          "base_uri": "https://localhost:8080/"
        },
        "id": "XJDoCmJtAf_O",
        "outputId": "ad6f2a97-c5a0-472a-c3b1-74fe86274f55"
      },
      "execution_count": null,
      "outputs": [
        {
          "output_type": "execute_result",
          "data": {
            "text/plain": [
              "Cook_Dinner     37371\n",
              "Work_At_Desk    17613\n",
              "Toilet          12063\n",
              "Sleep            8747\n",
              "Watch_TV         8453\n",
              "Eat_Dinner       6227\n",
              "Leave_Home       4121\n",
              "Enter_Home       3709\n",
              "Name: activity, dtype: int64"
            ]
          },
          "metadata": {},
          "execution_count": 8
        }
      ]
    },
    {
      "cell_type": "code",
      "source": [
        "percentage1 = df['activity'].value_counts(normalize=True)*100\n",
        "percentage1"
      ],
      "metadata": {
        "colab": {
          "base_uri": "https://localhost:8080/"
        },
        "id": "Y4qWnyxUAgCs",
        "outputId": "c7d5fcfa-9b50-45d9-e288-d5a728f6f058"
      },
      "execution_count": null,
      "outputs": [
        {
          "output_type": "execute_result",
          "data": {
            "text/plain": [
              "Cook_Dinner     38.015747\n",
              "Work_At_Desk    17.916870\n",
              "Toilet          12.271118\n",
              "Sleep            8.897909\n",
              "Watch_TV         8.598836\n",
              "Eat_Dinner       6.334432\n",
              "Leave_Home       4.192098\n",
              "Enter_Home       3.772990\n",
              "Name: activity, dtype: float64"
            ]
          },
          "metadata": {},
          "execution_count": 9
        }
      ]
    },
    {
      "cell_type": "markdown",
      "source": [
        "# CSH109 Train and Test Splitting"
      ],
      "metadata": {
        "id": "Hdhnzm0iBmqq"
      }
    },
    {
      "cell_type": "code",
      "source": [
        "X=df.drop('activity',axis=1)\n",
        "Y=df['activity']\n"
      ],
      "metadata": {
        "id": "JCvqrkvEAgFn"
      },
      "execution_count": null,
      "outputs": []
    },
    {
      "cell_type": "code",
      "source": [
        "x_train,x_test,y_train,y_test=train_test_split(X,Y,test_size=0.3,random_state=100)"
      ],
      "metadata": {
        "id": "W2ydf51nAgJP"
      },
      "execution_count": null,
      "outputs": []
    },
    {
      "cell_type": "markdown",
      "source": [
        "# Shapes of Split Data"
      ],
      "metadata": {
        "id": "mp0AfcF6ChaC"
      }
    },
    {
      "cell_type": "code",
      "source": [
        "x_train.shape,x_test.shape"
      ],
      "metadata": {
        "colab": {
          "base_uri": "https://localhost:8080/"
        },
        "id": "eCIXZvbDAgMg",
        "outputId": "27686336-095a-4637-80dc-ac25496d115b"
      },
      "execution_count": null,
      "outputs": [
        {
          "output_type": "execute_result",
          "data": {
            "text/plain": [
              "((68812, 16), (29492, 16))"
            ]
          },
          "metadata": {},
          "execution_count": 12
        }
      ]
    },
    {
      "cell_type": "code",
      "source": [
        "y_train.shape,y_test.shape"
      ],
      "metadata": {
        "colab": {
          "base_uri": "https://localhost:8080/"
        },
        "id": "nISG7wgbAgQn",
        "outputId": "155c9917-dfd8-41b4-be30-9257fb400419"
      },
      "execution_count": null,
      "outputs": [
        {
          "output_type": "execute_result",
          "data": {
            "text/plain": [
              "((68812,), (29492,))"
            ]
          },
          "metadata": {},
          "execution_count": 13
        }
      ]
    },
    {
      "cell_type": "markdown",
      "source": [
        "# Random Forest Classifier"
      ],
      "metadata": {
        "id": "D5txqskJCwUr"
      }
    },
    {
      "cell_type": "code",
      "source": [
        "rfc=RandomForestClassifier(n_estimators=3,max_features='auto',random_state=100)"
      ],
      "metadata": {
        "id": "huUtFrbsAgS4"
      },
      "execution_count": null,
      "outputs": []
    },
    {
      "cell_type": "code",
      "source": [
        "rfc.fit(x_train,y_train)"
      ],
      "metadata": {
        "colab": {
          "base_uri": "https://localhost:8080/"
        },
        "id": "hn99z4IOAgV6",
        "outputId": "08ca5248-3524-4103-e2ca-7175f2f99596"
      },
      "execution_count": null,
      "outputs": [
        {
          "output_type": "execute_result",
          "data": {
            "text/plain": [
              "RandomForestClassifier(n_estimators=3, random_state=100)"
            ]
          },
          "metadata": {},
          "execution_count": 29
        }
      ]
    },
    {
      "cell_type": "code",
      "source": [
        "rfc_preds=rfc.predict(x_test)"
      ],
      "metadata": {
        "id": "6Hn13_HUAgYn"
      },
      "execution_count": null,
      "outputs": []
    },
    {
      "cell_type": "code",
      "source": [
        "fig, ax = plt.subplots(figsize=(20, 12))\n",
        "plt.xticks(rotation=180)\n",
        "plot_confusion_matrix(rfc,x_test,y_test,ax=ax)"
      ],
      "metadata": {
        "colab": {
          "base_uri": "https://localhost:8080/",
          "height": 787
        },
        "id": "iKfTkEVNAgcg",
        "outputId": "4b35cc59-539a-41ac-f2e3-b3a1b1d935f2"
      },
      "execution_count": null,
      "outputs": [
        {
          "output_type": "stream",
          "name": "stderr",
          "text": [
            "/usr/local/lib/python3.8/dist-packages/sklearn/utils/deprecation.py:87: FutureWarning: Function plot_confusion_matrix is deprecated; Function `plot_confusion_matrix` is deprecated in 1.0 and will be removed in 1.2. Use one of the class methods: ConfusionMatrixDisplay.from_predictions or ConfusionMatrixDisplay.from_estimator.\n",
            "  warnings.warn(msg, category=FutureWarning)\n"
          ]
        },
        {
          "output_type": "execute_result",
          "data": {
            "text/plain": [
              "<sklearn.metrics._plot.confusion_matrix.ConfusionMatrixDisplay at 0x7f8e2d1dfd00>"
            ]
          },
          "metadata": {},
          "execution_count": 31
        },
        {
          "output_type": "display_data",
          "data": {
            "text/plain": [
              "<Figure size 1440x864 with 2 Axes>"
            ],
            "image/png": "[encoded data removed]"
          },
          "metadata": {
            "needs_background": "light"
          }
        }
      ]
    },
    {
      "cell_type": "code",
      "source": [
        "print(classification_report(y_test,rfc_preds))"
      ],
      "metadata": {
        "colab": {
          "base_uri": "https://localhost:8080/"
        },
        "id": "5I2Opru6AgfA",
        "outputId": "fe64cb47-476d-4e9f-9458-0bffb75686cb"
      },
      "execution_count": null,
      "outputs": [
        {
          "output_type": "stream",
          "name": "stdout",
          "text": [
            "              precision    recall  f1-score   support\n",
            "\n",
            " Cook_Dinner       0.99      0.99      0.99     11164\n",
            "  Eat_Dinner       0.97      0.95      0.96      1834\n",
            "  Enter_Home       0.99      0.98      0.99      1107\n",
            "  Leave_Home       0.97      0.99      0.98      1215\n",
            "       Sleep       1.00      1.00      1.00      2686\n",
            "      Toilet       1.00      1.00      1.00      3722\n",
            "    Watch_TV       1.00      0.99      0.99      2492\n",
            "Work_At_Desk       1.00      1.00      1.00      5272\n",
            "\n",
            "    accuracy                           0.99     29492\n",
            "   macro avg       0.99      0.99      0.99     29492\n",
            "weighted avg       0.99      0.99      0.99     29492\n",
            "\n"
          ]
        }
      ]
    },
    {
      "cell_type": "code",
      "source": [
        "rfc_accuracy=accuracy_score(y_test, rfc_preds)\n",
        "rfc_accuracy=rfc_accuracy*100\n",
        "print(\"The accuracy for Random forest classifier model is\",round(rfc_accuracy,2),\"%\")"
      ],
      "metadata": {
        "colab": {
          "base_uri": "https://localhost:8080/"
        },
        "id": "h8WOvoFsAgio",
        "outputId": "3f676374-d310-40ad-a9d4-77cddf00de9a"
      },
      "execution_count": null,
      "outputs": [
        {
          "output_type": "stream",
          "name": "stdout",
          "text": [
            "The accuracy for Random forest classifier model is 99.2 %\n"
          ]
        }
      ]
    },
    {
      "cell_type": "markdown",
      "source": [
        "# K-Nearest Neighbour Classifier"
      ],
      "metadata": {
        "id": "fjRTW_WhDd3q"
      }
    },
    {
      "cell_type": "code",
      "source": [
        "knn = KNeighborsClassifier(n_neighbors=8)\n",
        "knn.fit(x_train, y_train)\n",
        "knn_preds=knn.predict(x_test) "
      ],
      "metadata": {
        "id": "2nMReIFVAglp"
      },
      "execution_count": null,
      "outputs": []
    },
    {
      "cell_type": "code",
      "source": [
        "fig, ax = plt.subplots(figsize=(20, 12))\n",
        "plt.xticks(rotation=180)\n",
        "plot_confusion_matrix(knn,x_test,y_test,ax=ax)"
      ],
      "metadata": {
        "colab": {
          "base_uri": "https://localhost:8080/",
          "height": 787
        },
        "id": "ZHWkviNnAgo0",
        "outputId": "68903ec5-677b-4698-f9f1-f6871e69a2a0"
      },
      "execution_count": null,
      "outputs": [
        {
          "output_type": "stream",
          "name": "stderr",
          "text": [
            "/usr/local/lib/python3.8/dist-packages/sklearn/utils/deprecation.py:87: FutureWarning: Function plot_confusion_matrix is deprecated; Function `plot_confusion_matrix` is deprecated in 1.0 and will be removed in 1.2. Use one of the class methods: ConfusionMatrixDisplay.from_predictions or ConfusionMatrixDisplay.from_estimator.\n",
            "  warnings.warn(msg, category=FutureWarning)\n"
          ]
        },
        {
          "output_type": "execute_result",
          "data": {
            "text/plain": [
              "<sklearn.metrics._plot.confusion_matrix.ConfusionMatrixDisplay at 0x7f8e2a5b5790>"
            ]
          },
          "metadata": {},
          "execution_count": 51
        },
        {
          "output_type": "display_data",
          "data": {
            "text/plain": [
              "<Figure size 1440x864 with 2 Axes>"
            ],
            "image/png": "[encoded data removed]"
          },
          "metadata": {
            "needs_background": "light"
          }
        }
      ]
    },
    {
      "cell_type": "code",
      "source": [
        "print(classification_report(y_test,knn_preds))"
      ],
      "metadata": {
        "colab": {
          "base_uri": "https://localhost:8080/"
        },
        "id": "Vxmael-uAgrZ",
        "outputId": "1f82f278-e74c-4d0f-f1c3-1e24340e0e63"
      },
      "execution_count": null,
      "outputs": [
        {
          "output_type": "stream",
          "name": "stdout",
          "text": [
            "              precision    recall  f1-score   support\n",
            "\n",
            " Cook_Dinner       0.96      0.99      0.98     11164\n",
            "  Eat_Dinner       0.93      0.82      0.87      1834\n",
            "  Enter_Home       0.99      0.98      0.98      1107\n",
            "  Leave_Home       0.92      0.93      0.93      1215\n",
            "       Sleep       0.99      0.98      0.98      2686\n",
            "      Toilet       0.97      0.98      0.98      3722\n",
            "    Watch_TV       0.94      0.89      0.92      2492\n",
            "Work_At_Desk       0.96      0.96      0.96      5272\n",
            "\n",
            "    accuracy                           0.96     29492\n",
            "   macro avg       0.96      0.94      0.95     29492\n",
            "weighted avg       0.96      0.96      0.96     29492\n",
            "\n"
          ]
        }
      ]
    },
    {
      "cell_type": "code",
      "source": [
        "knn_accuracy=accuracy_score(y_test, knn_preds)\n",
        "knn_accuracy=knn_accuracy*100\n",
        "print(\"The accuracy for K-Nearest Neighbour model is\",round(knn_accuracy,2),\"%\")"
      ],
      "metadata": {
        "colab": {
          "base_uri": "https://localhost:8080/"
        },
        "id": "TXx0USy-AgvF",
        "outputId": "a8e0d4af-ee79-4dda-a8a6-c309720269ea"
      },
      "execution_count": null,
      "outputs": [
        {
          "output_type": "stream",
          "name": "stdout",
          "text": [
            "The accuracy for K-Nearest Neighbour model is 96.07 %\n"
          ]
        }
      ]
    },
    {
      "cell_type": "markdown",
      "source": [
        "# Gaussian Naive Bayes"
      ],
      "metadata": {
        "id": "2RGxtVkLIFSh"
      }
    },
    {
      "cell_type": "code",
      "source": [
        "from sklearn.naive_bayes import GaussianNB\n",
        "gnb = GaussianNB()\n",
        "gnb.fit(x_train, y_train)\n",
        "gnb_pred = gnb.predict(x_test)"
      ],
      "metadata": {
        "id": "ZB3MpQqFAgx0"
      },
      "execution_count": null,
      "outputs": []
    },
    {
      "cell_type": "code",
      "source": [
        "fig, ax = plt.subplots(figsize=(20, 12))\n",
        "plt.xticks(rotation=180)\n",
        "plot_confusion_matrix(gnb,x_test,y_test,ax=ax)"
      ],
      "metadata": {
        "colab": {
          "base_uri": "https://localhost:8080/",
          "height": 787
        },
        "id": "tXf1tQ4UAg0w",
        "outputId": "85dbf671-4488-4e1c-920c-38614be6c13f"
      },
      "execution_count": null,
      "outputs": [
        {
          "output_type": "stream",
          "name": "stderr",
          "text": [
            "/usr/local/lib/python3.8/dist-packages/sklearn/utils/deprecation.py:87: FutureWarning: Function plot_confusion_matrix is deprecated; Function `plot_confusion_matrix` is deprecated in 1.0 and will be removed in 1.2. Use one of the class methods: ConfusionMatrixDisplay.from_predictions or ConfusionMatrixDisplay.from_estimator.\n",
            "  warnings.warn(msg, category=FutureWarning)\n"
          ]
        },
        {
          "output_type": "execute_result",
          "data": {
            "text/plain": [
              "<sklearn.metrics._plot.confusion_matrix.ConfusionMatrixDisplay at 0x7f8e2a4b8d60>"
            ]
          },
          "metadata": {},
          "execution_count": 55
        },
        {
          "output_type": "display_data",
          "data": {
            "text/plain": [
              "<Figure size 1440x864 with 2 Axes>"
            ],
            "image/png": "[encoded data removed]"
          },
          "metadata": {
            "needs_background": "light"
          }
        }
      ]
    },
    {
      "cell_type": "code",
      "source": [
        "print(classification_report(y_test,gnb_pred))"
      ],
      "metadata": {
        "colab": {
          "base_uri": "https://localhost:8080/"
        },
        "id": "_B49vvHSAg3n",
        "outputId": "827e15e4-e92c-4ae8-bcc7-a4b70f140d8f"
      },
      "execution_count": null,
      "outputs": [
        {
          "output_type": "stream",
          "name": "stdout",
          "text": [
            "              precision    recall  f1-score   support\n",
            "\n",
            " Cook_Dinner       0.99      0.96      0.98     11164\n",
            "  Eat_Dinner       0.80      0.91      0.85      1834\n",
            "  Enter_Home       0.94      0.95      0.94      1107\n",
            "  Leave_Home       0.44      0.89      0.59      1215\n",
            "       Sleep       0.93      0.92      0.93      2686\n",
            "      Toilet       0.95      0.97      0.96      3722\n",
            "    Watch_TV       0.90      0.84      0.87      2492\n",
            "Work_At_Desk       0.92      0.72      0.81      5272\n",
            "\n",
            "    accuracy                           0.90     29492\n",
            "   macro avg       0.86      0.90      0.87     29492\n",
            "weighted avg       0.92      0.90      0.91     29492\n",
            "\n"
          ]
        }
      ]
    },
    {
      "cell_type": "code",
      "source": [
        "gnb_accuracy=accuracy_score(y_test, gnb_pred)\n",
        "gnb_accuracy=gnb_accuracy*100\n",
        "print(\"The accuracy for Gaussian Naive Bayes model is\",round(gnb_accuracy,2),\"%\")"
      ],
      "metadata": {
        "colab": {
          "base_uri": "https://localhost:8080/"
        },
        "id": "AUmep7i6Ag9f",
        "outputId": "472d9f5d-36c8-48bb-df68-93748d7a6411"
      },
      "execution_count": null,
      "outputs": [
        {
          "output_type": "stream",
          "name": "stdout",
          "text": [
            "The accuracy for Gaussian Naive Bayes model is 90.07 %\n"
          ]
        }
      ]
    },
    {
      "cell_type": "markdown",
      "source": [
        "# X Gradient Boost"
      ],
      "metadata": {
        "id": "MzyEX023r2Vx"
      }
    },
    {
      "cell_type": "code",
      "source": [
        "xgb = xgb.XGBClassifier(\n",
        " learning_rate =0.1,\n",
        " n_estimators=1000,\n",
        " max_depth=5,\n",
        " min_child_weight=1,\n",
        " gamma=0,\n",
        " subsample=0.8,\n",
        " colsample_bytree=0.8,\n",
        " objective= 'multi:softmax',\n",
        " nthread=4,\n",
        " scale_pos_weight=1,\n",
        " seed= 4353)"
      ],
      "metadata": {
        "id": "qvlYd4hBIh9y"
      },
      "execution_count": null,
      "outputs": []
    },
    {
      "cell_type": "code",
      "source": [
        "xgb.fit(x_train, y_train)\n",
        "XGB_pred= xgb.predict(x_test)"
      ],
      "metadata": {
        "id": "ZZfkQjnxIiCT"
      },
      "execution_count": null,
      "outputs": []
    },
    {
      "cell_type": "code",
      "source": [
        "fig, ax = plt.subplots(figsize=(20, 12))\n",
        "plt.xticks(rotation=180)\n",
        "plot_confusion_matrix(xgb,x_test,y_test,ax=ax)"
      ],
      "metadata": {
        "colab": {
          "base_uri": "https://localhost:8080/",
          "height": 787
        },
        "id": "iS_b9DufIiGD",
        "outputId": "69143768-cabe-41b2-89db-32df9b7dcc85"
      },
      "execution_count": null,
      "outputs": [
        {
          "output_type": "stream",
          "name": "stderr",
          "text": [
            "/usr/local/lib/python3.8/dist-packages/sklearn/utils/deprecation.py:87: FutureWarning: Function plot_confusion_matrix is deprecated; Function `plot_confusion_matrix` is deprecated in 1.0 and will be removed in 1.2. Use one of the class methods: ConfusionMatrixDisplay.from_predictions or ConfusionMatrixDisplay.from_estimator.\n",
            "  warnings.warn(msg, category=FutureWarning)\n"
          ]
        },
        {
          "output_type": "execute_result",
          "data": {
            "text/plain": [
              "<sklearn.metrics._plot.confusion_matrix.ConfusionMatrixDisplay at 0x7f8e2a2aee50>"
            ]
          },
          "metadata": {},
          "execution_count": 71
        },
        {
          "output_type": "display_data",
          "data": {
            "text/plain": [
              "<Figure size 1440x864 with 2 Axes>"
            ],
            "image/png": "[encoded data removed]"
          },
          "metadata": {
            "needs_background": "light"
          }
        }
      ]
    },
    {
      "cell_type": "code",
      "source": [
        "print(classification_report(y_test, XGB_pred))"
      ],
      "metadata": {
        "colab": {
          "base_uri": "https://localhost:8080/"
        },
        "id": "CAFTgYJ_IiKH",
        "outputId": "de92d0de-37b9-4539-b6b3-842f339d16aa"
      },
      "execution_count": null,
      "outputs": [
        {
          "output_type": "stream",
          "name": "stdout",
          "text": [
            "              precision    recall  f1-score   support\n",
            "\n",
            " Cook_Dinner       1.00      1.00      1.00     11164\n",
            "  Eat_Dinner       0.98      0.97      0.98      1834\n",
            "  Enter_Home       1.00      1.00      1.00      1107\n",
            "  Leave_Home       1.00      1.00      1.00      1215\n",
            "       Sleep       1.00      1.00      1.00      2686\n",
            "      Toilet       1.00      1.00      1.00      3722\n",
            "    Watch_TV       1.00      1.00      1.00      2492\n",
            "Work_At_Desk       1.00      1.00      1.00      5272\n",
            "\n",
            "    accuracy                           1.00     29492\n",
            "   macro avg       1.00      1.00      1.00     29492\n",
            "weighted avg       1.00      1.00      1.00     29492\n",
            "\n"
          ]
        }
      ]
    },
    {
      "cell_type": "code",
      "source": [
        "XGB_accuracy=accuracy_score(y_test, XGB_pred)\n",
        "XGB_accuracy=XGB_accuracy*100\n",
        "print(\"The accuracy for X-Gradient Boost model is\",round(XGB_accuracy,2),\"%\")"
      ],
      "metadata": {
        "colab": {
          "base_uri": "https://localhost:8080/"
        },
        "id": "p1vssjVCIiNt",
        "outputId": "cd9ed6a2-7196-48a4-9cb5-493f0435de6b"
      },
      "execution_count": null,
      "outputs": [
        {
          "output_type": "stream",
          "name": "stdout",
          "text": [
            "The accuracy for X-Gradient Boost model is 99.66 %\n"
          ]
        }
      ]
    },
    {
      "cell_type": "markdown",
      "source": [
        "##LSTM-RNN Model"
      ],
      "metadata": {
        "id": "sWJm0Ie7sQHm"
      }
    },
    {
      "cell_type": "code",
      "source": [
        "x_train.shape,x_test.shape"
      ],
      "metadata": {
        "colab": {
          "base_uri": "https://localhost:8080/"
        },
        "id": "OVkCBkCFIiSj",
        "outputId": "b30b97a6-309a-4ac3-856b-d9b144125326"
      },
      "execution_count": null,
      "outputs": [
        {
          "output_type": "execute_result",
          "data": {
            "text/plain": [
              "((68812, 16), (29492, 16))"
            ]
          },
          "metadata": {},
          "execution_count": 74
        }
      ]
    },
    {
      "cell_type": "code",
      "source": [
        "y_train.shape,y_test.shape"
      ],
      "metadata": {
        "colab": {
          "base_uri": "https://localhost:8080/"
        },
        "id": "NIkaOC6WIiYf",
        "outputId": "a9db0ccd-3331-4447-caee-0bf265b92cd5"
      },
      "execution_count": null,
      "outputs": [
        {
          "output_type": "execute_result",
          "data": {
            "text/plain": [
              "((68812,), (29492,))"
            ]
          },
          "metadata": {},
          "execution_count": 75
        }
      ]
    },
    {
      "cell_type": "code",
      "source": [
        "from sklearn import preprocessing\n",
        "  \n",
        "# label_encoder object knows how to understand word labels.\n",
        "label_encoder = preprocessing.LabelEncoder()\n",
        "  \n",
        "# Encode labels in column 'species'\n",
        "Y_train= label_encoder.fit_transform(y_train)"
      ],
      "metadata": {
        "id": "g88eCEygIidn"
      },
      "execution_count": null,
      "outputs": []
    },
    {
      "cell_type": "code",
      "source": [
        "from sklearn import preprocessing\n",
        "  \n",
        "# label_encoder object knows how to understand word labels.\n",
        "label_encoder = preprocessing.LabelEncoder()\n",
        "  \n",
        "# Encode labels in column 'species'\n",
        "Y_test= label_encoder.fit_transform(y_test)"
      ],
      "metadata": {
        "id": "m2UWZ3ASNJRs"
      },
      "execution_count": null,
      "outputs": []
    },
    {
      "cell_type": "code",
      "source": [
        "X_train=np.reshape(np.array(x_train),(68812,-1,16))\n",
        "X_test=np.reshape(np.array(x_test),(29492,-1,16))"
      ],
      "metadata": {
        "id": "6BocpmxsNJUv"
      },
      "execution_count": null,
      "outputs": []
    },
    {
      "cell_type": "code",
      "source": [
        "from keras.utils import to_categorical\n",
        "Y_train = to_categorical(Y_train)\n",
        "Y_test = to_categorical(Y_test)"
      ],
      "metadata": {
        "id": "iIZu1PlaNJXj"
      },
      "execution_count": null,
      "outputs": []
    },
    {
      "cell_type": "code",
      "source": [
        "X_train.shape,X_test.shape"
      ],
      "metadata": {
        "colab": {
          "base_uri": "https://localhost:8080/"
        },
        "id": "vTDv-yKTNJaL",
        "outputId": "f71fe83f-175e-4044-f5f0-6e0997d76323"
      },
      "execution_count": null,
      "outputs": [
        {
          "output_type": "execute_result",
          "data": {
            "text/plain": [
              "((68812, 1, 16), (29492, 1, 16))"
            ]
          },
          "metadata": {},
          "execution_count": 80
        }
      ]
    },
    {
      "cell_type": "code",
      "source": [
        "Y_train.shape,Y_test.shape"
      ],
      "metadata": {
        "colab": {
          "base_uri": "https://localhost:8080/"
        },
        "id": "ukHMMq-_NJcs",
        "outputId": "27ff6809-c6cf-460c-dce7-9b979c405bd0"
      },
      "execution_count": null,
      "outputs": [
        {
          "output_type": "execute_result",
          "data": {
            "text/plain": [
              "((68812, 8), (29492, 8))"
            ]
          },
          "metadata": {},
          "execution_count": 81
        }
      ]
    },
    {
      "cell_type": "markdown",
      "source": [
        "##Validation Data"
      ],
      "metadata": {
        "id": "JC95IBBwsaAe"
      }
    },
    {
      "cell_type": "code",
      "source": [
        "X_test,X_val,Y_test,Y_val=train_test_split(X_test,Y_test,test_size=0.5,random_state=100)"
      ],
      "metadata": {
        "id": "3lDDXiWxNJfM"
      },
      "execution_count": null,
      "outputs": []
    },
    {
      "cell_type": "code",
      "source": [
        "X_test.shape,X_val.shape"
      ],
      "metadata": {
        "colab": {
          "base_uri": "https://localhost:8080/"
        },
        "id": "8NAjN3hXNJik",
        "outputId": "b926484f-8230-48ce-dd31-e82b86f0590f"
      },
      "execution_count": null,
      "outputs": [
        {
          "output_type": "execute_result",
          "data": {
            "text/plain": [
              "((14746, 1, 16), (14746, 1, 16))"
            ]
          },
          "metadata": {},
          "execution_count": 83
        }
      ]
    },
    {
      "cell_type": "code",
      "source": [
        "Y_test.shape,Y_val.shape"
      ],
      "metadata": {
        "colab": {
          "base_uri": "https://localhost:8080/"
        },
        "id": "9YCWGnxXNJlm",
        "outputId": "56d4d7b7-bbe2-4837-afc6-68207c9ff9b2"
      },
      "execution_count": null,
      "outputs": [
        {
          "output_type": "execute_result",
          "data": {
            "text/plain": [
              "((14746, 8), (14746, 8))"
            ]
          },
          "metadata": {},
          "execution_count": 84
        }
      ]
    },
    {
      "cell_type": "markdown",
      "source": [
        "## LSTM Architecture"
      ],
      "metadata": {
        "id": "zsipvCjbsjbH"
      }
    },
    {
      "cell_type": "code",
      "source": [
        "model = Sequential()\n",
        "model.add(LSTM(256,input_dim=16, recurrent_activation=\"sigmoid\",activation='relu'))\n",
        "model.add(Dropout(0.2))\n",
        "model.add(Dense(128,activation='relu'))\n",
        "model.add(Dropout(0.2))\n",
        "model.add(Dense(64, activation='relu'))\n",
        "model.add(Dropout(0.2))\n",
        "model.add(Dense(8, activation='softmax'))"
      ],
      "metadata": {
        "id": "mBMrbNOtNJo3"
      },
      "execution_count": null,
      "outputs": []
    },
    {
      "cell_type": "code",
      "source": [
        "model.summary()"
      ],
      "metadata": {
        "colab": {
          "base_uri": "https://localhost:8080/"
        },
        "id": "t7Dbz1wMNJrr",
        "outputId": "82031a09-a41c-48de-be55-42b4cd84cbc1"
      },
      "execution_count": null,
      "outputs": [
        {
          "output_type": "stream",
          "name": "stdout",
          "text": [
            "Model: \"sequential\"\n",
            "_________________________________________________________________\n",
            " Layer (type)                Output Shape              Param #   \n",
            "=================================================================\n",
            " lstm (LSTM)                 (None, 256)               279552    \n",
            "                                                                 \n",
            " dropout (Dropout)           (None, 256)               0         \n",
            "                                                                 \n",
            " dense (Dense)               (None, 128)               32896     \n",
            "                                                                 \n",
            " dropout_1 (Dropout)         (None, 128)               0         \n",
            "                                                                 \n",
            " dense_1 (Dense)             (None, 64)                8256      \n",
            "                                                                 \n",
            " dropout_2 (Dropout)         (None, 64)                0         \n",
            "                                                                 \n",
            " dense_2 (Dense)             (None, 8)                 520       \n",
            "                                                                 \n",
            "=================================================================\n",
            "Total params: 321,224\n",
            "Trainable params: 321,224\n",
            "Non-trainable params: 0\n",
            "_________________________________________________________________\n"
          ]
        }
      ]
    },
    {
      "cell_type": "code",
      "source": [
        "model.compile(loss='categorical_crossentropy', optimizer='adam', metrics=['accuracy'])"
      ],
      "metadata": {
        "id": "i6rR6CGNNJua"
      },
      "execution_count": null,
      "outputs": []
    },
    {
      "cell_type": "code",
      "source": [
        "model.fit(X_train,Y_train,epochs=20,validation_data=(X_val,Y_val))"
      ],
      "metadata": {
        "colab": {
          "base_uri": "https://localhost:8080/"
        },
        "id": "DMdR8l0vNJyZ",
        "outputId": "399ec7d3-3e88-4e5a-b9e2-2f650795ea7a"
      },
      "execution_count": null,
      "outputs": [
        {
          "output_type": "stream",
          "name": "stdout",
          "text": [
            "Epoch 1/20\n",
            "2151/2151 [==============================] - 24s 10ms/step - loss: 15.9539 - accuracy: 0.3735 - val_loss: 1.7828 - val_accuracy: 0.3846\n",
            "Epoch 2/20\n",
            "2151/2151 [==============================] - 25s 12ms/step - loss: 1.8051 - accuracy: 0.3809 - val_loss: 1.7820 - val_accuracy: 0.3841\n",
            "Epoch 3/20\n",
            "2151/2151 [==============================] - 29s 13ms/step - loss: 1.7946 - accuracy: 0.3809 - val_loss: 1.7819 - val_accuracy: 0.3841\n",
            "Epoch 4/20\n",
            "2151/2151 [==============================] - 27s 13ms/step - loss: 1.8052 - accuracy: 0.3808 - val_loss: 1.7818 - val_accuracy: 0.3841\n",
            "Epoch 5/20\n",
            "2151/2151 [==============================] - 26s 12ms/step - loss: 1.8014 - accuracy: 0.3808 - val_loss: 1.7818 - val_accuracy: 0.3841\n",
            "Epoch 6/20\n",
            "2151/2151 [==============================] - 26s 12ms/step - loss: 1.8030 - accuracy: 0.3808 - val_loss: 1.7819 - val_accuracy: 0.3841\n",
            "Epoch 7/20\n",
            "2151/2151 [==============================] - 26s 12ms/step - loss: 1.7908 - accuracy: 0.3808 - val_loss: 1.7820 - val_accuracy: 0.3841\n",
            "Epoch 8/20\n",
            "2151/2151 [==============================] - 26s 12ms/step - loss: 1.7919 - accuracy: 0.3808 - val_loss: 1.7819 - val_accuracy: 0.3841\n",
            "Epoch 9/20\n",
            "2151/2151 [==============================] - 26s 12ms/step - loss: 1.7922 - accuracy: 0.3808 - val_loss: 1.7818 - val_accuracy: 0.3841\n",
            "Epoch 10/20\n",
            "2151/2151 [==============================] - 24s 11ms/step - loss: 1.7910 - accuracy: 0.3809 - val_loss: 1.7817 - val_accuracy: 0.3841\n",
            "Epoch 11/20\n",
            "2151/2151 [==============================] - 25s 11ms/step - loss: 1.7908 - accuracy: 0.3808 - val_loss: 1.7818 - val_accuracy: 0.3841\n",
            "Epoch 12/20\n",
            "2151/2151 [==============================] - 26s 12ms/step - loss: 1.7915 - accuracy: 0.3808 - val_loss: 1.7819 - val_accuracy: 0.3841\n",
            "Epoch 13/20\n",
            "2151/2151 [==============================] - 24s 11ms/step - loss: 1.7949 - accuracy: 0.3808 - val_loss: 1.7818 - val_accuracy: 0.3841\n",
            "Epoch 14/20\n",
            "2151/2151 [==============================] - 24s 11ms/step - loss: 1.7908 - accuracy: 0.3808 - val_loss: 1.7819 - val_accuracy: 0.3841\n",
            "Epoch 15/20\n",
            "2151/2151 [==============================] - 25s 12ms/step - loss: 1.7940 - accuracy: 0.3808 - val_loss: 1.7819 - val_accuracy: 0.3841\n",
            "Epoch 16/20\n",
            "2151/2151 [==============================] - 25s 12ms/step - loss: 1.7916 - accuracy: 0.3808 - val_loss: 1.7818 - val_accuracy: 0.3841\n",
            "Epoch 17/20\n",
            "2151/2151 [==============================] - 26s 12ms/step - loss: 1.7908 - accuracy: 0.3808 - val_loss: 1.7819 - val_accuracy: 0.3841\n",
            "Epoch 18/20\n",
            "2151/2151 [==============================] - 23s 11ms/step - loss: 1.7914 - accuracy: 0.3808 - val_loss: 1.7818 - val_accuracy: 0.3841\n",
            "Epoch 19/20\n",
            "2151/2151 [==============================] - 23s 11ms/step - loss: 1.7995 - accuracy: 0.3811 - val_loss: 1.7820 - val_accuracy: 0.3841\n",
            "Epoch 20/20\n",
            "2151/2151 [==============================] - 22s 10ms/step - loss: 1.7947 - accuracy: 0.3809 - val_loss: 1.7818 - val_accuracy: 0.3841\n"
          ]
        },
        {
          "output_type": "execute_result",
          "data": {
            "text/plain": [
              "<keras.callbacks.History at 0x7f8e2941c820>"
            ]
          },
          "metadata": {},
          "execution_count": 88
        }
      ]
    },
    {
      "cell_type": "code",
      "source": [
        "validation_loss,lstm_accuracy = model.evaluate(X_test, Y_test, batch_size=32, verbose=0)"
      ],
      "metadata": {
        "id": "vkArCiF4NJ2w"
      },
      "execution_count": null,
      "outputs": []
    },
    {
      "cell_type": "code",
      "source": [
        "lstm_accuracy=lstm_accuracy*100"
      ],
      "metadata": {
        "id": "zjQ2PVwRIig4"
      },
      "execution_count": null,
      "outputs": []
    },
    {
      "cell_type": "code",
      "source": [
        "print(\"The accuracy for LSTM model is\",round(lstm_accuracy,2),\"%\")"
      ],
      "metadata": {
        "colab": {
          "base_uri": "https://localhost:8080/"
        },
        "id": "thkE6Z4pAhG-",
        "outputId": "4b5fe577-1139-48e9-9338-0665ac6a0ce6"
      },
      "execution_count": null,
      "outputs": [
        {
          "output_type": "stream",
          "name": "stdout",
          "text": [
            "The accuracy for LSTM model is 37.3 %\n"
          ]
        }
      ]
    },
    {
      "cell_type": "markdown",
      "source": [
        "##Plotting All Accuracies"
      ],
      "metadata": {
        "id": "-KtCnoSasviR"
      }
    },
    {
      "cell_type": "code",
      "source": [
        "model = ['Random Forest','KNN','LSTM','GaussianNaiveBayes','X-GradientBoost']\n",
        "#acc = [rfc_accuracy, knn_accuracy,lstm_accuracy,gnb_accuracy,XGB_accuracy]\n",
        "acc=[99.2,96.07,37.3,90.07,99.66]\n",
        "import plotly.express as px\n",
        "t=['Random Forest:'+'99.2'+\"%\",'KNN:'+'96.07'+'%','LSTM:'+'37.3'+'%','GaussianNaiveBayes:'+'90.07'+'%','X-GradientBoost'+'99.66'+'%']\n",
        "fig = px.line(x=model, y=acc,text=t,markers=True )\n",
        "fig.show()"
      ],
      "metadata": {
        "id": "jGwB2TrLODVM"
      },
      "execution_count": null,
      "outputs": []
    },
    {
      "cell_type": "code",
      "source": [
        "import plotly.graph_objects as go\n",
        "\n",
        "fig = go.Figure()\n",
        "\n",
        "fig.add_trace(go.Scatter(\n",
        "    x=model,\n",
        "    y=acc,\n",
        "    mode=\"lines+markers+text\",\n",
        "    name=\"Lines, Markers and Text\",\n",
        "    text=t,\n",
        "    textposition=\"bottom center\",\n",
        "    textfont=dict(\n",
        "        family=\"sans serif\",\n",
        "        size=12,\n",
        "        color=\"crimson\"\n",
        "    )\n",
        "))\n",
        "fig.update_layout(showlegend=False)\n",
        "\n",
        "fig.show()"
      ],
      "metadata": {
        "id": "vuJmtXroODYS",
        "colab": {
          "base_uri": "https://localhost:8080/",
          "height": 542
        },
        "outputId": "1d64937a-05ab-45bb-f7cd-2da2b88cbc4a"
      },
      "execution_count": null,
      "outputs": [
        {
          "output_type": "display_data",
          "data": {
            "text/html": [
              "<html>\n",
              "<head><meta charset=\"utf-8\" /></head>\n",
              "<body>\n",
              "    <div>            <script src=\"https://cdnjs.cloudflare.com/ajax/libs/mathjax/2.7.5/MathJax.js?config=TeX-AMS-MML_SVG\"></script><script type=\"text/javascript\">if (window.MathJax) {MathJax.Hub.Config({SVG: {font: \"STIX-Web\"}});}</script>                <script type=\"text/javascript\">window.PlotlyConfig = {MathJaxConfig: 'local'};</script>\n",
              "        <script src=\"https://cdn.plot.ly/plotly-2.8.3.min.js\"></script>                <div id=\"4aeac35b-8bab-4ebd-9ed9-dcf14b43869f\" class=\"plotly-graph-div\" style=\"height:525px; width:100%;\"></div>            <script type=\"text/javascript\">                                    window.PLOTLYENV=window.PLOTLYENV || {};                                    if (document.getElementById(\"4aeac35b-8bab-4ebd-9ed9-dcf14b43869f\")) {                    Plotly.newPlot(                        \"4aeac35b-8bab-4ebd-9ed9-dcf14b43869f\",                        [{\"mode\":\"lines+markers+text\",\"name\":\"Lines, Markers and Text\",\"text\":[\"Random Forest:99.2%\",\"KNN:96.07%\",\"LSTM:37.3%\",\"GaussianNaiveBayes:90.07%\",\"X-GradientBoost99.66%\"],\"textfont\":{\"color\":\"crimson\",\"family\":\"sans serif\",\"size\":12},\"textposition\":\"bottom center\",\"x\":[\"Random Forest\",\"KNN\",\"LSTM\",\"GaussianNaiveBayes\",\"X-GradientBoost\"],\"y\":[99.2,96.07,37.3,90.07,99.66],\"type\":\"scatter\"}],                        {\"template\":{\"data\":{\"bar\":[{\"error_x\":{\"color\":\"#2a3f5f\"},\"error_y\":{\"color\":\"#2a3f5f\"},\"marker\":{\"line\":{\"color\":\"#E5ECF6\",\"width\":0.5},\"pattern\":{\"fillmode\":\"overlay\",\"size\":10,\"solidity\":0.2}},\"type\":\"bar\"}],\"barpolar\":[{\"marker\":{\"line\":{\"color\":\"#E5ECF6\",\"width\":0.5},\"pattern\":{\"fillmode\":\"overlay\",\"size\":10,\"solidity\":0.2}},\"type\":\"barpolar\"}],\"carpet\":[{\"aaxis\":{\"endlinecolor\":\"#2a3f5f\",\"gridcolor\":\"white\",\"linecolor\":\"white\",\"minorgridcolor\":\"white\",\"startlinecolor\":\"#2a3f5f\"},\"baxis\":{\"endlinecolor\":\"#2a3f5f\",\"gridcolor\":\"white\",\"linecolor\":\"white\",\"minorgridcolor\":\"white\",\"startlinecolor\":\"#2a3f5f\"},\"type\":\"carpet\"}],\"choropleth\":[{\"colorbar\":{\"outlinewidth\":0,\"ticks\":\"\"},\"type\":\"choropleth\"}],\"contour\":[{\"colorbar\":{\"outlinewidth\":0,\"ticks\":\"\"},\"colorscale\":[[0.0,\"#0d0887\"],[0.1111111111111111,\"#46039f\"],[0.2222222222222222,\"#7201a8\"],[0.3333333333333333,\"#9c179e\"],[0.4444444444444444,\"#bd3786\"],[0.5555555555555556,\"#d8576b\"],[0.6666666666666666,\"#ed7953\"],[0.7777777777777778,\"#fb9f3a\"],[0.8888888888888888,\"#fdca26\"],[1.0,\"#f0f921\"]],\"type\":\"contour\"}],\"contourcarpet\":[{\"colorbar\":{\"outlinewidth\":0,\"ticks\":\"\"},\"type\":\"contourcarpet\"}],\"heatmap\":[{\"colorbar\":{\"outlinewidth\":0,\"ticks\":\"\"},\"colorscale\":[[0.0,\"#0d0887\"],[0.1111111111111111,\"#46039f\"],[0.2222222222222222,\"#7201a8\"],[0.3333333333333333,\"#9c179e\"],[0.4444444444444444,\"#bd3786\"],[0.5555555555555556,\"#d8576b\"],[0.6666666666666666,\"#ed7953\"],[0.7777777777777778,\"#fb9f3a\"],[0.8888888888888888,\"#fdca26\"],[1.0,\"#f0f921\"]],\"type\":\"heatmap\"}],\"heatmapgl\":[{\"colorbar\":{\"outlinewidth\":0,\"ticks\":\"\"},\"colorscale\":[[0.0,\"#0d0887\"],[0.1111111111111111,\"#46039f\"],[0.2222222222222222,\"#7201a8\"],[0.3333333333333333,\"#9c179e\"],[0.4444444444444444,\"#bd3786\"],[0.5555555555555556,\"#d8576b\"],[0.6666666666666666,\"#ed7953\"],[0.7777777777777778,\"#fb9f3a\"],[0.8888888888888888,\"#fdca26\"],[1.0,\"#f0f921\"]],\"type\":\"heatmapgl\"}],\"histogram\":[{\"marker\":{\"pattern\":{\"fillmode\":\"overlay\",\"size\":10,\"solidity\":0.2}},\"type\":\"histogram\"}],\"histogram2d\":[{\"colorbar\":{\"outlinewidth\":0,\"ticks\":\"\"},\"colorscale\":[[0.0,\"#0d0887\"],[0.1111111111111111,\"#46039f\"],[0.2222222222222222,\"#7201a8\"],[0.3333333333333333,\"#9c179e\"],[0.4444444444444444,\"#bd3786\"],[0.5555555555555556,\"#d8576b\"],[0.6666666666666666,\"#ed7953\"],[0.7777777777777778,\"#fb9f3a\"],[0.8888888888888888,\"#fdca26\"],[1.0,\"#f0f921\"]],\"type\":\"histogram2d\"}],\"histogram2dcontour\":[{\"colorbar\":{\"outlinewidth\":0,\"ticks\":\"\"},\"colorscale\":[[0.0,\"#0d0887\"],[0.1111111111111111,\"#46039f\"],[0.2222222222222222,\"#7201a8\"],[0.3333333333333333,\"#9c179e\"],[0.4444444444444444,\"#bd3786\"],[0.5555555555555556,\"#d8576b\"],[0.6666666666666666,\"#ed7953\"],[0.7777777777777778,\"#fb9f3a\"],[0.8888888888888888,\"#fdca26\"],[1.0,\"#f0f921\"]],\"type\":\"histogram2dcontour\"}],\"mesh3d\":[{\"colorbar\":{\"outlinewidth\":0,\"ticks\":\"\"},\"type\":\"mesh3d\"}],\"parcoords\":[{\"line\":{\"colorbar\":{\"outlinewidth\":0,\"ticks\":\"\"}},\"type\":\"parcoords\"}],\"pie\":[{\"automargin\":true,\"type\":\"pie\"}],\"scatter\":[{\"marker\":{\"colorbar\":{\"outlinewidth\":0,\"ticks\":\"\"}},\"type\":\"scatter\"}],\"scatter3d\":[{\"line\":{\"colorbar\":{\"outlinewidth\":0,\"ticks\":\"\"}},\"marker\":{\"colorbar\":{\"outlinewidth\":0,\"ticks\":\"\"}},\"type\":\"scatter3d\"}],\"scattercarpet\":[{\"marker\":{\"colorbar\":{\"outlinewidth\":0,\"ticks\":\"\"}},\"type\":\"scattercarpet\"}],\"scattergeo\":[{\"marker\":{\"colorbar\":{\"outlinewidth\":0,\"ticks\":\"\"}},\"type\":\"scattergeo\"}],\"scattergl\":[{\"marker\":{\"colorbar\":{\"outlinewidth\":0,\"ticks\":\"\"}},\"type\":\"scattergl\"}],\"scattermapbox\":[{\"marker\":{\"colorbar\":{\"outlinewidth\":0,\"ticks\":\"\"}},\"type\":\"scattermapbox\"}],\"scatterpolar\":[{\"marker\":{\"colorbar\":{\"outlinewidth\":0,\"ticks\":\"\"}},\"type\":\"scatterpolar\"}],\"scatterpolargl\":[{\"marker\":{\"colorbar\":{\"outlinewidth\":0,\"ticks\":\"\"}},\"type\":\"scatterpolargl\"}],\"scatterternary\":[{\"marker\":{\"colorbar\":{\"outlinewidth\":0,\"ticks\":\"\"}},\"type\":\"scatterternary\"}],\"surface\":[{\"colorbar\":{\"outlinewidth\":0,\"ticks\":\"\"},\"colorscale\":[[0.0,\"#0d0887\"],[0.1111111111111111,\"#46039f\"],[0.2222222222222222,\"#7201a8\"],[0.3333333333333333,\"#9c179e\"],[0.4444444444444444,\"#bd3786\"],[0.5555555555555556,\"#d8576b\"],[0.6666666666666666,\"#ed7953\"],[0.7777777777777778,\"#fb9f3a\"],[0.8888888888888888,\"#fdca26\"],[1.0,\"#f0f921\"]],\"type\":\"surface\"}],\"table\":[{\"cells\":{\"fill\":{\"color\":\"#EBF0F8\"},\"line\":{\"color\":\"white\"}},\"header\":{\"fill\":{\"color\":\"#C8D4E3\"},\"line\":{\"color\":\"white\"}},\"type\":\"table\"}]},\"layout\":{\"annotationdefaults\":{\"arrowcolor\":\"#2a3f5f\",\"arrowhead\":0,\"arrowwidth\":1},\"autotypenumbers\":\"strict\",\"coloraxis\":{\"colorbar\":{\"outlinewidth\":0,\"ticks\":\"\"}},\"colorscale\":{\"diverging\":[[0,\"#8e0152\"],[0.1,\"#c51b7d\"],[0.2,\"#de77ae\"],[0.3,\"#f1b6da\"],[0.4,\"#fde0ef\"],[0.5,\"#f7f7f7\"],[0.6,\"#e6f5d0\"],[0.7,\"#b8e186\"],[0.8,\"#7fbc41\"],[0.9,\"#4d9221\"],[1,\"#276419\"]],\"sequential\":[[0.0,\"#0d0887\"],[0.1111111111111111,\"#46039f\"],[0.2222222222222222,\"#7201a8\"],[0.3333333333333333,\"#9c179e\"],[0.4444444444444444,\"#bd3786\"],[0.5555555555555556,\"#d8576b\"],[0.6666666666666666,\"#ed7953\"],[0.7777777777777778,\"#fb9f3a\"],[0.8888888888888888,\"#fdca26\"],[1.0,\"#f0f921\"]],\"sequentialminus\":[[0.0,\"#0d0887\"],[0.1111111111111111,\"#46039f\"],[0.2222222222222222,\"#7201a8\"],[0.3333333333333333,\"#9c179e\"],[0.4444444444444444,\"#bd3786\"],[0.5555555555555556,\"#d8576b\"],[0.6666666666666666,\"#ed7953\"],[0.7777777777777778,\"#fb9f3a\"],[0.8888888888888888,\"#fdca26\"],[1.0,\"#f0f921\"]]},\"colorway\":[\"#636efa\",\"#EF553B\",\"#00cc96\",\"#ab63fa\",\"#FFA15A\",\"#19d3f3\",\"#FF6692\",\"#B6E880\",\"#FF97FF\",\"#FECB52\"],\"font\":{\"color\":\"#2a3f5f\"},\"geo\":{\"bgcolor\":\"white\",\"lakecolor\":\"white\",\"landcolor\":\"#E5ECF6\",\"showlakes\":true,\"showland\":true,\"subunitcolor\":\"white\"},\"hoverlabel\":{\"align\":\"left\"},\"hovermode\":\"closest\",\"mapbox\":{\"style\":\"light\"},\"paper_bgcolor\":\"white\",\"plot_bgcolor\":\"#E5ECF6\",\"polar\":{\"angularaxis\":{\"gridcolor\":\"white\",\"linecolor\":\"white\",\"ticks\":\"\"},\"bgcolor\":\"#E5ECF6\",\"radialaxis\":{\"gridcolor\":\"white\",\"linecolor\":\"white\",\"ticks\":\"\"}},\"scene\":{\"xaxis\":{\"backgroundcolor\":\"#E5ECF6\",\"gridcolor\":\"white\",\"gridwidth\":2,\"linecolor\":\"white\",\"showbackground\":true,\"ticks\":\"\",\"zerolinecolor\":\"white\"},\"yaxis\":{\"backgroundcolor\":\"#E5ECF6\",\"gridcolor\":\"white\",\"gridwidth\":2,\"linecolor\":\"white\",\"showbackground\":true,\"ticks\":\"\",\"zerolinecolor\":\"white\"},\"zaxis\":{\"backgroundcolor\":\"#E5ECF6\",\"gridcolor\":\"white\",\"gridwidth\":2,\"linecolor\":\"white\",\"showbackground\":true,\"ticks\":\"\",\"zerolinecolor\":\"white\"}},\"shapedefaults\":{\"line\":{\"color\":\"#2a3f5f\"}},\"ternary\":{\"aaxis\":{\"gridcolor\":\"white\",\"linecolor\":\"white\",\"ticks\":\"\"},\"baxis\":{\"gridcolor\":\"white\",\"linecolor\":\"white\",\"ticks\":\"\"},\"bgcolor\":\"#E5ECF6\",\"caxis\":{\"gridcolor\":\"white\",\"linecolor\":\"white\",\"ticks\":\"\"}},\"title\":{\"x\":0.05},\"xaxis\":{\"automargin\":true,\"gridcolor\":\"white\",\"linecolor\":\"white\",\"ticks\":\"\",\"title\":{\"standoff\":15},\"zerolinecolor\":\"white\",\"zerolinewidth\":2},\"yaxis\":{\"automargin\":true,\"gridcolor\":\"white\",\"linecolor\":\"white\",\"ticks\":\"\",\"title\":{\"standoff\":15},\"zerolinecolor\":\"white\",\"zerolinewidth\":2}}},\"showlegend\":false},                        {\"responsive\": true}                    ).then(function(){\n",
              "                            \n",
              "var gd = document.getElementById('4aeac35b-8bab-4ebd-9ed9-dcf14b43869f');\n",
              "var x = new MutationObserver(function (mutations, observer) {{\n",
              "        var display = window.getComputedStyle(gd).display;\n",
              "        if (!display || display === 'none') {{\n",
              "            console.log([gd, 'removed!']);\n",
              "            Plotly.purge(gd);\n",
              "            observer.disconnect();\n",
              "        }}\n",
              "}});\n",
              "\n",
              "// Listen for the removal of the full notebook cells\n",
              "var notebookContainer = gd.closest('#notebook-container');\n",
              "if (notebookContainer) {{\n",
              "    x.observe(notebookContainer, {childList: true});\n",
              "}}\n",
              "\n",
              "// Listen for the clearing of the current output cell\n",
              "var outputEl = gd.closest('.output');\n",
              "if (outputEl) {{\n",
              "    x.observe(outputEl, {childList: true});\n",
              "}}\n",
              "\n",
              "                        })                };                            </script>        </div>\n",
              "</body>\n",
              "</html>"
            ]
          },
          "metadata": {}
        }
      ]
    },
    {
      "cell_type": "code",
      "source": [],
      "metadata": {
        "id": "0fKwdXU3ODa2"
      },
      "execution_count": null,
      "outputs": []
    },
    {
      "cell_type": "code",
      "source": [],
      "metadata": {
        "id": "ymZxcvDwODd9"
      },
      "execution_count": null,
      "outputs": []
    },
    {
      "cell_type": "code",
      "source": [],
      "metadata": {
        "id": "61tslLwwODhn"
      },
      "execution_count": null,
      "outputs": []
    },
    {
      "cell_type": "code",
      "source": [],
      "metadata": {
        "id": "GHGgQwHwODkg"
      },
      "execution_count": null,
      "outputs": []
    },
    {
      "cell_type": "code",
      "source": [],
      "metadata": {
        "id": "7pOni-DPODnI"
      },
      "execution_count": null,
      "outputs": []
    },
    {
      "cell_type": "code",
      "source": [],
      "metadata": {
        "id": "lNkjgQdsODqt"
      },
      "execution_count": null,
      "outputs": []
    },
    {
      "cell_type": "code",
      "source": [],
      "metadata": {
        "id": "CeRaoxsqODtu"
      },
      "execution_count": null,
      "outputs": []
    },
    {
      "cell_type": "code",
      "source": [],
      "metadata": {
        "id": "edekASSjODxX"
      },
      "execution_count": null,
      "outputs": []
    },
    {
      "cell_type": "code",
      "source": [],
      "metadata": {
        "id": "3Zgu0bKlOD0Y"
      },
      "execution_count": null,
      "outputs": []
    },
    {
      "cell_type": "code",
      "source": [],
      "metadata": {
        "id": "H8YsJRQKOD3t"
      },
      "execution_count": null,
      "outputs": []
    },
    {
      "cell_type": "code",
      "source": [],
      "metadata": {
        "id": "SFiRFKUOOD7N"
      },
      "execution_count": null,
      "outputs": []
    },
    {
      "cell_type": "code",
      "source": [],
      "metadata": {
        "id": "tX_Q-CLbOD_L"
      },
      "execution_count": null,
      "outputs": []
    },
    {
      "cell_type": "code",
      "source": [],
      "metadata": {
        "id": "P449jMJiOEDy"
      },
      "execution_count": null,
      "outputs": []
    },
    {
      "cell_type": "code",
      "source": [],
      "metadata": {
        "id": "aIKYGV9ROEHO"
      },
      "execution_count": null,
      "outputs": []
    }
  ]
}