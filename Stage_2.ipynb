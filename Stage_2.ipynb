{
  "cells": [
    {
      "cell_type": "code",
      "execution_count": null,
      "metadata": {
        "id": "9XkvF1Ux0mf5",
        "colab": {
          "base_uri": "https://localhost:8080/"
        },
        "outputId": "58f65e2b-ea64-4621-bd94-5f7c16e23132"
      },
      "outputs": [
        {
          "output_type": "stream",
          "name": "stdout",
          "text": [
            "Mounted at /gdrive\n"
          ]
        }
      ],
      "source": [
        "from google.colab import drive\n",
        "drive.mount('/gdrive')"
      ]
    },
    {
      "cell_type": "code",
      "execution_count": null,
      "metadata": {
        "id": "gnoIp5Wv2Txg"
      },
      "outputs": [],
      "source": [
        "import pandas as pd\n",
        "from tabulate import tabulate\n",
        "import matplotlib.pyplot as plt\n",
        "import numpy as np\n",
        "from sklearn.preprocessing import LabelEncoder\n",
        "from sklearn.model_selection import train_test_split\n",
        "from sklearn.metrics import confusion_matrix,classification_report,plot_confusion_matrix\n",
        "from sklearn.metrics import accuracy_score, confusion_matrix, classification_report\n",
        "from sklearn.ensemble import RandomForestClassifier\n",
        "from sklearn.tree import DecisionTreeClassifier\n",
        "import pandas as pd\n",
        "from sklearn.model_selection import train_test_split\n",
        "from sklearn.metrics import confusion_matrix,classification_report,plot_confusion_matrix\n",
        "from sklearn.metrics import accuracy_score, confusion_matrix, classification_report\n",
        "from sklearn.ensemble import RandomForestClassifier\n",
        "from tabulate import tabulate\n",
        "import matplotlib.pyplot as plt\n",
        "import numpy as np\n",
        "from sklearn.model_selection import train_test_split\n",
        "from sklearn.model_selection import GridSearchCV\n",
        "from sklearn.metrics import classification_report, confusion_matrix\n",
        "from sklearn.svm import SVC\n",
        "from sklearn.neighbors import KNeighborsClassifier\n",
        "from sklearn.metrics import accuracy_score, plot_confusion_matrix\n",
        "from numpy import mean\n",
        "from numpy import std\n",
        "from numpy import dstack\n",
        "from pandas import read_csv\n",
        "from keras.models import Sequential\n",
        "from keras.layers import Dense\n",
        "from keras.layers import Flatten\n",
        "from keras.layers import Dropout\n",
        "from keras.layers import LSTM\n",
        "from keras.utils import to_categorical\n",
        "from matplotlib import pyplot\n",
        "import seaborn as sns\n",
        "from sklearn.naive_bayes import MultinomialNB\n",
        "import xgboost as xgb"
      ]
    },
    {
      "cell_type": "code",
      "execution_count": null,
      "metadata": {
        "id": "KLCUvz5z1DEf"
      },
      "outputs": [],
      "source": [
        "df= pd.read_csv('/gdrive/MyDrive/Colab Notebooks/MiniProject-2-Dataset/csh101.ann.features.csv', header=[0])"
      ]
    },
    {
      "cell_type": "code",
      "execution_count": null,
      "metadata": {
        "colab": {
          "base_uri": "https://localhost:8080/",
          "height": 852
        },
        "id": "1BY1RUh81DHd",
        "outputId": "8a0fe446-e39a-49a7-885e-91a80ef23f8c"
      },
      "outputs": [
        {
          "output_type": "execute_result",
          "data": {
            "text/plain": [
              "        lastSensorEventHours  lastSensorEventSeconds        Date      Time  \\\n",
              "0                         10                   38464  20-07-2012  10:41:04   \n",
              "1                         10                   38465  20-07-2012  10:41:05   \n",
              "2                         10                   38578  20-07-2012  10:42:58   \n",
              "3                         10                   38582  20-07-2012  10:43:02   \n",
              "4                         10                   38582  20-07-2012  10:43:02   \n",
              "...                      ...                     ...         ...       ...   \n",
              "321423                    23                   85938  21-09-2012  23:52:18   \n",
              "321424                    23                   85990  21-09-2012  23:53:10   \n",
              "321425                    23                   85992  21-09-2012  23:53:12   \n",
              "321426                    23                   85994  21-09-2012  23:53:14   \n",
              "321427                    23                   85995  21-09-2012  23:53:15   \n",
              "\n",
              "             Dateandtime  lastSensorDayOfWeek  windowDuration  \\\n",
              "0       20-07-2012 10:41                    4             130   \n",
              "1       20-07-2012 10:41                    4             131   \n",
              "2       20-07-2012 10:42                    4             241   \n",
              "3       20-07-2012 10:43                    4             244   \n",
              "4       20-07-2012 10:43                    4             243   \n",
              "...                  ...                  ...             ...   \n",
              "321423  21-09-2012 23:52                    0             124   \n",
              "321424  21-09-2012 23:53                    0             146   \n",
              "321425  21-09-2012 23:53                    0             147   \n",
              "321426  21-09-2012 23:53                    0             148   \n",
              "321427  21-09-2012 23:53                    0             148   \n",
              "\n",
              "        timeSinceLastSensorEvent  prevDominantSensor1  prevDominantSensor2  \\\n",
              "0                              0                    0                    0   \n",
              "1                              1                    0                    0   \n",
              "2                            113                    0                    0   \n",
              "3                              4                    0                    0   \n",
              "4                              0                    0                    0   \n",
              "...                          ...                  ...                  ...   \n",
              "321423                         1                    1                    1   \n",
              "321424                        52                    1                    1   \n",
              "321425                         2                    1                    1   \n",
              "321426                         2                    1                    1   \n",
              "321427                         1                    1                    1   \n",
              "\n",
              "        ...  sensorElTime-DiningRoom  sensorElTime-Hall  sensorElTime-Ignore  \\\n",
              "0       ...             86400.000000              86400             0.000000   \n",
              "1       ...             86400.000000              86400             0.055818   \n",
              "2       ...             86400.000000              86400             0.000000   \n",
              "3       ...             86400.000000              86400             0.000000   \n",
              "4       ...             86400.000000              86400             0.063296   \n",
              "...     ...                      ...                ...                  ...   \n",
              "321423  ...              3266.294198              86400            59.532519   \n",
              "321424  ...              3317.884144              86400           111.122465   \n",
              "321425  ...              3319.782223              86400           113.020544   \n",
              "321426  ...              3322.384894              86400           115.623215   \n",
              "321427  ...              3323.542136              86400           116.780457   \n",
              "\n",
              "        sensorElTime-Kitchen  sensorElTime-LivingRoom  sensorElTime-Office  \\\n",
              "0               86400.000000             86400.000000                86400   \n",
              "1               86400.000000             86400.000000                86400   \n",
              "2               86400.000000             86400.000000                86400   \n",
              "3               86400.000000             86400.000000                86400   \n",
              "4               86400.000000             86400.000000                86400   \n",
              "...                      ...                      ...                  ...   \n",
              "321423           3267.785714              1384.742962                86400   \n",
              "321424           3319.375660              1436.332908                86400   \n",
              "321425           3321.273739              1438.230987                86400   \n",
              "321426           3323.876410              1440.833658                86400   \n",
              "321427           3325.033652              1441.990900                86400   \n",
              "\n",
              "        sensorElTime-OutsideDoor  sensorElTime-WorkArea        activity  class  \n",
              "0                       1.816728                  86400        Step_Out     27  \n",
              "1                       0.000000                  86400        Step_Out     27  \n",
              "2                     113.423815                  86400        Step_Out     27  \n",
              "3                     117.696845                  86400        Step_Out     27  \n",
              "4                       0.000000                  86400        Step_Out     27  \n",
              "...                          ...                    ...             ...    ...  \n",
              "321423               1431.566214                  86400  Other_Activity     20  \n",
              "321424               1483.156160                  86400  Other_Activity     20  \n",
              "321425               1485.054239                  86400  Other_Activity     20  \n",
              "321426               1487.656910                  86400  Other_Activity     20  \n",
              "321427               1488.814152                  86400  Other_Activity     20  \n",
              "\n",
              "[321428 rows x 41 columns]"
            ],
            "text/html": [
              "\n",
              "  <div id=\"df-76cdb234-4d58-4475-8618-11079826ba82\">\n",
              "    <div class=\"colab-df-container\">\n",
              "      <div>\n",
              "<style scoped>\n",
              "    .dataframe tbody tr th:only-of-type {\n",
              "        vertical-align: middle;\n",
              "    }\n",
              "\n",
              "    .dataframe tbody tr th {\n",
              "        vertical-align: top;\n",
              "    }\n",
              "\n",
              "    .dataframe thead th {\n",
              "        text-align: right;\n",
              "    }\n",
              "</style>\n",
              "<table border=\"1\" class=\"dataframe\">\n",
              "  <thead>\n",
              "    <tr style=\"text-align: right;\">\n",
              "      <th></th>\n",
              "      <th>lastSensorEventHours</th>\n",
              "      <th>lastSensorEventSeconds</th>\n",
              "      <th>Date</th>\n",
              "      <th>Time</th>\n",
              "      <th>Dateandtime</th>\n",
              "      <th>lastSensorDayOfWeek</th>\n",
              "      <th>windowDuration</th>\n",
              "      <th>timeSinceLastSensorEvent</th>\n",
              "      <th>prevDominantSensor1</th>\n",
              "      <th>prevDominantSensor2</th>\n",
              "      <th>...</th>\n",
              "      <th>sensorElTime-DiningRoom</th>\n",
              "      <th>sensorElTime-Hall</th>\n",
              "      <th>sensorElTime-Ignore</th>\n",
              "      <th>sensorElTime-Kitchen</th>\n",
              "      <th>sensorElTime-LivingRoom</th>\n",
              "      <th>sensorElTime-Office</th>\n",
              "      <th>sensorElTime-OutsideDoor</th>\n",
              "      <th>sensorElTime-WorkArea</th>\n",
              "      <th>activity</th>\n",
              "      <th>class</th>\n",
              "    </tr>\n",
              "  </thead>\n",
              "  <tbody>\n",
              "    <tr>\n",
              "      <th>0</th>\n",
              "      <td>10</td>\n",
              "      <td>38464</td>\n",
              "      <td>20-07-2012</td>\n",
              "      <td>10:41:04</td>\n",
              "      <td>20-07-2012 10:41</td>\n",
              "      <td>4</td>\n",
              "      <td>130</td>\n",
              "      <td>0</td>\n",
              "      <td>0</td>\n",
              "      <td>0</td>\n",
              "      <td>...</td>\n",
              "      <td>86400.000000</td>\n",
              "      <td>86400</td>\n",
              "      <td>0.000000</td>\n",
              "      <td>86400.000000</td>\n",
              "      <td>86400.000000</td>\n",
              "      <td>86400</td>\n",
              "      <td>1.816728</td>\n",
              "      <td>86400</td>\n",
              "      <td>Step_Out</td>\n",
              "      <td>27</td>\n",
              "    </tr>\n",
              "    <tr>\n",
              "      <th>1</th>\n",
              "      <td>10</td>\n",
              "      <td>38465</td>\n",
              "      <td>20-07-2012</td>\n",
              "      <td>10:41:05</td>\n",
              "      <td>20-07-2012 10:41</td>\n",
              "      <td>4</td>\n",
              "      <td>131</td>\n",
              "      <td>1</td>\n",
              "      <td>0</td>\n",
              "      <td>0</td>\n",
              "      <td>...</td>\n",
              "      <td>86400.000000</td>\n",
              "      <td>86400</td>\n",
              "      <td>0.055818</td>\n",
              "      <td>86400.000000</td>\n",
              "      <td>86400.000000</td>\n",
              "      <td>86400</td>\n",
              "      <td>0.000000</td>\n",
              "      <td>86400</td>\n",
              "      <td>Step_Out</td>\n",
              "      <td>27</td>\n",
              "    </tr>\n",
              "    <tr>\n",
              "      <th>2</th>\n",
              "      <td>10</td>\n",
              "      <td>38578</td>\n",
              "      <td>20-07-2012</td>\n",
              "      <td>10:42:58</td>\n",
              "      <td>20-07-2012 10:42</td>\n",
              "      <td>4</td>\n",
              "      <td>241</td>\n",
              "      <td>113</td>\n",
              "      <td>0</td>\n",
              "      <td>0</td>\n",
              "      <td>...</td>\n",
              "      <td>86400.000000</td>\n",
              "      <td>86400</td>\n",
              "      <td>0.000000</td>\n",
              "      <td>86400.000000</td>\n",
              "      <td>86400.000000</td>\n",
              "      <td>86400</td>\n",
              "      <td>113.423815</td>\n",
              "      <td>86400</td>\n",
              "      <td>Step_Out</td>\n",
              "      <td>27</td>\n",
              "    </tr>\n",
              "    <tr>\n",
              "      <th>3</th>\n",
              "      <td>10</td>\n",
              "      <td>38582</td>\n",
              "      <td>20-07-2012</td>\n",
              "      <td>10:43:02</td>\n",
              "      <td>20-07-2012 10:43</td>\n",
              "      <td>4</td>\n",
              "      <td>244</td>\n",
              "      <td>4</td>\n",
              "      <td>0</td>\n",
              "      <td>0</td>\n",
              "      <td>...</td>\n",
              "      <td>86400.000000</td>\n",
              "      <td>86400</td>\n",
              "      <td>0.000000</td>\n",
              "      <td>86400.000000</td>\n",
              "      <td>86400.000000</td>\n",
              "      <td>86400</td>\n",
              "      <td>117.696845</td>\n",
              "      <td>86400</td>\n",
              "      <td>Step_Out</td>\n",
              "      <td>27</td>\n",
              "    </tr>\n",
              "    <tr>\n",
              "      <th>4</th>\n",
              "      <td>10</td>\n",
              "      <td>38582</td>\n",
              "      <td>20-07-2012</td>\n",
              "      <td>10:43:02</td>\n",
              "      <td>20-07-2012 10:43</td>\n",
              "      <td>4</td>\n",
              "      <td>243</td>\n",
              "      <td>0</td>\n",
              "      <td>0</td>\n",
              "      <td>0</td>\n",
              "      <td>...</td>\n",
              "      <td>86400.000000</td>\n",
              "      <td>86400</td>\n",
              "      <td>0.063296</td>\n",
              "      <td>86400.000000</td>\n",
              "      <td>86400.000000</td>\n",
              "      <td>86400</td>\n",
              "      <td>0.000000</td>\n",
              "      <td>86400</td>\n",
              "      <td>Step_Out</td>\n",
              "      <td>27</td>\n",
              "    </tr>\n",
              "    <tr>\n",
              "      <th>...</th>\n",
              "      <td>...</td>\n",
              "      <td>...</td>\n",
              "      <td>...</td>\n",
              "      <td>...</td>\n",
              "      <td>...</td>\n",
              "      <td>...</td>\n",
              "      <td>...</td>\n",
              "      <td>...</td>\n",
              "      <td>...</td>\n",
              "      <td>...</td>\n",
              "      <td>...</td>\n",
              "      <td>...</td>\n",
              "      <td>...</td>\n",
              "      <td>...</td>\n",
              "      <td>...</td>\n",
              "      <td>...</td>\n",
              "      <td>...</td>\n",
              "      <td>...</td>\n",
              "      <td>...</td>\n",
              "      <td>...</td>\n",
              "      <td>...</td>\n",
              "    </tr>\n",
              "    <tr>\n",
              "      <th>321423</th>\n",
              "      <td>23</td>\n",
              "      <td>85938</td>\n",
              "      <td>21-09-2012</td>\n",
              "      <td>23:52:18</td>\n",
              "      <td>21-09-2012 23:52</td>\n",
              "      <td>0</td>\n",
              "      <td>124</td>\n",
              "      <td>1</td>\n",
              "      <td>1</td>\n",
              "      <td>1</td>\n",
              "      <td>...</td>\n",
              "      <td>3266.294198</td>\n",
              "      <td>86400</td>\n",
              "      <td>59.532519</td>\n",
              "      <td>3267.785714</td>\n",
              "      <td>1384.742962</td>\n",
              "      <td>86400</td>\n",
              "      <td>1431.566214</td>\n",
              "      <td>86400</td>\n",
              "      <td>Other_Activity</td>\n",
              "      <td>20</td>\n",
              "    </tr>\n",
              "    <tr>\n",
              "      <th>321424</th>\n",
              "      <td>23</td>\n",
              "      <td>85990</td>\n",
              "      <td>21-09-2012</td>\n",
              "      <td>23:53:10</td>\n",
              "      <td>21-09-2012 23:53</td>\n",
              "      <td>0</td>\n",
              "      <td>146</td>\n",
              "      <td>52</td>\n",
              "      <td>1</td>\n",
              "      <td>1</td>\n",
              "      <td>...</td>\n",
              "      <td>3317.884144</td>\n",
              "      <td>86400</td>\n",
              "      <td>111.122465</td>\n",
              "      <td>3319.375660</td>\n",
              "      <td>1436.332908</td>\n",
              "      <td>86400</td>\n",
              "      <td>1483.156160</td>\n",
              "      <td>86400</td>\n",
              "      <td>Other_Activity</td>\n",
              "      <td>20</td>\n",
              "    </tr>\n",
              "    <tr>\n",
              "      <th>321425</th>\n",
              "      <td>23</td>\n",
              "      <td>85992</td>\n",
              "      <td>21-09-2012</td>\n",
              "      <td>23:53:12</td>\n",
              "      <td>21-09-2012 23:53</td>\n",
              "      <td>0</td>\n",
              "      <td>147</td>\n",
              "      <td>2</td>\n",
              "      <td>1</td>\n",
              "      <td>1</td>\n",
              "      <td>...</td>\n",
              "      <td>3319.782223</td>\n",
              "      <td>86400</td>\n",
              "      <td>113.020544</td>\n",
              "      <td>3321.273739</td>\n",
              "      <td>1438.230987</td>\n",
              "      <td>86400</td>\n",
              "      <td>1485.054239</td>\n",
              "      <td>86400</td>\n",
              "      <td>Other_Activity</td>\n",
              "      <td>20</td>\n",
              "    </tr>\n",
              "    <tr>\n",
              "      <th>321426</th>\n",
              "      <td>23</td>\n",
              "      <td>85994</td>\n",
              "      <td>21-09-2012</td>\n",
              "      <td>23:53:14</td>\n",
              "      <td>21-09-2012 23:53</td>\n",
              "      <td>0</td>\n",
              "      <td>148</td>\n",
              "      <td>2</td>\n",
              "      <td>1</td>\n",
              "      <td>1</td>\n",
              "      <td>...</td>\n",
              "      <td>3322.384894</td>\n",
              "      <td>86400</td>\n",
              "      <td>115.623215</td>\n",
              "      <td>3323.876410</td>\n",
              "      <td>1440.833658</td>\n",
              "      <td>86400</td>\n",
              "      <td>1487.656910</td>\n",
              "      <td>86400</td>\n",
              "      <td>Other_Activity</td>\n",
              "      <td>20</td>\n",
              "    </tr>\n",
              "    <tr>\n",
              "      <th>321427</th>\n",
              "      <td>23</td>\n",
              "      <td>85995</td>\n",
              "      <td>21-09-2012</td>\n",
              "      <td>23:53:15</td>\n",
              "      <td>21-09-2012 23:53</td>\n",
              "      <td>0</td>\n",
              "      <td>148</td>\n",
              "      <td>1</td>\n",
              "      <td>1</td>\n",
              "      <td>1</td>\n",
              "      <td>...</td>\n",
              "      <td>3323.542136</td>\n",
              "      <td>86400</td>\n",
              "      <td>116.780457</td>\n",
              "      <td>3325.033652</td>\n",
              "      <td>1441.990900</td>\n",
              "      <td>86400</td>\n",
              "      <td>1488.814152</td>\n",
              "      <td>86400</td>\n",
              "      <td>Other_Activity</td>\n",
              "      <td>20</td>\n",
              "    </tr>\n",
              "  </tbody>\n",
              "</table>\n",
              "<p>321428 rows × 41 columns</p>\n",
              "</div>\n",
              "      <button class=\"colab-df-convert\" onclick=\"convertToInteractive('df-76cdb234-4d58-4475-8618-11079826ba82')\"\n",
              "              title=\"Convert this dataframe to an interactive table.\"\n",
              "              style=\"display:none;\">\n",
              "        \n",
              "  <svg xmlns=\"http://www.w3.org/2000/svg\" height=\"24px\"viewBox=\"0 0 24 24\"\n",
              "       width=\"24px\">\n",
              "    <path d=\"M0 0h24v24H0V0z\" fill=\"none\"/>\n",
              "    <path d=\"M18.56 5.44l.94 2.06.94-2.06 2.06-.94-2.06-.94-.94-2.06-.94 2.06-2.06.94zm-11 1L8.5 8.5l.94-2.06 2.06-.94-2.06-.94L8.5 2.5l-.94 2.06-2.06.94zm10 10l.94 2.06.94-2.06 2.06-.94-2.06-.94-.94-2.06-.94 2.06-2.06.94z\"/><path d=\"M17.41 7.96l-1.37-1.37c-.4-.4-.92-.59-1.43-.59-.52 0-1.04.2-1.43.59L10.3 9.45l-7.72 7.72c-.78.78-.78 2.05 0 2.83L4 21.41c.39.39.9.59 1.41.59.51 0 1.02-.2 1.41-.59l7.78-7.78 2.81-2.81c.8-.78.8-2.07 0-2.86zM5.41 20L4 18.59l7.72-7.72 1.47 1.35L5.41 20z\"/>\n",
              "  </svg>\n",
              "      </button>\n",
              "      \n",
              "  <style>\n",
              "    .colab-df-container {\n",
              "      display:flex;\n",
              "      flex-wrap:wrap;\n",
              "      gap: 12px;\n",
              "    }\n",
              "\n",
              "    .colab-df-convert {\n",
              "      background-color: #E8F0FE;\n",
              "      border: none;\n",
              "      border-radius: 50%;\n",
              "      cursor: pointer;\n",
              "      display: none;\n",
              "      fill: #1967D2;\n",
              "      height: 32px;\n",
              "      padding: 0 0 0 0;\n",
              "      width: 32px;\n",
              "    }\n",
              "\n",
              "    .colab-df-convert:hover {\n",
              "      background-color: #E2EBFA;\n",
              "      box-shadow: 0px 1px 2px rgba(60, 64, 67, 0.3), 0px 1px 3px 1px rgba(60, 64, 67, 0.15);\n",
              "      fill: #174EA6;\n",
              "    }\n",
              "\n",
              "    [theme=dark] .colab-df-convert {\n",
              "      background-color: #3B4455;\n",
              "      fill: #D2E3FC;\n",
              "    }\n",
              "\n",
              "    [theme=dark] .colab-df-convert:hover {\n",
              "      background-color: #434B5C;\n",
              "      box-shadow: 0px 1px 3px 1px rgba(0, 0, 0, 0.15);\n",
              "      filter: drop-shadow(0px 1px 2px rgba(0, 0, 0, 0.3));\n",
              "      fill: #FFFFFF;\n",
              "    }\n",
              "  </style>\n",
              "\n",
              "      <script>\n",
              "        const buttonEl =\n",
              "          document.querySelector('#df-76cdb234-4d58-4475-8618-11079826ba82 button.colab-df-convert');\n",
              "        buttonEl.style.display =\n",
              "          google.colab.kernel.accessAllowed ? 'block' : 'none';\n",
              "\n",
              "        async function convertToInteractive(key) {\n",
              "          const element = document.querySelector('#df-76cdb234-4d58-4475-8618-11079826ba82');\n",
              "          const dataTable =\n",
              "            await google.colab.kernel.invokeFunction('convertToInteractive',\n",
              "                                                     [key], {});\n",
              "          if (!dataTable) return;\n",
              "\n",
              "          const docLinkHtml = 'Like what you see? Visit the ' +\n",
              "            '<a target=\"_blank\" href=https://colab.research.google.com/notebooks/data_table.ipynb>data table notebook</a>'\n",
              "            + ' to learn more about interactive tables.';\n",
              "          element.innerHTML = '';\n",
              "          dataTable['output_type'] = 'display_data';\n",
              "          await google.colab.output.renderOutput(dataTable, element);\n",
              "          const docLink = document.createElement('div');\n",
              "          docLink.innerHTML = docLinkHtml;\n",
              "          element.appendChild(docLink);\n",
              "        }\n",
              "      </script>\n",
              "    </div>\n",
              "  </div>\n",
              "  "
            ]
          },
          "metadata": {},
          "execution_count": 4
        }
      ],
      "source": [
        "df"
      ]
    },
    {
      "cell_type": "code",
      "execution_count": null,
      "metadata": {
        "colab": {
          "base_uri": "https://localhost:8080/"
        },
        "id": "8rkmghEJ1DKp",
        "outputId": "bb4a4b93-e481-4b96-fd74-7fd105f97c0b"
      },
      "outputs": [
        {
          "output_type": "execute_result",
          "data": {
            "text/plain": [
              "Index(['lastSensorEventHours', 'lastSensorEventSeconds', 'Date', 'Time',\n",
              "       'Dateandtime', 'lastSensorDayOfWeek', 'windowDuration',\n",
              "       'timeSinceLastSensorEvent', 'prevDominantSensor1',\n",
              "       'prevDominantSensor2', 'lastSensorID', 'lastSensorLocation',\n",
              "       'lastMotionLocation', 'complexity', 'activityChange', 'areaTransitions',\n",
              "       'numDistinctSensors', 'sensorCount-Bathroom', 'sensorCount-Bedroom',\n",
              "       'sensorCount-Chair', 'sensorCount-DiningRoom', 'sensorCount-Hall',\n",
              "       'sensorCount-Ignore', 'sensorCount-Kitchen', 'sensorCount-LivingRoom',\n",
              "       'sensorCount-Office', 'sensorCount-OutsideDoor', 'sensorCount-WorkArea',\n",
              "       'sensorElTime-Bathroom', 'sensorElTime-Bedroom', 'sensorElTime-Chair',\n",
              "       'sensorElTime-DiningRoom', 'sensorElTime-Hall', 'sensorElTime-Ignore',\n",
              "       'sensorElTime-Kitchen', 'sensorElTime-LivingRoom',\n",
              "       'sensorElTime-Office', 'sensorElTime-OutsideDoor',\n",
              "       'sensorElTime-WorkArea', 'activity', 'class'],\n",
              "      dtype='object')"
            ]
          },
          "metadata": {},
          "execution_count": 5
        }
      ],
      "source": [
        "df.columns"
      ]
    },
    {
      "cell_type": "code",
      "execution_count": null,
      "metadata": {
        "colab": {
          "base_uri": "https://localhost:8080/",
          "height": 175
        },
        "id": "q_JF9vzO1DNg",
        "outputId": "26391182-ecec-4833-ff1d-ad36e7734763"
      },
      "outputs": [
        {
          "output_type": "execute_result",
          "data": {
            "text/plain": [
              "              activity\n",
              "count           321428\n",
              "unique              35\n",
              "top     Other_Activity\n",
              "freq             90824"
            ],
            "text/html": [
              "\n",
              "  <div id=\"df-caad8151-1228-4eaf-8e23-3c5531b4e2d3\">\n",
              "    <div class=\"colab-df-container\">\n",
              "      <div>\n",
              "<style scoped>\n",
              "    .dataframe tbody tr th:only-of-type {\n",
              "        vertical-align: middle;\n",
              "    }\n",
              "\n",
              "    .dataframe tbody tr th {\n",
              "        vertical-align: top;\n",
              "    }\n",
              "\n",
              "    .dataframe thead th {\n",
              "        text-align: right;\n",
              "    }\n",
              "</style>\n",
              "<table border=\"1\" class=\"dataframe\">\n",
              "  <thead>\n",
              "    <tr style=\"text-align: right;\">\n",
              "      <th></th>\n",
              "      <th>activity</th>\n",
              "    </tr>\n",
              "  </thead>\n",
              "  <tbody>\n",
              "    <tr>\n",
              "      <th>count</th>\n",
              "      <td>321428</td>\n",
              "    </tr>\n",
              "    <tr>\n",
              "      <th>unique</th>\n",
              "      <td>35</td>\n",
              "    </tr>\n",
              "    <tr>\n",
              "      <th>top</th>\n",
              "      <td>Other_Activity</td>\n",
              "    </tr>\n",
              "    <tr>\n",
              "      <th>freq</th>\n",
              "      <td>90824</td>\n",
              "    </tr>\n",
              "  </tbody>\n",
              "</table>\n",
              "</div>\n",
              "      <button class=\"colab-df-convert\" onclick=\"convertToInteractive('df-caad8151-1228-4eaf-8e23-3c5531b4e2d3')\"\n",
              "              title=\"Convert this dataframe to an interactive table.\"\n",
              "              style=\"display:none;\">\n",
              "        \n",
              "  <svg xmlns=\"http://www.w3.org/2000/svg\" height=\"24px\"viewBox=\"0 0 24 24\"\n",
              "       width=\"24px\">\n",
              "    <path d=\"M0 0h24v24H0V0z\" fill=\"none\"/>\n",
              "    <path d=\"M18.56 5.44l.94 2.06.94-2.06 2.06-.94-2.06-.94-.94-2.06-.94 2.06-2.06.94zm-11 1L8.5 8.5l.94-2.06 2.06-.94-2.06-.94L8.5 2.5l-.94 2.06-2.06.94zm10 10l.94 2.06.94-2.06 2.06-.94-2.06-.94-.94-2.06-.94 2.06-2.06.94z\"/><path d=\"M17.41 7.96l-1.37-1.37c-.4-.4-.92-.59-1.43-.59-.52 0-1.04.2-1.43.59L10.3 9.45l-7.72 7.72c-.78.78-.78 2.05 0 2.83L4 21.41c.39.39.9.59 1.41.59.51 0 1.02-.2 1.41-.59l7.78-7.78 2.81-2.81c.8-.78.8-2.07 0-2.86zM5.41 20L4 18.59l7.72-7.72 1.47 1.35L5.41 20z\"/>\n",
              "  </svg>\n",
              "      </button>\n",
              "      \n",
              "  <style>\n",
              "    .colab-df-container {\n",
              "      display:flex;\n",
              "      flex-wrap:wrap;\n",
              "      gap: 12px;\n",
              "    }\n",
              "\n",
              "    .colab-df-convert {\n",
              "      background-color: #E8F0FE;\n",
              "      border: none;\n",
              "      border-radius: 50%;\n",
              "      cursor: pointer;\n",
              "      display: none;\n",
              "      fill: #1967D2;\n",
              "      height: 32px;\n",
              "      padding: 0 0 0 0;\n",
              "      width: 32px;\n",
              "    }\n",
              "\n",
              "    .colab-df-convert:hover {\n",
              "      background-color: #E2EBFA;\n",
              "      box-shadow: 0px 1px 2px rgba(60, 64, 67, 0.3), 0px 1px 3px 1px rgba(60, 64, 67, 0.15);\n",
              "      fill: #174EA6;\n",
              "    }\n",
              "\n",
              "    [theme=dark] .colab-df-convert {\n",
              "      background-color: #3B4455;\n",
              "      fill: #D2E3FC;\n",
              "    }\n",
              "\n",
              "    [theme=dark] .colab-df-convert:hover {\n",
              "      background-color: #434B5C;\n",
              "      box-shadow: 0px 1px 3px 1px rgba(0, 0, 0, 0.15);\n",
              "      filter: drop-shadow(0px 1px 2px rgba(0, 0, 0, 0.3));\n",
              "      fill: #FFFFFF;\n",
              "    }\n",
              "  </style>\n",
              "\n",
              "      <script>\n",
              "        const buttonEl =\n",
              "          document.querySelector('#df-caad8151-1228-4eaf-8e23-3c5531b4e2d3 button.colab-df-convert');\n",
              "        buttonEl.style.display =\n",
              "          google.colab.kernel.accessAllowed ? 'block' : 'none';\n",
              "\n",
              "        async function convertToInteractive(key) {\n",
              "          const element = document.querySelector('#df-caad8151-1228-4eaf-8e23-3c5531b4e2d3');\n",
              "          const dataTable =\n",
              "            await google.colab.kernel.invokeFunction('convertToInteractive',\n",
              "                                                     [key], {});\n",
              "          if (!dataTable) return;\n",
              "\n",
              "          const docLinkHtml = 'Like what you see? Visit the ' +\n",
              "            '<a target=\"_blank\" href=https://colab.research.google.com/notebooks/data_table.ipynb>data table notebook</a>'\n",
              "            + ' to learn more about interactive tables.';\n",
              "          element.innerHTML = '';\n",
              "          dataTable['output_type'] = 'display_data';\n",
              "          await google.colab.output.renderOutput(dataTable, element);\n",
              "          const docLink = document.createElement('div');\n",
              "          docLink.innerHTML = docLinkHtml;\n",
              "          element.appendChild(docLink);\n",
              "        }\n",
              "      </script>\n",
              "    </div>\n",
              "  </div>\n",
              "  "
            ]
          },
          "metadata": {},
          "execution_count": 6
        }
      ],
      "source": [
        "df[['activity']].describe()"
      ]
    },
    {
      "cell_type": "code",
      "execution_count": null,
      "metadata": {
        "colab": {
          "base_uri": "https://localhost:8080/"
        },
        "id": "pSwqH8d41DQS",
        "outputId": "df8b50f3-e7a1-4190-976d-c3b5bafd7f8a"
      },
      "outputs": [
        {
          "output_type": "stream",
          "name": "stdout",
          "text": [
            "['Bathe' 'Bed_Toilet_Transition' 'Cook' 'Cook_Breakfast' 'Cook_Dinner'\n",
            " 'Cook_Lunch' 'Dress' 'Drink' 'Eat' 'Eat_Breakfast' 'Eat_Dinner'\n",
            " 'Eat_Lunch' 'Enter_Home' 'Entertain_Guests' 'Evening_Meds' 'Go_To_Sleep'\n",
            " 'Groom' 'Leave_Home' 'Morning_Meds' 'Other_Activity' 'Personal_Hygiene'\n",
            " 'Phone' 'Read' 'Relax' 'Sleep' 'Sleep_Out_Of_Bed' 'Step_Out' 'Toilet'\n",
            " 'Wake_Up' 'Wash_Breakfast_Dishes' 'Wash_Dinner_Dishes' 'Wash_Dishes'\n",
            " 'Wash_Lunch_Dishes' 'Watch_TV' 'Work_At_Table']\n"
          ]
        }
      ],
      "source": [
        "a=df['activity'].unique()\n",
        "a.sort()\n",
        "print(a)"
      ]
    },
    {
      "cell_type": "code",
      "execution_count": null,
      "metadata": {
        "colab": {
          "base_uri": "https://localhost:8080/"
        },
        "id": "umA9oey01DTF",
        "outputId": "642f9af6-a7f5-4c36-9a03-08af0ed83b11"
      },
      "outputs": [
        {
          "output_type": "stream",
          "name": "stdout",
          "text": [
            "Other_Activity           90824\n",
            "Watch_TV                 61312\n",
            "Sleep_Out_Of_Bed         16618\n",
            "Bathe                    16289\n",
            "Cook_Breakfast           16279\n",
            "Dress                    14051\n",
            "Toilet                   13727\n",
            "Personal_Hygiene         13221\n",
            "Sleep                    11752\n",
            "Read                      8608\n",
            "Relax                     5777\n",
            "Cook_Dinner               5557\n",
            "Drink                     3794\n",
            "Eat_Breakfast             3564\n",
            "Morning_Meds              3543\n",
            "Evening_Meds              3359\n",
            "Cook_Lunch                3197\n",
            "Wash_Breakfast_Dishes     3197\n",
            "Wash_Dishes               3194\n",
            "Leave_Home                3124\n",
            "Cook                      2764\n",
            "Enter_Home                2594\n",
            "Entertain_Guests          2568\n",
            "Wash_Dinner_Dishes        2459\n",
            "Phone                     1846\n",
            "Groom                     1797\n",
            "Step_Out                  1491\n",
            "Eat_Dinner                1092\n",
            "Eat_Lunch                  866\n",
            "Wash_Lunch_Dishes          773\n",
            "Bed_Toilet_Transition      720\n",
            "Eat                        496\n",
            "Go_To_Sleep                412\n",
            "Wake_Up                    379\n",
            "Work_At_Table              184\n",
            "Name: activity, dtype: int64\n"
          ]
        }
      ],
      "source": [
        "value_counts=df['activity'].value_counts()\n",
        "print(value_counts)"
      ]
    },
    {
      "cell_type": "code",
      "execution_count": null,
      "metadata": {
        "id": "Owu16W6x1DV3"
      },
      "outputs": [],
      "source": [
        "df=df.drop(['Dateandtime','Date','Time','class'],axis=1)"
      ]
    },
    {
      "cell_type": "code",
      "execution_count": null,
      "metadata": {
        "id": "OWARSRWsZuY4"
      },
      "outputs": [],
      "source": [
        "label_encoder=LabelEncoder()\n",
        "encoded_labels=label_encoder.fit_transform(df['activity'])\n",
        "df['label']=encoded_labels"
      ]
    },
    {
      "cell_type": "markdown",
      "metadata": {
        "id": "n1sx1Fwb3Apg"
      },
      "source": [
        "# Generating X and Y"
      ]
    },
    {
      "cell_type": "code",
      "execution_count": null,
      "metadata": {
        "colab": {
          "base_uri": "https://localhost:8080/",
          "height": 505
        },
        "id": "PcUn4j8o1DYo",
        "outputId": "65094ccf-ea7b-4317-9eb5-b7b726495652"
      },
      "outputs": [
        {
          "output_type": "execute_result",
          "data": {
            "text/plain": [
              "        lastSensorEventHours  lastSensorEventSeconds  lastSensorDayOfWeek  \\\n",
              "0                         10                   38464                    4   \n",
              "1                         10                   38465                    4   \n",
              "2                         10                   38578                    4   \n",
              "3                         10                   38582                    4   \n",
              "4                         10                   38582                    4   \n",
              "...                      ...                     ...                  ...   \n",
              "321423                    23                   85938                    0   \n",
              "321424                    23                   85990                    0   \n",
              "321425                    23                   85992                    0   \n",
              "321426                    23                   85994                    0   \n",
              "321427                    23                   85995                    0   \n",
              "\n",
              "        windowDuration  timeSinceLastSensorEvent  prevDominantSensor1  \\\n",
              "0                  130                         0                    0   \n",
              "1                  131                         1                    0   \n",
              "2                  241                       113                    0   \n",
              "3                  244                         4                    0   \n",
              "4                  243                         0                    0   \n",
              "...                ...                       ...                  ...   \n",
              "321423             124                         1                    1   \n",
              "321424             146                        52                    1   \n",
              "321425             147                         2                    1   \n",
              "321426             148                         2                    1   \n",
              "321427             148                         1                    1   \n",
              "\n",
              "        prevDominantSensor2  lastSensorID  lastSensorLocation  \\\n",
              "0                         0             5                   5   \n",
              "1                         0             9                   9   \n",
              "2                         0             5                   5   \n",
              "3                         0             5                   5   \n",
              "4                         0             9                   9   \n",
              "...                     ...           ...                 ...   \n",
              "321423                    1             1                   1   \n",
              "321424                    1             1                   1   \n",
              "321425                    1             1                   1   \n",
              "321426                    1             1                   1   \n",
              "321427                    1             1                   1   \n",
              "\n",
              "        lastMotionLocation  ...  sensorElTime-Chair  sensorElTime-DiningRoom  \\\n",
              "0                        9  ...               86400             86400.000000   \n",
              "1                        9  ...               86400             86400.000000   \n",
              "2                        9  ...               86400             86400.000000   \n",
              "3                        9  ...               86400             86400.000000   \n",
              "4                        9  ...               86400             86400.000000   \n",
              "...                    ...  ...                 ...                      ...   \n",
              "321423                   1  ...               86400              3266.294198   \n",
              "321424                   1  ...               86400              3317.884144   \n",
              "321425                   1  ...               86400              3319.782223   \n",
              "321426                   1  ...               86400              3322.384894   \n",
              "321427                   1  ...               86400              3323.542136   \n",
              "\n",
              "        sensorElTime-Hall  sensorElTime-Ignore  sensorElTime-Kitchen  \\\n",
              "0                   86400             0.000000          86400.000000   \n",
              "1                   86400             0.055818          86400.000000   \n",
              "2                   86400             0.000000          86400.000000   \n",
              "3                   86400             0.000000          86400.000000   \n",
              "4                   86400             0.063296          86400.000000   \n",
              "...                   ...                  ...                   ...   \n",
              "321423              86400            59.532519           3267.785714   \n",
              "321424              86400           111.122465           3319.375660   \n",
              "321425              86400           113.020544           3321.273739   \n",
              "321426              86400           115.623215           3323.876410   \n",
              "321427              86400           116.780457           3325.033652   \n",
              "\n",
              "        sensorElTime-LivingRoom  sensorElTime-Office  \\\n",
              "0                  86400.000000                86400   \n",
              "1                  86400.000000                86400   \n",
              "2                  86400.000000                86400   \n",
              "3                  86400.000000                86400   \n",
              "4                  86400.000000                86400   \n",
              "...                         ...                  ...   \n",
              "321423              1384.742962                86400   \n",
              "321424              1436.332908                86400   \n",
              "321425              1438.230987                86400   \n",
              "321426              1440.833658                86400   \n",
              "321427              1441.990900                86400   \n",
              "\n",
              "        sensorElTime-OutsideDoor  sensorElTime-WorkArea  label  \n",
              "0                       1.816728                  86400     26  \n",
              "1                       0.000000                  86400     26  \n",
              "2                     113.423815                  86400     26  \n",
              "3                     117.696845                  86400     26  \n",
              "4                       0.000000                  86400     26  \n",
              "...                          ...                    ...    ...  \n",
              "321423               1431.566214                  86400     19  \n",
              "321424               1483.156160                  86400     19  \n",
              "321425               1485.054239                  86400     19  \n",
              "321426               1487.656910                  86400     19  \n",
              "321427               1488.814152                  86400     19  \n",
              "\n",
              "[321428 rows x 37 columns]"
            ],
            "text/html": [
              "\n",
              "  <div id=\"df-10c2ba1a-31f5-4350-bb66-3f3f3bb3ab7b\">\n",
              "    <div class=\"colab-df-container\">\n",
              "      <div>\n",
              "<style scoped>\n",
              "    .dataframe tbody tr th:only-of-type {\n",
              "        vertical-align: middle;\n",
              "    }\n",
              "\n",
              "    .dataframe tbody tr th {\n",
              "        vertical-align: top;\n",
              "    }\n",
              "\n",
              "    .dataframe thead th {\n",
              "        text-align: right;\n",
              "    }\n",
              "</style>\n",
              "<table border=\"1\" class=\"dataframe\">\n",
              "  <thead>\n",
              "    <tr style=\"text-align: right;\">\n",
              "      <th></th>\n",
              "      <th>lastSensorEventHours</th>\n",
              "      <th>lastSensorEventSeconds</th>\n",
              "      <th>lastSensorDayOfWeek</th>\n",
              "      <th>windowDuration</th>\n",
              "      <th>timeSinceLastSensorEvent</th>\n",
              "      <th>prevDominantSensor1</th>\n",
              "      <th>prevDominantSensor2</th>\n",
              "      <th>lastSensorID</th>\n",
              "      <th>lastSensorLocation</th>\n",
              "      <th>lastMotionLocation</th>\n",
              "      <th>...</th>\n",
              "      <th>sensorElTime-Chair</th>\n",
              "      <th>sensorElTime-DiningRoom</th>\n",
              "      <th>sensorElTime-Hall</th>\n",
              "      <th>sensorElTime-Ignore</th>\n",
              "      <th>sensorElTime-Kitchen</th>\n",
              "      <th>sensorElTime-LivingRoom</th>\n",
              "      <th>sensorElTime-Office</th>\n",
              "      <th>sensorElTime-OutsideDoor</th>\n",
              "      <th>sensorElTime-WorkArea</th>\n",
              "      <th>label</th>\n",
              "    </tr>\n",
              "  </thead>\n",
              "  <tbody>\n",
              "    <tr>\n",
              "      <th>0</th>\n",
              "      <td>10</td>\n",
              "      <td>38464</td>\n",
              "      <td>4</td>\n",
              "      <td>130</td>\n",
              "      <td>0</td>\n",
              "      <td>0</td>\n",
              "      <td>0</td>\n",
              "      <td>5</td>\n",
              "      <td>5</td>\n",
              "      <td>9</td>\n",
              "      <td>...</td>\n",
              "      <td>86400</td>\n",
              "      <td>86400.000000</td>\n",
              "      <td>86400</td>\n",
              "      <td>0.000000</td>\n",
              "      <td>86400.000000</td>\n",
              "      <td>86400.000000</td>\n",
              "      <td>86400</td>\n",
              "      <td>1.816728</td>\n",
              "      <td>86400</td>\n",
              "      <td>26</td>\n",
              "    </tr>\n",
              "    <tr>\n",
              "      <th>1</th>\n",
              "      <td>10</td>\n",
              "      <td>38465</td>\n",
              "      <td>4</td>\n",
              "      <td>131</td>\n",
              "      <td>1</td>\n",
              "      <td>0</td>\n",
              "      <td>0</td>\n",
              "      <td>9</td>\n",
              "      <td>9</td>\n",
              "      <td>9</td>\n",
              "      <td>...</td>\n",
              "      <td>86400</td>\n",
              "      <td>86400.000000</td>\n",
              "      <td>86400</td>\n",
              "      <td>0.055818</td>\n",
              "      <td>86400.000000</td>\n",
              "      <td>86400.000000</td>\n",
              "      <td>86400</td>\n",
              "      <td>0.000000</td>\n",
              "      <td>86400</td>\n",
              "      <td>26</td>\n",
              "    </tr>\n",
              "    <tr>\n",
              "      <th>2</th>\n",
              "      <td>10</td>\n",
              "      <td>38578</td>\n",
              "      <td>4</td>\n",
              "      <td>241</td>\n",
              "      <td>113</td>\n",
              "      <td>0</td>\n",
              "      <td>0</td>\n",
              "      <td>5</td>\n",
              "      <td>5</td>\n",
              "      <td>9</td>\n",
              "      <td>...</td>\n",
              "      <td>86400</td>\n",
              "      <td>86400.000000</td>\n",
              "      <td>86400</td>\n",
              "      <td>0.000000</td>\n",
              "      <td>86400.000000</td>\n",
              "      <td>86400.000000</td>\n",
              "      <td>86400</td>\n",
              "      <td>113.423815</td>\n",
              "      <td>86400</td>\n",
              "      <td>26</td>\n",
              "    </tr>\n",
              "    <tr>\n",
              "      <th>3</th>\n",
              "      <td>10</td>\n",
              "      <td>38582</td>\n",
              "      <td>4</td>\n",
              "      <td>244</td>\n",
              "      <td>4</td>\n",
              "      <td>0</td>\n",
              "      <td>0</td>\n",
              "      <td>5</td>\n",
              "      <td>5</td>\n",
              "      <td>9</td>\n",
              "      <td>...</td>\n",
              "      <td>86400</td>\n",
              "      <td>86400.000000</td>\n",
              "      <td>86400</td>\n",
              "      <td>0.000000</td>\n",
              "      <td>86400.000000</td>\n",
              "      <td>86400.000000</td>\n",
              "      <td>86400</td>\n",
              "      <td>117.696845</td>\n",
              "      <td>86400</td>\n",
              "      <td>26</td>\n",
              "    </tr>\n",
              "    <tr>\n",
              "      <th>4</th>\n",
              "      <td>10</td>\n",
              "      <td>38582</td>\n",
              "      <td>4</td>\n",
              "      <td>243</td>\n",
              "      <td>0</td>\n",
              "      <td>0</td>\n",
              "      <td>0</td>\n",
              "      <td>9</td>\n",
              "      <td>9</td>\n",
              "      <td>9</td>\n",
              "      <td>...</td>\n",
              "      <td>86400</td>\n",
              "      <td>86400.000000</td>\n",
              "      <td>86400</td>\n",
              "      <td>0.063296</td>\n",
              "      <td>86400.000000</td>\n",
              "      <td>86400.000000</td>\n",
              "      <td>86400</td>\n",
              "      <td>0.000000</td>\n",
              "      <td>86400</td>\n",
              "      <td>26</td>\n",
              "    </tr>\n",
              "    <tr>\n",
              "      <th>...</th>\n",
              "      <td>...</td>\n",
              "      <td>...</td>\n",
              "      <td>...</td>\n",
              "      <td>...</td>\n",
              "      <td>...</td>\n",
              "      <td>...</td>\n",
              "      <td>...</td>\n",
              "      <td>...</td>\n",
              "      <td>...</td>\n",
              "      <td>...</td>\n",
              "      <td>...</td>\n",
              "      <td>...</td>\n",
              "      <td>...</td>\n",
              "      <td>...</td>\n",
              "      <td>...</td>\n",
              "      <td>...</td>\n",
              "      <td>...</td>\n",
              "      <td>...</td>\n",
              "      <td>...</td>\n",
              "      <td>...</td>\n",
              "      <td>...</td>\n",
              "    </tr>\n",
              "    <tr>\n",
              "      <th>321423</th>\n",
              "      <td>23</td>\n",
              "      <td>85938</td>\n",
              "      <td>0</td>\n",
              "      <td>124</td>\n",
              "      <td>1</td>\n",
              "      <td>1</td>\n",
              "      <td>1</td>\n",
              "      <td>1</td>\n",
              "      <td>1</td>\n",
              "      <td>1</td>\n",
              "      <td>...</td>\n",
              "      <td>86400</td>\n",
              "      <td>3266.294198</td>\n",
              "      <td>86400</td>\n",
              "      <td>59.532519</td>\n",
              "      <td>3267.785714</td>\n",
              "      <td>1384.742962</td>\n",
              "      <td>86400</td>\n",
              "      <td>1431.566214</td>\n",
              "      <td>86400</td>\n",
              "      <td>19</td>\n",
              "    </tr>\n",
              "    <tr>\n",
              "      <th>321424</th>\n",
              "      <td>23</td>\n",
              "      <td>85990</td>\n",
              "      <td>0</td>\n",
              "      <td>146</td>\n",
              "      <td>52</td>\n",
              "      <td>1</td>\n",
              "      <td>1</td>\n",
              "      <td>1</td>\n",
              "      <td>1</td>\n",
              "      <td>1</td>\n",
              "      <td>...</td>\n",
              "      <td>86400</td>\n",
              "      <td>3317.884144</td>\n",
              "      <td>86400</td>\n",
              "      <td>111.122465</td>\n",
              "      <td>3319.375660</td>\n",
              "      <td>1436.332908</td>\n",
              "      <td>86400</td>\n",
              "      <td>1483.156160</td>\n",
              "      <td>86400</td>\n",
              "      <td>19</td>\n",
              "    </tr>\n",
              "    <tr>\n",
              "      <th>321425</th>\n",
              "      <td>23</td>\n",
              "      <td>85992</td>\n",
              "      <td>0</td>\n",
              "      <td>147</td>\n",
              "      <td>2</td>\n",
              "      <td>1</td>\n",
              "      <td>1</td>\n",
              "      <td>1</td>\n",
              "      <td>1</td>\n",
              "      <td>1</td>\n",
              "      <td>...</td>\n",
              "      <td>86400</td>\n",
              "      <td>3319.782223</td>\n",
              "      <td>86400</td>\n",
              "      <td>113.020544</td>\n",
              "      <td>3321.273739</td>\n",
              "      <td>1438.230987</td>\n",
              "      <td>86400</td>\n",
              "      <td>1485.054239</td>\n",
              "      <td>86400</td>\n",
              "      <td>19</td>\n",
              "    </tr>\n",
              "    <tr>\n",
              "      <th>321426</th>\n",
              "      <td>23</td>\n",
              "      <td>85994</td>\n",
              "      <td>0</td>\n",
              "      <td>148</td>\n",
              "      <td>2</td>\n",
              "      <td>1</td>\n",
              "      <td>1</td>\n",
              "      <td>1</td>\n",
              "      <td>1</td>\n",
              "      <td>1</td>\n",
              "      <td>...</td>\n",
              "      <td>86400</td>\n",
              "      <td>3322.384894</td>\n",
              "      <td>86400</td>\n",
              "      <td>115.623215</td>\n",
              "      <td>3323.876410</td>\n",
              "      <td>1440.833658</td>\n",
              "      <td>86400</td>\n",
              "      <td>1487.656910</td>\n",
              "      <td>86400</td>\n",
              "      <td>19</td>\n",
              "    </tr>\n",
              "    <tr>\n",
              "      <th>321427</th>\n",
              "      <td>23</td>\n",
              "      <td>85995</td>\n",
              "      <td>0</td>\n",
              "      <td>148</td>\n",
              "      <td>1</td>\n",
              "      <td>1</td>\n",
              "      <td>1</td>\n",
              "      <td>1</td>\n",
              "      <td>1</td>\n",
              "      <td>1</td>\n",
              "      <td>...</td>\n",
              "      <td>86400</td>\n",
              "      <td>3323.542136</td>\n",
              "      <td>86400</td>\n",
              "      <td>116.780457</td>\n",
              "      <td>3325.033652</td>\n",
              "      <td>1441.990900</td>\n",
              "      <td>86400</td>\n",
              "      <td>1488.814152</td>\n",
              "      <td>86400</td>\n",
              "      <td>19</td>\n",
              "    </tr>\n",
              "  </tbody>\n",
              "</table>\n",
              "<p>321428 rows × 37 columns</p>\n",
              "</div>\n",
              "      <button class=\"colab-df-convert\" onclick=\"convertToInteractive('df-10c2ba1a-31f5-4350-bb66-3f3f3bb3ab7b')\"\n",
              "              title=\"Convert this dataframe to an interactive table.\"\n",
              "              style=\"display:none;\">\n",
              "        \n",
              "  <svg xmlns=\"http://www.w3.org/2000/svg\" height=\"24px\"viewBox=\"0 0 24 24\"\n",
              "       width=\"24px\">\n",
              "    <path d=\"M0 0h24v24H0V0z\" fill=\"none\"/>\n",
              "    <path d=\"M18.56 5.44l.94 2.06.94-2.06 2.06-.94-2.06-.94-.94-2.06-.94 2.06-2.06.94zm-11 1L8.5 8.5l.94-2.06 2.06-.94-2.06-.94L8.5 2.5l-.94 2.06-2.06.94zm10 10l.94 2.06.94-2.06 2.06-.94-2.06-.94-.94-2.06-.94 2.06-2.06.94z\"/><path d=\"M17.41 7.96l-1.37-1.37c-.4-.4-.92-.59-1.43-.59-.52 0-1.04.2-1.43.59L10.3 9.45l-7.72 7.72c-.78.78-.78 2.05 0 2.83L4 21.41c.39.39.9.59 1.41.59.51 0 1.02-.2 1.41-.59l7.78-7.78 2.81-2.81c.8-.78.8-2.07 0-2.86zM5.41 20L4 18.59l7.72-7.72 1.47 1.35L5.41 20z\"/>\n",
              "  </svg>\n",
              "      </button>\n",
              "      \n",
              "  <style>\n",
              "    .colab-df-container {\n",
              "      display:flex;\n",
              "      flex-wrap:wrap;\n",
              "      gap: 12px;\n",
              "    }\n",
              "\n",
              "    .colab-df-convert {\n",
              "      background-color: #E8F0FE;\n",
              "      border: none;\n",
              "      border-radius: 50%;\n",
              "      cursor: pointer;\n",
              "      display: none;\n",
              "      fill: #1967D2;\n",
              "      height: 32px;\n",
              "      padding: 0 0 0 0;\n",
              "      width: 32px;\n",
              "    }\n",
              "\n",
              "    .colab-df-convert:hover {\n",
              "      background-color: #E2EBFA;\n",
              "      box-shadow: 0px 1px 2px rgba(60, 64, 67, 0.3), 0px 1px 3px 1px rgba(60, 64, 67, 0.15);\n",
              "      fill: #174EA6;\n",
              "    }\n",
              "\n",
              "    [theme=dark] .colab-df-convert {\n",
              "      background-color: #3B4455;\n",
              "      fill: #D2E3FC;\n",
              "    }\n",
              "\n",
              "    [theme=dark] .colab-df-convert:hover {\n",
              "      background-color: #434B5C;\n",
              "      box-shadow: 0px 1px 3px 1px rgba(0, 0, 0, 0.15);\n",
              "      filter: drop-shadow(0px 1px 2px rgba(0, 0, 0, 0.3));\n",
              "      fill: #FFFFFF;\n",
              "    }\n",
              "  </style>\n",
              "\n",
              "      <script>\n",
              "        const buttonEl =\n",
              "          document.querySelector('#df-10c2ba1a-31f5-4350-bb66-3f3f3bb3ab7b button.colab-df-convert');\n",
              "        buttonEl.style.display =\n",
              "          google.colab.kernel.accessAllowed ? 'block' : 'none';\n",
              "\n",
              "        async function convertToInteractive(key) {\n",
              "          const element = document.querySelector('#df-10c2ba1a-31f5-4350-bb66-3f3f3bb3ab7b');\n",
              "          const dataTable =\n",
              "            await google.colab.kernel.invokeFunction('convertToInteractive',\n",
              "                                                     [key], {});\n",
              "          if (!dataTable) return;\n",
              "\n",
              "          const docLinkHtml = 'Like what you see? Visit the ' +\n",
              "            '<a target=\"_blank\" href=https://colab.research.google.com/notebooks/data_table.ipynb>data table notebook</a>'\n",
              "            + ' to learn more about interactive tables.';\n",
              "          element.innerHTML = '';\n",
              "          dataTable['output_type'] = 'display_data';\n",
              "          await google.colab.output.renderOutput(dataTable, element);\n",
              "          const docLink = document.createElement('div');\n",
              "          docLink.innerHTML = docLinkHtml;\n",
              "          element.appendChild(docLink);\n",
              "        }\n",
              "      </script>\n",
              "    </div>\n",
              "  </div>\n",
              "  "
            ]
          },
          "metadata": {},
          "execution_count": 11
        }
      ],
      "source": [
        "x=df.drop('activity',axis=1)\n",
        "x"
      ]
    },
    {
      "cell_type": "code",
      "execution_count": null,
      "metadata": {
        "colab": {
          "base_uri": "https://localhost:8080/"
        },
        "id": "yvACXlCG1Dbx",
        "outputId": "aac314df-c9af-43c1-f4e8-0a14fd96d8eb"
      },
      "outputs": [
        {
          "output_type": "execute_result",
          "data": {
            "text/plain": [
              "0         26\n",
              "1         26\n",
              "2         26\n",
              "3         26\n",
              "4         26\n",
              "          ..\n",
              "321423    19\n",
              "321424    19\n",
              "321425    19\n",
              "321426    19\n",
              "321427    19\n",
              "Name: label, Length: 321428, dtype: int64"
            ]
          },
          "metadata": {},
          "execution_count": 12
        }
      ],
      "source": [
        "y=df['label']\n",
        "y"
      ]
    },
    {
      "cell_type": "markdown",
      "metadata": {
        "id": "m9Wk2_f8Jsz7"
      },
      "source": [
        "## Splitting the Dataset"
      ]
    },
    {
      "cell_type": "code",
      "execution_count": null,
      "metadata": {
        "id": "6HJ5-wfjmi9O"
      },
      "outputs": [],
      "source": [
        "x_train,x_test,y_train,y_test=train_test_split(x,y,test_size=0.3,random_state=100)"
      ]
    },
    {
      "cell_type": "markdown",
      "metadata": {
        "id": "7UPYREQLJyR9"
      },
      "source": [
        "## Shapes of Train and Test Datasets"
      ]
    },
    {
      "cell_type": "code",
      "execution_count": null,
      "metadata": {
        "colab": {
          "base_uri": "https://localhost:8080/"
        },
        "id": "H08pom1tav4x",
        "outputId": "3c1d2966-692f-4012-d9d2-96f477ba4549"
      },
      "outputs": [
        {
          "output_type": "execute_result",
          "data": {
            "text/plain": [
              "((224999, 37), (96429, 37))"
            ]
          },
          "metadata": {},
          "execution_count": 14
        }
      ],
      "source": [
        "x_train.shape,x_test.shape"
      ]
    },
    {
      "cell_type": "code",
      "execution_count": null,
      "metadata": {
        "colab": {
          "base_uri": "https://localhost:8080/"
        },
        "id": "gw36AS92av8r",
        "outputId": "24737233-f067-4d88-b307-b856641ba2e9"
      },
      "outputs": [
        {
          "output_type": "execute_result",
          "data": {
            "text/plain": [
              "((224999,), (96429,))"
            ]
          },
          "metadata": {},
          "execution_count": 15
        }
      ],
      "source": [
        "y_train.shape,y_test.shape"
      ]
    },
    {
      "cell_type": "markdown",
      "metadata": {
        "id": "3bkaT8Of9zgz"
      },
      "source": [
        "# Random Forest CLassifier"
      ]
    },
    {
      "cell_type": "code",
      "execution_count": null,
      "metadata": {
        "id": "hgNDzZaL1Dj9"
      },
      "outputs": [],
      "source": [
        "rfc=RandomForestClassifier(n_estimators=10,max_features='auto',random_state=100)"
      ]
    },
    {
      "cell_type": "code",
      "execution_count": null,
      "metadata": {
        "colab": {
          "base_uri": "https://localhost:8080/"
        },
        "id": "tTVt64ik1Dm5",
        "outputId": "dc4c6ea4-783f-49f3-a6a1-92b633e77448"
      },
      "outputs": [
        {
          "output_type": "execute_result",
          "data": {
            "text/plain": [
              "RandomForestClassifier(n_estimators=10, random_state=100)"
            ]
          },
          "metadata": {},
          "execution_count": 18
        }
      ],
      "source": [
        "rfc.fit(x_train,y_train)"
      ]
    },
    {
      "cell_type": "code",
      "execution_count": null,
      "metadata": {
        "id": "srsN-M2g1Dpo"
      },
      "outputs": [],
      "source": [
        "rfc_preds=rfc.predict(x_test)"
      ]
    },
    {
      "cell_type": "code",
      "execution_count": null,
      "metadata": {
        "colab": {
          "base_uri": "https://localhost:8080/",
          "height": 949
        },
        "id": "X_YSV8xw1Dsi",
        "outputId": "e4015c4a-492a-4e6a-f60c-a57264ca9e1d"
      },
      "outputs": [
        {
          "output_type": "stream",
          "name": "stderr",
          "text": [
            "/usr/local/lib/python3.8/dist-packages/sklearn/utils/deprecation.py:87: FutureWarning: Function plot_confusion_matrix is deprecated; Function `plot_confusion_matrix` is deprecated in 1.0 and will be removed in 1.2. Use one of the class methods: ConfusionMatrixDisplay.from_predictions or ConfusionMatrixDisplay.from_estimator.\n",
            "  warnings.warn(msg, category=FutureWarning)\n"
          ]
        },
        {
          "output_type": "execute_result",
          "data": {
            "text/plain": [
              "<sklearn.metrics._plot.confusion_matrix.ConfusionMatrixDisplay at 0x7f503e70b190>"
            ]
          },
          "metadata": {},
          "execution_count": 20
        },
        {
          "output_type": "display_data",
          "data": {
            "text/plain": [
              "<Figure size 1440x1080 with 2 Axes>"
            ],
            "image/png": "[encoded data removed]"
          },
          "metadata": {
            "needs_background": "light"
          }
        }
      ],
      "source": [
        "fig, ax = plt.subplots(figsize=(20, 15))\n",
        "plt.xticks(rotation=90)\n",
        "plot_confusion_matrix(rfc,x_test,y_test,ax=ax)"
      ]
    },
    {
      "cell_type": "code",
      "execution_count": null,
      "metadata": {
        "colab": {
          "base_uri": "https://localhost:8080/"
        },
        "id": "VONek18J1DvM",
        "outputId": "a820b1e8-99e5-48e9-8479-9b4358baa193"
      },
      "outputs": [
        {
          "output_type": "stream",
          "name": "stdout",
          "text": [
            "              precision    recall  f1-score   support\n",
            "\n",
            "           0       1.00      1.00      1.00      4742\n",
            "           1       1.00      1.00      1.00       211\n",
            "           2       1.00      1.00      1.00       845\n",
            "           3       1.00      1.00      1.00      4856\n",
            "           4       1.00      1.00      1.00      1662\n",
            "           5       1.00      1.00      1.00       968\n",
            "           6       1.00      1.00      1.00      4216\n",
            "           7       1.00      1.00      1.00      1177\n",
            "           8       0.99      0.99      0.99       156\n",
            "           9       1.00      1.00      1.00      1072\n",
            "          10       1.00      1.00      1.00       321\n",
            "          11       1.00      0.99      1.00       257\n",
            "          12       1.00      1.00      1.00       784\n",
            "          13       1.00      1.00      1.00       738\n",
            "          14       1.00      1.00      1.00      1014\n",
            "          15       1.00      1.00      1.00       120\n",
            "          16       1.00      1.00      1.00       533\n",
            "          17       1.00      0.99      1.00       931\n",
            "          18       1.00      1.00      1.00      1079\n",
            "          19       1.00      1.00      1.00     27344\n",
            "          20       1.00      1.00      1.00      3970\n",
            "          21       0.99      0.98      0.99       538\n",
            "          22       1.00      1.00      1.00      2591\n",
            "          23       0.99      1.00      1.00      1776\n",
            "          24       1.00      1.00      1.00      3434\n",
            "          25       1.00      1.00      1.00      4948\n",
            "          26       1.00      0.98      0.99       442\n",
            "          27       1.00      1.00      1.00      4158\n",
            "          28       0.99      1.00      1.00       115\n",
            "          29       1.00      1.00      1.00       934\n",
            "          30       1.00      1.00      1.00       748\n",
            "          31       1.00      1.00      1.00       941\n",
            "          32       1.00      1.00      1.00       241\n",
            "          33       1.00      1.00      1.00     18510\n",
            "          34       1.00      1.00      1.00        57\n",
            "\n",
            "    accuracy                           1.00     96429\n",
            "   macro avg       1.00      1.00      1.00     96429\n",
            "weighted avg       1.00      1.00      1.00     96429\n",
            "\n"
          ]
        }
      ],
      "source": [
        "print(classification_report(y_test,rfc_preds))"
      ]
    },
    {
      "cell_type": "code",
      "execution_count": null,
      "metadata": {
        "colab": {
          "base_uri": "https://localhost:8080/"
        },
        "id": "XwJ_65sX1Dx6",
        "outputId": "52f40030-bebb-456a-d46a-c2ab50415fd4"
      },
      "outputs": [
        {
          "output_type": "stream",
          "name": "stdout",
          "text": [
            "The accuracy for Random forest classifier model is 99.89837 %\n"
          ]
        }
      ],
      "source": [
        "rfc_accuracy=accuracy_score(y_test, rfc_preds)\n",
        "rfc_accuracy=rfc_accuracy*100\n",
        "print(\"The accuracy for Random forest classifier model is\",round(rfc_accuracy,5),\"%\")"
      ]
    },
    {
      "cell_type": "markdown",
      "metadata": {
        "id": "57FtO3nSD5Jm"
      },
      "source": [
        "# Decision Tree Classifier"
      ]
    },
    {
      "cell_type": "markdown",
      "source": [
        "##Hyperparameter tuning"
      ],
      "metadata": {
        "id": "v64oTh54pzF2"
      }
    },
    {
      "cell_type": "code",
      "source": [
        "from sklearn.model_selection import GridSearchCV\n",
        "\n",
        "params = {\n",
        "    'criterion':  ['gini', 'entropy'],\n",
        "    'max_depth':  [None, 2, 4, 6, 8, 10,20,30],\n",
        "    'max_features': [None, 'sqrt', 'log2', 0.2, 0.4, 0.6, 0.8],\n",
        "    'splitter': ['best', 'random']\n",
        "}\n",
        "\n",
        "clf = GridSearchCV(\n",
        "    estimator=DecisionTreeClassifier(),\n",
        "    param_grid=params,\n",
        "    cv=5,\n",
        "    n_jobs=5,\n",
        "    verbose=1,\n",
        ")\n",
        "\n",
        "clf.fit(x_train, y_train)\n",
        "print(clf.best_params_)"
      ],
      "metadata": {
        "id": "y9eOVclDlpPo"
      },
      "execution_count": null,
      "outputs": []
    },
    {
      "cell_type": "code",
      "execution_count": null,
      "metadata": {
        "id": "nolPfkwjCMgG"
      },
      "outputs": [],
      "source": [
        "from scipy.stats import entropy\n",
        "dtree_model = DecisionTreeClassifier(max_depth = None,criterion='entropy',max_features=0.8,splitter='best').fit(x_train, y_train)\n",
        "dtree_predictions = dtree_model.predict(x_test)"
      ]
    },
    {
      "cell_type": "code",
      "execution_count": null,
      "metadata": {
        "colab": {
          "base_uri": "https://localhost:8080/",
          "height": 949
        },
        "id": "uva8ELmUCMkU",
        "outputId": "bf3e4e67-e3df-4993-a386-49b4db3426a4"
      },
      "outputs": [
        {
          "output_type": "stream",
          "name": "stderr",
          "text": [
            "/usr/local/lib/python3.8/dist-packages/sklearn/utils/deprecation.py:87: FutureWarning: Function plot_confusion_matrix is deprecated; Function `plot_confusion_matrix` is deprecated in 1.0 and will be removed in 1.2. Use one of the class methods: ConfusionMatrixDisplay.from_predictions or ConfusionMatrixDisplay.from_estimator.\n",
            "  warnings.warn(msg, category=FutureWarning)\n"
          ]
        },
        {
          "output_type": "execute_result",
          "data": {
            "text/plain": [
              "<sklearn.metrics._plot.confusion_matrix.ConfusionMatrixDisplay at 0x7f503d826910>"
            ]
          },
          "metadata": {},
          "execution_count": 25
        },
        {
          "output_type": "display_data",
          "data": {
            "text/plain": [
              "<Figure size 1440x1080 with 2 Axes>"
            ],
            "image/png": "[encoded data removed]"
          },
          "metadata": {
            "needs_background": "light"
          }
        }
      ],
      "source": [
        "fig, ax = plt.subplots(figsize=(20, 15))\n",
        "plt.xticks(rotation=90)\n",
        "plot_confusion_matrix(dtree_model,x_test,y_test,ax=ax)"
      ]
    },
    {
      "cell_type": "code",
      "execution_count": null,
      "metadata": {
        "colab": {
          "base_uri": "https://localhost:8080/"
        },
        "id": "uEkWVS5KCMmr",
        "outputId": "8d6f1b10-2184-471e-89e1-7af0f29d3237"
      },
      "outputs": [
        {
          "output_type": "stream",
          "name": "stdout",
          "text": [
            "              precision    recall  f1-score   support\n",
            "\n",
            "           0       1.00      1.00      1.00      4742\n",
            "           1       1.00      1.00      1.00       211\n",
            "           2       1.00      1.00      1.00       845\n",
            "           3       1.00      1.00      1.00      4856\n",
            "           4       1.00      1.00      1.00      1662\n",
            "           5       1.00      1.00      1.00       968\n",
            "           6       1.00      1.00      1.00      4216\n",
            "           7       1.00      1.00      1.00      1177\n",
            "           8       1.00      1.00      1.00       156\n",
            "           9       1.00      1.00      1.00      1072\n",
            "          10       1.00      1.00      1.00       321\n",
            "          11       1.00      1.00      1.00       257\n",
            "          12       1.00      1.00      1.00       784\n",
            "          13       1.00      1.00      1.00       738\n",
            "          14       1.00      1.00      1.00      1014\n",
            "          15       1.00      1.00      1.00       120\n",
            "          16       1.00      1.00      1.00       533\n",
            "          17       1.00      1.00      1.00       931\n",
            "          18       1.00      1.00      1.00      1079\n",
            "          19       1.00      1.00      1.00     27344\n",
            "          20       1.00      1.00      1.00      3970\n",
            "          21       1.00      1.00      1.00       538\n",
            "          22       1.00      1.00      1.00      2591\n",
            "          23       1.00      1.00      1.00      1776\n",
            "          24       1.00      1.00      1.00      3434\n",
            "          25       1.00      1.00      1.00      4948\n",
            "          26       1.00      1.00      1.00       442\n",
            "          27       1.00      1.00      1.00      4158\n",
            "          28       1.00      1.00      1.00       115\n",
            "          29       1.00      1.00      1.00       934\n",
            "          30       1.00      1.00      1.00       748\n",
            "          31       1.00      1.00      1.00       941\n",
            "          32       1.00      1.00      1.00       241\n",
            "          33       1.00      1.00      1.00     18510\n",
            "          34       1.00      1.00      1.00        57\n",
            "\n",
            "    accuracy                           1.00     96429\n",
            "   macro avg       1.00      1.00      1.00     96429\n",
            "weighted avg       1.00      1.00      1.00     96429\n",
            "\n"
          ]
        }
      ],
      "source": [
        "print(classification_report(y_test,dtree_predictions))"
      ]
    },
    {
      "cell_type": "code",
      "execution_count": null,
      "metadata": {
        "colab": {
          "base_uri": "https://localhost:8080/"
        },
        "id": "7bqp55fzCMpN",
        "outputId": "f04b6830-03b1-4fdf-c595-e5115a637bc7"
      },
      "outputs": [
        {
          "output_type": "stream",
          "name": "stdout",
          "text": [
            "The accuracy for Random forest classifier model is 99.99274 %\n"
          ]
        }
      ],
      "source": [
        "dt_accuracy=accuracy_score(y_test, dtree_predictions)\n",
        "dt_accuracy=dt_accuracy*100\n",
        "print(\"The accuracy for Random forest classifier model is\",round(dt_accuracy,5),\"%\")"
      ]
    },
    {
      "cell_type": "markdown",
      "metadata": {
        "id": "o8zXPK1MfA11"
      },
      "source": [
        "# K-Nearest Neighbour Classifier"
      ]
    },
    {
      "cell_type": "code",
      "execution_count": null,
      "metadata": {
        "id": "CDZ61FYGeJMP"
      },
      "outputs": [],
      "source": [
        "knn = KNeighborsClassifier(n_neighbors=27)\n",
        "knn.fit(x_train, y_train)\n",
        "knn_preds=knn.predict(x_test) "
      ]
    },
    {
      "cell_type": "code",
      "execution_count": null,
      "metadata": {
        "colab": {
          "base_uri": "https://localhost:8080/",
          "height": 949
        },
        "id": "W3RvPU_seJPt",
        "outputId": "e32e62e2-2cbe-48e3-9281-b146b6167cce"
      },
      "outputs": [
        {
          "output_type": "stream",
          "name": "stderr",
          "text": [
            "/usr/local/lib/python3.8/dist-packages/sklearn/utils/deprecation.py:87: FutureWarning: Function plot_confusion_matrix is deprecated; Function `plot_confusion_matrix` is deprecated in 1.0 and will be removed in 1.2. Use one of the class methods: ConfusionMatrixDisplay.from_predictions or ConfusionMatrixDisplay.from_estimator.\n",
            "  warnings.warn(msg, category=FutureWarning)\n"
          ]
        },
        {
          "output_type": "execute_result",
          "data": {
            "text/plain": [
              "<sklearn.metrics._plot.confusion_matrix.ConfusionMatrixDisplay at 0x7f503ad2ce20>"
            ]
          },
          "metadata": {},
          "execution_count": 29
        },
        {
          "output_type": "display_data",
          "data": {
            "text/plain": [
              "<Figure size 1440x1080 with 2 Axes>"
            ],
            "image/png": "[encoded data removed]"
          },
          "metadata": {
            "needs_background": "light"
          }
        }
      ],
      "source": [
        "fig, ax = plt.subplots(figsize=(20, 15))\n",
        "plt.xticks(rotation=180)\n",
        "plot_confusion_matrix(knn,x_test,y_test,ax=ax)"
      ]
    },
    {
      "cell_type": "code",
      "execution_count": null,
      "metadata": {
        "colab": {
          "base_uri": "https://localhost:8080/"
        },
        "id": "uaytM4dUeJTS",
        "outputId": "0a5da0d5-b321-42e6-c7ad-b175b6f74a7e"
      },
      "outputs": [
        {
          "output_type": "stream",
          "name": "stdout",
          "text": [
            "              precision    recall  f1-score   support\n",
            "\n",
            "           0       0.97      0.99      0.98      4742\n",
            "           1       0.82      0.89      0.85       211\n",
            "           2       0.91      0.99      0.95       845\n",
            "           3       0.92      1.00      0.96      4856\n",
            "           4       0.88      0.99      0.93      1662\n",
            "           5       0.91      0.99      0.95       968\n",
            "           6       0.83      0.98      0.90      4216\n",
            "           7       0.75      0.98      0.85      1177\n",
            "           8       0.75      0.64      0.69       156\n",
            "           9       0.83      0.81      0.82      1072\n",
            "          10       0.79      0.81      0.80       321\n",
            "          11       0.77      0.86      0.81       257\n",
            "          12       0.65      0.36      0.46       784\n",
            "          13       0.97      0.98      0.98       738\n",
            "          14       0.80      0.95      0.87      1014\n",
            "          15       0.62      0.04      0.08       120\n",
            "          16       0.85      0.94      0.90       533\n",
            "          17       0.72      0.52      0.60       931\n",
            "          18       0.83      0.98      0.90      1079\n",
            "          19       0.89      0.77      0.83     27344\n",
            "          20       0.91      0.96      0.93      3970\n",
            "          21       0.62      0.64      0.63       538\n",
            "          22       0.84      0.89      0.86      2591\n",
            "          23       0.86      0.87      0.86      1776\n",
            "          24       0.90      0.97      0.93      3434\n",
            "          25       0.88      0.80      0.83      4948\n",
            "          26       0.65      0.64      0.64       442\n",
            "          27       0.81      0.92      0.86      4158\n",
            "          28       0.00      0.00      0.00       115\n",
            "          29       0.84      0.99      0.91       934\n",
            "          30       0.88      1.00      0.94       748\n",
            "          31       0.85      0.98      0.91       941\n",
            "          32       0.90      1.00      0.95       241\n",
            "          33       0.91      0.96      0.93     18510\n",
            "          34       0.88      0.89      0.89        57\n",
            "\n",
            "    accuracy                           0.88     96429\n",
            "   macro avg       0.81      0.83      0.81     96429\n",
            "weighted avg       0.88      0.88      0.88     96429\n",
            "\n"
          ]
        }
      ],
      "source": [
        "print(classification_report(y_test,knn_preds))"
      ]
    },
    {
      "cell_type": "code",
      "execution_count": null,
      "metadata": {
        "colab": {
          "base_uri": "https://localhost:8080/"
        },
        "id": "4dhSQr41eJW3",
        "outputId": "68f7e792-c6ca-452e-a563-5db422bc8dc0"
      },
      "outputs": [
        {
          "output_type": "stream",
          "name": "stdout",
          "text": [
            "The accuracy for K-Nearest Neighbour model is 88.08 %\n"
          ]
        }
      ],
      "source": [
        "knn_accuracy=accuracy_score(y_test, knn_preds)\n",
        "knn_accuracy=knn_accuracy*100\n",
        "print(\"The accuracy for K-Nearest Neighbour model is\",round(knn_accuracy,2),\"%\")"
      ]
    },
    {
      "cell_type": "markdown",
      "metadata": {
        "id": "arXLjgQAQ-e4"
      },
      "source": [
        "# Gaussian Naive Bayes"
      ]
    },
    {
      "cell_type": "code",
      "execution_count": null,
      "metadata": {
        "id": "uSkzKo7eeJdl"
      },
      "outputs": [],
      "source": [
        "from sklearn.naive_bayes import GaussianNB\n",
        "gnb = GaussianNB()\n",
        "gnb.fit(x_train, y_train)\n",
        "gnb_pred = gnb.predict(x_test)"
      ]
    },
    {
      "cell_type": "code",
      "execution_count": null,
      "metadata": {
        "colab": {
          "base_uri": "https://localhost:8080/",
          "height": 949
        },
        "id": "77OfvBL1eJhD",
        "outputId": "ef5cad0a-69ad-498b-962c-42c670a581e7"
      },
      "outputs": [
        {
          "output_type": "stream",
          "name": "stderr",
          "text": [
            "/usr/local/lib/python3.8/dist-packages/sklearn/utils/deprecation.py:87: FutureWarning: Function plot_confusion_matrix is deprecated; Function `plot_confusion_matrix` is deprecated in 1.0 and will be removed in 1.2. Use one of the class methods: ConfusionMatrixDisplay.from_predictions or ConfusionMatrixDisplay.from_estimator.\n",
            "  warnings.warn(msg, category=FutureWarning)\n"
          ]
        },
        {
          "output_type": "execute_result",
          "data": {
            "text/plain": [
              "<sklearn.metrics._plot.confusion_matrix.ConfusionMatrixDisplay at 0x7f503acb15e0>"
            ]
          },
          "metadata": {},
          "execution_count": 33
        },
        {
          "output_type": "display_data",
          "data": {
            "text/plain": [
              "<Figure size 1440x1080 with 2 Axes>"
            ],
            "image/png": "[encoded data removed]"
          },
          "metadata": {
            "needs_background": "light"
          }
        }
      ],
      "source": [
        "fig, ax = plt.subplots(figsize=(20, 15))\n",
        "plt.xticks(rotation=180)\n",
        "plot_confusion_matrix(gnb,x_test,y_test,ax=ax)"
      ]
    },
    {
      "cell_type": "code",
      "execution_count": null,
      "metadata": {
        "colab": {
          "base_uri": "https://localhost:8080/"
        },
        "id": "jCXluJJdeJk4",
        "outputId": "b0be3bf4-18ea-470b-f219-553951cae9db"
      },
      "outputs": [
        {
          "output_type": "stream",
          "name": "stdout",
          "text": [
            "              precision    recall  f1-score   support\n",
            "\n",
            "           0       1.00      1.00      1.00      4742\n",
            "           1       0.92      0.99      0.96       211\n",
            "           2       0.91      0.97      0.94       845\n",
            "           3       1.00      0.98      0.99      4856\n",
            "           4       0.99      0.93      0.96      1662\n",
            "           5       0.85      0.92      0.88       968\n",
            "           6       0.99      0.99      0.99      4216\n",
            "           7       0.83      0.84      0.84      1177\n",
            "           8       0.81      0.94      0.87       156\n",
            "           9       0.98      0.97      0.98      1072\n",
            "          10       0.90      0.99      0.94       321\n",
            "          11       0.96      0.99      0.98       257\n",
            "          12       0.99      1.00      0.99       784\n",
            "          13       0.95      0.59      0.73       738\n",
            "          14       0.62      0.98      0.76      1014\n",
            "          15       0.07      0.87      0.13       120\n",
            "          16       0.44      0.97      0.61       533\n",
            "          17       0.18      0.96      0.30       931\n",
            "          18       0.51      0.96      0.67      1079\n",
            "          19       0.98      0.56      0.72     27344\n",
            "          20       0.70      0.96      0.81      3970\n",
            "          21       0.18      0.89      0.30       538\n",
            "          22       0.73      0.96      0.83      2591\n",
            "          23       0.74      0.84      0.79      1776\n",
            "          24       0.91      0.93      0.92      3434\n",
            "          25       0.94      0.80      0.87      4948\n",
            "          26       0.63      0.92      0.75       442\n",
            "          27       1.00      0.98      0.99      4158\n",
            "          28       0.38      0.99      0.54       115\n",
            "          29       0.96      0.93      0.95       934\n",
            "          30       0.62      0.96      0.75       748\n",
            "          31       0.49      0.33      0.40       941\n",
            "          32       0.54      0.96      0.69       241\n",
            "          33       1.00      0.98      0.99     18510\n",
            "          34       0.62      0.98      0.76        57\n",
            "\n",
            "    accuracy                           0.83     96429\n",
            "   macro avg       0.75      0.91      0.79     96429\n",
            "weighted avg       0.92      0.83      0.85     96429\n",
            "\n"
          ]
        }
      ],
      "source": [
        "print(classification_report(y_test,gnb_pred))"
      ]
    },
    {
      "cell_type": "code",
      "execution_count": null,
      "metadata": {
        "colab": {
          "base_uri": "https://localhost:8080/"
        },
        "id": "SqxhkBzgeJpW",
        "outputId": "0b28af89-6897-4086-ec08-11f2fa8aba2c"
      },
      "outputs": [
        {
          "output_type": "stream",
          "name": "stdout",
          "text": [
            "The accuracy for Gaussian Naive Bayes model is 83.4 %\n"
          ]
        }
      ],
      "source": [
        "gnb_accuracy=accuracy_score(y_test, gnb_pred)\n",
        "gnb_accuracy=gnb_accuracy*100\n",
        "print(\"The accuracy for Gaussian Naive Bayes model is\",round(gnb_accuracy,2),\"%\")"
      ]
    },
    {
      "cell_type": "markdown",
      "metadata": {
        "id": "vE7WdrC6RueA"
      },
      "source": [
        "# X Gradient Boost"
      ]
    },
    {
      "cell_type": "code",
      "execution_count": null,
      "metadata": {
        "id": "czEEb9XjQ-ZH"
      },
      "outputs": [],
      "source": [
        "xgb = xgb.XGBClassifier(\n",
        " learning_rate =0.1,\n",
        " n_estimators=1000,\n",
        " max_depth=5,\n",
        " min_child_weight=1,\n",
        " gamma=0,\n",
        " subsample=0.8,\n",
        " colsample_bytree=0.8,\n",
        " objective= 'multi:softmax',\n",
        " nthread=4,\n",
        " scale_pos_weight=1,\n",
        " seed= 4353)"
      ]
    },
    {
      "cell_type": "code",
      "execution_count": null,
      "metadata": {
        "id": "-wDmpTvpQ-cP"
      },
      "outputs": [],
      "source": [
        "xgb.fit(x_train, y_train)\n",
        "XGB_pred= xgb.predict(x_test)"
      ]
    },
    {
      "cell_type": "code",
      "execution_count": null,
      "metadata": {
        "id": "Q-mq3SluQ-fe"
      },
      "outputs": [],
      "source": [
        "fig, ax = plt.subplots(figsize=(20, 15))\n",
        "plt.xticks(rotation=180)\n",
        "plot_confusion_matrix(xgb,x_test,y_test,ax=ax)"
      ]
    },
    {
      "cell_type": "code",
      "execution_count": null,
      "metadata": {
        "id": "ZwVKnQT_Q-jM"
      },
      "outputs": [],
      "source": [
        "print(classification_report(y_test, XGB_pred))"
      ]
    },
    {
      "cell_type": "code",
      "execution_count": null,
      "metadata": {
        "id": "584FbK8uQ-mb"
      },
      "outputs": [],
      "source": [
        "XGB_accuracy=accuracy_score(y_test, XGB_pred)\n",
        "XGB_accuracy=XGB_accuracy*100\n",
        "print(\"The accuracy for X-Gradient Boost model is\",round(XGB_accuracy,2),\"%\")"
      ]
    },
    {
      "cell_type": "markdown",
      "source": [
        "#LSTM-RNN Model"
      ],
      "metadata": {
        "id": "VrZ2GC30cFqq"
      }
    },
    {
      "cell_type": "code",
      "execution_count": null,
      "metadata": {
        "colab": {
          "base_uri": "https://localhost:8080/"
        },
        "id": "t31YD5OiQ-us",
        "outputId": "0a14703a-b7ab-47b1-ffc9-6a045bb34440"
      },
      "outputs": [
        {
          "output_type": "execute_result",
          "data": {
            "text/plain": [
              "((224999, 37), (96429, 37))"
            ]
          },
          "metadata": {},
          "execution_count": 16
        }
      ],
      "source": [
        "x_train.shape,x_test.shape"
      ]
    },
    {
      "cell_type": "code",
      "execution_count": null,
      "metadata": {
        "colab": {
          "base_uri": "https://localhost:8080/"
        },
        "id": "amKlv0LeRoYU",
        "outputId": "b9010615-5a93-4166-f5b8-ae1fcda2c1ce"
      },
      "outputs": [
        {
          "output_type": "execute_result",
          "data": {
            "text/plain": [
              "((224999,), (96429,))"
            ]
          },
          "metadata": {},
          "execution_count": 17
        }
      ],
      "source": [
        "y_train.shape,y_test.shape"
      ]
    },
    {
      "cell_type": "code",
      "execution_count": null,
      "metadata": {
        "id": "ecNdsC-bRobf"
      },
      "outputs": [],
      "source": [
        "from sklearn import preprocessing\n",
        "  \n",
        "# label_encoder object knows how to understand word labels.\n",
        "label_encoder = preprocessing.LabelEncoder()\n",
        "  \n",
        "# Encode labels in column 'species'\n",
        "Y_train= label_encoder.fit_transform(y_train)"
      ]
    },
    {
      "cell_type": "code",
      "execution_count": null,
      "metadata": {
        "id": "mj6uHh1FRofS"
      },
      "outputs": [],
      "source": [
        "from sklearn import preprocessing\n",
        "  \n",
        "# label_encoder object knows how to understand word labels.\n",
        "label_encoder = preprocessing.LabelEncoder()\n",
        "  \n",
        "# Encode labels in column 'species'\n",
        "Y_test= label_encoder.fit_transform(y_test)"
      ]
    },
    {
      "cell_type": "code",
      "execution_count": null,
      "metadata": {
        "id": "_9B7IGOxRoi-"
      },
      "outputs": [],
      "source": [
        "X_train=np.reshape(np.array(x_train),(224999,-1,37))\n",
        "X_test=np.reshape(np.array(x_test),(96429,-1,37))"
      ]
    },
    {
      "cell_type": "code",
      "execution_count": null,
      "metadata": {
        "id": "jGuneLOkRonU"
      },
      "outputs": [],
      "source": [
        "from keras.utils import to_categorical\n",
        "Y_train = to_categorical(Y_train)\n",
        "Y_test = to_categorical(Y_test)"
      ]
    },
    {
      "cell_type": "code",
      "execution_count": null,
      "metadata": {
        "colab": {
          "base_uri": "https://localhost:8080/"
        },
        "id": "O81MmnvkRorT",
        "outputId": "2cd23bc8-cbec-4e84-de96-43e7985778a6"
      },
      "outputs": [
        {
          "output_type": "execute_result",
          "data": {
            "text/plain": [
              "((224999, 1, 37), (96429, 1, 37))"
            ]
          },
          "metadata": {},
          "execution_count": 22
        }
      ],
      "source": [
        "X_train.shape,X_test.shape"
      ]
    },
    {
      "cell_type": "code",
      "execution_count": null,
      "metadata": {
        "colab": {
          "base_uri": "https://localhost:8080/"
        },
        "id": "3vGObZPeRou9",
        "outputId": "21c78f2d-0b48-4e82-89d5-bbcc8356f4b0"
      },
      "outputs": [
        {
          "output_type": "execute_result",
          "data": {
            "text/plain": [
              "((224999, 35), (96429, 35))"
            ]
          },
          "metadata": {},
          "execution_count": 23
        }
      ],
      "source": [
        "Y_train.shape,Y_test.shape"
      ]
    },
    {
      "cell_type": "markdown",
      "source": [
        "#Validation Data"
      ],
      "metadata": {
        "id": "Rpg6X547cpv6"
      }
    },
    {
      "cell_type": "code",
      "execution_count": null,
      "metadata": {
        "id": "RrTaqr-QRozW"
      },
      "outputs": [],
      "source": [
        "X_test,X_val,Y_test,Y_val=train_test_split(X_test,Y_test,test_size=0.5,random_state=100)"
      ]
    },
    {
      "cell_type": "code",
      "execution_count": null,
      "metadata": {
        "colab": {
          "base_uri": "https://localhost:8080/"
        },
        "id": "jUGxrwuNRo5R",
        "outputId": "1b20218a-8b11-482b-95d0-ce6d76649b3c"
      },
      "outputs": [
        {
          "output_type": "execute_result",
          "data": {
            "text/plain": [
              "((48214, 1, 37), (48215, 1, 37))"
            ]
          },
          "metadata": {},
          "execution_count": 25
        }
      ],
      "source": [
        "X_test.shape,X_val.shape"
      ]
    },
    {
      "cell_type": "code",
      "execution_count": null,
      "metadata": {
        "colab": {
          "base_uri": "https://localhost:8080/"
        },
        "id": "NGOhcnQDRo-G",
        "outputId": "dc2a39ad-d7a2-439d-8a6b-2d7d4c21e9aa"
      },
      "outputs": [
        {
          "output_type": "execute_result",
          "data": {
            "text/plain": [
              "((48214, 35), (48215, 35))"
            ]
          },
          "metadata": {},
          "execution_count": 26
        }
      ],
      "source": [
        "Y_test.shape,Y_val.shape"
      ]
    },
    {
      "cell_type": "markdown",
      "source": [
        "#LSTM Architecture"
      ],
      "metadata": {
        "id": "RgAgY0Ypcs3t"
      }
    },
    {
      "cell_type": "code",
      "execution_count": null,
      "metadata": {
        "id": "B54cZ54fRpCq"
      },
      "outputs": [],
      "source": [
        "model = Sequential()\n",
        "model.add(LSTM(256,input_dim=37, recurrent_activation=\"sigmoid\",activation='relu'))\n",
        "model.add(Dropout(0.2))\n",
        "model.add(Dense(128,activation='relu'))\n",
        "model.add(Dropout(0.2))\n",
        "model.add(Dense(64, activation='relu'))\n",
        "model.add(Dropout(0.2))\n",
        "model.add(Dense(35, activation='softmax'))"
      ]
    },
    {
      "cell_type": "code",
      "execution_count": null,
      "metadata": {
        "colab": {
          "base_uri": "https://localhost:8080/"
        },
        "id": "B1_dJn_IRpH7",
        "outputId": "fc45c6fe-d28e-4957-9032-76bb008f1865"
      },
      "outputs": [
        {
          "output_type": "stream",
          "name": "stdout",
          "text": [
            "Model: \"sequential\"\n",
            "_________________________________________________________________\n",
            " Layer (type)                Output Shape              Param #   \n",
            "=================================================================\n",
            " lstm (LSTM)                 (None, 256)               301056    \n",
            "                                                                 \n",
            " dropout (Dropout)           (None, 256)               0         \n",
            "                                                                 \n",
            " dense (Dense)               (None, 128)               32896     \n",
            "                                                                 \n",
            " dropout_1 (Dropout)         (None, 128)               0         \n",
            "                                                                 \n",
            " dense_1 (Dense)             (None, 64)                8256      \n",
            "                                                                 \n",
            " dropout_2 (Dropout)         (None, 64)                0         \n",
            "                                                                 \n",
            " dense_2 (Dense)             (None, 35)                2275      \n",
            "                                                                 \n",
            "=================================================================\n",
            "Total params: 344,483\n",
            "Trainable params: 344,483\n",
            "Non-trainable params: 0\n",
            "_________________________________________________________________\n"
          ]
        }
      ],
      "source": [
        "model.summary()"
      ]
    },
    {
      "cell_type": "code",
      "execution_count": null,
      "metadata": {
        "id": "jqo_1OfmRpMm"
      },
      "outputs": [],
      "source": [
        "model.compile(loss='categorical_crossentropy', optimizer='adam', metrics=['accuracy'])"
      ]
    },
    {
      "cell_type": "code",
      "execution_count": null,
      "metadata": {
        "colab": {
          "base_uri": "https://localhost:8080/"
        },
        "id": "G0MmRpl1RpQr",
        "outputId": "12d056d4-ab0f-4f6d-bad5-36de937f0056"
      },
      "outputs": [
        {
          "output_type": "stream",
          "name": "stdout",
          "text": [
            "Epoch 1/20\n",
            "7032/7032 [==============================] - 81s 11ms/step - loss: 12.2487 - accuracy: 0.2783 - val_loss: 2.6084 - val_accuracy: 0.2824\n",
            "Epoch 2/20\n",
            "7032/7032 [==============================] - 61s 9ms/step - loss: 2.6340 - accuracy: 0.2821 - val_loss: 2.6077 - val_accuracy: 0.2824\n",
            "Epoch 3/20\n",
            "7032/7032 [==============================] - 62s 9ms/step - loss: 2.6190 - accuracy: 0.2821 - val_loss: 2.6075 - val_accuracy: 0.2824\n",
            "Epoch 4/20\n",
            "7032/7032 [==============================] - 62s 9ms/step - loss: 2.6114 - accuracy: 0.2821 - val_loss: 2.6076 - val_accuracy: 0.2824\n",
            "Epoch 5/20\n",
            "7032/7032 [==============================] - 64s 9ms/step - loss: 2.6107 - accuracy: 0.2821 - val_loss: 2.6076 - val_accuracy: 0.2824\n",
            "Epoch 6/20\n",
            "7032/7032 [==============================] - 61s 9ms/step - loss: 2.6088 - accuracy: 0.2821 - val_loss: 2.6074 - val_accuracy: 0.2824\n",
            "Epoch 7/20\n",
            "7032/7032 [==============================] - 63s 9ms/step - loss: 2.6089 - accuracy: 0.2821 - val_loss: 2.6075 - val_accuracy: 0.2824\n",
            "Epoch 8/20\n",
            "7032/7032 [==============================] - 61s 9ms/step - loss: 2.6094 - accuracy: 0.2821 - val_loss: 2.6076 - val_accuracy: 0.2824\n",
            "Epoch 9/20\n",
            "7032/7032 [==============================] - 61s 9ms/step - loss: 2.6095 - accuracy: 0.2821 - val_loss: 2.6076 - val_accuracy: 0.2824\n",
            "Epoch 10/20\n",
            "7032/7032 [==============================] - 61s 9ms/step - loss: 2.6092 - accuracy: 0.2821 - val_loss: 2.6075 - val_accuracy: 0.2824\n",
            "Epoch 11/20\n",
            "7032/7032 [==============================] - 61s 9ms/step - loss: 2.6178 - accuracy: 0.2821 - val_loss: 2.6074 - val_accuracy: 0.2824\n",
            "Epoch 12/20\n",
            "7032/7032 [==============================] - 61s 9ms/step - loss: 2.6097 - accuracy: 0.2821 - val_loss: 2.6075 - val_accuracy: 0.2824\n",
            "Epoch 13/20\n",
            "7032/7032 [==============================] - 60s 9ms/step - loss: 2.6089 - accuracy: 0.2821 - val_loss: 2.6078 - val_accuracy: 0.2824\n",
            "Epoch 14/20\n",
            "7032/7032 [==============================] - 64s 9ms/step - loss: 2.6088 - accuracy: 0.2821 - val_loss: 2.6075 - val_accuracy: 0.2824\n",
            "Epoch 15/20\n",
            "7032/7032 [==============================] - 60s 9ms/step - loss: 2.6088 - accuracy: 0.2821 - val_loss: 2.6075 - val_accuracy: 0.2824\n",
            "Epoch 16/20\n",
            "7032/7032 [==============================] - 63s 9ms/step - loss: 2.6088 - accuracy: 0.2821 - val_loss: 2.6076 - val_accuracy: 0.2824\n",
            "Epoch 17/20\n",
            "7032/7032 [==============================] - 63s 9ms/step - loss: 2.6090 - accuracy: 0.2821 - val_loss: 2.6076 - val_accuracy: 0.2824\n",
            "Epoch 18/20\n",
            "7032/7032 [==============================] - 64s 9ms/step - loss: 2.6100 - accuracy: 0.2821 - val_loss: 2.6074 - val_accuracy: 0.2824\n",
            "Epoch 19/20\n",
            "7032/7032 [==============================] - 61s 9ms/step - loss: 2.6090 - accuracy: 0.2821 - val_loss: 2.6075 - val_accuracy: 0.2824\n",
            "Epoch 20/20\n",
            "7032/7032 [==============================] - 61s 9ms/step - loss: 2.6103 - accuracy: 0.2821 - val_loss: 2.6075 - val_accuracy: 0.2824\n"
          ]
        },
        {
          "output_type": "execute_result",
          "data": {
            "text/plain": [
              "<keras.callbacks.History at 0x7f30c4e95e80>"
            ]
          },
          "metadata": {},
          "execution_count": 30
        }
      ],
      "source": [
        "model.fit(X_train,Y_train,epochs=20,validation_data=(X_val,Y_val))"
      ]
    },
    {
      "cell_type": "code",
      "execution_count": null,
      "metadata": {
        "id": "-lxccebxRpXJ"
      },
      "outputs": [],
      "source": [
        "validation_loss,lstm_accuracy = model.evaluate(X_test, Y_test, batch_size=32, verbose=0)"
      ]
    },
    {
      "cell_type": "code",
      "execution_count": null,
      "metadata": {
        "id": "29Kws6-mRpbD"
      },
      "outputs": [],
      "source": [
        "lstm_accuracy=lstm_accuracy*100"
      ]
    },
    {
      "cell_type": "code",
      "execution_count": null,
      "metadata": {
        "id": "vg0wf1u1Rphr",
        "colab": {
          "base_uri": "https://localhost:8080/"
        },
        "outputId": "e729b81d-0434-43f3-87a0-202c8bbdb15e"
      },
      "outputs": [
        {
          "output_type": "stream",
          "name": "stdout",
          "text": [
            "The accuracy for LSTM model is 28.48 %\n"
          ]
        }
      ],
      "source": [
        "print(\"The accuracy for LSTM model is\",round(lstm_accuracy,2),\"%\")"
      ]
    },
    {
      "cell_type": "markdown",
      "source": [
        "#Plotting All Accuracies"
      ],
      "metadata": {
        "id": "ChQIjZUIl0P1"
      }
    },
    {
      "cell_type": "code",
      "execution_count": null,
      "metadata": {
        "id": "QB277t_bSPzn"
      },
      "outputs": [],
      "source": [
        "model = ['Random Forest','logistic regression','linear svc','KNN','LSTM','GaussianNaiveBayes']\n",
        "#acc = [rfc_accuracy, knn_accuracy,lstm_accuracy,gnb_accuracy]\n",
        "acc=[99.89,30.52,31.72,88.08,28.21,83.4]\n",
        "t=['Random Forest:99.89%','logistic regression:30.52%','linear svc:31.72%','KNN:88.08%','LSTM:28.21%','GaussianNaiveBayes:83.4%']\n"
      ]
    },
    {
      "cell_type": "code",
      "execution_count": null,
      "metadata": {
        "id": "G0vAq2nZSP36",
        "colab": {
          "base_uri": "https://localhost:8080/",
          "height": 542
        },
        "outputId": "fde54eec-fe6b-4903-ab17-6147dea571d7"
      },
      "outputs": [
        {
          "output_type": "display_data",
          "data": {
            "text/html": [
              "<html>\n",
              "<head><meta charset=\"utf-8\" /></head>\n",
              "<body>\n",
              "    <div>            <script src=\"https://cdnjs.cloudflare.com/ajax/libs/mathjax/2.7.5/MathJax.js?config=TeX-AMS-MML_SVG\"></script><script type=\"text/javascript\">if (window.MathJax) {MathJax.Hub.Config({SVG: {font: \"STIX-Web\"}});}</script>                <script type=\"text/javascript\">window.PlotlyConfig = {MathJaxConfig: 'local'};</script>\n",
              "        <script src=\"https://cdn.plot.ly/plotly-2.8.3.min.js\"></script>                <div id=\"4e0e02b3-d58e-4e8e-b7bf-c4268cb77da1\" class=\"plotly-graph-div\" style=\"height:525px; width:100%;\"></div>            <script type=\"text/javascript\">                                    window.PLOTLYENV=window.PLOTLYENV || {};                                    if (document.getElementById(\"4e0e02b3-d58e-4e8e-b7bf-c4268cb77da1\")) {                    Plotly.newPlot(                        \"4e0e02b3-d58e-4e8e-b7bf-c4268cb77da1\",                        [{\"mode\":\"lines+markers+text\",\"name\":\"Lines, Markers and Text\",\"text\":[\"Random Forest:99.89%\",\"logistic regression:30.52%\",\"linear svc:31.72%\",\"KNN:88.08%\",\"LSTM:28.21%\",\"GaussianNaiveBayes:83.4%\"],\"textfont\":{\"color\":\"crimson\",\"family\":\"sans serif\",\"size\":12},\"textposition\":\"top center\",\"x\":[\"Random Forest\",\"logistic regression\",\"linear svc\",\"KNN\",\"LSTM\",\"GaussianNaiveBayes\"],\"y\":[99.89,30.52,31.72,88.08,28.21,83.4],\"type\":\"scatter\"}],                        {\"template\":{\"data\":{\"bar\":[{\"error_x\":{\"color\":\"#2a3f5f\"},\"error_y\":{\"color\":\"#2a3f5f\"},\"marker\":{\"line\":{\"color\":\"#E5ECF6\",\"width\":0.5},\"pattern\":{\"fillmode\":\"overlay\",\"size\":10,\"solidity\":0.2}},\"type\":\"bar\"}],\"barpolar\":[{\"marker\":{\"line\":{\"color\":\"#E5ECF6\",\"width\":0.5},\"pattern\":{\"fillmode\":\"overlay\",\"size\":10,\"solidity\":0.2}},\"type\":\"barpolar\"}],\"carpet\":[{\"aaxis\":{\"endlinecolor\":\"#2a3f5f\",\"gridcolor\":\"white\",\"linecolor\":\"white\",\"minorgridcolor\":\"white\",\"startlinecolor\":\"#2a3f5f\"},\"baxis\":{\"endlinecolor\":\"#2a3f5f\",\"gridcolor\":\"white\",\"linecolor\":\"white\",\"minorgridcolor\":\"white\",\"startlinecolor\":\"#2a3f5f\"},\"type\":\"carpet\"}],\"choropleth\":[{\"colorbar\":{\"outlinewidth\":0,\"ticks\":\"\"},\"type\":\"choropleth\"}],\"contour\":[{\"colorbar\":{\"outlinewidth\":0,\"ticks\":\"\"},\"colorscale\":[[0.0,\"#0d0887\"],[0.1111111111111111,\"#46039f\"],[0.2222222222222222,\"#7201a8\"],[0.3333333333333333,\"#9c179e\"],[0.4444444444444444,\"#bd3786\"],[0.5555555555555556,\"#d8576b\"],[0.6666666666666666,\"#ed7953\"],[0.7777777777777778,\"#fb9f3a\"],[0.8888888888888888,\"#fdca26\"],[1.0,\"#f0f921\"]],\"type\":\"contour\"}],\"contourcarpet\":[{\"colorbar\":{\"outlinewidth\":0,\"ticks\":\"\"},\"type\":\"contourcarpet\"}],\"heatmap\":[{\"colorbar\":{\"outlinewidth\":0,\"ticks\":\"\"},\"colorscale\":[[0.0,\"#0d0887\"],[0.1111111111111111,\"#46039f\"],[0.2222222222222222,\"#7201a8\"],[0.3333333333333333,\"#9c179e\"],[0.4444444444444444,\"#bd3786\"],[0.5555555555555556,\"#d8576b\"],[0.6666666666666666,\"#ed7953\"],[0.7777777777777778,\"#fb9f3a\"],[0.8888888888888888,\"#fdca26\"],[1.0,\"#f0f921\"]],\"type\":\"heatmap\"}],\"heatmapgl\":[{\"colorbar\":{\"outlinewidth\":0,\"ticks\":\"\"},\"colorscale\":[[0.0,\"#0d0887\"],[0.1111111111111111,\"#46039f\"],[0.2222222222222222,\"#7201a8\"],[0.3333333333333333,\"#9c179e\"],[0.4444444444444444,\"#bd3786\"],[0.5555555555555556,\"#d8576b\"],[0.6666666666666666,\"#ed7953\"],[0.7777777777777778,\"#fb9f3a\"],[0.8888888888888888,\"#fdca26\"],[1.0,\"#f0f921\"]],\"type\":\"heatmapgl\"}],\"histogram\":[{\"marker\":{\"pattern\":{\"fillmode\":\"overlay\",\"size\":10,\"solidity\":0.2}},\"type\":\"histogram\"}],\"histogram2d\":[{\"colorbar\":{\"outlinewidth\":0,\"ticks\":\"\"},\"colorscale\":[[0.0,\"#0d0887\"],[0.1111111111111111,\"#46039f\"],[0.2222222222222222,\"#7201a8\"],[0.3333333333333333,\"#9c179e\"],[0.4444444444444444,\"#bd3786\"],[0.5555555555555556,\"#d8576b\"],[0.6666666666666666,\"#ed7953\"],[0.7777777777777778,\"#fb9f3a\"],[0.8888888888888888,\"#fdca26\"],[1.0,\"#f0f921\"]],\"type\":\"histogram2d\"}],\"histogram2dcontour\":[{\"colorbar\":{\"outlinewidth\":0,\"ticks\":\"\"},\"colorscale\":[[0.0,\"#0d0887\"],[0.1111111111111111,\"#46039f\"],[0.2222222222222222,\"#7201a8\"],[0.3333333333333333,\"#9c179e\"],[0.4444444444444444,\"#bd3786\"],[0.5555555555555556,\"#d8576b\"],[0.6666666666666666,\"#ed7953\"],[0.7777777777777778,\"#fb9f3a\"],[0.8888888888888888,\"#fdca26\"],[1.0,\"#f0f921\"]],\"type\":\"histogram2dcontour\"}],\"mesh3d\":[{\"colorbar\":{\"outlinewidth\":0,\"ticks\":\"\"},\"type\":\"mesh3d\"}],\"parcoords\":[{\"line\":{\"colorbar\":{\"outlinewidth\":0,\"ticks\":\"\"}},\"type\":\"parcoords\"}],\"pie\":[{\"automargin\":true,\"type\":\"pie\"}],\"scatter\":[{\"marker\":{\"colorbar\":{\"outlinewidth\":0,\"ticks\":\"\"}},\"type\":\"scatter\"}],\"scatter3d\":[{\"line\":{\"colorbar\":{\"outlinewidth\":0,\"ticks\":\"\"}},\"marker\":{\"colorbar\":{\"outlinewidth\":0,\"ticks\":\"\"}},\"type\":\"scatter3d\"}],\"scattercarpet\":[{\"marker\":{\"colorbar\":{\"outlinewidth\":0,\"ticks\":\"\"}},\"type\":\"scattercarpet\"}],\"scattergeo\":[{\"marker\":{\"colorbar\":{\"outlinewidth\":0,\"ticks\":\"\"}},\"type\":\"scattergeo\"}],\"scattergl\":[{\"marker\":{\"colorbar\":{\"outlinewidth\":0,\"ticks\":\"\"}},\"type\":\"scattergl\"}],\"scattermapbox\":[{\"marker\":{\"colorbar\":{\"outlinewidth\":0,\"ticks\":\"\"}},\"type\":\"scattermapbox\"}],\"scatterpolar\":[{\"marker\":{\"colorbar\":{\"outlinewidth\":0,\"ticks\":\"\"}},\"type\":\"scatterpolar\"}],\"scatterpolargl\":[{\"marker\":{\"colorbar\":{\"outlinewidth\":0,\"ticks\":\"\"}},\"type\":\"scatterpolargl\"}],\"scatterternary\":[{\"marker\":{\"colorbar\":{\"outlinewidth\":0,\"ticks\":\"\"}},\"type\":\"scatterternary\"}],\"surface\":[{\"colorbar\":{\"outlinewidth\":0,\"ticks\":\"\"},\"colorscale\":[[0.0,\"#0d0887\"],[0.1111111111111111,\"#46039f\"],[0.2222222222222222,\"#7201a8\"],[0.3333333333333333,\"#9c179e\"],[0.4444444444444444,\"#bd3786\"],[0.5555555555555556,\"#d8576b\"],[0.6666666666666666,\"#ed7953\"],[0.7777777777777778,\"#fb9f3a\"],[0.8888888888888888,\"#fdca26\"],[1.0,\"#f0f921\"]],\"type\":\"surface\"}],\"table\":[{\"cells\":{\"fill\":{\"color\":\"#EBF0F8\"},\"line\":{\"color\":\"white\"}},\"header\":{\"fill\":{\"color\":\"#C8D4E3\"},\"line\":{\"color\":\"white\"}},\"type\":\"table\"}]},\"layout\":{\"annotationdefaults\":{\"arrowcolor\":\"#2a3f5f\",\"arrowhead\":0,\"arrowwidth\":1},\"autotypenumbers\":\"strict\",\"coloraxis\":{\"colorbar\":{\"outlinewidth\":0,\"ticks\":\"\"}},\"colorscale\":{\"diverging\":[[0,\"#8e0152\"],[0.1,\"#c51b7d\"],[0.2,\"#de77ae\"],[0.3,\"#f1b6da\"],[0.4,\"#fde0ef\"],[0.5,\"#f7f7f7\"],[0.6,\"#e6f5d0\"],[0.7,\"#b8e186\"],[0.8,\"#7fbc41\"],[0.9,\"#4d9221\"],[1,\"#276419\"]],\"sequential\":[[0.0,\"#0d0887\"],[0.1111111111111111,\"#46039f\"],[0.2222222222222222,\"#7201a8\"],[0.3333333333333333,\"#9c179e\"],[0.4444444444444444,\"#bd3786\"],[0.5555555555555556,\"#d8576b\"],[0.6666666666666666,\"#ed7953\"],[0.7777777777777778,\"#fb9f3a\"],[0.8888888888888888,\"#fdca26\"],[1.0,\"#f0f921\"]],\"sequentialminus\":[[0.0,\"#0d0887\"],[0.1111111111111111,\"#46039f\"],[0.2222222222222222,\"#7201a8\"],[0.3333333333333333,\"#9c179e\"],[0.4444444444444444,\"#bd3786\"],[0.5555555555555556,\"#d8576b\"],[0.6666666666666666,\"#ed7953\"],[0.7777777777777778,\"#fb9f3a\"],[0.8888888888888888,\"#fdca26\"],[1.0,\"#f0f921\"]]},\"colorway\":[\"#636efa\",\"#EF553B\",\"#00cc96\",\"#ab63fa\",\"#FFA15A\",\"#19d3f3\",\"#FF6692\",\"#B6E880\",\"#FF97FF\",\"#FECB52\"],\"font\":{\"color\":\"#2a3f5f\"},\"geo\":{\"bgcolor\":\"white\",\"lakecolor\":\"white\",\"landcolor\":\"#E5ECF6\",\"showlakes\":true,\"showland\":true,\"subunitcolor\":\"white\"},\"hoverlabel\":{\"align\":\"left\"},\"hovermode\":\"closest\",\"mapbox\":{\"style\":\"light\"},\"paper_bgcolor\":\"white\",\"plot_bgcolor\":\"#E5ECF6\",\"polar\":{\"angularaxis\":{\"gridcolor\":\"white\",\"linecolor\":\"white\",\"ticks\":\"\"},\"bgcolor\":\"#E5ECF6\",\"radialaxis\":{\"gridcolor\":\"white\",\"linecolor\":\"white\",\"ticks\":\"\"}},\"scene\":{\"xaxis\":{\"backgroundcolor\":\"#E5ECF6\",\"gridcolor\":\"white\",\"gridwidth\":2,\"linecolor\":\"white\",\"showbackground\":true,\"ticks\":\"\",\"zerolinecolor\":\"white\"},\"yaxis\":{\"backgroundcolor\":\"#E5ECF6\",\"gridcolor\":\"white\",\"gridwidth\":2,\"linecolor\":\"white\",\"showbackground\":true,\"ticks\":\"\",\"zerolinecolor\":\"white\"},\"zaxis\":{\"backgroundcolor\":\"#E5ECF6\",\"gridcolor\":\"white\",\"gridwidth\":2,\"linecolor\":\"white\",\"showbackground\":true,\"ticks\":\"\",\"zerolinecolor\":\"white\"}},\"shapedefaults\":{\"line\":{\"color\":\"#2a3f5f\"}},\"ternary\":{\"aaxis\":{\"gridcolor\":\"white\",\"linecolor\":\"white\",\"ticks\":\"\"},\"baxis\":{\"gridcolor\":\"white\",\"linecolor\":\"white\",\"ticks\":\"\"},\"bgcolor\":\"#E5ECF6\",\"caxis\":{\"gridcolor\":\"white\",\"linecolor\":\"white\",\"ticks\":\"\"}},\"title\":{\"x\":0.05},\"xaxis\":{\"automargin\":true,\"gridcolor\":\"white\",\"linecolor\":\"white\",\"ticks\":\"\",\"title\":{\"standoff\":15},\"zerolinecolor\":\"white\",\"zerolinewidth\":2},\"yaxis\":{\"automargin\":true,\"gridcolor\":\"white\",\"linecolor\":\"white\",\"ticks\":\"\",\"title\":{\"standoff\":15},\"zerolinecolor\":\"white\",\"zerolinewidth\":2}}},\"showlegend\":false},                        {\"responsive\": true}                    ).then(function(){\n",
              "                            \n",
              "var gd = document.getElementById('4e0e02b3-d58e-4e8e-b7bf-c4268cb77da1');\n",
              "var x = new MutationObserver(function (mutations, observer) {{\n",
              "        var display = window.getComputedStyle(gd).display;\n",
              "        if (!display || display === 'none') {{\n",
              "            console.log([gd, 'removed!']);\n",
              "            Plotly.purge(gd);\n",
              "            observer.disconnect();\n",
              "        }}\n",
              "}});\n",
              "\n",
              "// Listen for the removal of the full notebook cells\n",
              "var notebookContainer = gd.closest('#notebook-container');\n",
              "if (notebookContainer) {{\n",
              "    x.observe(notebookContainer, {childList: true});\n",
              "}}\n",
              "\n",
              "// Listen for the clearing of the current output cell\n",
              "var outputEl = gd.closest('.output');\n",
              "if (outputEl) {{\n",
              "    x.observe(outputEl, {childList: true});\n",
              "}}\n",
              "\n",
              "                        })                };                            </script>        </div>\n",
              "</body>\n",
              "</html>"
            ]
          },
          "metadata": {}
        }
      ],
      "source": [
        "import plotly.graph_objects as go\n",
        "\n",
        "fig = go.Figure()\n",
        "\n",
        "fig.add_trace(go.Scatter(\n",
        "    x=model,\n",
        "    y=acc,\n",
        "    mode=\"lines+markers+text\",\n",
        "    name=\"Lines, Markers and Text\",\n",
        "    text=t,\n",
        "    textposition=\"top center\",\n",
        "    textfont=dict(\n",
        "        family=\"sans serif\",\n",
        "        size=12,\n",
        "        color=\"crimson\"\n",
        "    )\n",
        "))\n",
        "fig.update_layout(showlegend=False)\n",
        "\n",
        "fig.show()"
      ]
    },
    {
      "cell_type": "code",
      "execution_count": null,
      "metadata": {
        "id": "SQycWVDdSP8R"
      },
      "outputs": [],
      "source": []
    },
    {
      "cell_type": "code",
      "execution_count": null,
      "metadata": {
        "id": "lakl6eRNSQAD"
      },
      "outputs": [],
      "source": []
    },
    {
      "cell_type": "code",
      "execution_count": null,
      "metadata": {
        "id": "Gmf5u1c1SQEf"
      },
      "outputs": [],
      "source": []
    },
    {
      "cell_type": "code",
      "execution_count": null,
      "metadata": {
        "id": "QRLMujg5SQJB"
      },
      "outputs": [],
      "source": []
    },
    {
      "cell_type": "code",
      "execution_count": null,
      "metadata": {
        "id": "h1HoGtmTSQNn"
      },
      "outputs": [],
      "source": []
    },
    {
      "cell_type": "code",
      "execution_count": null,
      "metadata": {
        "id": "tM0GVfiCSQRq"
      },
      "outputs": [],
      "source": []
    },
    {
      "cell_type": "code",
      "execution_count": null,
      "metadata": {
        "id": "UOPQKKdCSQVs"
      },
      "outputs": [],
      "source": []
    }
  ],
  "metadata": {
    "colab": {
      "provenance": []
    },
    "gpuClass": "standard",
    "kernelspec": {
      "display_name": "Python 3",
      "name": "python3"
    },
    "language_info": {
      "name": "python"
    }
  },
  "nbformat": 4,
  "nbformat_minor": 0
}